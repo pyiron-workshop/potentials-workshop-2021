{
 "cells": [
  {
   "cell_type": "markdown",
   "id": "independent-canyon",
   "metadata": {},
   "source": [
    "# Fitting an EAM potential\n",
    "EAM potentials are pair functionals. \n",
    "In a generalised form they are equal to Finnis-Sinclair, effective medium theory or glue potentials. Their total energy can be written as\n",
    "\n",
    "$E = \\sum_{ij}V(r_{ij}) + \\sum_i F(\\rho_i)$\n",
    "\n",
    "with\n",
    "\n",
    "$\\rho_i = \\sum_j \\rho(r_{ij})$\n",
    "\n",
    "The original functions for V, $\\rho$ and F were derived from different theories, but they can be chosen freely.\n",
    "\n",
    "Fitting is done using atomicrex https://atomicrex.org. In the fit process an objective or cost function is minimized. The objective function is defined as\n",
    "\n",
    "$\\chi^2 = \\sum_i w_i r_i$\n",
    "\n",
    "where $w_i$ is a weight and $r_i$ is a residual that describes the difference to target values. This residual can be defined in different ways, so it is not possible to simply compare the residual for different fitting processes or codes. A more in depth explanation and some examples can be found on https://atomicrex.org/overview.html#objective-function."
   ]
  },
  {
   "cell_type": "code",
   "execution_count": 1,
   "id": "usual-tomato",
   "metadata": {},
   "outputs": [],
   "source": [
    "import pandas as pd\n",
    "import numpy as np\n",
    "import matplotlib.pyplot as plt\n",
    "\n",
    "from pyiron import Project, ase_to_pyiron"
   ]
  },
  {
   "cell_type": "markdown",
   "id": "australian-lottery",
   "metadata": {},
   "source": [
    "### Import the training data"
   ]
  },
  {
   "cell_type": "code",
   "execution_count": 2,
   "id": "liable-penny",
   "metadata": {},
   "outputs": [
    {
     "data": {
      "text/html": [
       "<div>\n",
       "<style scoped>\n",
       "    .dataframe tbody tr th:only-of-type {\n",
       "        vertical-align: middle;\n",
       "    }\n",
       "\n",
       "    .dataframe tbody tr th {\n",
       "        vertical-align: top;\n",
       "    }\n",
       "\n",
       "    .dataframe thead th {\n",
       "        text-align: right;\n",
       "    }\n",
       "</style>\n",
       "<table border=\"1\" class=\"dataframe\">\n",
       "  <thead>\n",
       "    <tr style=\"text-align: right;\">\n",
       "      <th></th>\n",
       "      <th>id</th>\n",
       "      <th>status</th>\n",
       "      <th>chemicalformula</th>\n",
       "      <th>job</th>\n",
       "      <th>subjob</th>\n",
       "      <th>projectpath</th>\n",
       "      <th>project</th>\n",
       "      <th>timestart</th>\n",
       "      <th>timestop</th>\n",
       "      <th>totalcputime</th>\n",
       "      <th>computer</th>\n",
       "      <th>hamilton</th>\n",
       "      <th>hamversion</th>\n",
       "      <th>parentid</th>\n",
       "      <th>masterid</th>\n",
       "    </tr>\n",
       "  </thead>\n",
       "  <tbody>\n",
       "    <tr>\n",
       "      <th>0</th>\n",
       "      <td>1</td>\n",
       "      <td>finished</td>\n",
       "      <td>None</td>\n",
       "      <td>df1_A1_A2_A3_EV_elast_phon</td>\n",
       "      <td>/df1_A1_A2_A3_EV_elast_phon</td>\n",
       "      <td>/home/pyiron/</td>\n",
       "      <td>datasets/Cu_database/</td>\n",
       "      <td>2021-02-18 19:49:53.061360</td>\n",
       "      <td>None</td>\n",
       "      <td>None</td>\n",
       "      <td>zora@cmti001#1</td>\n",
       "      <td>TrainingContainer</td>\n",
       "      <td>0.4</td>\n",
       "      <td>None</td>\n",
       "      <td>None</td>\n",
       "    </tr>\n",
       "    <tr>\n",
       "      <th>1</th>\n",
       "      <td>2</td>\n",
       "      <td>finished</td>\n",
       "      <td>None</td>\n",
       "      <td>df3_10k</td>\n",
       "      <td>/df3_10k</td>\n",
       "      <td>/home/pyiron/</td>\n",
       "      <td>datasets/Cu_database/</td>\n",
       "      <td>2021-02-18 19:49:55.496691</td>\n",
       "      <td>None</td>\n",
       "      <td>None</td>\n",
       "      <td>zora@cmti001#1</td>\n",
       "      <td>TrainingContainer</td>\n",
       "      <td>0.4</td>\n",
       "      <td>None</td>\n",
       "      <td>None</td>\n",
       "    </tr>\n",
       "    <tr>\n",
       "      <th>2</th>\n",
       "      <td>3</td>\n",
       "      <td>finished</td>\n",
       "      <td>None</td>\n",
       "      <td>df2_1k</td>\n",
       "      <td>/df2_1k</td>\n",
       "      <td>/home/pyiron/</td>\n",
       "      <td>datasets/Cu_database/</td>\n",
       "      <td>2021-02-18 19:49:56.101883</td>\n",
       "      <td>None</td>\n",
       "      <td>None</td>\n",
       "      <td>zora@cmti001#1</td>\n",
       "      <td>TrainingContainer</td>\n",
       "      <td>0.4</td>\n",
       "      <td>None</td>\n",
       "      <td>None</td>\n",
       "    </tr>\n",
       "    <tr>\n",
       "      <th>3</th>\n",
       "      <td>4</td>\n",
       "      <td>finished</td>\n",
       "      <td>None</td>\n",
       "      <td>df4_2_5eV_25A3_8K</td>\n",
       "      <td>/df4_2_5eV_25A3_8K</td>\n",
       "      <td>/home/pyiron/</td>\n",
       "      <td>datasets/Cu_database/</td>\n",
       "      <td>2021-02-18 19:49:57.547918</td>\n",
       "      <td>None</td>\n",
       "      <td>None</td>\n",
       "      <td>zora@cmti001#1</td>\n",
       "      <td>TrainingContainer</td>\n",
       "      <td>0.4</td>\n",
       "      <td>None</td>\n",
       "      <td>None</td>\n",
       "    </tr>\n",
       "  </tbody>\n",
       "</table>\n",
       "</div>"
      ],
      "text/plain": [
       "   id    status chemicalformula                         job  \\\n",
       "0   1  finished            None  df1_A1_A2_A3_EV_elast_phon   \n",
       "1   2  finished            None                     df3_10k   \n",
       "2   3  finished            None                      df2_1k   \n",
       "3   4  finished            None           df4_2_5eV_25A3_8K   \n",
       "\n",
       "                        subjob    projectpath                project  \\\n",
       "0  /df1_A1_A2_A3_EV_elast_phon  /home/pyiron/  datasets/Cu_database/   \n",
       "1                     /df3_10k  /home/pyiron/  datasets/Cu_database/   \n",
       "2                      /df2_1k  /home/pyiron/  datasets/Cu_database/   \n",
       "3           /df4_2_5eV_25A3_8K  /home/pyiron/  datasets/Cu_database/   \n",
       "\n",
       "                   timestart timestop totalcputime        computer  \\\n",
       "0 2021-02-18 19:49:53.061360     None         None  zora@cmti001#1   \n",
       "1 2021-02-18 19:49:55.496691     None         None  zora@cmti001#1   \n",
       "2 2021-02-18 19:49:56.101883     None         None  zora@cmti001#1   \n",
       "3 2021-02-18 19:49:57.547918     None         None  zora@cmti001#1   \n",
       "\n",
       "            hamilton hamversion parentid masterid  \n",
       "0  TrainingContainer        0.4     None     None  \n",
       "1  TrainingContainer        0.4     None     None  \n",
       "2  TrainingContainer        0.4     None     None  \n",
       "3  TrainingContainer        0.4     None     None  "
      ]
     },
     "execution_count": 2,
     "metadata": {},
     "output_type": "execute_result"
    }
   ],
   "source": [
    "data_pr = Project(\"../../datasets\")\n",
    "if len(data_pr.job_table()) == 0:\n",
    "    data_pr.unpack(\"Cu_training_archive\")\n",
    "data_pr.job_table()"
   ]
  },
  {
   "cell_type": "code",
   "execution_count": 3,
   "id": "emerging-writing",
   "metadata": {},
   "outputs": [],
   "source": [
    "data_job = data_pr.load(\"df1_A1_A2_A3_EV_elast_phon\")\n",
    "df = data_job.to_pandas()"
   ]
  },
  {
   "cell_type": "code",
   "execution_count": 4,
   "id": "federal-biology",
   "metadata": {},
   "outputs": [],
   "source": [
    "pr = Project(\"WorkshopPotential\")\n",
    "#pr.remove_jobs()"
   ]
  },
  {
   "cell_type": "markdown",
   "id": "palestinian-microwave",
   "metadata": {},
   "source": [
    "### Create an atomicrex job"
   ]
  },
  {
   "cell_type": "code",
   "execution_count": 5,
   "id": "overhead-complement",
   "metadata": {},
   "outputs": [],
   "source": [
    "job = pr.create_job(pr.job_type.Atomicrex, \"PotentialDF1\")"
   ]
  },
  {
   "cell_type": "markdown",
   "id": "behind-conditioning",
   "metadata": {},
   "source": [
    "### Add the structures that should be fitted.\n",
    "It is possible to assign different weights to certain structures or properties, depending on what should be investigated using the potential. Here every structure has the same weight, but the force vector with N*3 values is normalized to have the same total weight as the single value energy. Therefore it is divided by the number of atoms. "
   ]
  },
  {
   "cell_type": "code",
   "execution_count": 6,
   "id": "fifteen-prototype",
   "metadata": {},
   "outputs": [],
   "source": [
    "for id, row in df.iterrows():\n",
    "    struct = ase_to_pyiron(row.atoms)\n",
    "    s = job.structures.add_structure(struct, f\"id{id}\", relative_weight=1)\n",
    "    s.fit_properties.add_FitProperty(\"atomic-energy\", target_value=row.energy/row.number_of_atoms, relative_weight=1)\n",
    "    s.fit_properties.add_FitProperty(\"atomic-forces\", target_value=row.forces, relative_weight=1/row.number_of_atoms)"
   ]
  },
  {
   "cell_type": "markdown",
   "id": "alpine-routine",
   "metadata": {},
   "source": [
    "### Define the type of potential and necessary functions.\n",
    "In this case an eam potential is fitted."
   ]
  },
  {
   "cell_type": "code",
   "execution_count": 7,
   "id": "future-capture",
   "metadata": {},
   "outputs": [],
   "source": [
    "job.potential = job.factories.potentials.eam_potential()"
   ]
  },
  {
   "cell_type": "markdown",
   "id": "floating-equilibrium",
   "metadata": {},
   "source": [
    "It is necessary to define a pair potential, an electronic density function and an embedding function.\n",
    "For all of those it is possible to choose between different functional forms.\n",
    "Classic pair potentials are physically motivated and  have a very limited number of paramaters that can often be derived from an experimentally measurable quantity.\n",
    "Splines or polynomials offer more flexibility, but can lead to unphysical oscillations or overfitting. Compared with the machine learning potentials shown later the number of parameters is very low no matter which functions you choose and the problem is highly non linear.\n",
    "\n",
    "In this case a generalized morse function is used for the pair interaction. It has the form\n",
    "\n",
    "$(\\frac{D_0}{S-1}exp(-\\beta \\sqrt{2S}(r-r_0))-\\frac{D_0S}{S-1}exp(-\\beta\\sqrt{2/S}(r-r_0)))+\\delta $\n",
    "\n",
    "The parameters in the morse potential can be derived from phyiscal quantities, here they are just educated guesses. For example $r_0$ is the equilibrium distance of a dimer. The nearest neighbor distance in fcc Cu is about 2.5 $\\mathring A$ so it is taken as initial value.\n",
    "In the case of analytic functions the initial parameter choices should not matter too much, since the functional form is constrained.\n",
    "\n",
    "The electronic density and embedding function will be splines. Their initial parameters require more testing and hand tuning than the parameters of analytic functions. Depending on the properties that are calculated other functional forms could give better results. "
   ]
  },
  {
   "cell_type": "code",
   "execution_count": 8,
   "id": "exact-course",
   "metadata": {},
   "outputs": [],
   "source": [
    "V = job.factories.functions.morse_B(identifier=\"V_CuCu\", D0=0.35, r0=2.5, beta=2, S=2, delta=0)"
   ]
  },
  {
   "cell_type": "markdown",
   "id": "seeing-compilation",
   "metadata": {},
   "source": [
    "Pre defined functions like the morse function can be plotted to see the influence of the initial parameter values"
   ]
  },
  {
   "cell_type": "code",
   "execution_count": 9,
   "id": "senior-graphic",
   "metadata": {},
   "outputs": [
    {
     "data": {
      "text/plain": [
       "(<Figure size 720x504 with 1 Axes>,\n",
       " <AxesSubplot:xlabel='r [$\\\\AA$]', ylabel='func(r)'>)"
      ]
     },
     "execution_count": 9,
     "metadata": {},
     "output_type": "execute_result"
    },
    {
     "data": {
      "image/png": "[encoded data removed]",
      "text/plain": [
       "<Figure size 720x504 with 1 Axes>"
      ]
     },
     "metadata": {
      "needs_background": "light"
     },
     "output_type": "display_data"
    }
   ],
   "source": [
    "V.plot()"
   ]
  },
  {
   "cell_type": "markdown",
   "id": "interim-empty",
   "metadata": {},
   "source": [
    "Additionally it is a good idea to define limits for the parameters. This is optional for local minimizers, but the fit can quickly run away without limits. Global optimizers typically require them to constrain the sampled space."
   ]
  },
  {
   "cell_type": "code",
   "execution_count": 10,
   "id": "traditional-transmission",
   "metadata": {},
   "outputs": [],
   "source": [
    "V.parameters.D0.min_val = 0\n",
    "V.parameters.D0.max_val = 2\n",
    "V.parameters.r0.min_val = 1.5\n",
    "V.parameters.r0.max_val = 3.0\n",
    "V.parameters.S.min_val = 1.1\n",
    "V.parameters.S.max_val = 10.0\n",
    "V.parameters.delta.min_val = -1\n",
    "V.parameters.delta.max_val = 1\n",
    "V.parameters.beta.min_val = 0.1\n",
    "V.parameters.beta.max_val = 10"
   ]
  },
  {
   "cell_type": "markdown",
   "id": "bibliographic-brick",
   "metadata": {},
   "source": [
    "A screening function needs to be defined for the morse potential"
   ]
  },
  {
   "cell_type": "code",
   "execution_count": 11,
   "id": "recreational-intelligence",
   "metadata": {},
   "outputs": [],
   "source": [
    "V.screening  = job.factories.functions.exp_A_screening(identifier=\"V_cutoff\", cutoff=7)"
   ]
  },
  {
   "cell_type": "markdown",
   "id": "voluntary-dressing",
   "metadata": {},
   "source": [
    "The electron density is chosen to be a spline function. The cutoff has to be defined. Derivatives left and right are optional, they default to 0. For the right cutoff this is fine, since the forces should smoothly go to 0. For the left this is not necessarily the best choice, since the function value should increase at very close distances. Very large absolute values will lead to osciallations and should be avoided."
   ]
  },
  {
   "cell_type": "code",
   "execution_count": 12,
   "id": "aging-frontier",
   "metadata": {},
   "outputs": [],
   "source": [
    "rho = job.factories.functions.spline(identifier=\"rho_CuCu\", cutoff=7, derivative_left=-1)"
   ]
  },
  {
   "cell_type": "markdown",
   "id": "relevant-commissioner",
   "metadata": {},
   "source": [
    "For a spline function it is necessary to define node points. They can be equally spaced or sampled with higher density around turning points, f.e. the first neighbor distance.\n",
    "Too few nodepoints mean low flexibilty, too many lead to overfitting. This requires some testing to find an optimal choice."
   ]
  },
  {
   "cell_type": "code",
   "execution_count": 13,
   "id": "adaptive-chicago",
   "metadata": {},
   "outputs": [
    {
     "data": {
      "text/plain": [
       "array([0.5 , 1.58, 2.67, 3.75, 4.83, 5.92, 7.  ])"
      ]
     },
     "execution_count": 13,
     "metadata": {},
     "output_type": "execute_result"
    }
   ],
   "source": [
    "rho_nodes = np.linspace(0.5, 7.0, 7).round(2)\n",
    "rho_nodes"
   ]
  },
  {
   "cell_type": "markdown",
   "id": "analyzed-dream",
   "metadata": {},
   "source": [
    "The nodes need initial values. The electron density should be proportional to $e^{-r}$, so this function is chosen to calculate them."
   ]
  },
  {
   "cell_type": "code",
   "execution_count": 14,
   "id": "reserved-cuisine",
   "metadata": {},
   "outputs": [],
   "source": [
    "decaying_exp = lambda r: np.exp(-r)\n",
    "rho_initial = decaying_exp(rho_nodes)"
   ]
  },
  {
   "cell_type": "markdown",
   "id": "august-johnston",
   "metadata": {},
   "source": [
    "A density can't be negative so the lower limit is set to 0. The upper limit is chosen to be 3 times the initial values. These choices aswell as the choice for $e^{-r}$ as initial values are somewhat arbitrary. The electron density from single atoms does not directly influence the calculated energies and forces, instead the summed up density at some place is used in the embedding function, so the final numerical values are an interplay between electron density and embedding function. Since the latter will also be a spline function it can only be defined for a certain range of rho values as node points. Therefore it is better to limit the range of electron density values and define larger limits for the embedding function instead. "
   ]
  },
  {
   "cell_type": "code",
   "execution_count": 15,
   "id": "color-condition",
   "metadata": {},
   "outputs": [],
   "source": [
    "rho_mins = np.zeros((len(rho_nodes)))\n",
    "rho_maxs = 3*rho_initial.round(6)\n",
    "rho.parameters.create_from_arrays(rho_nodes, rho_initial, min_vals=rho_mins, max_vals=rho_maxs)"
   ]
  },
  {
   "cell_type": "raw",
   "id": "excellent-pencil",
   "metadata": {},
   "source": [
    "Finally the last node point at the cutoff range is set to 0 and fitting is disabled to prevent a discontinuous change of energy at the cutoff."
   ]
  },
  {
   "cell_type": "code",
   "execution_count": 16,
   "id": "strong-beijing",
   "metadata": {},
   "outputs": [],
   "source": [
    "rho.parameters[\"node_7.0\"].start_val = 0\n",
    "rho.parameters[\"node_7.0\"].enabled = False"
   ]
  },
  {
   "cell_type": "markdown",
   "id": "liable-penguin",
   "metadata": {},
   "source": [
    "$-\\sqrt(\\rho)$ can be used as initial guess for the embedding energy, which is taken from second moment approximation tight binding. \n",
    "The node points have to be chosen in a range compatible to the electron density. This can be estimated by calculating it for a densely packed structure.\n",
    "Alternatively atomicrex writes the maximum electron density of all structures to the output. This can be used as a hint for the node points for consequent fits.\n",
    "Everything else is similar to the electron density."
   ]
  },
  {
   "cell_type": "code",
   "execution_count": 17,
   "id": "comfortable-roads",
   "metadata": {},
   "outputs": [],
   "source": [
    "F = job.factories.functions.spline(identifier=\"F_CuCu\", cutoff=5)\n",
    "F_nodes = np.linspace(0.0, 5.0, 7).round(2)\n",
    "F_init = -np.sqrt(F_nodes)\n",
    "F_maxs = np.zeros(len(F_nodes))\n",
    "F_mins = -np.ones(len(F_nodes))*5\n",
    "F.parameters.create_from_arrays(F_nodes, F_init, F_mins, F_maxs)\n",
    "F.parameters[\"node_0.0\"].enabled=False\n",
    "F.parameters[\"node_0.0\"].start_val = 0\n",
    "F.parameters[\"node_5.0\"].enabled=False\n",
    "F.parameters[\"node_5.0\"].start_val = 0"
   ]
  },
  {
   "cell_type": "markdown",
   "id": "ideal-toolbox",
   "metadata": {},
   "source": [
    "The functions have to be assigned to the potential"
   ]
  },
  {
   "cell_type": "code",
   "execution_count": 18,
   "id": "filled-reminder",
   "metadata": {},
   "outputs": [],
   "source": [
    "job.potential.pair_interactions[V.identifier] = V\n",
    "job.potential.electron_densities[rho.identifier] = rho\n",
    "job.potential.embedding_energies[F.identifier] = F"
   ]
  },
  {
   "cell_type": "markdown",
   "id": "connected-principle",
   "metadata": {},
   "source": [
    "### Define fitting procedure\n",
    "Finally atom types and fit algorithm have to be assigned.\n",
    "Atomicrex itself implements the BFGS algorithm. Additionally the algorithms from the nlopt library can be used."
   ]
  },
  {
   "cell_type": "code",
   "execution_count": 19,
   "id": "blond-drawing",
   "metadata": {},
   "outputs": [
    {
     "name": "stdout",
     "output_type": "stream",
     "text": [
      "The job PotentialDF1 was saved and received the ID: 55\n"
     ]
    },
    {
     "data": {
      "application/json": {
       "error": "None",
       "iterations": "array([  1,   2,   3,   4,   5,   6,   7,   8,   9,  10,  11,  12,  13,\n        14,  15,  16,  17,  18,  19,  20,  21,  22,  23,  24,  25,  26,\n        27,  28,  29,  30,  31,  32,  33,  34,  35,  36,  37,  38,  39,\n        40,  41,  42,  43,  44,  45,  46,  47,  48,  49,  50,  51,  52,\n        53,  54,  55,  56,  57,  58,  59,  60,  61,  62,  63,  64,  65,\n        66,  67,  68,  69,  70,  71,  72,  73,  74,  75,  76,  77,  78,\n        79,  80,  81,  82,  83,  84,  85,  86,  87,  88,  89,  90,  91,\n        92,  93,  94,  95,  96,  97,  98,  99, 100, 101, 102, 103, 104,\n       105, 106, 107, 108, 109, 110, 111, 112, 113, 114, 115, 116, 117,\n       118, 119, 120, 121, 122, 123, 124, 125, 126, 127, 128, 129, 130,\n       131, 132, 133, 134, 135, 136, 137, 138, 139, 140, 141, 142, 143,\n       144, 145, 146, 147, 148, 149, 150, 151, 152, 153, 154, 155, 156,\n       157, 158, 159, 160, 161, 162, 163, 164, 165, 166, 167, 168, 169,\n       170, 171, 172, 173, 174, 175, 176, 177, 178, 179, 180, 181, 182,\n       183, 184, 185, 186, 187, 188, 189, 190, 191, 192, 193, 194, 195,\n       196, 197, 198, 199, 200, 201, 202, 203, 204, 205, 206, 207, 208,\n       209, 210, 211, 212, 213, 214, 215, 216, 217, 218, 219, 220, 221,\n       222, 223, 224, 225, 226, 227, 228, 229, 230, 231, 232, 233, 234,\n       235, 236, 237, 238, 239, 240, 241, 242, 243, 244, 245, 246, 247,\n       248, 249, 250, 251, 252, 253, 254, 255, 256, 257, 258, 259, 260,\n       261, 262, 263, 264, 265, 266, 267, 268, 269, 270, 271, 272, 273,\n       274, 275, 276, 277, 278, 279, 280, 281, 282, 283, 284, 285, 286,\n       287, 288, 289, 290, 291, 292, 293, 294, 295, 296, 297, 298, 299,\n       300, 301, 302, 303, 304, 305, 306, 307, 308, 309, 310, 311, 312,\n       313, 314, 315, 316, 317, 318, 319, 320, 321, 322, 323, 324, 325,\n       326, 327, 328, 329, 330, 331, 332, 333, 334, 335, 336, 337, 338,\n       339, 340, 341, 342, 343, 344, 345, 346, 347, 348, 349, 350, 351,\n       352, 353, 354, 355, 356, 357, 358, 359, 360, 361, 362, 363, 364,\n       365, 366, 367, 368, 369, 370, 371, 372, 373, 374, 375, 376, 377,\n       378, 379, 380, 381, 382, 383, 384, 385, 386, 387, 388, 389, 390,\n       391, 392, 393, 394, 395, 396, 397, 398, 399, 400, 401, 402, 403,\n       404, 405, 406, 407, 408, 409, 410, 411, 412, 413, 414, 415, 416,\n       417, 418, 419, 420, 421, 422, 423, 424, 425, 426, 427, 428, 429,\n       430, 431, 432, 433, 434, 435, 436, 437, 438, 439, 440, 441, 442,\n       443, 444, 445, 446, 447, 448, 449, 450, 451, 452, 453, 454, 455,\n       456, 457, 458, 459, 460, 461, 462, 463, 464, 465, 466, 467, 468,\n       469, 470, 471, 472, 473, 474, 475, 476, 477, 478, 479, 480, 481,\n       482, 483, 484, 485, 486, 487, 488, 489, 490, 491, 492, 493, 494,\n       495, 496, 497, 498, 499, 500], dtype=uint32)",
       "residual": "array([1.39371e+03, 1.39371e+03, 1.39371e+03, 1.39285e+02, 1.39285e+02,\n       1.37569e+02, 1.32438e+02, 1.32438e+02, 1.27976e+02, 1.27976e+02,\n       1.25789e+02, 1.25789e+02, 1.11972e+02, 1.11972e+02, 9.29037e+01,\n       9.29037e+01, 7.04972e+01, 7.04972e+01, 6.41238e+01, 6.41238e+01,\n       6.36689e+01, 6.36689e+01, 6.32335e+01, 6.17085e+01, 6.17085e+01,\n       6.12704e+01, 6.12704e+01, 5.46626e+01, 5.46626e+01, 5.34871e+01,\n       5.34871e+01, 5.19145e+01, 5.19145e+01, 5.10759e+01, 5.10759e+01,\n       4.91619e+01, 4.91619e+01, 4.81833e+01, 4.81833e+01, 3.96327e+01,\n       3.96327e+01, 1.62620e+01, 1.62620e+01, 9.12295e+00, 9.12295e+00,\n       9.12295e+00, 8.51678e+00, 8.51678e+00, 4.84582e+00, 4.84582e+00,\n       4.59833e+00, 4.59833e+00, 4.58112e+00, 4.58112e+00, 4.51002e+00,\n       4.51002e+00, 4.40158e+00, 4.40158e+00, 4.21667e+00, 4.21667e+00,\n       4.13865e+00, 4.13865e+00, 4.00862e+00, 4.00862e+00, 3.90090e+00,\n       3.90090e+00, 3.88944e+00, 3.88944e+00, 3.88786e+00, 3.88786e+00,\n       3.88663e+00, 3.88663e+00, 3.88379e+00, 3.88379e+00, 3.87050e+00,\n       3.87050e+00, 3.84187e+00, 3.84187e+00, 3.79809e+00, 3.79809e+00,\n       3.78197e+00, 3.78197e+00, 3.70207e+00, 3.70207e+00, 3.58076e+00,\n       3.58076e+00, 3.56106e+00, 3.56106e+00, 3.34893e+00, 3.34893e+00,\n       3.06167e+00, 3.06167e+00, 1.75586e+00, 1.75586e+00, 1.75586e+00,\n       1.58874e+00, 1.58874e+00, 1.30540e+00, 1.30540e+00, 1.29696e+00,\n       1.27125e+00, 1.27125e+00, 1.24437e+00, 1.24437e+00, 8.29003e-01,\n       8.29003e-01, 5.58009e-01, 5.58009e-01, 5.58009e-01, 4.61881e-01,\n       4.61881e-01, 4.48474e-01, 4.48474e-01, 4.18709e-01, 4.18709e-01,\n       4.18709e-01, 4.15897e-01, 4.15897e-01, 4.14227e-01, 4.14227e-01,\n       4.13625e-01, 4.13625e-01, 4.13323e-01, 4.13323e-01, 4.12075e-01,\n       4.12075e-01, 4.10658e-01, 4.10658e-01, 4.10523e-01, 4.10523e-01,\n       4.09901e-01, 4.09901e-01, 4.09879e-01, 4.09879e-01, 4.09864e-01,\n       4.09864e-01, 4.09698e-01, 4.09698e-01, 4.09389e-01, 4.09389e-01,\n       4.08474e-01, 4.08474e-01, 4.06249e-01, 4.06249e-01, 4.04195e-01,\n       4.04195e-01, 3.96060e-01, 3.96060e-01, 3.93015e-01, 3.90651e-01,\n       3.90651e-01, 3.83317e-01, 3.83317e-01, 3.75523e-01, 3.75523e-01,\n       3.74460e-01, 3.74460e-01, 3.73550e-01, 3.73550e-01, 3.71117e-01,\n       3.71117e-01, 3.67281e-01, 3.67281e-01, 3.60663e-01, 3.60663e-01,\n       3.54458e-01, 3.54458e-01, 3.49244e-01, 3.49244e-01, 3.46727e-01,\n       3.46727e-01, 3.45318e-01, 3.45318e-01, 3.44284e-01, 3.44284e-01,\n       3.41980e-01, 3.41980e-01, 3.35753e-01, 3.35753e-01, 3.35753e-01,\n       3.35489e-01, 3.35489e-01, 3.29343e-01, 3.29343e-01, 3.29343e-01,\n       3.26769e-01, 3.26769e-01, 3.19913e-01, 3.19913e-01, 3.18384e-01,\n       3.18384e-01, 3.18198e-01, 3.18198e-01, 3.18103e-01, 3.18103e-01,\n       3.17873e-01, 3.17873e-01, 3.17741e-01, 3.17741e-01, 3.16377e-01,\n       3.16377e-01, 3.13142e-01, 3.13142e-01, 3.12609e-01, 3.12609e-01,\n       3.12044e-01, 3.12044e-01, 3.11984e-01, 3.11984e-01, 3.06905e-01,\n       3.06905e-01, 2.84829e-01, 2.84829e-01, 2.84787e-01, 2.84787e-01,\n       2.84763e-01, 2.84763e-01, 2.84734e-01, 2.84734e-01, 2.82886e-01,\n       2.82886e-01, 2.79732e-01, 2.79732e-01, 2.78938e-01, 2.78938e-01,\n       2.78624e-01, 2.78624e-01, 2.78593e-01, 2.78593e-01, 2.78544e-01,\n       2.78544e-01, 2.78507e-01, 2.78507e-01, 2.78341e-01, 2.78341e-01,\n       2.78329e-01, 2.78329e-01, 2.78170e-01, 2.78170e-01, 2.78030e-01,\n       2.78030e-01, 2.77994e-01, 2.77994e-01, 2.77945e-01, 2.77945e-01,\n       2.77905e-01, 2.77905e-01, 2.77905e-01, 2.77905e-01, 2.77893e-01,\n       2.77893e-01, 2.77826e-01, 2.77826e-01, 2.77565e-01, 2.77565e-01,\n       2.77247e-01, 2.77247e-01, 2.76692e-01, 2.76692e-01, 2.76165e-01,\n       2.76165e-01, 2.74387e-01, 2.74387e-01, 2.71900e-01, 2.71900e-01,\n       2.65026e-01, 2.65026e-01, 2.62625e-01, 2.54725e-01, 2.54725e-01,\n       2.54725e-01, 2.36225e-01, 2.36225e-01, 2.21180e-01, 2.21180e-01,\n       2.06805e-01, 2.06805e-01, 1.99498e-01, 1.99498e-01, 1.98107e-01,\n       1.98107e-01, 1.96974e-01, 1.96974e-01, 1.95735e-01, 1.95735e-01,\n       1.94396e-01, 1.94396e-01, 1.92781e-01, 1.92781e-01, 1.91211e-01,\n       1.91211e-01, 1.89741e-01, 1.89741e-01, 1.85730e-01, 1.85730e-01,\n       1.85730e-01, 1.83799e-01, 1.83799e-01, 1.80274e-01, 1.80274e-01,\n       1.80045e-01, 1.80045e-01, 1.79917e-01, 1.79917e-01, 1.78872e-01,\n       1.78872e-01, 1.76442e-01, 1.76442e-01, 1.75316e-01, 1.75316e-01,\n       1.74677e-01, 1.74677e-01, 1.74293e-01, 1.74293e-01, 1.73979e-01,\n       1.73979e-01, 1.73979e-01, 1.73850e-01, 1.73850e-01, 1.73720e-01,\n       1.73720e-01, 1.73691e-01, 1.73691e-01, 1.73677e-01, 1.73677e-01,\n       1.73661e-01, 1.73661e-01, 1.73647e-01, 1.73647e-01, 1.73642e-01,\n       1.73642e-01, 1.73637e-01, 1.73637e-01, 1.73631e-01, 1.73631e-01,\n       1.73610e-01, 1.73610e-01, 1.73557e-01, 1.73557e-01, 1.73432e-01,\n       1.73432e-01, 1.73432e-01, 1.73383e-01, 1.73383e-01, 1.73129e-01,\n       1.73129e-01, 1.72543e-01, 1.72543e-01, 1.71775e-01, 1.71775e-01,\n       1.71372e-01, 1.71372e-01, 1.70823e-01, 1.70823e-01, 1.70537e-01,\n       1.70537e-01, 1.70537e-01, 1.70463e-01, 1.70463e-01, 1.70093e-01,\n       1.70093e-01, 1.69113e-01, 1.69113e-01, 1.68421e-01, 1.68421e-01,\n       1.68257e-01, 1.68257e-01, 1.68236e-01, 1.68236e-01, 1.68227e-01,\n       1.68227e-01, 1.68220e-01, 1.68220e-01, 1.68211e-01, 1.68211e-01,\n       1.68205e-01, 1.68205e-01, 1.68199e-01, 1.68199e-01, 1.68186e-01,\n       1.68186e-01, 1.68170e-01, 1.68170e-01, 1.68153e-01, 1.68153e-01,\n       1.68076e-01, 1.68076e-01, 1.67983e-01, 1.67983e-01, 1.67854e-01,\n       1.67854e-01, 1.67691e-01, 1.67691e-01, 1.67691e-01, 1.67674e-01,\n       1.67674e-01, 1.67648e-01, 1.67648e-01, 1.66781e-01, 1.66781e-01,\n       1.65890e-01, 1.65890e-01, 1.65890e-01, 1.65363e-01, 1.65363e-01,\n       1.65164e-01, 1.65164e-01, 1.64561e-01, 1.64561e-01, 1.64442e-01,\n       1.64442e-01, 1.64333e-01, 1.64333e-01, 1.64304e-01, 1.64304e-01,\n       1.64297e-01, 1.64297e-01, 1.64288e-01, 1.64288e-01, 1.64279e-01,\n       1.64279e-01, 1.64276e-01, 1.64276e-01, 1.64274e-01, 1.64274e-01,\n       1.64274e-01, 1.64274e-01, 1.64273e-01, 1.64273e-01, 1.64273e-01,\n       1.64273e-01, 1.64273e-01, 1.64273e-01, 1.64273e-01, 1.64273e-01,\n       1.64273e-01, 1.64273e-01, 1.64273e-01, 1.64273e-01, 1.64273e-01,\n       1.64272e-01, 1.64272e-01, 1.64272e-01, 1.64272e-01, 1.64270e-01,\n       1.64270e-01, 1.64268e-01, 1.64268e-01, 1.64265e-01, 1.64265e-01,\n       1.64263e-01, 1.64263e-01, 1.64263e-01, 1.64262e-01, 1.64262e-01,\n       1.64262e-01, 1.64262e-01, 1.64262e-01, 1.64262e-01, 1.64262e-01,\n       1.64261e-01, 1.64261e-01, 1.64261e-01, 1.64261e-01, 1.64261e-01,\n       1.64261e-01, 1.64260e-01, 1.64260e-01, 1.64260e-01, 1.64260e-01,\n       1.64260e-01, 1.64259e-01, 1.64259e-01, 1.64259e-01, 1.64255e-01,\n       1.64255e-01, 1.64244e-01, 1.64244e-01, 1.64244e-01, 1.64243e-01,\n       1.64243e-01, 1.64235e-01, 1.64235e-01, 1.64210e-01, 1.64210e-01,\n       1.64210e-01, 1.64209e-01, 1.64209e-01, 1.64201e-01, 1.64201e-01,\n       1.64177e-01, 1.64177e-01, 1.64138e-01, 1.64138e-01, 1.64138e-01,\n       1.64138e-01, 1.64138e-01, 1.64027e-01, 1.64027e-01, 1.64005e-01])"
      },
      "text/plain": [
       "Output({'error': None, 'residual': array([1.39371e+03, 1.39371e+03, 1.39371e+03, 1.39285e+02, 1.39285e+02,\n",
       "       1.37569e+02, 1.32438e+02, 1.32438e+02, 1.27976e+02, 1.27976e+02,\n",
       "       1.25789e+02, 1.25789e+02, 1.11972e+02, 1.11972e+02, 9.29037e+01,\n",
       "       9.29037e+01, 7.04972e+01, 7.04972e+01, 6.41238e+01, 6.41238e+01,\n",
       "       6.36689e+01, 6.36689e+01, 6.32335e+01, 6.17085e+01, 6.17085e+01,\n",
       "       6.12704e+01, 6.12704e+01, 5.46626e+01, 5.46626e+01, 5.34871e+01,\n",
       "       5.34871e+01, 5.19145e+01, 5.19145e+01, 5.10759e+01, 5.10759e+01,\n",
       "       4.91619e+01, 4.91619e+01, 4.81833e+01, 4.81833e+01, 3.96327e+01,\n",
       "       3.96327e+01, 1.62620e+01, 1.62620e+01, 9.12295e+00, 9.12295e+00,\n",
       "       9.12295e+00, 8.51678e+00, 8.51678e+00, 4.84582e+00, 4.84582e+00,\n",
       "       4.59833e+00, 4.59833e+00, 4.58112e+00, 4.58112e+00, 4.51002e+00,\n",
       "       4.51002e+00, 4.40158e+00, 4.40158e+00, 4.21667e+00, 4.21667e+00,\n",
       "       4.13865e+00, 4.13865e+00, 4.00862e+00, 4.00862e+00, 3.90090e+00,\n",
       "       3.90090e+00, 3.88944e+00, 3.88944e+00, 3.88786e+00, 3.88786e+00,\n",
       "       3.88663e+00, 3.88663e+00, 3.88379e+00, 3.88379e+00, 3.87050e+00,\n",
       "       3.87050e+00, 3.84187e+00, 3.84187e+00, 3.79809e+00, 3.79809e+00,\n",
       "       3.78197e+00, 3.78197e+00, 3.70207e+00, 3.70207e+00, 3.58076e+00,\n",
       "       3.58076e+00, 3.56106e+00, 3.56106e+00, 3.34893e+00, 3.34893e+00,\n",
       "       3.06167e+00, 3.06167e+00, 1.75586e+00, 1.75586e+00, 1.75586e+00,\n",
       "       1.58874e+00, 1.58874e+00, 1.30540e+00, 1.30540e+00, 1.29696e+00,\n",
       "       1.27125e+00, 1.27125e+00, 1.24437e+00, 1.24437e+00, 8.29003e-01,\n",
       "       8.29003e-01, 5.58009e-01, 5.58009e-01, 5.58009e-01, 4.61881e-01,\n",
       "       4.61881e-01, 4.48474e-01, 4.48474e-01, 4.18709e-01, 4.18709e-01,\n",
       "       4.18709e-01, 4.15897e-01, 4.15897e-01, 4.14227e-01, 4.14227e-01,\n",
       "       4.13625e-01, 4.13625e-01, 4.13323e-01, 4.13323e-01, 4.12075e-01,\n",
       "       4.12075e-01, 4.10658e-01, 4.10658e-01, 4.10523e-01, 4.10523e-01,\n",
       "       4.09901e-01, 4.09901e-01, 4.09879e-01, 4.09879e-01, 4.09864e-01,\n",
       "       4.09864e-01, 4.09698e-01, 4.09698e-01, 4.09389e-01, 4.09389e-01,\n",
       "       4.08474e-01, 4.08474e-01, 4.06249e-01, 4.06249e-01, 4.04195e-01,\n",
       "       4.04195e-01, 3.96060e-01, 3.96060e-01, 3.93015e-01, 3.90651e-01,\n",
       "       3.90651e-01, 3.83317e-01, 3.83317e-01, 3.75523e-01, 3.75523e-01,\n",
       "       3.74460e-01, 3.74460e-01, 3.73550e-01, 3.73550e-01, 3.71117e-01,\n",
       "       3.71117e-01, 3.67281e-01, 3.67281e-01, 3.60663e-01, 3.60663e-01,\n",
       "       3.54458e-01, 3.54458e-01, 3.49244e-01, 3.49244e-01, 3.46727e-01,\n",
       "       3.46727e-01, 3.45318e-01, 3.45318e-01, 3.44284e-01, 3.44284e-01,\n",
       "       3.41980e-01, 3.41980e-01, 3.35753e-01, 3.35753e-01, 3.35753e-01,\n",
       "       3.35489e-01, 3.35489e-01, 3.29343e-01, 3.29343e-01, 3.29343e-01,\n",
       "       3.26769e-01, 3.26769e-01, 3.19913e-01, 3.19913e-01, 3.18384e-01,\n",
       "       3.18384e-01, 3.18198e-01, 3.18198e-01, 3.18103e-01, 3.18103e-01,\n",
       "       3.17873e-01, 3.17873e-01, 3.17741e-01, 3.17741e-01, 3.16377e-01,\n",
       "       3.16377e-01, 3.13142e-01, 3.13142e-01, 3.12609e-01, 3.12609e-01,\n",
       "       3.12044e-01, 3.12044e-01, 3.11984e-01, 3.11984e-01, 3.06905e-01,\n",
       "       3.06905e-01, 2.84829e-01, 2.84829e-01, 2.84787e-01, 2.84787e-01,\n",
       "       2.84763e-01, 2.84763e-01, 2.84734e-01, 2.84734e-01, 2.82886e-01,\n",
       "       2.82886e-01, 2.79732e-01, 2.79732e-01, 2.78938e-01, 2.78938e-01,\n",
       "       2.78624e-01, 2.78624e-01, 2.78593e-01, 2.78593e-01, 2.78544e-01,\n",
       "       2.78544e-01, 2.78507e-01, 2.78507e-01, 2.78341e-01, 2.78341e-01,\n",
       "       2.78329e-01, 2.78329e-01, 2.78170e-01, 2.78170e-01, 2.78030e-01,\n",
       "       2.78030e-01, 2.77994e-01, 2.77994e-01, 2.77945e-01, 2.77945e-01,\n",
       "       2.77905e-01, 2.77905e-01, 2.77905e-01, 2.77905e-01, 2.77893e-01,\n",
       "       2.77893e-01, 2.77826e-01, 2.77826e-01, 2.77565e-01, 2.77565e-01,\n",
       "       2.77247e-01, 2.77247e-01, 2.76692e-01, 2.76692e-01, 2.76165e-01,\n",
       "       2.76165e-01, 2.74387e-01, 2.74387e-01, 2.71900e-01, 2.71900e-01,\n",
       "       2.65026e-01, 2.65026e-01, 2.62625e-01, 2.54725e-01, 2.54725e-01,\n",
       "       2.54725e-01, 2.36225e-01, 2.36225e-01, 2.21180e-01, 2.21180e-01,\n",
       "       2.06805e-01, 2.06805e-01, 1.99498e-01, 1.99498e-01, 1.98107e-01,\n",
       "       1.98107e-01, 1.96974e-01, 1.96974e-01, 1.95735e-01, 1.95735e-01,\n",
       "       1.94396e-01, 1.94396e-01, 1.92781e-01, 1.92781e-01, 1.91211e-01,\n",
       "       1.91211e-01, 1.89741e-01, 1.89741e-01, 1.85730e-01, 1.85730e-01,\n",
       "       1.85730e-01, 1.83799e-01, 1.83799e-01, 1.80274e-01, 1.80274e-01,\n",
       "       1.80045e-01, 1.80045e-01, 1.79917e-01, 1.79917e-01, 1.78872e-01,\n",
       "       1.78872e-01, 1.76442e-01, 1.76442e-01, 1.75316e-01, 1.75316e-01,\n",
       "       1.74677e-01, 1.74677e-01, 1.74293e-01, 1.74293e-01, 1.73979e-01,\n",
       "       1.73979e-01, 1.73979e-01, 1.73850e-01, 1.73850e-01, 1.73720e-01,\n",
       "       1.73720e-01, 1.73691e-01, 1.73691e-01, 1.73677e-01, 1.73677e-01,\n",
       "       1.73661e-01, 1.73661e-01, 1.73647e-01, 1.73647e-01, 1.73642e-01,\n",
       "       1.73642e-01, 1.73637e-01, 1.73637e-01, 1.73631e-01, 1.73631e-01,\n",
       "       1.73610e-01, 1.73610e-01, 1.73557e-01, 1.73557e-01, 1.73432e-01,\n",
       "       1.73432e-01, 1.73432e-01, 1.73383e-01, 1.73383e-01, 1.73129e-01,\n",
       "       1.73129e-01, 1.72543e-01, 1.72543e-01, 1.71775e-01, 1.71775e-01,\n",
       "       1.71372e-01, 1.71372e-01, 1.70823e-01, 1.70823e-01, 1.70537e-01,\n",
       "       1.70537e-01, 1.70537e-01, 1.70463e-01, 1.70463e-01, 1.70093e-01,\n",
       "       1.70093e-01, 1.69113e-01, 1.69113e-01, 1.68421e-01, 1.68421e-01,\n",
       "       1.68257e-01, 1.68257e-01, 1.68236e-01, 1.68236e-01, 1.68227e-01,\n",
       "       1.68227e-01, 1.68220e-01, 1.68220e-01, 1.68211e-01, 1.68211e-01,\n",
       "       1.68205e-01, 1.68205e-01, 1.68199e-01, 1.68199e-01, 1.68186e-01,\n",
       "       1.68186e-01, 1.68170e-01, 1.68170e-01, 1.68153e-01, 1.68153e-01,\n",
       "       1.68076e-01, 1.68076e-01, 1.67983e-01, 1.67983e-01, 1.67854e-01,\n",
       "       1.67854e-01, 1.67691e-01, 1.67691e-01, 1.67691e-01, 1.67674e-01,\n",
       "       1.67674e-01, 1.67648e-01, 1.67648e-01, 1.66781e-01, 1.66781e-01,\n",
       "       1.65890e-01, 1.65890e-01, 1.65890e-01, 1.65363e-01, 1.65363e-01,\n",
       "       1.65164e-01, 1.65164e-01, 1.64561e-01, 1.64561e-01, 1.64442e-01,\n",
       "       1.64442e-01, 1.64333e-01, 1.64333e-01, 1.64304e-01, 1.64304e-01,\n",
       "       1.64297e-01, 1.64297e-01, 1.64288e-01, 1.64288e-01, 1.64279e-01,\n",
       "       1.64279e-01, 1.64276e-01, 1.64276e-01, 1.64274e-01, 1.64274e-01,\n",
       "       1.64274e-01, 1.64274e-01, 1.64273e-01, 1.64273e-01, 1.64273e-01,\n",
       "       1.64273e-01, 1.64273e-01, 1.64273e-01, 1.64273e-01, 1.64273e-01,\n",
       "       1.64273e-01, 1.64273e-01, 1.64273e-01, 1.64273e-01, 1.64273e-01,\n",
       "       1.64272e-01, 1.64272e-01, 1.64272e-01, 1.64272e-01, 1.64270e-01,\n",
       "       1.64270e-01, 1.64268e-01, 1.64268e-01, 1.64265e-01, 1.64265e-01,\n",
       "       1.64263e-01, 1.64263e-01, 1.64263e-01, 1.64262e-01, 1.64262e-01,\n",
       "       1.64262e-01, 1.64262e-01, 1.64262e-01, 1.64262e-01, 1.64262e-01,\n",
       "       1.64261e-01, 1.64261e-01, 1.64261e-01, 1.64261e-01, 1.64261e-01,\n",
       "       1.64261e-01, 1.64260e-01, 1.64260e-01, 1.64260e-01, 1.64260e-01,\n",
       "       1.64260e-01, 1.64259e-01, 1.64259e-01, 1.64259e-01, 1.64255e-01,\n",
       "       1.64255e-01, 1.64244e-01, 1.64244e-01, 1.64244e-01, 1.64243e-01,\n",
       "       1.64243e-01, 1.64235e-01, 1.64235e-01, 1.64210e-01, 1.64210e-01,\n",
       "       1.64210e-01, 1.64209e-01, 1.64209e-01, 1.64201e-01, 1.64201e-01,\n",
       "       1.64177e-01, 1.64177e-01, 1.64138e-01, 1.64138e-01, 1.64138e-01,\n",
       "       1.64138e-01, 1.64138e-01, 1.64027e-01, 1.64027e-01, 1.64005e-01]), 'iterations': array([  1,   2,   3,   4,   5,   6,   7,   8,   9,  10,  11,  12,  13,\n",
       "        14,  15,  16,  17,  18,  19,  20,  21,  22,  23,  24,  25,  26,\n",
       "        27,  28,  29,  30,  31,  32,  33,  34,  35,  36,  37,  38,  39,\n",
       "        40,  41,  42,  43,  44,  45,  46,  47,  48,  49,  50,  51,  52,\n",
       "        53,  54,  55,  56,  57,  58,  59,  60,  61,  62,  63,  64,  65,\n",
       "        66,  67,  68,  69,  70,  71,  72,  73,  74,  75,  76,  77,  78,\n",
       "        79,  80,  81,  82,  83,  84,  85,  86,  87,  88,  89,  90,  91,\n",
       "        92,  93,  94,  95,  96,  97,  98,  99, 100, 101, 102, 103, 104,\n",
       "       105, 106, 107, 108, 109, 110, 111, 112, 113, 114, 115, 116, 117,\n",
       "       118, 119, 120, 121, 122, 123, 124, 125, 126, 127, 128, 129, 130,\n",
       "       131, 132, 133, 134, 135, 136, 137, 138, 139, 140, 141, 142, 143,\n",
       "       144, 145, 146, 147, 148, 149, 150, 151, 152, 153, 154, 155, 156,\n",
       "       157, 158, 159, 160, 161, 162, 163, 164, 165, 166, 167, 168, 169,\n",
       "       170, 171, 172, 173, 174, 175, 176, 177, 178, 179, 180, 181, 182,\n",
       "       183, 184, 185, 186, 187, 188, 189, 190, 191, 192, 193, 194, 195,\n",
       "       196, 197, 198, 199, 200, 201, 202, 203, 204, 205, 206, 207, 208,\n",
       "       209, 210, 211, 212, 213, 214, 215, 216, 217, 218, 219, 220, 221,\n",
       "       222, 223, 224, 225, 226, 227, 228, 229, 230, 231, 232, 233, 234,\n",
       "       235, 236, 237, 238, 239, 240, 241, 242, 243, 244, 245, 246, 247,\n",
       "       248, 249, 250, 251, 252, 253, 254, 255, 256, 257, 258, 259, 260,\n",
       "       261, 262, 263, 264, 265, 266, 267, 268, 269, 270, 271, 272, 273,\n",
       "       274, 275, 276, 277, 278, 279, 280, 281, 282, 283, 284, 285, 286,\n",
       "       287, 288, 289, 290, 291, 292, 293, 294, 295, 296, 297, 298, 299,\n",
       "       300, 301, 302, 303, 304, 305, 306, 307, 308, 309, 310, 311, 312,\n",
       "       313, 314, 315, 316, 317, 318, 319, 320, 321, 322, 323, 324, 325,\n",
       "       326, 327, 328, 329, 330, 331, 332, 333, 334, 335, 336, 337, 338,\n",
       "       339, 340, 341, 342, 343, 344, 345, 346, 347, 348, 349, 350, 351,\n",
       "       352, 353, 354, 355, 356, 357, 358, 359, 360, 361, 362, 363, 364,\n",
       "       365, 366, 367, 368, 369, 370, 371, 372, 373, 374, 375, 376, 377,\n",
       "       378, 379, 380, 381, 382, 383, 384, 385, 386, 387, 388, 389, 390,\n",
       "       391, 392, 393, 394, 395, 396, 397, 398, 399, 400, 401, 402, 403,\n",
       "       404, 405, 406, 407, 408, 409, 410, 411, 412, 413, 414, 415, 416,\n",
       "       417, 418, 419, 420, 421, 422, 423, 424, 425, 426, 427, 428, 429,\n",
       "       430, 431, 432, 433, 434, 435, 436, 437, 438, 439, 440, 441, 442,\n",
       "       443, 444, 445, 446, 447, 448, 449, 450, 451, 452, 453, 454, 455,\n",
       "       456, 457, 458, 459, 460, 461, 462, 463, 464, 465, 466, 467, 468,\n",
       "       469, 470, 471, 472, 473, 474, 475, 476, 477, 478, 479, 480, 481,\n",
       "       482, 483, 484, 485, 486, 487, 488, 489, 490, 491, 492, 493, 494,\n",
       "       495, 496, 497, 498, 499, 500], dtype=uint32)})"
      ]
     },
     "execution_count": 19,
     "metadata": {},
     "output_type": "execute_result"
    }
   ],
   "source": [
    "## Define the atom types of the potential\n",
    "job.input.atom_types.Cu = None\n",
    "## Limited number of iterations for the workshop\n",
    "job.input.fit_algorithm = job.factories.algorithms.ar_lbfgs(max_iter=500)\n",
    "job.run()\n",
    "job.output"
   ]
  },
  {
   "cell_type": "markdown",
   "id": "featured-worthy",
   "metadata": {},
   "source": [
    "### Plot the results"
   ]
  },
  {
   "cell_type": "markdown",
   "id": "tested-conservation",
   "metadata": {},
   "source": [
    "Plot the resiudal over steps to see how the calculation converges"
   ]
  },
  {
   "cell_type": "code",
   "execution_count": 20,
   "id": "focused-occasion",
   "metadata": {},
   "outputs": [
    {
     "data": {
      "image/png": "[encoded data removed]",
      "text/plain": [
       "<Figure size 432x288 with 1 Axes>"
      ]
     },
     "metadata": {
      "needs_background": "light"
     },
     "output_type": "display_data"
    }
   ],
   "source": [
    "plt.plot(job.output.iterations, job.output.residual)\n",
    "plt.yscale(\"log\")"
   ]
  },
  {
   "cell_type": "markdown",
   "id": "amended-gamma",
   "metadata": {},
   "source": [
    "Finally it is a good idea to have a look at the final potential. This can reveal unphysical behavior"
   ]
  },
  {
   "cell_type": "code",
   "execution_count": 21,
   "id": "comfortable-oasis",
   "metadata": {},
   "outputs": [
    {
     "data": {
      "text/plain": [
       "(<Figure size 576x1296 with 3 Axes>,\n",
       " array([[<AxesSubplot:title={'center':'Cu F'}, xlabel='$\\\\rho $ [a.u.]'>],\n",
       "        [<AxesSubplot:title={'center':'Cu rho_CuCu'}, xlabel='r [$\\\\AA$]'>],\n",
       "        [<AxesSubplot:title={'center':'Cu V_CuCu'}, xlabel='r [$\\\\AA$]'>]],\n",
       "       dtype=object))"
      ]
     },
     "execution_count": 21,
     "metadata": {},
     "output_type": "execute_result"
    },
    {
     "data": {
      "image/png": "[encoded data removed]",
      "text/plain": [
       "<Figure size 576x1296 with 3 Axes>"
      ]
     },
     "metadata": {
      "needs_background": "light"
     },
     "output_type": "display_data"
    }
   ],
   "source": [
    "job.plot_final_potential()"
   ]
  },
  {
   "cell_type": "markdown",
   "id": "baking-faith",
   "metadata": {},
   "source": [
    "### Run a lammps simulations with the fitted potential"
   ]
  },
  {
   "cell_type": "code",
   "execution_count": 22,
   "id": "quarterly-maryland",
   "metadata": {},
   "outputs": [
    {
     "name": "stdout",
     "output_type": "stream",
     "text": [
      "The job PotentialTest was saved and received the ID: 56\n",
      "The job strain_0_9 was saved and received the ID: 57\n",
      "The job strain_0_92 was saved and received the ID: 58\n",
      "The job strain_0_94 was saved and received the ID: 59\n",
      "The job strain_0_96 was saved and received the ID: 60\n",
      "The job strain_0_98 was saved and received the ID: 61\n",
      "The job strain_1_0 was saved and received the ID: 62\n",
      "The job strain_1_02 was saved and received the ID: 63\n",
      "The job strain_1_04 was saved and received the ID: 64\n",
      "The job strain_1_06 was saved and received the ID: 65\n",
      "The job strain_1_08 was saved and received the ID: 66\n",
      "The job strain_1_1 was saved and received the ID: 67\n",
      "job_id:  57 finished\n",
      "job_id:  58 finished\n",
      "job_id:  59 finished\n",
      "job_id:  60 finished\n",
      "job_id:  61 finished\n",
      "job_id:  62 finished\n",
      "job_id:  63 finished\n",
      "job_id:  64 finished\n",
      "job_id:  65 finished\n",
      "job_id:  66 finished\n",
      "job_id:  67 finished\n"
     ]
    }
   ],
   "source": [
    "lmp = pr.create_job(\"Lammps\", \"template\")\n",
    "lmp.structure = pr.create_ase_bulk(\"Cu\", cubic=True)\n",
    "lmp.potential = job.lammps_potential\n",
    "murn = lmp.create_job(\"Murnaghan\", \"PotentialTest\")\n",
    "murn.run()"
   ]
  },
  {
   "cell_type": "code",
   "execution_count": 23,
   "id": "creative-mercury",
   "metadata": {},
   "outputs": [
    {
     "data": {
      "image/png": "[encoded data removed]",
      "text/plain": [
       "<Figure size 432x288 with 1 Axes>"
      ]
     },
     "metadata": {
      "needs_background": "light"
     },
     "output_type": "display_data"
    }
   ],
   "source": [
    "murn.plot()"
   ]
  },
  {
   "cell_type": "code",
   "execution_count": 24,
   "id": "ranking-robertson",
   "metadata": {},
   "outputs": [
    {
     "data": {
      "text/plain": [
       "3.6284997615253496"
      ]
     },
     "execution_count": 24,
     "metadata": {},
     "output_type": "execute_result"
    }
   ],
   "source": [
    "murn[\"output/equilibrium_volume\"]**(1/3)"
   ]
  },
  {
   "cell_type": "markdown",
   "id": "complex-campbell",
   "metadata": {},
   "source": [
    "### Same cane be done for the 1000 structures dataset\n",
    "The final parameters of the 100 structure fit can be used for the 1000 Structure fit. This can speed up the fitting process and often leads to better results, especially if the initially guessed values are far from the optimum. \n",
    "\n",
    "In general it is a good idea to start with few structures and try around with different functions and initial parameters. This is much faster than using all structures from the beginning and gives good guesses for the initial values of the parameters. It also allows to use global optimization with millions of steps in short time spans.\n",
    "\n",
    "### This can take long and writes 1000 seperate POSCAR files, TAKE CARE\n",
    "Run these jobs with more cores or more time after the workshop. Also increase the number of iterations for better results"
   ]
  },
  {
   "cell_type": "code",
   "execution_count": 25,
   "id": "attempted-publication",
   "metadata": {},
   "outputs": [],
   "source": [
    "pr = Project(\"PotentialDF2\")\n",
    "#pr.remove_jobs()\n",
    "j = pr.create_job(pr.job_type.Atomicrex, \"PotentialDF2\")\n",
    "j.potential = job.potential.copy()\n",
    "## Use the final parameters as starting values for the new fit\n",
    "j.potential.copy_final_to_initial_params()"
   ]
  },
  {
   "cell_type": "code",
   "execution_count": 26,
   "id": "assisted-sheffield",
   "metadata": {},
   "outputs": [],
   "source": [
    "df = data_pr.load(\"df2_1k\").to_pandas()\n",
    "for id, row in df.iterrows():\n",
    "    struct = ase_to_pyiron(row.atoms)\n",
    "    s = j.structures.add_structure(struct, f\"id{id}\", relative_weight=1)\n",
    "    s.fit_properties.add_FitProperty(\"atomic-energy\", target_value=row.energy/row.number_of_atoms, relative_weight=1)\n",
    "    s.fit_properties.add_FitProperty(\"atomic-forces\", target_value=row.forces, relative_weight=1/row.number_of_atoms)"
   ]
  },
  {
   "cell_type": "code",
   "execution_count": 27,
   "id": "individual-vienna",
   "metadata": {},
   "outputs": [],
   "source": [
    "import time"
   ]
  },
  {
   "cell_type": "code",
   "execution_count": 28,
   "id": "innocent-halifax",
   "metadata": {},
   "outputs": [],
   "source": [
    "j.input.atom_types.Cu = None\n",
    "j.input.fit_algorithm = j.factories.algorithms.ar_lbfgs(max_iter=100000)\n",
    "\n",
    "## if possible increase number of cores\n",
    "#j.server.cores = 16\n",
    "t1 = time.time()\n",
    "## Uncomment if you want to run the job\n",
    "#j.run()\n",
    "t2 = time.time()"
   ]
  },
  {
   "cell_type": "code",
   "execution_count": 29,
   "id": "tender-certification",
   "metadata": {},
   "outputs": [
    {
     "data": {
      "text/plain": [
       "4.696846008300781e-05"
      ]
     },
     "execution_count": 29,
     "metadata": {},
     "output_type": "execute_result"
    }
   ],
   "source": [
    "t2-t1"
   ]
  },
  {
   "cell_type": "code",
   "execution_count": 30,
   "id": "confident-depression",
   "metadata": {},
   "outputs": [
    {
     "data": {
      "application/json": {
       "error": "None",
       "iterations": "None",
       "residual": "None"
      },
      "text/plain": [
       "Output({'error': None, 'residual': None, 'iterations': None})"
      ]
     },
     "execution_count": 30,
     "metadata": {},
     "output_type": "execute_result"
    }
   ],
   "source": [
    "j.output"
   ]
  },
  {
   "cell_type": "markdown",
   "id": "agreed-communications",
   "metadata": {},
   "source": [
    "This is the result if the initilly guessed values are taken instead of the fitted ones."
   ]
  },
  {
   "cell_type": "code",
   "execution_count": 31,
   "id": "bright-dependence",
   "metadata": {},
   "outputs": [],
   "source": [
    "j2 = pr.create_job(pr.job_type.Atomicrex, \"PotentialDF2_BadStartParams\")\n",
    "j2.potential = job.potential.copy()\n",
    "j2.input.atom_types.Cu = None\n",
    "j2.input.fit_algorithm = j.factories.algorithms.ar_lbfgs(max_iter=100000)\n",
    "j2.structures = j.structures\n",
    "## if possible increase number of cores\n",
    "#j2.server.cores = 16\n",
    "## Uncomment if you want to run the job\n",
    "#j2.run()"
   ]
  },
  {
   "cell_type": "code",
   "execution_count": 32,
   "id": "cellular-blowing",
   "metadata": {},
   "outputs": [
    {
     "data": {
      "application/json": {
       "error": "None",
       "iterations": "None",
       "residual": "None"
      },
      "text/plain": [
       "Output({'error': None, 'residual': None, 'iterations': None})"
      ]
     },
     "execution_count": 32,
     "metadata": {},
     "output_type": "execute_result"
    }
   ],
   "source": [
    "j2.output"
   ]
  },
  {
   "cell_type": "markdown",
   "id": "tracked-drawing",
   "metadata": {},
   "source": [
    "With this choice of functions and initial parameters starting directly from all structures gives the same residual. In a previous iteration of the potential it was about 7 times worse, so it is a good idea to test this."
   ]
  }
 ],
 "metadata": {
  "kernelspec": {
   "display_name": "Python 3",
   "language": "python",
   "name": "python3"
  },
  "language_info": {
   "codemirror_mode": {
    "name": "ipython",
    "version": 3
   },
   "file_extension": ".py",
   "mimetype": "text/x-python",
   "name": "python",
   "nbconvert_exporter": "python",
   "pygments_lexer": "ipython3",
   "version": "3.8.6"
  }
 },
 "nbformat": 4,
 "nbformat_minor": 5
}
