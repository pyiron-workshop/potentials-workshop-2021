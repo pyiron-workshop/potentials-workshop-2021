{
 "cells": [
  {
   "cell_type": "code",
   "execution_count": 1,
   "metadata": {},
   "outputs": [
    {
     "name": "stdout",
     "output_type": "stream",
     "text": [
      "Populating the interactive namespace from numpy and matplotlib\n"
     ]
    }
   ],
   "source": [
    "%pylab inline"
   ]
  },
  {
   "cell_type": "code",
   "execution_count": 2,
   "metadata": {},
   "outputs": [],
   "source": [
    "from pyiron import Project"
   ]
  },
  {
   "cell_type": "code",
   "execution_count": 3,
   "metadata": {},
   "outputs": [],
   "source": [
    "data_pr = Project(\"import_database\")"
   ]
  },
  {
   "cell_type": "code",
   "execution_count": 4,
   "metadata": {},
   "outputs": [
    {
     "data": {
      "text/html": [
       "<div>\n",
       "<style scoped>\n",
       "    .dataframe tbody tr th:only-of-type {\n",
       "        vertical-align: middle;\n",
       "    }\n",
       "\n",
       "    .dataframe tbody tr th {\n",
       "        vertical-align: top;\n",
       "    }\n",
       "\n",
       "    .dataframe thead th {\n",
       "        text-align: right;\n",
       "    }\n",
       "</style>\n",
       "<table border=\"1\" class=\"dataframe\">\n",
       "  <thead>\n",
       "    <tr style=\"text-align: right;\">\n",
       "      <th></th>\n",
       "      <th>id</th>\n",
       "      <th>status</th>\n",
       "      <th>chemicalformula</th>\n",
       "      <th>job</th>\n",
       "      <th>subjob</th>\n",
       "      <th>projectpath</th>\n",
       "      <th>project</th>\n",
       "      <th>timestart</th>\n",
       "      <th>timestop</th>\n",
       "      <th>totalcputime</th>\n",
       "      <th>computer</th>\n",
       "      <th>hamilton</th>\n",
       "      <th>hamversion</th>\n",
       "      <th>parentid</th>\n",
       "      <th>masterid</th>\n",
       "    </tr>\n",
       "  </thead>\n",
       "  <tbody>\n",
       "    <tr>\n",
       "      <th>0</th>\n",
       "      <td>21</td>\n",
       "      <td>finished</td>\n",
       "      <td>None</td>\n",
       "      <td>df1_A1_A2_A3_EV_elast_phon</td>\n",
       "      <td>/df1_A1_A2_A3_EV_elast_phon</td>\n",
       "      <td>/home/yury/pyiron/projects/</td>\n",
       "      <td>pyiron-2021/import_database/Cu_database/</td>\n",
       "      <td>2021-02-08 10:33:52.341472</td>\n",
       "      <td>None</td>\n",
       "      <td>None</td>\n",
       "      <td>zora@cmti001#1</td>\n",
       "      <td>GenericJob</td>\n",
       "      <td>0.4</td>\n",
       "      <td>None</td>\n",
       "      <td>None</td>\n",
       "    </tr>\n",
       "    <tr>\n",
       "      <th>1</th>\n",
       "      <td>22</td>\n",
       "      <td>finished</td>\n",
       "      <td>None</td>\n",
       "      <td>df3_10k</td>\n",
       "      <td>/df3_10k</td>\n",
       "      <td>/home/yury/pyiron/projects/</td>\n",
       "      <td>pyiron-2021/import_database/Cu_database/</td>\n",
       "      <td>2021-02-08 10:33:53.993230</td>\n",
       "      <td>None</td>\n",
       "      <td>None</td>\n",
       "      <td>zora@cmti001#1</td>\n",
       "      <td>GenericJob</td>\n",
       "      <td>0.4</td>\n",
       "      <td>None</td>\n",
       "      <td>None</td>\n",
       "    </tr>\n",
       "    <tr>\n",
       "      <th>2</th>\n",
       "      <td>23</td>\n",
       "      <td>finished</td>\n",
       "      <td>None</td>\n",
       "      <td>df2_1k</td>\n",
       "      <td>/df2_1k</td>\n",
       "      <td>/home/yury/pyiron/projects/</td>\n",
       "      <td>pyiron-2021/import_database/Cu_database/</td>\n",
       "      <td>2021-02-08 10:33:54.435308</td>\n",
       "      <td>None</td>\n",
       "      <td>None</td>\n",
       "      <td>zora@cmti001#1</td>\n",
       "      <td>GenericJob</td>\n",
       "      <td>0.4</td>\n",
       "      <td>None</td>\n",
       "      <td>None</td>\n",
       "    </tr>\n",
       "  </tbody>\n",
       "</table>\n",
       "</div>"
      ],
      "text/plain": [
       "   id    status chemicalformula                         job  \\\n",
       "0  21  finished            None  df1_A1_A2_A3_EV_elast_phon   \n",
       "1  22  finished            None                     df3_10k   \n",
       "2  23  finished            None                      df2_1k   \n",
       "\n",
       "                        subjob                  projectpath  \\\n",
       "0  /df1_A1_A2_A3_EV_elast_phon  /home/yury/pyiron/projects/   \n",
       "1                     /df3_10k  /home/yury/pyiron/projects/   \n",
       "2                      /df2_1k  /home/yury/pyiron/projects/   \n",
       "\n",
       "                                    project                  timestart  \\\n",
       "0  pyiron-2021/import_database/Cu_database/ 2021-02-08 10:33:52.341472   \n",
       "1  pyiron-2021/import_database/Cu_database/ 2021-02-08 10:33:53.993230   \n",
       "2  pyiron-2021/import_database/Cu_database/ 2021-02-08 10:33:54.435308   \n",
       "\n",
       "  timestop totalcputime        computer    hamilton hamversion parentid  \\\n",
       "0     None         None  zora@cmti001#1  GenericJob        0.4     None   \n",
       "1     None         None  zora@cmti001#1  GenericJob        0.4     None   \n",
       "2     None         None  zora@cmti001#1  GenericJob        0.4     None   \n",
       "\n",
       "  masterid  \n",
       "0     None  \n",
       "1     None  \n",
       "2     None  "
      ]
     },
     "execution_count": 4,
     "metadata": {},
     "output_type": "execute_result"
    }
   ],
   "source": [
    "data_pr.job_table()"
   ]
  },
  {
   "cell_type": "code",
   "execution_count": 5,
   "metadata": {},
   "outputs": [],
   "source": [
    "data_job = data_pr.load('df1_A1_A2_A3_EV_elast_phon')"
   ]
  },
  {
   "cell_type": "markdown",
   "metadata": {},
   "source": [
    "# Fitting project"
   ]
  },
  {
   "cell_type": "code",
   "execution_count": 8,
   "metadata": {},
   "outputs": [],
   "source": [
    "from pyiron_gpl.pacemaker.pacemaker import PaceMakerJob"
   ]
  },
  {
   "cell_type": "code",
   "execution_count": 9,
   "metadata": {},
   "outputs": [],
   "source": [
    "fit_pr = Project(\"pacemaker_fit\")"
   ]
  },
  {
   "cell_type": "code",
   "execution_count": 10,
   "metadata": {},
   "outputs": [],
   "source": [
    "#fit_pr.remove_jobs_silently()#"
   ]
  },
  {
   "cell_type": "code",
   "execution_count": 11,
   "metadata": {},
   "outputs": [],
   "source": [
    "job = fit_pr.create_job(job_type=PaceMakerJob, job_name=\"df1_cut5\") #,delete_existing_job=True"
   ]
  },
  {
   "cell_type": "markdown",
   "metadata": {},
   "source": [
    "## Fit"
   ]
  },
  {
   "cell_type": "code",
   "execution_count": 14,
   "metadata": {},
   "outputs": [],
   "source": [
    "cutoff = 5.0"
   ]
  },
  {
   "cell_type": "code",
   "execution_count": 15,
   "metadata": {},
   "outputs": [],
   "source": [
    "job.input[\"potential\"]= {\n",
    "    \"deltaSplineBins\": 0.001,\n",
    "    \"element\": \"Cu\",\n",
    "    \"fs_parameters\": [1, 1, 1, 0.5],\n",
    "    \"npot\": \"FinnisSinclairShiftedScaled\",\n",
    "    \"NameOfCutoffFunction\": \"cos\",\n",
    "    \"rankmax\": 3,\n",
    "    \"nradmax\": [5,2,1],\n",
    "    \"lmax\": [0,2,1],\n",
    "    \"ndensity\": 2,\n",
    "    \"rcut\": cutoff,\n",
    "    \"dcut\": 0.01,\n",
    "    \"radparameters\": [5.25],\n",
    "    \"radbase\": \"ChebExpCos\",\n",
    "}"
   ]
  },
  {
   "cell_type": "code",
   "execution_count": 16,
   "metadata": {},
   "outputs": [],
   "source": [
    "job.input[\"fit\"]= {    \n",
    "    'optimizer': 'BFGS', \n",
    "    'maxiter': 500,\n",
    "    'loss': {\n",
    "        'kappa': 0.5,\n",
    "        'L1_coeffs': 5e-7, # L1-regularization\n",
    "        'L2_coeffs': 5e-7, # L2-regularization\n",
    "        'w1_coeffs': 1,\n",
    "        'w2_coeffs': 1,\n",
    "        #radial smoothness regularization\n",
    "        'w0_rad': 1e-4,    \n",
    "        'w1_rad': 1e-4,\n",
    "        'w2_rad': 1e-4,\n",
    "    },\n",
    "}"
   ]
  },
  {
   "cell_type": "code",
   "execution_count": null,
   "metadata": {},
   "outputs": [],
   "source": []
  },
  {
   "cell_type": "code",
   "execution_count": 17,
   "metadata": {},
   "outputs": [],
   "source": [
    "job.input[\"cutoff\"] = cutoff\n",
    "job.input[\"backend\"][\"batch_size\"] = 1000 # large batch size, because fitting will be done on CPU"
   ]
  },
  {
   "cell_type": "code",
   "execution_count": 18,
   "metadata": {},
   "outputs": [],
   "source": [
    "job.structure_data=data_job"
   ]
  },
  {
   "cell_type": "code",
   "execution_count": 19,
   "metadata": {},
   "outputs": [
    {
     "data": {
      "text/html": [
       "<div>\n",
       "<style scoped>\n",
       "    .dataframe tbody tr th:only-of-type {\n",
       "        vertical-align: middle;\n",
       "    }\n",
       "\n",
       "    .dataframe tbody tr th {\n",
       "        vertical-align: top;\n",
       "    }\n",
       "\n",
       "    .dataframe thead th {\n",
       "        text-align: right;\n",
       "    }\n",
       "</style>\n",
       "<table border=\"1\" class=\"dataframe\">\n",
       "  <thead>\n",
       "    <tr style=\"text-align: right;\">\n",
       "      <th></th>\n",
       "      <th>Parameter</th>\n",
       "      <th>Value</th>\n",
       "      <th>Comment</th>\n",
       "    </tr>\n",
       "  </thead>\n",
       "  <tbody>\n",
       "    <tr>\n",
       "      <th>0</th>\n",
       "      <td>cutoff</td>\n",
       "      <td>5.0</td>\n",
       "      <td></td>\n",
       "    </tr>\n",
       "    <tr>\n",
       "      <th>1</th>\n",
       "      <td>metadata</td>\n",
       "      <td>{}</td>\n",
       "      <td></td>\n",
       "    </tr>\n",
       "    <tr>\n",
       "      <th>2</th>\n",
       "      <td>data</td>\n",
       "      <td>{}</td>\n",
       "      <td></td>\n",
       "    </tr>\n",
       "    <tr>\n",
       "      <th>3</th>\n",
       "      <td>potential</td>\n",
       "      <td>{'deltaSplineBins': 0.001, 'element': 'Cu', 'fs_parameters': [1, 1, 1, 0.5], 'npot': 'FinnisSinclairShiftedScaled', 'NameOfCutoffFunction': 'cos', 'rankmax': 3, 'nradmax': [5, 2, 1], 'lmax': [0, 2...</td>\n",
       "      <td></td>\n",
       "    </tr>\n",
       "    <tr>\n",
       "      <th>4</th>\n",
       "      <td>fit</td>\n",
       "      <td>{'optimizer': 'BFGS', 'maxiter': 500, 'loss': {'kappa': 0.5, 'L1_coeffs': 5e-07, 'L2_coeffs': 5e-07, 'w1_coeffs': 1, 'w2_coeffs': 1, 'w0_rad': 0.0001, 'w1_rad': 0.0001, 'w2_rad': 0.0001}}</td>\n",
       "      <td></td>\n",
       "    </tr>\n",
       "    <tr>\n",
       "      <th>5</th>\n",
       "      <td>backend</td>\n",
       "      <td>{'evaluator': 'tensorpot', 'batch_size': 1000}</td>\n",
       "      <td></td>\n",
       "    </tr>\n",
       "  </tbody>\n",
       "</table>\n",
       "</div>"
      ],
      "text/plain": [
       "   Parameter  \\\n",
       "0     cutoff   \n",
       "1   metadata   \n",
       "2       data   \n",
       "3  potential   \n",
       "4        fit   \n",
       "5    backend   \n",
       "\n",
       "                                                                                                                                                                                                     Value  \\\n",
       "0                                                                                                                                                                                                      5.0   \n",
       "1                                                                                                                                                                                                       {}   \n",
       "2                                                                                                                                                                                                       {}   \n",
       "3  {'deltaSplineBins': 0.001, 'element': 'Cu', 'fs_parameters': [1, 1, 1, 0.5], 'npot': 'FinnisSinclairShiftedScaled', 'NameOfCutoffFunction': 'cos', 'rankmax': 3, 'nradmax': [5, 2, 1], 'lmax': [0, 2...   \n",
       "4              {'optimizer': 'BFGS', 'maxiter': 500, 'loss': {'kappa': 0.5, 'L1_coeffs': 5e-07, 'L2_coeffs': 5e-07, 'w1_coeffs': 1, 'w2_coeffs': 1, 'w0_rad': 0.0001, 'w1_rad': 0.0001, 'w2_rad': 0.0001}}   \n",
       "5                                                                                                                                                           {'evaluator': 'tensorpot', 'batch_size': 1000}   \n",
       "\n",
       "  Comment  \n",
       "0          \n",
       "1          \n",
       "2          \n",
       "3          \n",
       "4          \n",
       "5          "
      ]
     },
     "execution_count": 19,
     "metadata": {},
     "output_type": "execute_result"
    }
   ],
   "source": [
    "job.input"
   ]
  },
  {
   "cell_type": "code",
   "execution_count": 20,
   "metadata": {},
   "outputs": [
    {
     "data": {
      "text/plain": [
       "['tf', 'tf_cpu']"
      ]
     },
     "execution_count": 20,
     "metadata": {},
     "output_type": "execute_result"
    }
   ],
   "source": [
    "job.executable.available_versions"
   ]
  },
  {
   "cell_type": "code",
   "execution_count": 21,
   "metadata": {},
   "outputs": [],
   "source": [
    "job.executable.version=\"tf_cpu\" # select the CPU-forces tensorflow version"
   ]
  },
  {
   "cell_type": "code",
   "execution_count": 22,
   "metadata": {},
   "outputs": [
    {
     "name": "stderr",
     "output_type": "stream",
     "text": [
      "2021-02-26 18:00:20,020 - root - INFO - structure_data is TrainingContainer\n",
      "2021-02-26 18:00:20,032 - root - INFO - Saving training structures dataframe into /home/yury/pyiron/projects/pyiron-2021/pacemaker_fit/df1_cut5_hdf5/df1_cut5/df_fit.pckl.gzip with pickle protocol = 4, compression = gzip\n"
     ]
    },
    {
     "name": "stdout",
     "output_type": "stream",
     "text": [
      "The job df1_cut5 was saved and received the ID: 62\n"
     ]
    }
   ],
   "source": [
    "job.run()"
   ]
  },
  {
   "cell_type": "code",
   "execution_count": null,
   "metadata": {},
   "outputs": [],
   "source": []
  },
  {
   "cell_type": "code",
   "execution_count": 23,
   "metadata": {},
   "outputs": [
    {
     "data": {
      "text/html": [
       "<div>\n",
       "<style scoped>\n",
       "    .dataframe tbody tr th:only-of-type {\n",
       "        vertical-align: middle;\n",
       "    }\n",
       "\n",
       "    .dataframe tbody tr th {\n",
       "        vertical-align: top;\n",
       "    }\n",
       "\n",
       "    .dataframe thead th {\n",
       "        text-align: right;\n",
       "    }\n",
       "</style>\n",
       "<table border=\"1\" class=\"dataframe\">\n",
       "  <thead>\n",
       "    <tr style=\"text-align: right;\">\n",
       "      <th></th>\n",
       "      <th>id</th>\n",
       "      <th>status</th>\n",
       "      <th>chemicalformula</th>\n",
       "      <th>job</th>\n",
       "      <th>subjob</th>\n",
       "      <th>projectpath</th>\n",
       "      <th>project</th>\n",
       "      <th>timestart</th>\n",
       "      <th>timestop</th>\n",
       "      <th>totalcputime</th>\n",
       "      <th>computer</th>\n",
       "      <th>hamilton</th>\n",
       "      <th>hamversion</th>\n",
       "      <th>parentid</th>\n",
       "      <th>masterid</th>\n",
       "    </tr>\n",
       "  </thead>\n",
       "  <tbody>\n",
       "    <tr>\n",
       "      <th>0</th>\n",
       "      <td>62</td>\n",
       "      <td>finished</td>\n",
       "      <td>None</td>\n",
       "      <td>df1_cut5</td>\n",
       "      <td>/df1_cut5</td>\n",
       "      <td>/home/yury/pyiron/projects/</td>\n",
       "      <td>pyiron-2021/pacemaker_fit/</td>\n",
       "      <td>2021-02-26 18:00:20.326459</td>\n",
       "      <td>2021-02-26 18:02:25.068815</td>\n",
       "      <td>124.0</td>\n",
       "      <td>pyiron@dell-inspiron#1</td>\n",
       "      <td>PaceMakerJob</td>\n",
       "      <td>0.1</td>\n",
       "      <td>None</td>\n",
       "      <td>None</td>\n",
       "    </tr>\n",
       "  </tbody>\n",
       "</table>\n",
       "</div>"
      ],
      "text/plain": [
       "   id    status chemicalformula       job     subjob  \\\n",
       "0  62  finished            None  df1_cut5  /df1_cut5   \n",
       "\n",
       "                   projectpath                     project  \\\n",
       "0  /home/yury/pyiron/projects/  pyiron-2021/pacemaker_fit/   \n",
       "\n",
       "                   timestart                   timestop  totalcputime  \\\n",
       "0 2021-02-26 18:00:20.326459 2021-02-26 18:02:25.068815         124.0   \n",
       "\n",
       "                 computer      hamilton hamversion parentid masterid  \n",
       "0  pyiron@dell-inspiron#1  PaceMakerJob        0.1     None     None  "
      ]
     },
     "execution_count": 23,
     "metadata": {},
     "output_type": "execute_result"
    }
   ],
   "source": [
    "fit_pr.job_table(full_table=True)"
   ]
  },
  {
   "cell_type": "code",
   "execution_count": null,
   "metadata": {},
   "outputs": [],
   "source": []
  },
  {
   "cell_type": "code",
   "execution_count": 24,
   "metadata": {
    "scrolled": true
   },
   "outputs": [
    {
     "data": {
      "text/plain": [
       "Text(0, 0.5, 'Loss')"
      ]
     },
     "execution_count": 24,
     "metadata": {},
     "output_type": "execute_result"
    },
    {
     "data": {
      "image/png": "[encoded data removed]",
      "text/plain": [
       "<Figure size 432x288 with 1 Axes>"
      ]
     },
     "metadata": {
      "needs_background": "light"
     },
     "output_type": "display_data"
    }
   ],
   "source": [
    "plt.plot(job[\"output/log/loss\"])\n",
    "plt.yscale('log')\n",
    "plt.xlabel(\"# iter\")\n",
    "plt.ylabel(\"Loss\")"
   ]
  },
  {
   "cell_type": "code",
   "execution_count": 25,
   "metadata": {
    "scrolled": true
   },
   "outputs": [
    {
     "data": {
      "text/plain": [
       "Text(0, 0.5, 'Energy RMSE, meV/atom')"
      ]
     },
     "execution_count": 25,
     "metadata": {},
     "output_type": "execute_result"
    },
    {
     "data": {
      "image/png": "[encoded data removed]",
      "text/plain": [
       "<Figure size 432x288 with 1 Axes>"
      ]
     },
     "metadata": {
      "needs_background": "light"
     },
     "output_type": "display_data"
    }
   ],
   "source": [
    "plt.plot(job[\"output/log/rmse_energy\"])\n",
    "plt.yscale('log')\n",
    "plt.xlabel(\"# iter\")\n",
    "plt.ylabel(\"Energy RMSE, meV/atom\")"
   ]
  },
  {
   "cell_type": "code",
   "execution_count": 26,
   "metadata": {},
   "outputs": [
    {
     "data": {
      "text/plain": [
       "Text(0, 0.5, 'Forces RMSE, meV/Ang/structure')"
      ]
     },
     "execution_count": 26,
     "metadata": {},
     "output_type": "execute_result"
    },
    {
     "data": {
      "image/png": "[encoded data removed]",
      "text/plain": [
       "<Figure size 432x288 with 1 Axes>"
      ]
     },
     "metadata": {
      "needs_background": "light"
     },
     "output_type": "display_data"
    }
   ],
   "source": [
    "plt.plot(job[\"output/log/rmse_forces\"])\n",
    "plt.yscale('log')\n",
    "plt.xlabel(\"# iter\")\n",
    "plt.ylabel(\"Forces RMSE, meV/Ang/structure\")"
   ]
  },
  {
   "cell_type": "markdown",
   "metadata": {},
   "source": [
    "# Overview of the fitted potential internals"
   ]
  },
  {
   "cell_type": "code",
   "execution_count": 27,
   "metadata": {},
   "outputs": [],
   "source": [
    "from pyace import *"
   ]
  },
  {
   "cell_type": "code",
   "execution_count": 28,
   "metadata": {},
   "outputs": [],
   "source": [
    "final_potential = job.get_final_potential()"
   ]
  },
  {
   "cell_type": "markdown",
   "metadata": {},
   "source": [
    "Total number of basis functions"
   ]
  },
  {
   "cell_type": "code",
   "execution_count": 72,
   "metadata": {},
   "outputs": [
    {
     "data": {
      "text/plain": [
       "16"
      ]
     },
     "execution_count": 72,
     "metadata": {},
     "output_type": "execute_result"
    }
   ],
   "source": [
    "final_potential.total_number_of_functions"
   ]
  },
  {
   "cell_type": "markdown",
   "metadata": {},
   "source": [
    "Total number of fittable parameter:"
   ]
  },
  {
   "cell_type": "code",
   "execution_count": 77,
   "metadata": {},
   "outputs": [
    {
     "data": {
      "text/plain": [
       "62"
      ]
     },
     "execution_count": 77,
     "metadata": {},
     "output_type": "execute_result"
    }
   ],
   "source": [
    "all_potential_params = final_potential.get_all_coeffs()\n",
    "len(all_potential_params)"
   ]
  },
  {
   "cell_type": "markdown",
   "metadata": {},
   "source": [
    "List of B-basis functions and corresponding fitted coefficients:"
   ]
  },
  {
   "cell_type": "code",
   "execution_count": 29,
   "metadata": {},
   "outputs": [],
   "source": [
    "Cu_block = final_potential.funcspecs_blocks[0]"
   ]
  },
  {
   "cell_type": "code",
   "execution_count": 81,
   "metadata": {},
   "outputs": [
    {
     "data": {
      "text/plain": [
       "(2, 3, 5)"
      ]
     },
     "execution_count": 81,
     "metadata": {},
     "output_type": "execute_result"
    }
   ],
   "source": [
    "np.shape(Cu_block.radcoefficients)"
   ]
  },
  {
   "cell_type": "code",
   "execution_count": null,
   "metadata": {},
   "outputs": [],
   "source": []
  },
  {
   "cell_type": "code",
   "execution_count": 30,
   "metadata": {},
   "outputs": [
    {
     "data": {
      "text/plain": [
       "[BBasisFunctionSpecification(elements=[Cu,Cu],  ns=[1],  ls=[0],  coeffs=[-1.45508,0.386965]),\n",
       " BBasisFunctionSpecification(elements=[Cu,Cu],  ns=[2],  ls=[0],  coeffs=[0.187659,0.0311263]),\n",
       " BBasisFunctionSpecification(elements=[Cu,Cu],  ns=[3],  ls=[0],  coeffs=[0.61501,0.166795]),\n",
       " BBasisFunctionSpecification(elements=[Cu,Cu],  ns=[4],  ls=[0],  coeffs=[0.610658,0.127375]),\n",
       " BBasisFunctionSpecification(elements=[Cu,Cu],  ns=[5],  ls=[0],  coeffs=[0.012375,-0.0574038]),\n",
       " BBasisFunctionSpecification(elements=[Cu,Cu,Cu],  ns=[1,1],  ls=[0,0],  coeffs=[0.105674,-0.249878]),\n",
       " BBasisFunctionSpecification(elements=[Cu,Cu,Cu],  ns=[1,1],  ls=[1,1],  coeffs=[0.335125,0.098442]),\n",
       " BBasisFunctionSpecification(elements=[Cu,Cu,Cu],  ns=[1,1],  ls=[2,2],  coeffs=[0.372051,0.0553928]),\n",
       " BBasisFunctionSpecification(elements=[Cu,Cu,Cu],  ns=[2,1],  ls=[0,0],  coeffs=[1.90605,0.934764]),\n",
       " BBasisFunctionSpecification(elements=[Cu,Cu,Cu],  ns=[2,1],  ls=[1,1],  coeffs=[0.00318017,0.000454939]),\n",
       " BBasisFunctionSpecification(elements=[Cu,Cu,Cu],  ns=[2,1],  ls=[2,2],  coeffs=[0.0199808,-0.00765558]),\n",
       " BBasisFunctionSpecification(elements=[Cu,Cu,Cu],  ns=[2,2],  ls=[0,0],  coeffs=[0.217579,0.120443]),\n",
       " BBasisFunctionSpecification(elements=[Cu,Cu,Cu],  ns=[2,2],  ls=[1,1],  coeffs=[0.00140641,-0.00153613]),\n",
       " BBasisFunctionSpecification(elements=[Cu,Cu,Cu],  ns=[2,2],  ls=[2,2],  coeffs=[-0.00376333,0.00234863]),\n",
       " BBasisFunctionSpecification(elements=[Cu,Cu,Cu,Cu],  ns=[1,1,1],  ls=[0,0,0],  LS=[0],  coeffs=[-0.0159748,0.01275]),\n",
       " BBasisFunctionSpecification(elements=[Cu,Cu,Cu,Cu],  ns=[1,1,1],  ls=[1,1,0],  LS=[0],  coeffs=[2.68912,0.997979])]"
      ]
     },
     "execution_count": 30,
     "metadata": {},
     "output_type": "execute_result"
    }
   ],
   "source": [
    "Cu_block.funcspecs"
   ]
  },
  {
   "cell_type": "markdown",
   "metadata": {},
   "source": [
    "There are following B-functions:\n",
    "* 5 functions of 1st order (pair correlations)\n",
    "```\n",
    " BBasisFunctionSpecification(elements=[Cu,Cu],  ns=[1],  ls=[0],  coeffs=),\n",
    " BBasisFunctionSpecification(elements=[Cu,Cu],  ns=[2],  ls=[0],  coeffs=),\n",
    " BBasisFunctionSpecification(elements=[Cu,Cu],  ns=[3],  ls=[0],  coeffs=),\n",
    " BBasisFunctionSpecification(elements=[Cu,Cu],  ns=[4],  ls=[0],  coeffs=),\n",
    " BBasisFunctionSpecification(elements=[Cu,Cu],  ns=[5],  ls=[0],  coeffs=)\n",
    "```\n",
    "* 9 functions of 2nd order (three-body clusters)\n",
    "```\n",
    " BBasisFunctionSpecification(elements=[Cu,Cu,Cu],  ns=[1,1],  ls=[0,0],  coeffs=),\n",
    " BBasisFunctionSpecification(elements=[Cu,Cu,Cu],  ns=[1,1],  ls=[1,1],  coeffs=),\n",
    " BBasisFunctionSpecification(elements=[Cu,Cu,Cu],  ns=[1,1],  ls=[2,2],  coeffs=),\n",
    " BBasisFunctionSpecification(elements=[Cu,Cu,Cu],  ns=[2,1],  ls=[0,0],  coeffs=),\n",
    " BBasisFunctionSpecification(elements=[Cu,Cu,Cu],  ns=[2,1],  ls=[1,1],  coeffs=),\n",
    " BBasisFunctionSpecification(elements=[Cu,Cu,Cu],  ns=[2,1],  ls=[2,2],  coeffs=),\n",
    " BBasisFunctionSpecification(elements=[Cu,Cu,Cu],  ns=[2,2],  ls=[0,0],  coeffs=),\n",
    " BBasisFunctionSpecification(elements=[Cu,Cu,Cu],  ns=[2,2],  ls=[1,1],  coeffs=),\n",
    " BBasisFunctionSpecification(elements=[Cu,Cu,Cu],  ns=[2,2],  ls=[2,2],  coeffs=)\n",
    " ```\n",
    "* 2 functions of 3rd order (four-body clusters)\n",
    "```\n",
    "BBasisFunctionSpecification(elements=[Cu,Cu,Cu,Cu],  ns=[1,1,1],  ls=[0,0,0],  LS=[0],  coeffs=),\n",
    " BBasisFunctionSpecification(elements=[Cu,Cu,Cu,Cu],  ns=[1,1,1],  ls=[1,1,0],  LS=[0],  coeffs=)]\n",
    "```"
   ]
  },
  {
   "cell_type": "code",
   "execution_count": 31,
   "metadata": {},
   "outputs": [],
   "source": [
    "final_basis_set = ACEBBasisSet(final_potential)"
   ]
  },
  {
   "cell_type": "code",
   "execution_count": 32,
   "metadata": {},
   "outputs": [],
   "source": [
    "rad_func_vals = RadialFunctionsValues(final_basis_set)"
   ]
  },
  {
   "cell_type": "markdown",
   "metadata": {},
   "source": [
    "Visualize the radial basis functions ($g_k$) and radial functions ($R_{nl}$)"
   ]
  },
  {
   "cell_type": "code",
   "execution_count": 33,
   "metadata": {
    "scrolled": false
   },
   "outputs": [
    {
     "data": {
      "image/png": "[encoded data removed]",
      "text/plain": [
       "<Figure size 1152x1440 with 6 Axes>"
      ]
     },
     "metadata": {},
     "output_type": "display_data"
    }
   ],
   "source": [
    "RadialFunctionsVisualization(final_basis_set).plot()"
   ]
  },
  {
   "cell_type": "code",
   "execution_count": null,
   "metadata": {},
   "outputs": [],
   "source": []
  },
  {
   "cell_type": "code",
   "execution_count": null,
   "metadata": {},
   "outputs": [],
   "source": []
  },
  {
   "cell_type": "markdown",
   "metadata": {},
   "source": [
    "# Test fitted potential"
   ]
  },
  {
   "cell_type": "code",
   "execution_count": 34,
   "metadata": {},
   "outputs": [],
   "source": [
    "test_pr = Project(\"test_ace_potential\")"
   ]
  },
  {
   "cell_type": "code",
   "execution_count": 35,
   "metadata": {},
   "outputs": [],
   "source": [
    "test_pr.remove_jobs_silently()"
   ]
  },
  {
   "cell_type": "code",
   "execution_count": 36,
   "metadata": {},
   "outputs": [
    {
     "data": {
      "text/html": [
       "<div>\n",
       "<style scoped>\n",
       "    .dataframe tbody tr th:only-of-type {\n",
       "        vertical-align: middle;\n",
       "    }\n",
       "\n",
       "    .dataframe tbody tr th {\n",
       "        vertical-align: top;\n",
       "    }\n",
       "\n",
       "    .dataframe thead th {\n",
       "        text-align: right;\n",
       "    }\n",
       "</style>\n",
       "<table border=\"1\" class=\"dataframe\">\n",
       "  <thead>\n",
       "    <tr style=\"text-align: right;\">\n",
       "      <th></th>\n",
       "    </tr>\n",
       "  </thead>\n",
       "  <tbody>\n",
       "  </tbody>\n",
       "</table>\n",
       "</div>"
      ],
      "text/plain": [
       "Empty DataFrame\n",
       "Columns: []\n",
       "Index: []"
      ]
     },
     "execution_count": 36,
     "metadata": {},
     "output_type": "execute_result"
    }
   ],
   "source": [
    "test_pr.job_table()"
   ]
  },
  {
   "cell_type": "code",
   "execution_count": 37,
   "metadata": {},
   "outputs": [],
   "source": [
    "cu_ace_potential = job.get_lammps_potential()"
   ]
  },
  {
   "cell_type": "code",
   "execution_count": 38,
   "metadata": {},
   "outputs": [
    {
     "data": {
      "text/html": [
       "<div>\n",
       "<style scoped>\n",
       "    .dataframe tbody tr th:only-of-type {\n",
       "        vertical-align: middle;\n",
       "    }\n",
       "\n",
       "    .dataframe tbody tr th {\n",
       "        vertical-align: top;\n",
       "    }\n",
       "\n",
       "    .dataframe thead th {\n",
       "        text-align: right;\n",
       "    }\n",
       "</style>\n",
       "<table border=\"1\" class=\"dataframe\">\n",
       "  <thead>\n",
       "    <tr style=\"text-align: right;\">\n",
       "      <th></th>\n",
       "      <th>Config</th>\n",
       "      <th>Filename</th>\n",
       "      <th>Model</th>\n",
       "      <th>Name</th>\n",
       "      <th>Species</th>\n",
       "    </tr>\n",
       "  </thead>\n",
       "  <tbody>\n",
       "    <tr>\n",
       "      <th>0</th>\n",
       "      <td>[pair_style pace\\n, pair_coeff  * * /home/yury/pyiron/projects/pyiron-2021/pacemaker_fit/df1_cut5_hdf5/df1_cut5/df1_cut5.ace Cu\\n]</td>\n",
       "      <td></td>\n",
       "      <td>ACE</td>\n",
       "      <td>df1_cut5</td>\n",
       "      <td>[Cu]</td>\n",
       "    </tr>\n",
       "  </tbody>\n",
       "</table>\n",
       "</div>"
      ],
      "text/plain": [
       "                                                                                                                               Config  \\\n",
       "0  [pair_style pace\\n, pair_coeff  * * /home/yury/pyiron/projects/pyiron-2021/pacemaker_fit/df1_cut5_hdf5/df1_cut5/df1_cut5.ace Cu\\n]   \n",
       "\n",
       "  Filename Model      Name Species  \n",
       "0            ACE  df1_cut5    [Cu]  "
      ]
     },
     "execution_count": 38,
     "metadata": {},
     "output_type": "execute_result"
    }
   ],
   "source": [
    "cu_ace_potential\n"
   ]
  },
  {
   "cell_type": "markdown",
   "metadata": {},
   "source": [
    "## Optimization"
   ]
  },
  {
   "cell_type": "code",
   "execution_count": 39,
   "metadata": {},
   "outputs": [],
   "source": [
    "lammps_job = test_pr.create.job.Lammps(\"opt_lammps\", delete_existing_job=True)"
   ]
  },
  {
   "cell_type": "code",
   "execution_count": 40,
   "metadata": {},
   "outputs": [],
   "source": [
    "lammps_job.executable.version=\"2020.12.24_pace\""
   ]
  },
  {
   "cell_type": "code",
   "execution_count": 41,
   "metadata": {},
   "outputs": [],
   "source": [
    "lammps_job.potential = cu_ace_potential"
   ]
  },
  {
   "cell_type": "code",
   "execution_count": 42,
   "metadata": {},
   "outputs": [],
   "source": [
    "lammps_job.structure = test_pr.create.structure.ase_bulk(\"Cu\",\"fcc\",cubic=True)"
   ]
  },
  {
   "cell_type": "code",
   "execution_count": 43,
   "metadata": {},
   "outputs": [],
   "source": [
    "lammps_job.calc_minimize(pressure=0.0)"
   ]
  },
  {
   "cell_type": "code",
   "execution_count": 44,
   "metadata": {},
   "outputs": [
    {
     "name": "stdout",
     "output_type": "stream",
     "text": [
      "The job opt_lammps was saved and received the ID: 63\n"
     ]
    }
   ],
   "source": [
    "lammps_job.run()"
   ]
  },
  {
   "cell_type": "code",
   "execution_count": 45,
   "metadata": {},
   "outputs": [
    {
     "data": {
      "text/html": [
       "<div>\n",
       "<style scoped>\n",
       "    .dataframe tbody tr th:only-of-type {\n",
       "        vertical-align: middle;\n",
       "    }\n",
       "\n",
       "    .dataframe tbody tr th {\n",
       "        vertical-align: top;\n",
       "    }\n",
       "\n",
       "    .dataframe thead th {\n",
       "        text-align: right;\n",
       "    }\n",
       "</style>\n",
       "<table border=\"1\" class=\"dataframe\">\n",
       "  <thead>\n",
       "    <tr style=\"text-align: right;\">\n",
       "      <th></th>\n",
       "      <th>id</th>\n",
       "      <th>status</th>\n",
       "      <th>chemicalformula</th>\n",
       "      <th>job</th>\n",
       "      <th>subjob</th>\n",
       "      <th>projectpath</th>\n",
       "      <th>project</th>\n",
       "      <th>timestart</th>\n",
       "      <th>timestop</th>\n",
       "      <th>totalcputime</th>\n",
       "      <th>computer</th>\n",
       "      <th>hamilton</th>\n",
       "      <th>hamversion</th>\n",
       "      <th>parentid</th>\n",
       "      <th>masterid</th>\n",
       "    </tr>\n",
       "  </thead>\n",
       "  <tbody>\n",
       "    <tr>\n",
       "      <th>0</th>\n",
       "      <td>63</td>\n",
       "      <td>finished</td>\n",
       "      <td>Cu4</td>\n",
       "      <td>opt_lammps</td>\n",
       "      <td>/opt_lammps</td>\n",
       "      <td>/home/yury/pyiron/projects/</td>\n",
       "      <td>pyiron-2021/test_ace_potential/</td>\n",
       "      <td>2021-02-26 18:04:32.780177</td>\n",
       "      <td>2021-02-26 18:04:33.357484</td>\n",
       "      <td>0.0</td>\n",
       "      <td>pyiron@dell-inspiron#1</td>\n",
       "      <td>Lammps</td>\n",
       "      <td>0.1</td>\n",
       "      <td>None</td>\n",
       "      <td>None</td>\n",
       "    </tr>\n",
       "  </tbody>\n",
       "</table>\n",
       "</div>"
      ],
      "text/plain": [
       "   id    status chemicalformula         job       subjob  \\\n",
       "0  63  finished             Cu4  opt_lammps  /opt_lammps   \n",
       "\n",
       "                   projectpath                          project  \\\n",
       "0  /home/yury/pyiron/projects/  pyiron-2021/test_ace_potential/   \n",
       "\n",
       "                   timestart                   timestop  totalcputime  \\\n",
       "0 2021-02-26 18:04:32.780177 2021-02-26 18:04:33.357484           0.0   \n",
       "\n",
       "                 computer hamilton hamversion parentid masterid  \n",
       "0  pyiron@dell-inspiron#1   Lammps        0.1     None     None  "
      ]
     },
     "execution_count": 45,
     "metadata": {},
     "output_type": "execute_result"
    }
   ],
   "source": [
    "test_pr.job_table()"
   ]
  },
  {
   "cell_type": "markdown",
   "metadata": {},
   "source": [
    "## Elastic matrix"
   ]
  },
  {
   "cell_type": "code",
   "execution_count": 46,
   "metadata": {},
   "outputs": [],
   "source": [
    "elmat_job = test_pr.create.job.ElasticMatrixJob(\"elmat\", delete_existing_job=True)"
   ]
  },
  {
   "cell_type": "code",
   "execution_count": 47,
   "metadata": {},
   "outputs": [],
   "source": [
    "ref_job = test_pr.create.job.Lammps(\"ref_job\", delete_existing_job=True)"
   ]
  },
  {
   "cell_type": "code",
   "execution_count": 48,
   "metadata": {},
   "outputs": [],
   "source": [
    "ref_job.executable.version=\"2020.12.24_pace\""
   ]
  },
  {
   "cell_type": "code",
   "execution_count": 49,
   "metadata": {},
   "outputs": [],
   "source": [
    "ref_job.potential = cu_ace_potential"
   ]
  },
  {
   "cell_type": "code",
   "execution_count": 50,
   "metadata": {},
   "outputs": [],
   "source": [
    "ref_job.structure = lammps_job.get_structure()"
   ]
  },
  {
   "cell_type": "code",
   "execution_count": 51,
   "metadata": {},
   "outputs": [],
   "source": [
    "ref_job.server.run_mode=\"non_modal\""
   ]
  },
  {
   "cell_type": "code",
   "execution_count": 52,
   "metadata": {},
   "outputs": [],
   "source": [
    "elmat_job.ref_job = ref_job"
   ]
  },
  {
   "cell_type": "code",
   "execution_count": null,
   "metadata": {},
   "outputs": [],
   "source": [
    "elmat_job.run(run_mode=\"non_modal\")"
   ]
  },
  {
   "cell_type": "code",
   "execution_count": 59,
   "metadata": {
    "scrolled": true
   },
   "outputs": [
    {
     "data": {
      "text/html": [
       "<div>\n",
       "<style scoped>\n",
       "    .dataframe tbody tr th:only-of-type {\n",
       "        vertical-align: middle;\n",
       "    }\n",
       "\n",
       "    .dataframe tbody tr th {\n",
       "        vertical-align: top;\n",
       "    }\n",
       "\n",
       "    .dataframe thead th {\n",
       "        text-align: right;\n",
       "    }\n",
       "</style>\n",
       "<table border=\"1\" class=\"dataframe\">\n",
       "  <thead>\n",
       "    <tr style=\"text-align: right;\">\n",
       "      <th></th>\n",
       "      <th>id</th>\n",
       "      <th>status</th>\n",
       "      <th>chemicalformula</th>\n",
       "      <th>job</th>\n",
       "      <th>subjob</th>\n",
       "      <th>projectpath</th>\n",
       "      <th>project</th>\n",
       "      <th>timestart</th>\n",
       "      <th>timestop</th>\n",
       "      <th>totalcputime</th>\n",
       "      <th>computer</th>\n",
       "      <th>hamilton</th>\n",
       "      <th>hamversion</th>\n",
       "      <th>parentid</th>\n",
       "      <th>masterid</th>\n",
       "    </tr>\n",
       "  </thead>\n",
       "  <tbody>\n",
       "    <tr>\n",
       "      <th>0</th>\n",
       "      <td>63</td>\n",
       "      <td>finished</td>\n",
       "      <td>Cu4</td>\n",
       "      <td>opt_lammps</td>\n",
       "      <td>/opt_lammps</td>\n",
       "      <td>/home/yury/pyiron/projects/</td>\n",
       "      <td>pyiron-2021/test_ace_potential/</td>\n",
       "      <td>2021-02-26 18:04:32.780177</td>\n",
       "      <td>2021-02-26 18:04:33.357484</td>\n",
       "      <td>0.0</td>\n",
       "      <td>pyiron@dell-inspiron#1</td>\n",
       "      <td>Lammps</td>\n",
       "      <td>0.1</td>\n",
       "      <td>None</td>\n",
       "      <td>NaN</td>\n",
       "    </tr>\n",
       "    <tr>\n",
       "      <th>1</th>\n",
       "      <td>64</td>\n",
       "      <td>finished</td>\n",
       "      <td>Cu4</td>\n",
       "      <td>elmat</td>\n",
       "      <td>/elmat</td>\n",
       "      <td>/home/yury/pyiron/projects/</td>\n",
       "      <td>pyiron-2021/test_ace_potential/</td>\n",
       "      <td>2021-02-26 18:04:39.479256</td>\n",
       "      <td>2021-02-26 18:06:14.116217</td>\n",
       "      <td>94.0</td>\n",
       "      <td>pyiron@dell-inspiron#1#1/13</td>\n",
       "      <td>ElasticMatrixJob</td>\n",
       "      <td>0.0.1</td>\n",
       "      <td>None</td>\n",
       "      <td>NaN</td>\n",
       "    </tr>\n",
       "    <tr>\n",
       "      <th>2</th>\n",
       "      <td>65</td>\n",
       "      <td>finished</td>\n",
       "      <td>Cu4</td>\n",
       "      <td>s_e_0</td>\n",
       "      <td>/s_e_0</td>\n",
       "      <td>/home/yury/pyiron/projects/</td>\n",
       "      <td>pyiron-2021/test_ace_potential/elmat_hdf5/</td>\n",
       "      <td>2021-02-26 18:04:43.347077</td>\n",
       "      <td>2021-02-26 18:04:43.979010</td>\n",
       "      <td>0.0</td>\n",
       "      <td>pyiron@dell-inspiron#1</td>\n",
       "      <td>Lammps</td>\n",
       "      <td>0.1</td>\n",
       "      <td>None</td>\n",
       "      <td>64.0</td>\n",
       "    </tr>\n",
       "    <tr>\n",
       "      <th>3</th>\n",
       "      <td>66</td>\n",
       "      <td>finished</td>\n",
       "      <td>Cu4</td>\n",
       "      <td>s_01_e_m0_00500</td>\n",
       "      <td>/s_01_e_m0_00500</td>\n",
       "      <td>/home/yury/pyiron/projects/</td>\n",
       "      <td>pyiron-2021/test_ace_potential/elmat_hdf5/</td>\n",
       "      <td>2021-02-26 18:04:48.669551</td>\n",
       "      <td>2021-02-26 18:04:49.371648</td>\n",
       "      <td>0.0</td>\n",
       "      <td>pyiron@dell-inspiron#1</td>\n",
       "      <td>Lammps</td>\n",
       "      <td>0.1</td>\n",
       "      <td>None</td>\n",
       "      <td>64.0</td>\n",
       "    </tr>\n",
       "    <tr>\n",
       "      <th>4</th>\n",
       "      <td>67</td>\n",
       "      <td>finished</td>\n",
       "      <td>Cu4</td>\n",
       "      <td>s_01_e_m0_00250</td>\n",
       "      <td>/s_01_e_m0_00250</td>\n",
       "      <td>/home/yury/pyiron/projects/</td>\n",
       "      <td>pyiron-2021/test_ace_potential/elmat_hdf5/</td>\n",
       "      <td>2021-02-26 18:04:54.692191</td>\n",
       "      <td>2021-02-26 18:04:55.399713</td>\n",
       "      <td>0.0</td>\n",
       "      <td>pyiron@dell-inspiron#1</td>\n",
       "      <td>Lammps</td>\n",
       "      <td>0.1</td>\n",
       "      <td>None</td>\n",
       "      <td>64.0</td>\n",
       "    </tr>\n",
       "    <tr>\n",
       "      <th>5</th>\n",
       "      <td>68</td>\n",
       "      <td>finished</td>\n",
       "      <td>Cu4</td>\n",
       "      <td>s_01_e_0_00250</td>\n",
       "      <td>/s_01_e_0_00250</td>\n",
       "      <td>/home/yury/pyiron/projects/</td>\n",
       "      <td>pyiron-2021/test_ace_potential/elmat_hdf5/</td>\n",
       "      <td>2021-02-26 18:05:01.081338</td>\n",
       "      <td>2021-02-26 18:05:01.705611</td>\n",
       "      <td>0.0</td>\n",
       "      <td>pyiron@dell-inspiron#1</td>\n",
       "      <td>Lammps</td>\n",
       "      <td>0.1</td>\n",
       "      <td>None</td>\n",
       "      <td>64.0</td>\n",
       "    </tr>\n",
       "    <tr>\n",
       "      <th>6</th>\n",
       "      <td>69</td>\n",
       "      <td>finished</td>\n",
       "      <td>Cu4</td>\n",
       "      <td>s_01_e_0_00500</td>\n",
       "      <td>/s_01_e_0_00500</td>\n",
       "      <td>/home/yury/pyiron/projects/</td>\n",
       "      <td>pyiron-2021/test_ace_potential/elmat_hdf5/</td>\n",
       "      <td>2021-02-26 18:05:08.559196</td>\n",
       "      <td>2021-02-26 18:05:09.262691</td>\n",
       "      <td>0.0</td>\n",
       "      <td>pyiron@dell-inspiron#1</td>\n",
       "      <td>Lammps</td>\n",
       "      <td>0.1</td>\n",
       "      <td>None</td>\n",
       "      <td>64.0</td>\n",
       "    </tr>\n",
       "    <tr>\n",
       "      <th>7</th>\n",
       "      <td>70</td>\n",
       "      <td>finished</td>\n",
       "      <td>Cu4</td>\n",
       "      <td>s_08_e_m0_00500</td>\n",
       "      <td>/s_08_e_m0_00500</td>\n",
       "      <td>/home/yury/pyiron/projects/</td>\n",
       "      <td>pyiron-2021/test_ace_potential/elmat_hdf5/</td>\n",
       "      <td>2021-02-26 18:05:15.329561</td>\n",
       "      <td>2021-02-26 18:05:15.968879</td>\n",
       "      <td>0.0</td>\n",
       "      <td>pyiron@dell-inspiron#1</td>\n",
       "      <td>Lammps</td>\n",
       "      <td>0.1</td>\n",
       "      <td>None</td>\n",
       "      <td>64.0</td>\n",
       "    </tr>\n",
       "    <tr>\n",
       "      <th>8</th>\n",
       "      <td>71</td>\n",
       "      <td>finished</td>\n",
       "      <td>Cu4</td>\n",
       "      <td>s_08_e_m0_00250</td>\n",
       "      <td>/s_08_e_m0_00250</td>\n",
       "      <td>/home/yury/pyiron/projects/</td>\n",
       "      <td>pyiron-2021/test_ace_potential/elmat_hdf5/</td>\n",
       "      <td>2021-02-26 18:05:22.381961</td>\n",
       "      <td>2021-02-26 18:05:23.034119</td>\n",
       "      <td>0.0</td>\n",
       "      <td>pyiron@dell-inspiron#1</td>\n",
       "      <td>Lammps</td>\n",
       "      <td>0.1</td>\n",
       "      <td>None</td>\n",
       "      <td>64.0</td>\n",
       "    </tr>\n",
       "    <tr>\n",
       "      <th>9</th>\n",
       "      <td>72</td>\n",
       "      <td>finished</td>\n",
       "      <td>Cu4</td>\n",
       "      <td>s_08_e_0_00250</td>\n",
       "      <td>/s_08_e_0_00250</td>\n",
       "      <td>/home/yury/pyiron/projects/</td>\n",
       "      <td>pyiron-2021/test_ace_potential/elmat_hdf5/</td>\n",
       "      <td>2021-02-26 18:05:29.893494</td>\n",
       "      <td>2021-02-26 18:05:30.536530</td>\n",
       "      <td>0.0</td>\n",
       "      <td>pyiron@dell-inspiron#1</td>\n",
       "      <td>Lammps</td>\n",
       "      <td>0.1</td>\n",
       "      <td>None</td>\n",
       "      <td>64.0</td>\n",
       "    </tr>\n",
       "    <tr>\n",
       "      <th>10</th>\n",
       "      <td>73</td>\n",
       "      <td>finished</td>\n",
       "      <td>Cu4</td>\n",
       "      <td>s_08_e_0_00500</td>\n",
       "      <td>/s_08_e_0_00500</td>\n",
       "      <td>/home/yury/pyiron/projects/</td>\n",
       "      <td>pyiron-2021/test_ace_potential/elmat_hdf5/</td>\n",
       "      <td>2021-02-26 18:05:37.404633</td>\n",
       "      <td>2021-02-26 18:05:38.017534</td>\n",
       "      <td>0.0</td>\n",
       "      <td>pyiron@dell-inspiron#1</td>\n",
       "      <td>Lammps</td>\n",
       "      <td>0.1</td>\n",
       "      <td>None</td>\n",
       "      <td>64.0</td>\n",
       "    </tr>\n",
       "    <tr>\n",
       "      <th>11</th>\n",
       "      <td>74</td>\n",
       "      <td>finished</td>\n",
       "      <td>Cu4</td>\n",
       "      <td>s_23_e_m0_00500</td>\n",
       "      <td>/s_23_e_m0_00500</td>\n",
       "      <td>/home/yury/pyiron/projects/</td>\n",
       "      <td>pyiron-2021/test_ace_potential/elmat_hdf5/</td>\n",
       "      <td>2021-02-26 18:05:45.627202</td>\n",
       "      <td>2021-02-26 18:05:46.281264</td>\n",
       "      <td>0.0</td>\n",
       "      <td>pyiron@dell-inspiron#1</td>\n",
       "      <td>Lammps</td>\n",
       "      <td>0.1</td>\n",
       "      <td>None</td>\n",
       "      <td>64.0</td>\n",
       "    </tr>\n",
       "    <tr>\n",
       "      <th>12</th>\n",
       "      <td>75</td>\n",
       "      <td>finished</td>\n",
       "      <td>Cu4</td>\n",
       "      <td>s_23_e_m0_00250</td>\n",
       "      <td>/s_23_e_m0_00250</td>\n",
       "      <td>/home/yury/pyiron/projects/</td>\n",
       "      <td>pyiron-2021/test_ace_potential/elmat_hdf5/</td>\n",
       "      <td>2021-02-26 18:05:54.616525</td>\n",
       "      <td>2021-02-26 18:05:55.275357</td>\n",
       "      <td>0.0</td>\n",
       "      <td>pyiron@dell-inspiron#1</td>\n",
       "      <td>Lammps</td>\n",
       "      <td>0.1</td>\n",
       "      <td>None</td>\n",
       "      <td>64.0</td>\n",
       "    </tr>\n",
       "    <tr>\n",
       "      <th>13</th>\n",
       "      <td>76</td>\n",
       "      <td>finished</td>\n",
       "      <td>Cu4</td>\n",
       "      <td>s_23_e_0_00250</td>\n",
       "      <td>/s_23_e_0_00250</td>\n",
       "      <td>/home/yury/pyiron/projects/</td>\n",
       "      <td>pyiron-2021/test_ace_potential/elmat_hdf5/</td>\n",
       "      <td>2021-02-26 18:06:03.416732</td>\n",
       "      <td>2021-02-26 18:06:03.990773</td>\n",
       "      <td>0.0</td>\n",
       "      <td>pyiron@dell-inspiron#1</td>\n",
       "      <td>Lammps</td>\n",
       "      <td>0.1</td>\n",
       "      <td>None</td>\n",
       "      <td>64.0</td>\n",
       "    </tr>\n",
       "    <tr>\n",
       "      <th>14</th>\n",
       "      <td>77</td>\n",
       "      <td>finished</td>\n",
       "      <td>Cu4</td>\n",
       "      <td>s_23_e_0_00500</td>\n",
       "      <td>/s_23_e_0_00500</td>\n",
       "      <td>/home/yury/pyiron/projects/</td>\n",
       "      <td>pyiron-2021/test_ace_potential/elmat_hdf5/</td>\n",
       "      <td>2021-02-26 18:06:11.672699</td>\n",
       "      <td>2021-02-26 18:06:12.402747</td>\n",
       "      <td>0.0</td>\n",
       "      <td>pyiron@dell-inspiron#1</td>\n",
       "      <td>Lammps</td>\n",
       "      <td>0.1</td>\n",
       "      <td>None</td>\n",
       "      <td>64.0</td>\n",
       "    </tr>\n",
       "  </tbody>\n",
       "</table>\n",
       "</div>"
      ],
      "text/plain": [
       "    id    status chemicalformula              job            subjob  \\\n",
       "0   63  finished             Cu4       opt_lammps       /opt_lammps   \n",
       "1   64  finished             Cu4            elmat            /elmat   \n",
       "2   65  finished             Cu4            s_e_0            /s_e_0   \n",
       "3   66  finished             Cu4  s_01_e_m0_00500  /s_01_e_m0_00500   \n",
       "4   67  finished             Cu4  s_01_e_m0_00250  /s_01_e_m0_00250   \n",
       "5   68  finished             Cu4   s_01_e_0_00250   /s_01_e_0_00250   \n",
       "6   69  finished             Cu4   s_01_e_0_00500   /s_01_e_0_00500   \n",
       "7   70  finished             Cu4  s_08_e_m0_00500  /s_08_e_m0_00500   \n",
       "8   71  finished             Cu4  s_08_e_m0_00250  /s_08_e_m0_00250   \n",
       "9   72  finished             Cu4   s_08_e_0_00250   /s_08_e_0_00250   \n",
       "10  73  finished             Cu4   s_08_e_0_00500   /s_08_e_0_00500   \n",
       "11  74  finished             Cu4  s_23_e_m0_00500  /s_23_e_m0_00500   \n",
       "12  75  finished             Cu4  s_23_e_m0_00250  /s_23_e_m0_00250   \n",
       "13  76  finished             Cu4   s_23_e_0_00250   /s_23_e_0_00250   \n",
       "14  77  finished             Cu4   s_23_e_0_00500   /s_23_e_0_00500   \n",
       "\n",
       "                    projectpath                                     project  \\\n",
       "0   /home/yury/pyiron/projects/             pyiron-2021/test_ace_potential/   \n",
       "1   /home/yury/pyiron/projects/             pyiron-2021/test_ace_potential/   \n",
       "2   /home/yury/pyiron/projects/  pyiron-2021/test_ace_potential/elmat_hdf5/   \n",
       "3   /home/yury/pyiron/projects/  pyiron-2021/test_ace_potential/elmat_hdf5/   \n",
       "4   /home/yury/pyiron/projects/  pyiron-2021/test_ace_potential/elmat_hdf5/   \n",
       "5   /home/yury/pyiron/projects/  pyiron-2021/test_ace_potential/elmat_hdf5/   \n",
       "6   /home/yury/pyiron/projects/  pyiron-2021/test_ace_potential/elmat_hdf5/   \n",
       "7   /home/yury/pyiron/projects/  pyiron-2021/test_ace_potential/elmat_hdf5/   \n",
       "8   /home/yury/pyiron/projects/  pyiron-2021/test_ace_potential/elmat_hdf5/   \n",
       "9   /home/yury/pyiron/projects/  pyiron-2021/test_ace_potential/elmat_hdf5/   \n",
       "10  /home/yury/pyiron/projects/  pyiron-2021/test_ace_potential/elmat_hdf5/   \n",
       "11  /home/yury/pyiron/projects/  pyiron-2021/test_ace_potential/elmat_hdf5/   \n",
       "12  /home/yury/pyiron/projects/  pyiron-2021/test_ace_potential/elmat_hdf5/   \n",
       "13  /home/yury/pyiron/projects/  pyiron-2021/test_ace_potential/elmat_hdf5/   \n",
       "14  /home/yury/pyiron/projects/  pyiron-2021/test_ace_potential/elmat_hdf5/   \n",
       "\n",
       "                    timestart                   timestop  totalcputime  \\\n",
       "0  2021-02-26 18:04:32.780177 2021-02-26 18:04:33.357484           0.0   \n",
       "1  2021-02-26 18:04:39.479256 2021-02-26 18:06:14.116217          94.0   \n",
       "2  2021-02-26 18:04:43.347077 2021-02-26 18:04:43.979010           0.0   \n",
       "3  2021-02-26 18:04:48.669551 2021-02-26 18:04:49.371648           0.0   \n",
       "4  2021-02-26 18:04:54.692191 2021-02-26 18:04:55.399713           0.0   \n",
       "5  2021-02-26 18:05:01.081338 2021-02-26 18:05:01.705611           0.0   \n",
       "6  2021-02-26 18:05:08.559196 2021-02-26 18:05:09.262691           0.0   \n",
       "7  2021-02-26 18:05:15.329561 2021-02-26 18:05:15.968879           0.0   \n",
       "8  2021-02-26 18:05:22.381961 2021-02-26 18:05:23.034119           0.0   \n",
       "9  2021-02-26 18:05:29.893494 2021-02-26 18:05:30.536530           0.0   \n",
       "10 2021-02-26 18:05:37.404633 2021-02-26 18:05:38.017534           0.0   \n",
       "11 2021-02-26 18:05:45.627202 2021-02-26 18:05:46.281264           0.0   \n",
       "12 2021-02-26 18:05:54.616525 2021-02-26 18:05:55.275357           0.0   \n",
       "13 2021-02-26 18:06:03.416732 2021-02-26 18:06:03.990773           0.0   \n",
       "14 2021-02-26 18:06:11.672699 2021-02-26 18:06:12.402747           0.0   \n",
       "\n",
       "                       computer          hamilton hamversion parentid  \\\n",
       "0        pyiron@dell-inspiron#1            Lammps        0.1     None   \n",
       "1   pyiron@dell-inspiron#1#1/13  ElasticMatrixJob      0.0.1     None   \n",
       "2        pyiron@dell-inspiron#1            Lammps        0.1     None   \n",
       "3        pyiron@dell-inspiron#1            Lammps        0.1     None   \n",
       "4        pyiron@dell-inspiron#1            Lammps        0.1     None   \n",
       "5        pyiron@dell-inspiron#1            Lammps        0.1     None   \n",
       "6        pyiron@dell-inspiron#1            Lammps        0.1     None   \n",
       "7        pyiron@dell-inspiron#1            Lammps        0.1     None   \n",
       "8        pyiron@dell-inspiron#1            Lammps        0.1     None   \n",
       "9        pyiron@dell-inspiron#1            Lammps        0.1     None   \n",
       "10       pyiron@dell-inspiron#1            Lammps        0.1     None   \n",
       "11       pyiron@dell-inspiron#1            Lammps        0.1     None   \n",
       "12       pyiron@dell-inspiron#1            Lammps        0.1     None   \n",
       "13       pyiron@dell-inspiron#1            Lammps        0.1     None   \n",
       "14       pyiron@dell-inspiron#1            Lammps        0.1     None   \n",
       "\n",
       "    masterid  \n",
       "0        NaN  \n",
       "1        NaN  \n",
       "2       64.0  \n",
       "3       64.0  \n",
       "4       64.0  \n",
       "5       64.0  \n",
       "6       64.0  \n",
       "7       64.0  \n",
       "8       64.0  \n",
       "9       64.0  \n",
       "10      64.0  \n",
       "11      64.0  \n",
       "12      64.0  \n",
       "13      64.0  \n",
       "14      64.0  "
      ]
     },
     "execution_count": 59,
     "metadata": {},
     "output_type": "execute_result"
    }
   ],
   "source": [
    "test_pr.job_table()"
   ]
  },
  {
   "cell_type": "code",
   "execution_count": 60,
   "metadata": {},
   "outputs": [
    {
     "data": {
      "text/plain": [
       "array([[188.94040052, 146.00702034, 146.00702034,   0.        ,\n",
       "          0.        ,   0.        ],\n",
       "       [146.00702034, 188.94040052, 146.00702034,   0.        ,\n",
       "          0.        ,   0.        ],\n",
       "       [146.00702034, 146.00702034, 188.94040052,   0.        ,\n",
       "          0.        ,   0.        ],\n",
       "       [  0.        ,   0.        ,   0.        ,  92.42800604,\n",
       "          0.        ,   0.        ],\n",
       "       [  0.        ,   0.        ,   0.        ,   0.        ,\n",
       "         92.42800604,   0.        ],\n",
       "       [  0.        ,   0.        ,   0.        ,   0.        ,\n",
       "          0.        ,  92.42800604]])"
      ]
     },
     "execution_count": 60,
     "metadata": {},
     "output_type": "execute_result"
    }
   ],
   "source": [
    "elmat_job[\"output/elasticmatrix\"][\"C\"]"
   ]
  },
  {
   "cell_type": "code",
   "execution_count": null,
   "metadata": {},
   "outputs": [],
   "source": []
  },
  {
   "cell_type": "markdown",
   "metadata": {},
   "source": [
    "## Phonons"
   ]
  },
  {
   "cell_type": "code",
   "execution_count": 61,
   "metadata": {},
   "outputs": [],
   "source": [
    "phon_job = test_pr.create.job.PhonopyJob(\"phon_job\", delete_existing_job=True)"
   ]
  },
  {
   "cell_type": "code",
   "execution_count": 62,
   "metadata": {},
   "outputs": [],
   "source": [
    "ref_job = test_pr.create.job.Lammps(\"ref_job\", delete_existing_job=True)"
   ]
  },
  {
   "cell_type": "code",
   "execution_count": 63,
   "metadata": {},
   "outputs": [],
   "source": [
    "ref_job.executable.version=\"2020.12.24_pace\""
   ]
  },
  {
   "cell_type": "code",
   "execution_count": 64,
   "metadata": {},
   "outputs": [],
   "source": [
    "ref_job.potential = cu_ace_potential"
   ]
  },
  {
   "cell_type": "code",
   "execution_count": 65,
   "metadata": {},
   "outputs": [],
   "source": [
    "ref_job.structure = lammps_job.get_structure()"
   ]
  },
  {
   "cell_type": "code",
   "execution_count": 66,
   "metadata": {},
   "outputs": [],
   "source": [
    "phon_job.input['dos_mesh']=75"
   ]
  },
  {
   "cell_type": "code",
   "execution_count": 67,
   "metadata": {},
   "outputs": [],
   "source": [
    "phon_job.ref_job = ref_job"
   ]
  },
  {
   "cell_type": "code",
   "execution_count": 68,
   "metadata": {},
   "outputs": [
    {
     "name": "stdout",
     "output_type": "stream",
     "text": [
      "The job phon_job was saved and received the ID: 78\n",
      "The job ref_job_0 was saved and received the ID: 79\n"
     ]
    }
   ],
   "source": [
    "phon_job.run()"
   ]
  },
  {
   "cell_type": "code",
   "execution_count": 69,
   "metadata": {},
   "outputs": [
    {
     "data": {
      "text/html": [
       "<div>\n",
       "<style scoped>\n",
       "    .dataframe tbody tr th:only-of-type {\n",
       "        vertical-align: middle;\n",
       "    }\n",
       "\n",
       "    .dataframe tbody tr th {\n",
       "        vertical-align: top;\n",
       "    }\n",
       "\n",
       "    .dataframe thead th {\n",
       "        text-align: right;\n",
       "    }\n",
       "</style>\n",
       "<table border=\"1\" class=\"dataframe\">\n",
       "  <thead>\n",
       "    <tr style=\"text-align: right;\">\n",
       "      <th></th>\n",
       "      <th>id</th>\n",
       "      <th>status</th>\n",
       "      <th>chemicalformula</th>\n",
       "      <th>job</th>\n",
       "      <th>subjob</th>\n",
       "      <th>projectpath</th>\n",
       "      <th>project</th>\n",
       "      <th>timestart</th>\n",
       "      <th>timestop</th>\n",
       "      <th>totalcputime</th>\n",
       "      <th>computer</th>\n",
       "      <th>hamilton</th>\n",
       "      <th>hamversion</th>\n",
       "      <th>parentid</th>\n",
       "      <th>masterid</th>\n",
       "    </tr>\n",
       "  </thead>\n",
       "  <tbody>\n",
       "    <tr>\n",
       "      <th>0</th>\n",
       "      <td>63</td>\n",
       "      <td>finished</td>\n",
       "      <td>Cu4</td>\n",
       "      <td>opt_lammps</td>\n",
       "      <td>/opt_lammps</td>\n",
       "      <td>/home/yury/pyiron/projects/</td>\n",
       "      <td>pyiron-2021/test_ace_potential/</td>\n",
       "      <td>2021-02-26 18:04:32.780177</td>\n",
       "      <td>2021-02-26 18:04:33.357484</td>\n",
       "      <td>0.0</td>\n",
       "      <td>pyiron@dell-inspiron#1</td>\n",
       "      <td>Lammps</td>\n",
       "      <td>0.1</td>\n",
       "      <td>None</td>\n",
       "      <td>NaN</td>\n",
       "    </tr>\n",
       "    <tr>\n",
       "      <th>1</th>\n",
       "      <td>64</td>\n",
       "      <td>finished</td>\n",
       "      <td>Cu4</td>\n",
       "      <td>elmat</td>\n",
       "      <td>/elmat</td>\n",
       "      <td>/home/yury/pyiron/projects/</td>\n",
       "      <td>pyiron-2021/test_ace_potential/</td>\n",
       "      <td>2021-02-26 18:04:39.479256</td>\n",
       "      <td>2021-02-26 18:06:14.116217</td>\n",
       "      <td>94.0</td>\n",
       "      <td>pyiron@dell-inspiron#1#1/13</td>\n",
       "      <td>ElasticMatrixJob</td>\n",
       "      <td>0.0.1</td>\n",
       "      <td>None</td>\n",
       "      <td>NaN</td>\n",
       "    </tr>\n",
       "    <tr>\n",
       "      <th>2</th>\n",
       "      <td>65</td>\n",
       "      <td>finished</td>\n",
       "      <td>Cu4</td>\n",
       "      <td>s_e_0</td>\n",
       "      <td>/s_e_0</td>\n",
       "      <td>/home/yury/pyiron/projects/</td>\n",
       "      <td>pyiron-2021/test_ace_potential/elmat_hdf5/</td>\n",
       "      <td>2021-02-26 18:04:43.347077</td>\n",
       "      <td>2021-02-26 18:04:43.979010</td>\n",
       "      <td>0.0</td>\n",
       "      <td>pyiron@dell-inspiron#1</td>\n",
       "      <td>Lammps</td>\n",
       "      <td>0.1</td>\n",
       "      <td>None</td>\n",
       "      <td>64.0</td>\n",
       "    </tr>\n",
       "    <tr>\n",
       "      <th>3</th>\n",
       "      <td>66</td>\n",
       "      <td>finished</td>\n",
       "      <td>Cu4</td>\n",
       "      <td>s_01_e_m0_00500</td>\n",
       "      <td>/s_01_e_m0_00500</td>\n",
       "      <td>/home/yury/pyiron/projects/</td>\n",
       "      <td>pyiron-2021/test_ace_potential/elmat_hdf5/</td>\n",
       "      <td>2021-02-26 18:04:48.669551</td>\n",
       "      <td>2021-02-26 18:04:49.371648</td>\n",
       "      <td>0.0</td>\n",
       "      <td>pyiron@dell-inspiron#1</td>\n",
       "      <td>Lammps</td>\n",
       "      <td>0.1</td>\n",
       "      <td>None</td>\n",
       "      <td>64.0</td>\n",
       "    </tr>\n",
       "    <tr>\n",
       "      <th>4</th>\n",
       "      <td>67</td>\n",
       "      <td>finished</td>\n",
       "      <td>Cu4</td>\n",
       "      <td>s_01_e_m0_00250</td>\n",
       "      <td>/s_01_e_m0_00250</td>\n",
       "      <td>/home/yury/pyiron/projects/</td>\n",
       "      <td>pyiron-2021/test_ace_potential/elmat_hdf5/</td>\n",
       "      <td>2021-02-26 18:04:54.692191</td>\n",
       "      <td>2021-02-26 18:04:55.399713</td>\n",
       "      <td>0.0</td>\n",
       "      <td>pyiron@dell-inspiron#1</td>\n",
       "      <td>Lammps</td>\n",
       "      <td>0.1</td>\n",
       "      <td>None</td>\n",
       "      <td>64.0</td>\n",
       "    </tr>\n",
       "    <tr>\n",
       "      <th>5</th>\n",
       "      <td>68</td>\n",
       "      <td>finished</td>\n",
       "      <td>Cu4</td>\n",
       "      <td>s_01_e_0_00250</td>\n",
       "      <td>/s_01_e_0_00250</td>\n",
       "      <td>/home/yury/pyiron/projects/</td>\n",
       "      <td>pyiron-2021/test_ace_potential/elmat_hdf5/</td>\n",
       "      <td>2021-02-26 18:05:01.081338</td>\n",
       "      <td>2021-02-26 18:05:01.705611</td>\n",
       "      <td>0.0</td>\n",
       "      <td>pyiron@dell-inspiron#1</td>\n",
       "      <td>Lammps</td>\n",
       "      <td>0.1</td>\n",
       "      <td>None</td>\n",
       "      <td>64.0</td>\n",
       "    </tr>\n",
       "    <tr>\n",
       "      <th>6</th>\n",
       "      <td>69</td>\n",
       "      <td>finished</td>\n",
       "      <td>Cu4</td>\n",
       "      <td>s_01_e_0_00500</td>\n",
       "      <td>/s_01_e_0_00500</td>\n",
       "      <td>/home/yury/pyiron/projects/</td>\n",
       "      <td>pyiron-2021/test_ace_potential/elmat_hdf5/</td>\n",
       "      <td>2021-02-26 18:05:08.559196</td>\n",
       "      <td>2021-02-26 18:05:09.262691</td>\n",
       "      <td>0.0</td>\n",
       "      <td>pyiron@dell-inspiron#1</td>\n",
       "      <td>Lammps</td>\n",
       "      <td>0.1</td>\n",
       "      <td>None</td>\n",
       "      <td>64.0</td>\n",
       "    </tr>\n",
       "    <tr>\n",
       "      <th>7</th>\n",
       "      <td>70</td>\n",
       "      <td>finished</td>\n",
       "      <td>Cu4</td>\n",
       "      <td>s_08_e_m0_00500</td>\n",
       "      <td>/s_08_e_m0_00500</td>\n",
       "      <td>/home/yury/pyiron/projects/</td>\n",
       "      <td>pyiron-2021/test_ace_potential/elmat_hdf5/</td>\n",
       "      <td>2021-02-26 18:05:15.329561</td>\n",
       "      <td>2021-02-26 18:05:15.968879</td>\n",
       "      <td>0.0</td>\n",
       "      <td>pyiron@dell-inspiron#1</td>\n",
       "      <td>Lammps</td>\n",
       "      <td>0.1</td>\n",
       "      <td>None</td>\n",
       "      <td>64.0</td>\n",
       "    </tr>\n",
       "    <tr>\n",
       "      <th>8</th>\n",
       "      <td>71</td>\n",
       "      <td>finished</td>\n",
       "      <td>Cu4</td>\n",
       "      <td>s_08_e_m0_00250</td>\n",
       "      <td>/s_08_e_m0_00250</td>\n",
       "      <td>/home/yury/pyiron/projects/</td>\n",
       "      <td>pyiron-2021/test_ace_potential/elmat_hdf5/</td>\n",
       "      <td>2021-02-26 18:05:22.381961</td>\n",
       "      <td>2021-02-26 18:05:23.034119</td>\n",
       "      <td>0.0</td>\n",
       "      <td>pyiron@dell-inspiron#1</td>\n",
       "      <td>Lammps</td>\n",
       "      <td>0.1</td>\n",
       "      <td>None</td>\n",
       "      <td>64.0</td>\n",
       "    </tr>\n",
       "    <tr>\n",
       "      <th>9</th>\n",
       "      <td>72</td>\n",
       "      <td>finished</td>\n",
       "      <td>Cu4</td>\n",
       "      <td>s_08_e_0_00250</td>\n",
       "      <td>/s_08_e_0_00250</td>\n",
       "      <td>/home/yury/pyiron/projects/</td>\n",
       "      <td>pyiron-2021/test_ace_potential/elmat_hdf5/</td>\n",
       "      <td>2021-02-26 18:05:29.893494</td>\n",
       "      <td>2021-02-26 18:05:30.536530</td>\n",
       "      <td>0.0</td>\n",
       "      <td>pyiron@dell-inspiron#1</td>\n",
       "      <td>Lammps</td>\n",
       "      <td>0.1</td>\n",
       "      <td>None</td>\n",
       "      <td>64.0</td>\n",
       "    </tr>\n",
       "    <tr>\n",
       "      <th>10</th>\n",
       "      <td>73</td>\n",
       "      <td>finished</td>\n",
       "      <td>Cu4</td>\n",
       "      <td>s_08_e_0_00500</td>\n",
       "      <td>/s_08_e_0_00500</td>\n",
       "      <td>/home/yury/pyiron/projects/</td>\n",
       "      <td>pyiron-2021/test_ace_potential/elmat_hdf5/</td>\n",
       "      <td>2021-02-26 18:05:37.404633</td>\n",
       "      <td>2021-02-26 18:05:38.017534</td>\n",
       "      <td>0.0</td>\n",
       "      <td>pyiron@dell-inspiron#1</td>\n",
       "      <td>Lammps</td>\n",
       "      <td>0.1</td>\n",
       "      <td>None</td>\n",
       "      <td>64.0</td>\n",
       "    </tr>\n",
       "    <tr>\n",
       "      <th>11</th>\n",
       "      <td>74</td>\n",
       "      <td>finished</td>\n",
       "      <td>Cu4</td>\n",
       "      <td>s_23_e_m0_00500</td>\n",
       "      <td>/s_23_e_m0_00500</td>\n",
       "      <td>/home/yury/pyiron/projects/</td>\n",
       "      <td>pyiron-2021/test_ace_potential/elmat_hdf5/</td>\n",
       "      <td>2021-02-26 18:05:45.627202</td>\n",
       "      <td>2021-02-26 18:05:46.281264</td>\n",
       "      <td>0.0</td>\n",
       "      <td>pyiron@dell-inspiron#1</td>\n",
       "      <td>Lammps</td>\n",
       "      <td>0.1</td>\n",
       "      <td>None</td>\n",
       "      <td>64.0</td>\n",
       "    </tr>\n",
       "    <tr>\n",
       "      <th>12</th>\n",
       "      <td>75</td>\n",
       "      <td>finished</td>\n",
       "      <td>Cu4</td>\n",
       "      <td>s_23_e_m0_00250</td>\n",
       "      <td>/s_23_e_m0_00250</td>\n",
       "      <td>/home/yury/pyiron/projects/</td>\n",
       "      <td>pyiron-2021/test_ace_potential/elmat_hdf5/</td>\n",
       "      <td>2021-02-26 18:05:54.616525</td>\n",
       "      <td>2021-02-26 18:05:55.275357</td>\n",
       "      <td>0.0</td>\n",
       "      <td>pyiron@dell-inspiron#1</td>\n",
       "      <td>Lammps</td>\n",
       "      <td>0.1</td>\n",
       "      <td>None</td>\n",
       "      <td>64.0</td>\n",
       "    </tr>\n",
       "    <tr>\n",
       "      <th>13</th>\n",
       "      <td>76</td>\n",
       "      <td>finished</td>\n",
       "      <td>Cu4</td>\n",
       "      <td>s_23_e_0_00250</td>\n",
       "      <td>/s_23_e_0_00250</td>\n",
       "      <td>/home/yury/pyiron/projects/</td>\n",
       "      <td>pyiron-2021/test_ace_potential/elmat_hdf5/</td>\n",
       "      <td>2021-02-26 18:06:03.416732</td>\n",
       "      <td>2021-02-26 18:06:03.990773</td>\n",
       "      <td>0.0</td>\n",
       "      <td>pyiron@dell-inspiron#1</td>\n",
       "      <td>Lammps</td>\n",
       "      <td>0.1</td>\n",
       "      <td>None</td>\n",
       "      <td>64.0</td>\n",
       "    </tr>\n",
       "    <tr>\n",
       "      <th>14</th>\n",
       "      <td>77</td>\n",
       "      <td>finished</td>\n",
       "      <td>Cu4</td>\n",
       "      <td>s_23_e_0_00500</td>\n",
       "      <td>/s_23_e_0_00500</td>\n",
       "      <td>/home/yury/pyiron/projects/</td>\n",
       "      <td>pyiron-2021/test_ace_potential/elmat_hdf5/</td>\n",
       "      <td>2021-02-26 18:06:11.672699</td>\n",
       "      <td>2021-02-26 18:06:12.402747</td>\n",
       "      <td>0.0</td>\n",
       "      <td>pyiron@dell-inspiron#1</td>\n",
       "      <td>Lammps</td>\n",
       "      <td>0.1</td>\n",
       "      <td>None</td>\n",
       "      <td>64.0</td>\n",
       "    </tr>\n",
       "    <tr>\n",
       "      <th>15</th>\n",
       "      <td>78</td>\n",
       "      <td>finished</td>\n",
       "      <td>Cu4</td>\n",
       "      <td>phon_job</td>\n",
       "      <td>/phon_job</td>\n",
       "      <td>/home/yury/pyiron/projects/</td>\n",
       "      <td>pyiron-2021/test_ace_potential/</td>\n",
       "      <td>2021-02-26 18:06:43.590953</td>\n",
       "      <td>2021-02-26 18:07:08.387031</td>\n",
       "      <td>24.0</td>\n",
       "      <td>pyiron@dell-inspiron#1#1/1</td>\n",
       "      <td>PhonopyJob</td>\n",
       "      <td>0.0.1</td>\n",
       "      <td>None</td>\n",
       "      <td>NaN</td>\n",
       "    </tr>\n",
       "    <tr>\n",
       "      <th>16</th>\n",
       "      <td>79</td>\n",
       "      <td>finished</td>\n",
       "      <td>Cu108</td>\n",
       "      <td>ref_job_0</td>\n",
       "      <td>/ref_job_0</td>\n",
       "      <td>/home/yury/pyiron/projects/</td>\n",
       "      <td>pyiron-2021/test_ace_potential/phon_job_hdf5/</td>\n",
       "      <td>2021-02-26 18:06:57.752019</td>\n",
       "      <td>2021-02-26 18:06:58.260338</td>\n",
       "      <td>0.0</td>\n",
       "      <td>pyiron@dell-inspiron#1</td>\n",
       "      <td>Lammps</td>\n",
       "      <td>0.1</td>\n",
       "      <td>None</td>\n",
       "      <td>78.0</td>\n",
       "    </tr>\n",
       "  </tbody>\n",
       "</table>\n",
       "</div>"
      ],
      "text/plain": [
       "    id    status chemicalformula              job            subjob  \\\n",
       "0   63  finished             Cu4       opt_lammps       /opt_lammps   \n",
       "1   64  finished             Cu4            elmat            /elmat   \n",
       "2   65  finished             Cu4            s_e_0            /s_e_0   \n",
       "3   66  finished             Cu4  s_01_e_m0_00500  /s_01_e_m0_00500   \n",
       "4   67  finished             Cu4  s_01_e_m0_00250  /s_01_e_m0_00250   \n",
       "5   68  finished             Cu4   s_01_e_0_00250   /s_01_e_0_00250   \n",
       "6   69  finished             Cu4   s_01_e_0_00500   /s_01_e_0_00500   \n",
       "7   70  finished             Cu4  s_08_e_m0_00500  /s_08_e_m0_00500   \n",
       "8   71  finished             Cu4  s_08_e_m0_00250  /s_08_e_m0_00250   \n",
       "9   72  finished             Cu4   s_08_e_0_00250   /s_08_e_0_00250   \n",
       "10  73  finished             Cu4   s_08_e_0_00500   /s_08_e_0_00500   \n",
       "11  74  finished             Cu4  s_23_e_m0_00500  /s_23_e_m0_00500   \n",
       "12  75  finished             Cu4  s_23_e_m0_00250  /s_23_e_m0_00250   \n",
       "13  76  finished             Cu4   s_23_e_0_00250   /s_23_e_0_00250   \n",
       "14  77  finished             Cu4   s_23_e_0_00500   /s_23_e_0_00500   \n",
       "15  78  finished             Cu4         phon_job         /phon_job   \n",
       "16  79  finished           Cu108        ref_job_0        /ref_job_0   \n",
       "\n",
       "                    projectpath  \\\n",
       "0   /home/yury/pyiron/projects/   \n",
       "1   /home/yury/pyiron/projects/   \n",
       "2   /home/yury/pyiron/projects/   \n",
       "3   /home/yury/pyiron/projects/   \n",
       "4   /home/yury/pyiron/projects/   \n",
       "5   /home/yury/pyiron/projects/   \n",
       "6   /home/yury/pyiron/projects/   \n",
       "7   /home/yury/pyiron/projects/   \n",
       "8   /home/yury/pyiron/projects/   \n",
       "9   /home/yury/pyiron/projects/   \n",
       "10  /home/yury/pyiron/projects/   \n",
       "11  /home/yury/pyiron/projects/   \n",
       "12  /home/yury/pyiron/projects/   \n",
       "13  /home/yury/pyiron/projects/   \n",
       "14  /home/yury/pyiron/projects/   \n",
       "15  /home/yury/pyiron/projects/   \n",
       "16  /home/yury/pyiron/projects/   \n",
       "\n",
       "                                          project                  timestart  \\\n",
       "0                 pyiron-2021/test_ace_potential/ 2021-02-26 18:04:32.780177   \n",
       "1                 pyiron-2021/test_ace_potential/ 2021-02-26 18:04:39.479256   \n",
       "2      pyiron-2021/test_ace_potential/elmat_hdf5/ 2021-02-26 18:04:43.347077   \n",
       "3      pyiron-2021/test_ace_potential/elmat_hdf5/ 2021-02-26 18:04:48.669551   \n",
       "4      pyiron-2021/test_ace_potential/elmat_hdf5/ 2021-02-26 18:04:54.692191   \n",
       "5      pyiron-2021/test_ace_potential/elmat_hdf5/ 2021-02-26 18:05:01.081338   \n",
       "6      pyiron-2021/test_ace_potential/elmat_hdf5/ 2021-02-26 18:05:08.559196   \n",
       "7      pyiron-2021/test_ace_potential/elmat_hdf5/ 2021-02-26 18:05:15.329561   \n",
       "8      pyiron-2021/test_ace_potential/elmat_hdf5/ 2021-02-26 18:05:22.381961   \n",
       "9      pyiron-2021/test_ace_potential/elmat_hdf5/ 2021-02-26 18:05:29.893494   \n",
       "10     pyiron-2021/test_ace_potential/elmat_hdf5/ 2021-02-26 18:05:37.404633   \n",
       "11     pyiron-2021/test_ace_potential/elmat_hdf5/ 2021-02-26 18:05:45.627202   \n",
       "12     pyiron-2021/test_ace_potential/elmat_hdf5/ 2021-02-26 18:05:54.616525   \n",
       "13     pyiron-2021/test_ace_potential/elmat_hdf5/ 2021-02-26 18:06:03.416732   \n",
       "14     pyiron-2021/test_ace_potential/elmat_hdf5/ 2021-02-26 18:06:11.672699   \n",
       "15                pyiron-2021/test_ace_potential/ 2021-02-26 18:06:43.590953   \n",
       "16  pyiron-2021/test_ace_potential/phon_job_hdf5/ 2021-02-26 18:06:57.752019   \n",
       "\n",
       "                     timestop  totalcputime                     computer  \\\n",
       "0  2021-02-26 18:04:33.357484           0.0       pyiron@dell-inspiron#1   \n",
       "1  2021-02-26 18:06:14.116217          94.0  pyiron@dell-inspiron#1#1/13   \n",
       "2  2021-02-26 18:04:43.979010           0.0       pyiron@dell-inspiron#1   \n",
       "3  2021-02-26 18:04:49.371648           0.0       pyiron@dell-inspiron#1   \n",
       "4  2021-02-26 18:04:55.399713           0.0       pyiron@dell-inspiron#1   \n",
       "5  2021-02-26 18:05:01.705611           0.0       pyiron@dell-inspiron#1   \n",
       "6  2021-02-26 18:05:09.262691           0.0       pyiron@dell-inspiron#1   \n",
       "7  2021-02-26 18:05:15.968879           0.0       pyiron@dell-inspiron#1   \n",
       "8  2021-02-26 18:05:23.034119           0.0       pyiron@dell-inspiron#1   \n",
       "9  2021-02-26 18:05:30.536530           0.0       pyiron@dell-inspiron#1   \n",
       "10 2021-02-26 18:05:38.017534           0.0       pyiron@dell-inspiron#1   \n",
       "11 2021-02-26 18:05:46.281264           0.0       pyiron@dell-inspiron#1   \n",
       "12 2021-02-26 18:05:55.275357           0.0       pyiron@dell-inspiron#1   \n",
       "13 2021-02-26 18:06:03.990773           0.0       pyiron@dell-inspiron#1   \n",
       "14 2021-02-26 18:06:12.402747           0.0       pyiron@dell-inspiron#1   \n",
       "15 2021-02-26 18:07:08.387031          24.0   pyiron@dell-inspiron#1#1/1   \n",
       "16 2021-02-26 18:06:58.260338           0.0       pyiron@dell-inspiron#1   \n",
       "\n",
       "            hamilton hamversion parentid  masterid  \n",
       "0             Lammps        0.1     None       NaN  \n",
       "1   ElasticMatrixJob      0.0.1     None       NaN  \n",
       "2             Lammps        0.1     None      64.0  \n",
       "3             Lammps        0.1     None      64.0  \n",
       "4             Lammps        0.1     None      64.0  \n",
       "5             Lammps        0.1     None      64.0  \n",
       "6             Lammps        0.1     None      64.0  \n",
       "7             Lammps        0.1     None      64.0  \n",
       "8             Lammps        0.1     None      64.0  \n",
       "9             Lammps        0.1     None      64.0  \n",
       "10            Lammps        0.1     None      64.0  \n",
       "11            Lammps        0.1     None      64.0  \n",
       "12            Lammps        0.1     None      64.0  \n",
       "13            Lammps        0.1     None      64.0  \n",
       "14            Lammps        0.1     None      64.0  \n",
       "15        PhonopyJob      0.0.1     None       NaN  \n",
       "16            Lammps        0.1     None      78.0  "
      ]
     },
     "execution_count": 69,
     "metadata": {},
     "output_type": "execute_result"
    }
   ],
   "source": [
    "test_pr.job_table(full_table=True)"
   ]
  },
  {
   "cell_type": "code",
   "execution_count": null,
   "metadata": {},
   "outputs": [],
   "source": []
  },
  {
   "cell_type": "code",
   "execution_count": null,
   "metadata": {},
   "outputs": [],
   "source": []
  },
  {
   "cell_type": "code",
   "execution_count": 70,
   "metadata": {},
   "outputs": [
    {
     "data": {
      "text/plain": [
       "<AxesSubplot:title={'center':'Phonon DOS vs Energy'}, xlabel='Frequency [THz]', ylabel='DOS'>"
      ]
     },
     "execution_count": 70,
     "metadata": {},
     "output_type": "execute_result"
    },
    {
     "data": {
      "image/png": "[encoded data removed]",
      "text/plain": [
       "<Figure size 432x288 with 1 Axes>"
      ]
     },
     "metadata": {
      "needs_background": "light"
     },
     "output_type": "display_data"
    }
   ],
   "source": [
    "phon_job.plot_dos()"
   ]
  },
  {
   "cell_type": "code",
   "execution_count": null,
   "metadata": {},
   "outputs": [],
   "source": []
  }
 ],
 "metadata": {
  "kernelspec": {
   "display_name": "Python (pyiron2021)",
   "language": "python",
   "name": "pyiron2021"
  },
  "language_info": {
   "codemirror_mode": {
    "name": "ipython",
    "version": 3
   },
   "file_extension": ".py",
   "mimetype": "text/x-python",
   "name": "python",
   "nbconvert_exporter": "python",
   "pygments_lexer": "ipython3",
   "version": "3.8.5"
  }
 },
 "nbformat": 4,
 "nbformat_minor": 4
}
