{
 "cells": [
  {
   "cell_type": "code",
   "execution_count": 1,
   "metadata": {},
   "outputs": [
    {
     "name": "stdout",
     "output_type": "stream",
     "text": [
      "Populating the interactive namespace from numpy and matplotlib\n"
     ]
    }
   ],
   "source": [
    "%pylab inline"
   ]
  },
  {
   "cell_type": "code",
   "execution_count": 2,
   "metadata": {},
   "outputs": [],
   "source": [
    "from pyiron import Project"
   ]
  },
  {
   "cell_type": "code",
   "execution_count": 3,
   "metadata": {},
   "outputs": [],
   "source": [
    "data_pr = Project(\"import_database\")"
   ]
  },
  {
   "cell_type": "code",
   "execution_count": 4,
   "metadata": {},
   "outputs": [
    {
     "data": {
      "text/html": [
       "<div>\n",
       "<style scoped>\n",
       "    .dataframe tbody tr th:only-of-type {\n",
       "        vertical-align: middle;\n",
       "    }\n",
       "\n",
       "    .dataframe tbody tr th {\n",
       "        vertical-align: top;\n",
       "    }\n",
       "\n",
       "    .dataframe thead th {\n",
       "        text-align: right;\n",
       "    }\n",
       "</style>\n",
       "<table border=\"1\" class=\"dataframe\">\n",
       "  <thead>\n",
       "    <tr style=\"text-align: right;\">\n",
       "      <th></th>\n",
       "      <th>id</th>\n",
       "      <th>status</th>\n",
       "      <th>chemicalformula</th>\n",
       "      <th>job</th>\n",
       "      <th>subjob</th>\n",
       "      <th>projectpath</th>\n",
       "      <th>project</th>\n",
       "      <th>timestart</th>\n",
       "      <th>timestop</th>\n",
       "      <th>totalcputime</th>\n",
       "      <th>computer</th>\n",
       "      <th>hamilton</th>\n",
       "      <th>hamversion</th>\n",
       "      <th>parentid</th>\n",
       "      <th>masterid</th>\n",
       "    </tr>\n",
       "  </thead>\n",
       "  <tbody>\n",
       "    <tr>\n",
       "      <th>0</th>\n",
       "      <td>21</td>\n",
       "      <td>finished</td>\n",
       "      <td>None</td>\n",
       "      <td>df1_A1_A2_A3_EV_elast_phon</td>\n",
       "      <td>/df1_A1_A2_A3_EV_elast_phon</td>\n",
       "      <td>/home/yury/pyiron/projects/</td>\n",
       "      <td>pyiron-2021/import_database/Cu_database/</td>\n",
       "      <td>2021-02-08 10:33:52.341472</td>\n",
       "      <td>None</td>\n",
       "      <td>None</td>\n",
       "      <td>zora@cmti001#1</td>\n",
       "      <td>GenericJob</td>\n",
       "      <td>0.4</td>\n",
       "      <td>None</td>\n",
       "      <td>None</td>\n",
       "    </tr>\n",
       "    <tr>\n",
       "      <th>1</th>\n",
       "      <td>22</td>\n",
       "      <td>finished</td>\n",
       "      <td>None</td>\n",
       "      <td>df3_10k</td>\n",
       "      <td>/df3_10k</td>\n",
       "      <td>/home/yury/pyiron/projects/</td>\n",
       "      <td>pyiron-2021/import_database/Cu_database/</td>\n",
       "      <td>2021-02-08 10:33:53.993230</td>\n",
       "      <td>None</td>\n",
       "      <td>None</td>\n",
       "      <td>zora@cmti001#1</td>\n",
       "      <td>GenericJob</td>\n",
       "      <td>0.4</td>\n",
       "      <td>None</td>\n",
       "      <td>None</td>\n",
       "    </tr>\n",
       "    <tr>\n",
       "      <th>2</th>\n",
       "      <td>23</td>\n",
       "      <td>finished</td>\n",
       "      <td>None</td>\n",
       "      <td>df2_1k</td>\n",
       "      <td>/df2_1k</td>\n",
       "      <td>/home/yury/pyiron/projects/</td>\n",
       "      <td>pyiron-2021/import_database/Cu_database/</td>\n",
       "      <td>2021-02-08 10:33:54.435308</td>\n",
       "      <td>None</td>\n",
       "      <td>None</td>\n",
       "      <td>zora@cmti001#1</td>\n",
       "      <td>GenericJob</td>\n",
       "      <td>0.4</td>\n",
       "      <td>None</td>\n",
       "      <td>None</td>\n",
       "    </tr>\n",
       "  </tbody>\n",
       "</table>\n",
       "</div>"
      ],
      "text/plain": [
       "   id    status chemicalformula                         job  \\\n",
       "0  21  finished            None  df1_A1_A2_A3_EV_elast_phon   \n",
       "1  22  finished            None                     df3_10k   \n",
       "2  23  finished            None                      df2_1k   \n",
       "\n",
       "                        subjob                  projectpath  \\\n",
       "0  /df1_A1_A2_A3_EV_elast_phon  /home/yury/pyiron/projects/   \n",
       "1                     /df3_10k  /home/yury/pyiron/projects/   \n",
       "2                      /df2_1k  /home/yury/pyiron/projects/   \n",
       "\n",
       "                                    project                  timestart  \\\n",
       "0  pyiron-2021/import_database/Cu_database/ 2021-02-08 10:33:52.341472   \n",
       "1  pyiron-2021/import_database/Cu_database/ 2021-02-08 10:33:53.993230   \n",
       "2  pyiron-2021/import_database/Cu_database/ 2021-02-08 10:33:54.435308   \n",
       "\n",
       "  timestop totalcputime        computer    hamilton hamversion parentid  \\\n",
       "0     None         None  zora@cmti001#1  GenericJob        0.4     None   \n",
       "1     None         None  zora@cmti001#1  GenericJob        0.4     None   \n",
       "2     None         None  zora@cmti001#1  GenericJob        0.4     None   \n",
       "\n",
       "  masterid  \n",
       "0     None  \n",
       "1     None  \n",
       "2     None  "
      ]
     },
     "execution_count": 4,
     "metadata": {},
     "output_type": "execute_result"
    }
   ],
   "source": [
    "data_pr.job_table()"
   ]
  },
  {
   "cell_type": "code",
   "execution_count": 5,
   "metadata": {},
   "outputs": [],
   "source": [
    "data_job = data_pr.load('df1_A1_A2_A3_EV_elast_phon')"
   ]
  },
  {
   "cell_type": "markdown",
   "metadata": {},
   "source": [
    "# Fitting project"
   ]
  },
  {
   "cell_type": "code",
   "execution_count": 6,
   "metadata": {},
   "outputs": [],
   "source": [
    "from pyiron_gpl.pacemaker.pacemaker import PaceMakerJob"
   ]
  },
  {
   "cell_type": "code",
   "execution_count": 7,
   "metadata": {},
   "outputs": [],
   "source": [
    "fit_pr = Project(\"pacemaker_fit\")"
   ]
  },
  {
   "cell_type": "code",
   "execution_count": 65,
   "metadata": {},
   "outputs": [],
   "source": [
    "#fit_pr.remove_jobs_silently()#"
   ]
  },
  {
   "cell_type": "code",
   "execution_count": 66,
   "metadata": {},
   "outputs": [],
   "source": [
    "job = fit_pr.create_job(job_type=PaceMakerJob, job_name=\"df1_cut5\")"
   ]
  },
  {
   "cell_type": "markdown",
   "metadata": {},
   "source": [
    "## Fit"
   ]
  },
  {
   "cell_type": "code",
   "execution_count": 67,
   "metadata": {},
   "outputs": [],
   "source": [
    "cutoff = 5.0"
   ]
  },
  {
   "cell_type": "code",
   "execution_count": 68,
   "metadata": {},
   "outputs": [],
   "source": [
    "job.input[\"potential\"]= {\n",
    "    \"deltaSplineBins\": 0.001,\n",
    "    \"element\": \"Cu\",\n",
    "    \"fs_parameters\": [1, 1, 1, 0.5],\n",
    "    \"npot\": \"FinnisSinclairShiftedScaled\",\n",
    "    \"NameOfCutoffFunction\": \"cos\",\n",
    "    \"rankmax\": 3,\n",
    "    \"nradmax\": [15,2,1],\n",
    "    \"lmax\": [0,2,1],\n",
    "    \"ndensity\": 2,\n",
    "    \"rcut\": 5,\n",
    "    \"dcut\": 0.01,\n",
    "    \"radparameters\": [5.25],\n",
    "    \"radbase\": \"ChebExpCos\",\n",
    "}"
   ]
  },
  {
   "cell_type": "code",
   "execution_count": 69,
   "metadata": {},
   "outputs": [],
   "source": [
    "job.input[\"fit\"]= {    \n",
    "    'optimizer': 'BFGS', \n",
    "    'maxiter': 250,\n",
    "    'loss': {\n",
    "        'kappa': 0.5,\n",
    "        'L1_coeffs': 5e-10,\n",
    "        'L2_coeffs': 5e-10,\n",
    "        'w1_coeffs': 1,\n",
    "        'w2_coeffs': 1,\n",
    "        'w0_rad': 1e-7,\n",
    "        'w1_rad': 1e-7,\n",
    "        'w2_rad': 1e-7,\n",
    "    },\n",
    "}"
   ]
  },
  {
   "cell_type": "code",
   "execution_count": null,
   "metadata": {},
   "outputs": [],
   "source": []
  },
  {
   "cell_type": "code",
   "execution_count": 70,
   "metadata": {},
   "outputs": [],
   "source": [
    "job.input[\"cutoff\"] = cutoff\n",
    "job.input[\"backend\"][\"batch_size\"] = 1000"
   ]
  },
  {
   "cell_type": "code",
   "execution_count": 71,
   "metadata": {},
   "outputs": [],
   "source": [
    "job.structure_data=data_job"
   ]
  },
  {
   "cell_type": "code",
   "execution_count": 72,
   "metadata": {},
   "outputs": [
    {
     "data": {
      "text/html": [
       "<div>\n",
       "<style scoped>\n",
       "    .dataframe tbody tr th:only-of-type {\n",
       "        vertical-align: middle;\n",
       "    }\n",
       "\n",
       "    .dataframe tbody tr th {\n",
       "        vertical-align: top;\n",
       "    }\n",
       "\n",
       "    .dataframe thead th {\n",
       "        text-align: right;\n",
       "    }\n",
       "</style>\n",
       "<table border=\"1\" class=\"dataframe\">\n",
       "  <thead>\n",
       "    <tr style=\"text-align: right;\">\n",
       "      <th></th>\n",
       "      <th>Parameter</th>\n",
       "      <th>Value</th>\n",
       "      <th>Comment</th>\n",
       "    </tr>\n",
       "  </thead>\n",
       "  <tbody>\n",
       "    <tr>\n",
       "      <th>0</th>\n",
       "      <td>cutoff</td>\n",
       "      <td>5.0</td>\n",
       "      <td></td>\n",
       "    </tr>\n",
       "    <tr>\n",
       "      <th>1</th>\n",
       "      <td>metadata</td>\n",
       "      <td>{}</td>\n",
       "      <td></td>\n",
       "    </tr>\n",
       "    <tr>\n",
       "      <th>2</th>\n",
       "      <td>data</td>\n",
       "      <td>{}</td>\n",
       "      <td></td>\n",
       "    </tr>\n",
       "    <tr>\n",
       "      <th>3</th>\n",
       "      <td>potential</td>\n",
       "      <td>{'deltaSplineBins': 0.001, 'element': 'Cu', 'fs_parameters': [1, 1, 1, 0.5], 'npot': 'FinnisSinclairShiftedScaled', 'NameOfCutoffFunction': 'cos', 'rankmax': 3, 'nradmax': [15, 2, 1], 'lmax': [0, ...</td>\n",
       "      <td></td>\n",
       "    </tr>\n",
       "    <tr>\n",
       "      <th>4</th>\n",
       "      <td>fit</td>\n",
       "      <td>{'optimizer': 'BFGS', 'maxiter': 250, 'loss': {'kappa': 0.5, 'L1_coeffs': 5e-10, 'L2_coeffs': 5e-10, 'w1_coeffs': 1, 'w2_coeffs': 1, 'w0_rad': 1e-07, 'w1_rad': 1e-07, 'w2_rad': 1e-07}}</td>\n",
       "      <td></td>\n",
       "    </tr>\n",
       "    <tr>\n",
       "      <th>5</th>\n",
       "      <td>backend</td>\n",
       "      <td>{'evaluator': 'tensorpot', 'batch_size': 1000}</td>\n",
       "      <td></td>\n",
       "    </tr>\n",
       "  </tbody>\n",
       "</table>\n",
       "</div>"
      ],
      "text/plain": [
       "   Parameter  \\\n",
       "0     cutoff   \n",
       "1   metadata   \n",
       "2       data   \n",
       "3  potential   \n",
       "4        fit   \n",
       "5    backend   \n",
       "\n",
       "                                                                                                                                                                                                     Value  \\\n",
       "0                                                                                                                                                                                                      5.0   \n",
       "1                                                                                                                                                                                                       {}   \n",
       "2                                                                                                                                                                                                       {}   \n",
       "3  {'deltaSplineBins': 0.001, 'element': 'Cu', 'fs_parameters': [1, 1, 1, 0.5], 'npot': 'FinnisSinclairShiftedScaled', 'NameOfCutoffFunction': 'cos', 'rankmax': 3, 'nradmax': [15, 2, 1], 'lmax': [0, ...   \n",
       "4                 {'optimizer': 'BFGS', 'maxiter': 250, 'loss': {'kappa': 0.5, 'L1_coeffs': 5e-10, 'L2_coeffs': 5e-10, 'w1_coeffs': 1, 'w2_coeffs': 1, 'w0_rad': 1e-07, 'w1_rad': 1e-07, 'w2_rad': 1e-07}}   \n",
       "5                                                                                                                                                           {'evaluator': 'tensorpot', 'batch_size': 1000}   \n",
       "\n",
       "  Comment  \n",
       "0          \n",
       "1          \n",
       "2          \n",
       "3          \n",
       "4          \n",
       "5          "
      ]
     },
     "execution_count": 72,
     "metadata": {},
     "output_type": "execute_result"
    }
   ],
   "source": [
    "job.input"
   ]
  },
  {
   "cell_type": "code",
   "execution_count": 73,
   "metadata": {},
   "outputs": [
    {
     "data": {
      "text/plain": [
       "['tf', 'tf_cpu']"
      ]
     },
     "execution_count": 73,
     "metadata": {},
     "output_type": "execute_result"
    }
   ],
   "source": [
    "job.executable.available_versions"
   ]
  },
  {
   "cell_type": "code",
   "execution_count": 74,
   "metadata": {},
   "outputs": [],
   "source": [
    "job.executable=\"tf_cpu\""
   ]
  },
  {
   "cell_type": "code",
   "execution_count": null,
   "metadata": {},
   "outputs": [],
   "source": [
    "job.run(run_mode = \"non_modal\")"
   ]
  },
  {
   "cell_type": "code",
   "execution_count": null,
   "metadata": {},
   "outputs": [],
   "source": []
  },
  {
   "cell_type": "code",
   "execution_count": 78,
   "metadata": {},
   "outputs": [
    {
     "data": {
      "text/html": [
       "<div>\n",
       "<style scoped>\n",
       "    .dataframe tbody tr th:only-of-type {\n",
       "        vertical-align: middle;\n",
       "    }\n",
       "\n",
       "    .dataframe tbody tr th {\n",
       "        vertical-align: top;\n",
       "    }\n",
       "\n",
       "    .dataframe thead th {\n",
       "        text-align: right;\n",
       "    }\n",
       "</style>\n",
       "<table border=\"1\" class=\"dataframe\">\n",
       "  <thead>\n",
       "    <tr style=\"text-align: right;\">\n",
       "      <th></th>\n",
       "      <th>id</th>\n",
       "      <th>status</th>\n",
       "      <th>chemicalformula</th>\n",
       "      <th>job</th>\n",
       "      <th>subjob</th>\n",
       "      <th>projectpath</th>\n",
       "      <th>project</th>\n",
       "      <th>timestart</th>\n",
       "      <th>timestop</th>\n",
       "      <th>totalcputime</th>\n",
       "      <th>computer</th>\n",
       "      <th>hamilton</th>\n",
       "      <th>hamversion</th>\n",
       "      <th>parentid</th>\n",
       "      <th>masterid</th>\n",
       "    </tr>\n",
       "  </thead>\n",
       "  <tbody>\n",
       "    <tr>\n",
       "      <th>0</th>\n",
       "      <td>80</td>\n",
       "      <td>finished</td>\n",
       "      <td>None</td>\n",
       "      <td>df1_cut5</td>\n",
       "      <td>/df1_cut5</td>\n",
       "      <td>/home/yury/pyiron/projects/</td>\n",
       "      <td>pyiron-2021/pacemaker_fit/</td>\n",
       "      <td>2021-02-26 12:53:21.925140</td>\n",
       "      <td>2021-02-26 12:54:34.625621</td>\n",
       "      <td>72.0</td>\n",
       "      <td>pyiron@dell-inspiron#1</td>\n",
       "      <td>PaceMakerJob</td>\n",
       "      <td>0.1</td>\n",
       "      <td>None</td>\n",
       "      <td>None</td>\n",
       "    </tr>\n",
       "  </tbody>\n",
       "</table>\n",
       "</div>"
      ],
      "text/plain": [
       "   id    status chemicalformula       job     subjob  \\\n",
       "0  80  finished            None  df1_cut5  /df1_cut5   \n",
       "\n",
       "                   projectpath                     project  \\\n",
       "0  /home/yury/pyiron/projects/  pyiron-2021/pacemaker_fit/   \n",
       "\n",
       "                   timestart                   timestop  totalcputime  \\\n",
       "0 2021-02-26 12:53:21.925140 2021-02-26 12:54:34.625621          72.0   \n",
       "\n",
       "                 computer      hamilton hamversion parentid masterid  \n",
       "0  pyiron@dell-inspiron#1  PaceMakerJob        0.1     None     None  "
      ]
     },
     "execution_count": 78,
     "metadata": {},
     "output_type": "execute_result"
    }
   ],
   "source": [
    "fit_pr.job_table(full_table=True)"
   ]
  },
  {
   "cell_type": "code",
   "execution_count": 79,
   "metadata": {
    "scrolled": true
   },
   "outputs": [
    {
     "data": {
      "image/png": "[encoded data removed]",
      "text/plain": [
       "<Figure size 432x288 with 1 Axes>"
      ]
     },
     "metadata": {
      "needs_background": "light"
     },
     "output_type": "display_data"
    }
   ],
   "source": [
    "plt.plot(job[\"output/log/loss\"])\n",
    "plt.yscale('log')"
   ]
  },
  {
   "cell_type": "code",
   "execution_count": 80,
   "metadata": {
    "scrolled": true
   },
   "outputs": [
    {
     "data": {
      "image/png": "[encoded data removed]",
      "text/plain": [
       "<Figure size 432x288 with 1 Axes>"
      ]
     },
     "metadata": {
      "needs_background": "light"
     },
     "output_type": "display_data"
    }
   ],
   "source": [
    "plt.plot(job[\"output/log/rmse_energy\"])\n",
    "plt.yscale('log')"
   ]
  },
  {
   "cell_type": "code",
   "execution_count": 81,
   "metadata": {},
   "outputs": [
    {
     "data": {
      "image/png": "[encoded data removed]",
      "text/plain": [
       "<Figure size 432x288 with 1 Axes>"
      ]
     },
     "metadata": {
      "needs_background": "light"
     },
     "output_type": "display_data"
    }
   ],
   "source": [
    "plt.plot(job[\"output/log/rmse_forces\"])\n",
    "plt.yscale('log')"
   ]
  },
  {
   "cell_type": "code",
   "execution_count": 82,
   "metadata": {},
   "outputs": [
    {
     "data": {
      "text/plain": [
       "'/home/yury/pyiron/projects/pyiron-2021/pacemaker_fit/df1_cut5_hdf5/df1_cut5/df1_cut5.yaml'"
      ]
     },
     "execution_count": 82,
     "metadata": {},
     "output_type": "execute_result"
    }
   ],
   "source": [
    "job.get_final_potential_filename()"
   ]
  },
  {
   "cell_type": "code",
   "execution_count": 83,
   "metadata": {},
   "outputs": [
    {
     "data": {
      "text/plain": [
       "'/home/yury/pyiron/projects/pyiron-2021/pacemaker_fit/df1_cut5_hdf5/df1_cut5/df1_cut5.ace'"
      ]
     },
     "execution_count": 83,
     "metadata": {},
     "output_type": "execute_result"
    }
   ],
   "source": [
    "job.get_final_potential_filename_ace()"
   ]
  },
  {
   "cell_type": "markdown",
   "metadata": {},
   "source": [
    "# Overview of the fitted potential internals"
   ]
  },
  {
   "cell_type": "code",
   "execution_count": 146,
   "metadata": {},
   "outputs": [],
   "source": [
    "final_potential = job.get_final_potential()"
   ]
  },
  {
   "cell_type": "code",
   "execution_count": 147,
   "metadata": {},
   "outputs": [],
   "source": [
    "Cu_block = final_potential.funcspecs_blocks[0]"
   ]
  },
  {
   "cell_type": "markdown",
   "metadata": {},
   "source": [
    "List of B-basis functions and corresponding fitted coefficients (for two densities):"
   ]
  },
  {
   "cell_type": "code",
   "execution_count": 149,
   "metadata": {},
   "outputs": [
    {
     "data": {
      "text/plain": [
       "[BBasisFunctionSpecification(elements=[Al,Al],  ns=[1],  ls=[0],  coeffs=[-0.132635,-0.00889706]),\n",
       " BBasisFunctionSpecification(elements=[Al,Al],  ns=[2],  ls=[0],  coeffs=[0.021831,0.00781152]),\n",
       " BBasisFunctionSpecification(elements=[Al,Al],  ns=[3],  ls=[0],  coeffs=[0.0694975,0.0255755]),\n",
       " BBasisFunctionSpecification(elements=[Al,Al],  ns=[4],  ls=[0],  coeffs=[0.100878,0.039435]),\n",
       " BBasisFunctionSpecification(elements=[Al,Al],  ns=[5],  ls=[0],  coeffs=[0.0784641,0.0366628]),\n",
       " BBasisFunctionSpecification(elements=[Al,Al],  ns=[6],  ls=[0],  coeffs=[-0.00303997,0.0145095]),\n",
       " BBasisFunctionSpecification(elements=[Al,Al],  ns=[7],  ls=[0],  coeffs=[-0.107938,-0.0167209]),\n",
       " BBasisFunctionSpecification(elements=[Al,Al],  ns=[8],  ls=[0],  coeffs=[-0.178038,-0.0387258]),\n",
       " BBasisFunctionSpecification(elements=[Al,Al],  ns=[9],  ls=[0],  coeffs=[-0.168335,-0.036112]),\n",
       " BBasisFunctionSpecification(elements=[Al,Al],  ns=[10],  ls=[0],  coeffs=[-0.0807872,-0.00726093]),\n",
       " BBasisFunctionSpecification(elements=[Al,Al],  ns=[11],  ls=[0],  coeffs=[0.0290861,0.0325966]),\n",
       " BBasisFunctionSpecification(elements=[Al,Al],  ns=[12],  ls=[0],  coeffs=[0.083494,0.0595297]),\n",
       " BBasisFunctionSpecification(elements=[Al,Al],  ns=[13],  ls=[0],  coeffs=[0.0419351,0.0584365]),\n",
       " BBasisFunctionSpecification(elements=[Al,Al],  ns=[14],  ls=[0],  coeffs=[-0.0448038,0.039179]),\n",
       " BBasisFunctionSpecification(elements=[Al,Al],  ns=[15],  ls=[0],  coeffs=[-0.0250701,0.041519]),\n",
       " BBasisFunctionSpecification(elements=[Al,Al,Al],  ns=[1,1],  ls=[0,0],  coeffs=[-0.0253354,-0.00101448]),\n",
       " BBasisFunctionSpecification(elements=[Al,Al,Al],  ns=[1,1],  ls=[1,1],  coeffs=[0.00356711,0.00233999]),\n",
       " BBasisFunctionSpecification(elements=[Al,Al,Al],  ns=[1,1],  ls=[2,2],  coeffs=[-0.00451001,0.0144474]),\n",
       " BBasisFunctionSpecification(elements=[Al,Al,Al],  ns=[2,1],  ls=[0,0],  coeffs=[0.210872,0.148898]),\n",
       " BBasisFunctionSpecification(elements=[Al,Al,Al],  ns=[2,1],  ls=[1,1],  coeffs=[0.0272022,0.0077131]),\n",
       " BBasisFunctionSpecification(elements=[Al,Al,Al],  ns=[2,1],  ls=[2,2],  coeffs=[0.0721478,0.0219239]),\n",
       " BBasisFunctionSpecification(elements=[Al,Al,Al],  ns=[2,2],  ls=[0,0],  coeffs=[0.0303238,0.0166842]),\n",
       " BBasisFunctionSpecification(elements=[Al,Al,Al],  ns=[2,2],  ls=[1,1],  coeffs=[0.00995681,0.00275034]),\n",
       " BBasisFunctionSpecification(elements=[Al,Al,Al],  ns=[2,2],  ls=[2,2],  coeffs=[0.0217403,0.00624752]),\n",
       " BBasisFunctionSpecification(elements=[Al,Al,Al,Al],  ns=[1,1,1],  ls=[0,0,0],  LS=[0],  coeffs=[0.00496546,-0.00937232]),\n",
       " BBasisFunctionSpecification(elements=[Al,Al,Al,Al],  ns=[1,1,1],  ls=[1,1,0],  LS=[0],  coeffs=[0.00592324,0.0131095])]"
      ]
     },
     "execution_count": 149,
     "metadata": {},
     "output_type": "execute_result"
    }
   ],
   "source": [
    "Cu_block.funcspecs"
   ]
  },
  {
   "cell_type": "markdown",
   "metadata": {},
   "source": [
    "# Test fitted potential"
   ]
  },
  {
   "cell_type": "code",
   "execution_count": 84,
   "metadata": {},
   "outputs": [],
   "source": [
    "test_pr = Project(\"test_ace_potential\")"
   ]
  },
  {
   "cell_type": "code",
   "execution_count": 85,
   "metadata": {},
   "outputs": [],
   "source": [
    "cu_ace_potential = job.get_lammps_potential()"
   ]
  },
  {
   "cell_type": "markdown",
   "metadata": {},
   "source": [
    "## Optimization"
   ]
  },
  {
   "cell_type": "code",
   "execution_count": 86,
   "metadata": {},
   "outputs": [],
   "source": [
    "lammps_job = test_pr.create.job.Lammps(\"opt_lammps\", delete_existing_job=True)"
   ]
  },
  {
   "cell_type": "code",
   "execution_count": 87,
   "metadata": {},
   "outputs": [],
   "source": [
    "lammps_job.executable.version=\"2020.12.24_pace\""
   ]
  },
  {
   "cell_type": "code",
   "execution_count": 88,
   "metadata": {},
   "outputs": [],
   "source": [
    "lammps_job.potential = cu_ace_potential"
   ]
  },
  {
   "cell_type": "code",
   "execution_count": 89,
   "metadata": {},
   "outputs": [],
   "source": [
    "lammps_job.structure = test_pr.create.structure.ase_bulk(\"Cu\",\"fcc\",cubic=True)"
   ]
  },
  {
   "cell_type": "code",
   "execution_count": 90,
   "metadata": {},
   "outputs": [],
   "source": [
    "lammps_job.calc_minimize(pressure=0.0)"
   ]
  },
  {
   "cell_type": "code",
   "execution_count": 91,
   "metadata": {},
   "outputs": [
    {
     "name": "stdout",
     "output_type": "stream",
     "text": [
      "The job opt_lammps was saved and received the ID: 81\n"
     ]
    }
   ],
   "source": [
    "lammps_job.run()"
   ]
  },
  {
   "cell_type": "markdown",
   "metadata": {},
   "source": [
    "## Elastic matrix"
   ]
  },
  {
   "cell_type": "code",
   "execution_count": 111,
   "metadata": {},
   "outputs": [],
   "source": [
    "elmat_job = test_pr.create.job.ElasticMatrixJob(\"elmat\")"
   ]
  },
  {
   "cell_type": "code",
   "execution_count": 112,
   "metadata": {},
   "outputs": [],
   "source": [
    "ref_job = test_pr.create.job.Lammps(\"ref_job\", delete_existing_job=True)"
   ]
  },
  {
   "cell_type": "code",
   "execution_count": 113,
   "metadata": {},
   "outputs": [],
   "source": [
    "ref_job.executable.version=\"2020.12.24_pace\""
   ]
  },
  {
   "cell_type": "code",
   "execution_count": 114,
   "metadata": {},
   "outputs": [],
   "source": [
    "#ref_job.calc_static()"
   ]
  },
  {
   "cell_type": "code",
   "execution_count": 115,
   "metadata": {},
   "outputs": [],
   "source": [
    "ref_job.potential = cu_ace_potential"
   ]
  },
  {
   "cell_type": "code",
   "execution_count": 116,
   "metadata": {},
   "outputs": [],
   "source": [
    "ref_job.structure = lammps_job.get_structure()"
   ]
  },
  {
   "cell_type": "code",
   "execution_count": 117,
   "metadata": {},
   "outputs": [],
   "source": [
    "ref_job.server.run_mode=\"non_modal\""
   ]
  },
  {
   "cell_type": "code",
   "execution_count": null,
   "metadata": {},
   "outputs": [],
   "source": []
  },
  {
   "cell_type": "code",
   "execution_count": 118,
   "metadata": {},
   "outputs": [],
   "source": [
    "elmat_job.ref_job = ref_job"
   ]
  },
  {
   "cell_type": "code",
   "execution_count": null,
   "metadata": {},
   "outputs": [],
   "source": [
    "elmat_job.run(run_mode=\"non_modal\", run_again=True)"
   ]
  },
  {
   "cell_type": "code",
   "execution_count": 139,
   "metadata": {},
   "outputs": [
    {
     "data": {
      "text/html": [
       "<div>\n",
       "<style scoped>\n",
       "    .dataframe tbody tr th:only-of-type {\n",
       "        vertical-align: middle;\n",
       "    }\n",
       "\n",
       "    .dataframe tbody tr th {\n",
       "        vertical-align: top;\n",
       "    }\n",
       "\n",
       "    .dataframe thead th {\n",
       "        text-align: right;\n",
       "    }\n",
       "</style>\n",
       "<table border=\"1\" class=\"dataframe\">\n",
       "  <thead>\n",
       "    <tr style=\"text-align: right;\">\n",
       "      <th></th>\n",
       "      <th>id</th>\n",
       "      <th>status</th>\n",
       "      <th>chemicalformula</th>\n",
       "      <th>job</th>\n",
       "      <th>subjob</th>\n",
       "      <th>projectpath</th>\n",
       "      <th>project</th>\n",
       "      <th>timestart</th>\n",
       "      <th>timestop</th>\n",
       "      <th>totalcputime</th>\n",
       "      <th>computer</th>\n",
       "      <th>hamilton</th>\n",
       "      <th>hamversion</th>\n",
       "      <th>parentid</th>\n",
       "      <th>masterid</th>\n",
       "    </tr>\n",
       "  </thead>\n",
       "  <tbody>\n",
       "    <tr>\n",
       "      <th>0</th>\n",
       "      <td>81</td>\n",
       "      <td>finished</td>\n",
       "      <td>Cu4</td>\n",
       "      <td>opt_lammps</td>\n",
       "      <td>/opt_lammps</td>\n",
       "      <td>/home/yury/pyiron/projects/</td>\n",
       "      <td>pyiron-2021/test_ace_potential/</td>\n",
       "      <td>2021-02-26 12:54:46.117385</td>\n",
       "      <td>2021-02-26 12:54:46.617448</td>\n",
       "      <td>0.0</td>\n",
       "      <td>pyiron@dell-inspiron#1</td>\n",
       "      <td>Lammps</td>\n",
       "      <td>0.1</td>\n",
       "      <td>None</td>\n",
       "      <td>NaN</td>\n",
       "    </tr>\n",
       "    <tr>\n",
       "      <th>1</th>\n",
       "      <td>82</td>\n",
       "      <td>finished</td>\n",
       "      <td>Cu4</td>\n",
       "      <td>phon_job</td>\n",
       "      <td>/phon_job</td>\n",
       "      <td>/home/yury/pyiron/projects/</td>\n",
       "      <td>pyiron-2021/test_ace_potential/</td>\n",
       "      <td>2021-02-26 12:54:58.745687</td>\n",
       "      <td>2021-02-26 12:55:13.747981</td>\n",
       "      <td>15.0</td>\n",
       "      <td>pyiron@dell-inspiron#1#1/1</td>\n",
       "      <td>PhonopyJob</td>\n",
       "      <td>0.0.1</td>\n",
       "      <td>None</td>\n",
       "      <td>NaN</td>\n",
       "    </tr>\n",
       "    <tr>\n",
       "      <th>2</th>\n",
       "      <td>83</td>\n",
       "      <td>finished</td>\n",
       "      <td>Cu108</td>\n",
       "      <td>ref_job_0</td>\n",
       "      <td>/ref_job_0</td>\n",
       "      <td>/home/yury/pyiron/projects/</td>\n",
       "      <td>pyiron-2021/test_ace_potential/phon_job_hdf5/</td>\n",
       "      <td>2021-02-26 12:55:11.351661</td>\n",
       "      <td>2021-02-26 12:55:11.862122</td>\n",
       "      <td>0.0</td>\n",
       "      <td>pyiron@dell-inspiron#1</td>\n",
       "      <td>Lammps</td>\n",
       "      <td>0.1</td>\n",
       "      <td>None</td>\n",
       "      <td>82.0</td>\n",
       "    </tr>\n",
       "    <tr>\n",
       "      <th>3</th>\n",
       "      <td>84</td>\n",
       "      <td>finished</td>\n",
       "      <td>Cu4</td>\n",
       "      <td>elmat</td>\n",
       "      <td>/elmat</td>\n",
       "      <td>/home/yury/pyiron/projects/</td>\n",
       "      <td>pyiron-2021/test_ace_potential/</td>\n",
       "      <td>2021-02-26 12:57:05.499830</td>\n",
       "      <td>2021-02-26 12:58:28.890465</td>\n",
       "      <td>83.0</td>\n",
       "      <td>pyiron@dell-inspiron#1#1/13</td>\n",
       "      <td>ElasticMatrixJob</td>\n",
       "      <td>0.0.1</td>\n",
       "      <td>None</td>\n",
       "      <td>NaN</td>\n",
       "    </tr>\n",
       "    <tr>\n",
       "      <th>4</th>\n",
       "      <td>85</td>\n",
       "      <td>finished</td>\n",
       "      <td>Cu4</td>\n",
       "      <td>s_e_0</td>\n",
       "      <td>/s_e_0</td>\n",
       "      <td>/home/yury/pyiron/projects/</td>\n",
       "      <td>pyiron-2021/test_ace_potential/elmat_hdf5/</td>\n",
       "      <td>2021-02-26 12:57:09.134167</td>\n",
       "      <td>2021-02-26 12:57:09.656789</td>\n",
       "      <td>0.0</td>\n",
       "      <td>pyiron@dell-inspiron#1</td>\n",
       "      <td>Lammps</td>\n",
       "      <td>0.1</td>\n",
       "      <td>None</td>\n",
       "      <td>84.0</td>\n",
       "    </tr>\n",
       "    <tr>\n",
       "      <th>5</th>\n",
       "      <td>86</td>\n",
       "      <td>finished</td>\n",
       "      <td>Cu4</td>\n",
       "      <td>s_01_e_m0_00500</td>\n",
       "      <td>/s_01_e_m0_00500</td>\n",
       "      <td>/home/yury/pyiron/projects/</td>\n",
       "      <td>pyiron-2021/test_ace_potential/elmat_hdf5/</td>\n",
       "      <td>2021-02-26 12:57:14.089914</td>\n",
       "      <td>2021-02-26 12:57:14.722149</td>\n",
       "      <td>0.0</td>\n",
       "      <td>pyiron@dell-inspiron#1</td>\n",
       "      <td>Lammps</td>\n",
       "      <td>0.1</td>\n",
       "      <td>None</td>\n",
       "      <td>84.0</td>\n",
       "    </tr>\n",
       "    <tr>\n",
       "      <th>6</th>\n",
       "      <td>87</td>\n",
       "      <td>finished</td>\n",
       "      <td>Cu4</td>\n",
       "      <td>s_01_e_m0_00250</td>\n",
       "      <td>/s_01_e_m0_00250</td>\n",
       "      <td>/home/yury/pyiron/projects/</td>\n",
       "      <td>pyiron-2021/test_ace_potential/elmat_hdf5/</td>\n",
       "      <td>2021-02-26 12:57:18.778998</td>\n",
       "      <td>2021-02-26 12:57:19.251781</td>\n",
       "      <td>0.0</td>\n",
       "      <td>pyiron@dell-inspiron#1</td>\n",
       "      <td>Lammps</td>\n",
       "      <td>0.1</td>\n",
       "      <td>None</td>\n",
       "      <td>84.0</td>\n",
       "    </tr>\n",
       "    <tr>\n",
       "      <th>7</th>\n",
       "      <td>88</td>\n",
       "      <td>finished</td>\n",
       "      <td>Cu4</td>\n",
       "      <td>s_01_e_0_00250</td>\n",
       "      <td>/s_01_e_0_00250</td>\n",
       "      <td>/home/yury/pyiron/projects/</td>\n",
       "      <td>pyiron-2021/test_ace_potential/elmat_hdf5/</td>\n",
       "      <td>2021-02-26 12:57:23.312311</td>\n",
       "      <td>2021-02-26 12:57:23.914459</td>\n",
       "      <td>0.0</td>\n",
       "      <td>pyiron@dell-inspiron#1</td>\n",
       "      <td>Lammps</td>\n",
       "      <td>0.1</td>\n",
       "      <td>None</td>\n",
       "      <td>84.0</td>\n",
       "    </tr>\n",
       "    <tr>\n",
       "      <th>8</th>\n",
       "      <td>89</td>\n",
       "      <td>finished</td>\n",
       "      <td>Cu4</td>\n",
       "      <td>s_01_e_0_00500</td>\n",
       "      <td>/s_01_e_0_00500</td>\n",
       "      <td>/home/yury/pyiron/projects/</td>\n",
       "      <td>pyiron-2021/test_ace_potential/elmat_hdf5/</td>\n",
       "      <td>2021-02-26 12:57:29.045891</td>\n",
       "      <td>2021-02-26 12:57:29.597258</td>\n",
       "      <td>0.0</td>\n",
       "      <td>pyiron@dell-inspiron#1</td>\n",
       "      <td>Lammps</td>\n",
       "      <td>0.1</td>\n",
       "      <td>None</td>\n",
       "      <td>84.0</td>\n",
       "    </tr>\n",
       "    <tr>\n",
       "      <th>9</th>\n",
       "      <td>90</td>\n",
       "      <td>finished</td>\n",
       "      <td>Cu4</td>\n",
       "      <td>s_08_e_m0_00500</td>\n",
       "      <td>/s_08_e_m0_00500</td>\n",
       "      <td>/home/yury/pyiron/projects/</td>\n",
       "      <td>pyiron-2021/test_ace_potential/elmat_hdf5/</td>\n",
       "      <td>2021-02-26 12:57:35.593480</td>\n",
       "      <td>2021-02-26 12:57:36.263261</td>\n",
       "      <td>0.0</td>\n",
       "      <td>pyiron@dell-inspiron#1</td>\n",
       "      <td>Lammps</td>\n",
       "      <td>0.1</td>\n",
       "      <td>None</td>\n",
       "      <td>84.0</td>\n",
       "    </tr>\n",
       "    <tr>\n",
       "      <th>10</th>\n",
       "      <td>91</td>\n",
       "      <td>finished</td>\n",
       "      <td>Cu4</td>\n",
       "      <td>s_08_e_m0_00250</td>\n",
       "      <td>/s_08_e_m0_00250</td>\n",
       "      <td>/home/yury/pyiron/projects/</td>\n",
       "      <td>pyiron-2021/test_ace_potential/elmat_hdf5/</td>\n",
       "      <td>2021-02-26 12:57:41.882591</td>\n",
       "      <td>2021-02-26 12:57:42.476024</td>\n",
       "      <td>0.0</td>\n",
       "      <td>pyiron@dell-inspiron#1</td>\n",
       "      <td>Lammps</td>\n",
       "      <td>0.1</td>\n",
       "      <td>None</td>\n",
       "      <td>84.0</td>\n",
       "    </tr>\n",
       "    <tr>\n",
       "      <th>11</th>\n",
       "      <td>92</td>\n",
       "      <td>finished</td>\n",
       "      <td>Cu4</td>\n",
       "      <td>s_08_e_0_00250</td>\n",
       "      <td>/s_08_e_0_00250</td>\n",
       "      <td>/home/yury/pyiron/projects/</td>\n",
       "      <td>pyiron-2021/test_ace_potential/elmat_hdf5/</td>\n",
       "      <td>2021-02-26 12:57:48.038449</td>\n",
       "      <td>2021-02-26 12:57:48.582823</td>\n",
       "      <td>0.0</td>\n",
       "      <td>pyiron@dell-inspiron#1</td>\n",
       "      <td>Lammps</td>\n",
       "      <td>0.1</td>\n",
       "      <td>None</td>\n",
       "      <td>84.0</td>\n",
       "    </tr>\n",
       "    <tr>\n",
       "      <th>12</th>\n",
       "      <td>93</td>\n",
       "      <td>finished</td>\n",
       "      <td>Cu4</td>\n",
       "      <td>s_08_e_0_00500</td>\n",
       "      <td>/s_08_e_0_00500</td>\n",
       "      <td>/home/yury/pyiron/projects/</td>\n",
       "      <td>pyiron-2021/test_ace_potential/elmat_hdf5/</td>\n",
       "      <td>2021-02-26 12:57:55.227523</td>\n",
       "      <td>2021-02-26 12:57:55.832857</td>\n",
       "      <td>0.0</td>\n",
       "      <td>pyiron@dell-inspiron#1</td>\n",
       "      <td>Lammps</td>\n",
       "      <td>0.1</td>\n",
       "      <td>None</td>\n",
       "      <td>84.0</td>\n",
       "    </tr>\n",
       "    <tr>\n",
       "      <th>13</th>\n",
       "      <td>94</td>\n",
       "      <td>finished</td>\n",
       "      <td>Cu4</td>\n",
       "      <td>s_23_e_m0_00500</td>\n",
       "      <td>/s_23_e_m0_00500</td>\n",
       "      <td>/home/yury/pyiron/projects/</td>\n",
       "      <td>pyiron-2021/test_ace_potential/elmat_hdf5/</td>\n",
       "      <td>2021-02-26 12:58:02.194587</td>\n",
       "      <td>2021-02-26 12:58:02.731504</td>\n",
       "      <td>0.0</td>\n",
       "      <td>pyiron@dell-inspiron#1</td>\n",
       "      <td>Lammps</td>\n",
       "      <td>0.1</td>\n",
       "      <td>None</td>\n",
       "      <td>84.0</td>\n",
       "    </tr>\n",
       "    <tr>\n",
       "      <th>14</th>\n",
       "      <td>95</td>\n",
       "      <td>finished</td>\n",
       "      <td>Cu4</td>\n",
       "      <td>s_23_e_m0_00250</td>\n",
       "      <td>/s_23_e_m0_00250</td>\n",
       "      <td>/home/yury/pyiron/projects/</td>\n",
       "      <td>pyiron-2021/test_ace_potential/elmat_hdf5/</td>\n",
       "      <td>2021-02-26 12:58:10.117102</td>\n",
       "      <td>2021-02-26 12:58:10.656974</td>\n",
       "      <td>0.0</td>\n",
       "      <td>pyiron@dell-inspiron#1</td>\n",
       "      <td>Lammps</td>\n",
       "      <td>0.1</td>\n",
       "      <td>None</td>\n",
       "      <td>84.0</td>\n",
       "    </tr>\n",
       "    <tr>\n",
       "      <th>15</th>\n",
       "      <td>96</td>\n",
       "      <td>finished</td>\n",
       "      <td>Cu4</td>\n",
       "      <td>s_23_e_0_00250</td>\n",
       "      <td>/s_23_e_0_00250</td>\n",
       "      <td>/home/yury/pyiron/projects/</td>\n",
       "      <td>pyiron-2021/test_ace_potential/elmat_hdf5/</td>\n",
       "      <td>2021-02-26 12:58:18.295211</td>\n",
       "      <td>2021-02-26 12:58:18.843492</td>\n",
       "      <td>0.0</td>\n",
       "      <td>pyiron@dell-inspiron#1</td>\n",
       "      <td>Lammps</td>\n",
       "      <td>0.1</td>\n",
       "      <td>None</td>\n",
       "      <td>84.0</td>\n",
       "    </tr>\n",
       "    <tr>\n",
       "      <th>16</th>\n",
       "      <td>97</td>\n",
       "      <td>finished</td>\n",
       "      <td>Cu4</td>\n",
       "      <td>s_23_e_0_00500</td>\n",
       "      <td>/s_23_e_0_00500</td>\n",
       "      <td>/home/yury/pyiron/projects/</td>\n",
       "      <td>pyiron-2021/test_ace_potential/elmat_hdf5/</td>\n",
       "      <td>2021-02-26 12:58:26.298537</td>\n",
       "      <td>2021-02-26 12:58:26.887632</td>\n",
       "      <td>0.0</td>\n",
       "      <td>pyiron@dell-inspiron#1</td>\n",
       "      <td>Lammps</td>\n",
       "      <td>0.1</td>\n",
       "      <td>None</td>\n",
       "      <td>84.0</td>\n",
       "    </tr>\n",
       "  </tbody>\n",
       "</table>\n",
       "</div>"
      ],
      "text/plain": [
       "    id    status chemicalformula              job            subjob  \\\n",
       "0   81  finished             Cu4       opt_lammps       /opt_lammps   \n",
       "1   82  finished             Cu4         phon_job         /phon_job   \n",
       "2   83  finished           Cu108        ref_job_0        /ref_job_0   \n",
       "3   84  finished             Cu4            elmat            /elmat   \n",
       "4   85  finished             Cu4            s_e_0            /s_e_0   \n",
       "5   86  finished             Cu4  s_01_e_m0_00500  /s_01_e_m0_00500   \n",
       "6   87  finished             Cu4  s_01_e_m0_00250  /s_01_e_m0_00250   \n",
       "7   88  finished             Cu4   s_01_e_0_00250   /s_01_e_0_00250   \n",
       "8   89  finished             Cu4   s_01_e_0_00500   /s_01_e_0_00500   \n",
       "9   90  finished             Cu4  s_08_e_m0_00500  /s_08_e_m0_00500   \n",
       "10  91  finished             Cu4  s_08_e_m0_00250  /s_08_e_m0_00250   \n",
       "11  92  finished             Cu4   s_08_e_0_00250   /s_08_e_0_00250   \n",
       "12  93  finished             Cu4   s_08_e_0_00500   /s_08_e_0_00500   \n",
       "13  94  finished             Cu4  s_23_e_m0_00500  /s_23_e_m0_00500   \n",
       "14  95  finished             Cu4  s_23_e_m0_00250  /s_23_e_m0_00250   \n",
       "15  96  finished             Cu4   s_23_e_0_00250   /s_23_e_0_00250   \n",
       "16  97  finished             Cu4   s_23_e_0_00500   /s_23_e_0_00500   \n",
       "\n",
       "                    projectpath  \\\n",
       "0   /home/yury/pyiron/projects/   \n",
       "1   /home/yury/pyiron/projects/   \n",
       "2   /home/yury/pyiron/projects/   \n",
       "3   /home/yury/pyiron/projects/   \n",
       "4   /home/yury/pyiron/projects/   \n",
       "5   /home/yury/pyiron/projects/   \n",
       "6   /home/yury/pyiron/projects/   \n",
       "7   /home/yury/pyiron/projects/   \n",
       "8   /home/yury/pyiron/projects/   \n",
       "9   /home/yury/pyiron/projects/   \n",
       "10  /home/yury/pyiron/projects/   \n",
       "11  /home/yury/pyiron/projects/   \n",
       "12  /home/yury/pyiron/projects/   \n",
       "13  /home/yury/pyiron/projects/   \n",
       "14  /home/yury/pyiron/projects/   \n",
       "15  /home/yury/pyiron/projects/   \n",
       "16  /home/yury/pyiron/projects/   \n",
       "\n",
       "                                          project                  timestart  \\\n",
       "0                 pyiron-2021/test_ace_potential/ 2021-02-26 12:54:46.117385   \n",
       "1                 pyiron-2021/test_ace_potential/ 2021-02-26 12:54:58.745687   \n",
       "2   pyiron-2021/test_ace_potential/phon_job_hdf5/ 2021-02-26 12:55:11.351661   \n",
       "3                 pyiron-2021/test_ace_potential/ 2021-02-26 12:57:05.499830   \n",
       "4      pyiron-2021/test_ace_potential/elmat_hdf5/ 2021-02-26 12:57:09.134167   \n",
       "5      pyiron-2021/test_ace_potential/elmat_hdf5/ 2021-02-26 12:57:14.089914   \n",
       "6      pyiron-2021/test_ace_potential/elmat_hdf5/ 2021-02-26 12:57:18.778998   \n",
       "7      pyiron-2021/test_ace_potential/elmat_hdf5/ 2021-02-26 12:57:23.312311   \n",
       "8      pyiron-2021/test_ace_potential/elmat_hdf5/ 2021-02-26 12:57:29.045891   \n",
       "9      pyiron-2021/test_ace_potential/elmat_hdf5/ 2021-02-26 12:57:35.593480   \n",
       "10     pyiron-2021/test_ace_potential/elmat_hdf5/ 2021-02-26 12:57:41.882591   \n",
       "11     pyiron-2021/test_ace_potential/elmat_hdf5/ 2021-02-26 12:57:48.038449   \n",
       "12     pyiron-2021/test_ace_potential/elmat_hdf5/ 2021-02-26 12:57:55.227523   \n",
       "13     pyiron-2021/test_ace_potential/elmat_hdf5/ 2021-02-26 12:58:02.194587   \n",
       "14     pyiron-2021/test_ace_potential/elmat_hdf5/ 2021-02-26 12:58:10.117102   \n",
       "15     pyiron-2021/test_ace_potential/elmat_hdf5/ 2021-02-26 12:58:18.295211   \n",
       "16     pyiron-2021/test_ace_potential/elmat_hdf5/ 2021-02-26 12:58:26.298537   \n",
       "\n",
       "                     timestop  totalcputime                     computer  \\\n",
       "0  2021-02-26 12:54:46.617448           0.0       pyiron@dell-inspiron#1   \n",
       "1  2021-02-26 12:55:13.747981          15.0   pyiron@dell-inspiron#1#1/1   \n",
       "2  2021-02-26 12:55:11.862122           0.0       pyiron@dell-inspiron#1   \n",
       "3  2021-02-26 12:58:28.890465          83.0  pyiron@dell-inspiron#1#1/13   \n",
       "4  2021-02-26 12:57:09.656789           0.0       pyiron@dell-inspiron#1   \n",
       "5  2021-02-26 12:57:14.722149           0.0       pyiron@dell-inspiron#1   \n",
       "6  2021-02-26 12:57:19.251781           0.0       pyiron@dell-inspiron#1   \n",
       "7  2021-02-26 12:57:23.914459           0.0       pyiron@dell-inspiron#1   \n",
       "8  2021-02-26 12:57:29.597258           0.0       pyiron@dell-inspiron#1   \n",
       "9  2021-02-26 12:57:36.263261           0.0       pyiron@dell-inspiron#1   \n",
       "10 2021-02-26 12:57:42.476024           0.0       pyiron@dell-inspiron#1   \n",
       "11 2021-02-26 12:57:48.582823           0.0       pyiron@dell-inspiron#1   \n",
       "12 2021-02-26 12:57:55.832857           0.0       pyiron@dell-inspiron#1   \n",
       "13 2021-02-26 12:58:02.731504           0.0       pyiron@dell-inspiron#1   \n",
       "14 2021-02-26 12:58:10.656974           0.0       pyiron@dell-inspiron#1   \n",
       "15 2021-02-26 12:58:18.843492           0.0       pyiron@dell-inspiron#1   \n",
       "16 2021-02-26 12:58:26.887632           0.0       pyiron@dell-inspiron#1   \n",
       "\n",
       "            hamilton hamversion parentid  masterid  \n",
       "0             Lammps        0.1     None       NaN  \n",
       "1         PhonopyJob      0.0.1     None       NaN  \n",
       "2             Lammps        0.1     None      82.0  \n",
       "3   ElasticMatrixJob      0.0.1     None       NaN  \n",
       "4             Lammps        0.1     None      84.0  \n",
       "5             Lammps        0.1     None      84.0  \n",
       "6             Lammps        0.1     None      84.0  \n",
       "7             Lammps        0.1     None      84.0  \n",
       "8             Lammps        0.1     None      84.0  \n",
       "9             Lammps        0.1     None      84.0  \n",
       "10            Lammps        0.1     None      84.0  \n",
       "11            Lammps        0.1     None      84.0  \n",
       "12            Lammps        0.1     None      84.0  \n",
       "13            Lammps        0.1     None      84.0  \n",
       "14            Lammps        0.1     None      84.0  \n",
       "15            Lammps        0.1     None      84.0  \n",
       "16            Lammps        0.1     None      84.0  "
      ]
     },
     "execution_count": 139,
     "metadata": {},
     "output_type": "execute_result"
    }
   ],
   "source": [
    "test_pr.job_table()"
   ]
  },
  {
   "cell_type": "code",
   "execution_count": 140,
   "metadata": {},
   "outputs": [
    {
     "data": {
      "text/plain": [
       "array([[185.94676377, 120.73237664, 120.73237664,   0.        ,\n",
       "          0.        ,   0.        ],\n",
       "       [120.73237664, 185.94676377, 120.73237664,   0.        ,\n",
       "          0.        ,   0.        ],\n",
       "       [120.73237664, 120.73237664, 185.94676377,   0.        ,\n",
       "          0.        ,   0.        ],\n",
       "       [  0.        ,   0.        ,   0.        ,  78.34168019,\n",
       "          0.        ,   0.        ],\n",
       "       [  0.        ,   0.        ,   0.        ,   0.        ,\n",
       "         78.34168019,   0.        ],\n",
       "       [  0.        ,   0.        ,   0.        ,   0.        ,\n",
       "          0.        ,  78.34168019]])"
      ]
     },
     "execution_count": 140,
     "metadata": {},
     "output_type": "execute_result"
    }
   ],
   "source": [
    "elmat_job[\"output/elasticmatrix\"][\"C\"]"
   ]
  },
  {
   "cell_type": "markdown",
   "metadata": {},
   "source": [
    "## Phonons"
   ]
  },
  {
   "cell_type": "code",
   "execution_count": 100,
   "metadata": {},
   "outputs": [],
   "source": [
    "phon_job = test_pr.create.job.PhonopyJob(\"phon_job\", delete_existing_job=True)"
   ]
  },
  {
   "cell_type": "code",
   "execution_count": 101,
   "metadata": {},
   "outputs": [],
   "source": [
    "ref_job = test_pr.create.job.Lammps(\"ref_job\", delete_existing_job=True)"
   ]
  },
  {
   "cell_type": "code",
   "execution_count": 102,
   "metadata": {},
   "outputs": [],
   "source": [
    "ref_job.executable.version=\"2020.12.24_pace\""
   ]
  },
  {
   "cell_type": "code",
   "execution_count": 103,
   "metadata": {},
   "outputs": [],
   "source": [
    "ref_job.calc_static()"
   ]
  },
  {
   "cell_type": "code",
   "execution_count": 104,
   "metadata": {},
   "outputs": [],
   "source": [
    "ref_job.potential = cu_ace_potential"
   ]
  },
  {
   "cell_type": "code",
   "execution_count": 105,
   "metadata": {},
   "outputs": [],
   "source": [
    "ref_job.structure = lammps_job.get_structure()"
   ]
  },
  {
   "cell_type": "code",
   "execution_count": null,
   "metadata": {},
   "outputs": [],
   "source": []
  },
  {
   "cell_type": "code",
   "execution_count": 106,
   "metadata": {},
   "outputs": [],
   "source": [
    "phon_job.ref_job = ref_job"
   ]
  },
  {
   "cell_type": "code",
   "execution_count": null,
   "metadata": {},
   "outputs": [],
   "source": [
    "phon_job.run(run_mode=\"non_modal\")"
   ]
  },
  {
   "cell_type": "code",
   "execution_count": 122,
   "metadata": {},
   "outputs": [
    {
     "data": {
      "text/html": [
       "<div>\n",
       "<style scoped>\n",
       "    .dataframe tbody tr th:only-of-type {\n",
       "        vertical-align: middle;\n",
       "    }\n",
       "\n",
       "    .dataframe tbody tr th {\n",
       "        vertical-align: top;\n",
       "    }\n",
       "\n",
       "    .dataframe thead th {\n",
       "        text-align: right;\n",
       "    }\n",
       "</style>\n",
       "<table border=\"1\" class=\"dataframe\">\n",
       "  <thead>\n",
       "    <tr style=\"text-align: right;\">\n",
       "      <th></th>\n",
       "      <th>id</th>\n",
       "      <th>status</th>\n",
       "      <th>chemicalformula</th>\n",
       "      <th>job</th>\n",
       "      <th>subjob</th>\n",
       "      <th>projectpath</th>\n",
       "      <th>project</th>\n",
       "      <th>timestart</th>\n",
       "      <th>timestop</th>\n",
       "      <th>totalcputime</th>\n",
       "      <th>computer</th>\n",
       "      <th>hamilton</th>\n",
       "      <th>hamversion</th>\n",
       "      <th>parentid</th>\n",
       "      <th>masterid</th>\n",
       "    </tr>\n",
       "  </thead>\n",
       "  <tbody>\n",
       "    <tr>\n",
       "      <th>0</th>\n",
       "      <td>64</td>\n",
       "      <td>finished</td>\n",
       "      <td>Cu4</td>\n",
       "      <td>elmat</td>\n",
       "      <td>/elmat</td>\n",
       "      <td>/home/yury/pyiron/projects/</td>\n",
       "      <td>pyiron-2021/test_ace_potential/</td>\n",
       "      <td>2021-02-26 12:50:04.490993</td>\n",
       "      <td>2021-02-26 12:51:24.937689</td>\n",
       "      <td>80.0</td>\n",
       "      <td>pyiron@dell-inspiron#1#1/13</td>\n",
       "      <td>ElasticMatrixJob</td>\n",
       "      <td>0.0.1</td>\n",
       "      <td>None</td>\n",
       "      <td>NaN</td>\n",
       "    </tr>\n",
       "    <tr>\n",
       "      <th>1</th>\n",
       "      <td>65</td>\n",
       "      <td>finished</td>\n",
       "      <td>Cu4</td>\n",
       "      <td>s_e_0</td>\n",
       "      <td>/s_e_0</td>\n",
       "      <td>/home/yury/pyiron/projects/</td>\n",
       "      <td>pyiron-2021/test_ace_potential/elmat_hdf5/</td>\n",
       "      <td>2021-02-26 12:50:08.150673</td>\n",
       "      <td>2021-02-26 12:50:08.670702</td>\n",
       "      <td>0.0</td>\n",
       "      <td>pyiron@dell-inspiron#1</td>\n",
       "      <td>Lammps</td>\n",
       "      <td>0.1</td>\n",
       "      <td>None</td>\n",
       "      <td>64.0</td>\n",
       "    </tr>\n",
       "    <tr>\n",
       "      <th>2</th>\n",
       "      <td>66</td>\n",
       "      <td>finished</td>\n",
       "      <td>Cu4</td>\n",
       "      <td>s_01_e_m0_00500</td>\n",
       "      <td>/s_01_e_m0_00500</td>\n",
       "      <td>/home/yury/pyiron/projects/</td>\n",
       "      <td>pyiron-2021/test_ace_potential/elmat_hdf5/</td>\n",
       "      <td>2021-02-26 12:50:13.073071</td>\n",
       "      <td>2021-02-26 12:50:13.600686</td>\n",
       "      <td>0.0</td>\n",
       "      <td>pyiron@dell-inspiron#1</td>\n",
       "      <td>Lammps</td>\n",
       "      <td>0.1</td>\n",
       "      <td>None</td>\n",
       "      <td>64.0</td>\n",
       "    </tr>\n",
       "    <tr>\n",
       "      <th>3</th>\n",
       "      <td>67</td>\n",
       "      <td>finished</td>\n",
       "      <td>Cu4</td>\n",
       "      <td>s_01_e_m0_00250</td>\n",
       "      <td>/s_01_e_m0_00250</td>\n",
       "      <td>/home/yury/pyiron/projects/</td>\n",
       "      <td>pyiron-2021/test_ace_potential/elmat_hdf5/</td>\n",
       "      <td>2021-02-26 12:50:17.795531</td>\n",
       "      <td>2021-02-26 12:50:18.350906</td>\n",
       "      <td>0.0</td>\n",
       "      <td>pyiron@dell-inspiron#1</td>\n",
       "      <td>Lammps</td>\n",
       "      <td>0.1</td>\n",
       "      <td>None</td>\n",
       "      <td>64.0</td>\n",
       "    </tr>\n",
       "    <tr>\n",
       "      <th>4</th>\n",
       "      <td>68</td>\n",
       "      <td>finished</td>\n",
       "      <td>Cu4</td>\n",
       "      <td>s_01_e_0_00250</td>\n",
       "      <td>/s_01_e_0_00250</td>\n",
       "      <td>/home/yury/pyiron/projects/</td>\n",
       "      <td>pyiron-2021/test_ace_potential/elmat_hdf5/</td>\n",
       "      <td>2021-02-26 12:50:22.684634</td>\n",
       "      <td>2021-02-26 12:50:23.240086</td>\n",
       "      <td>0.0</td>\n",
       "      <td>pyiron@dell-inspiron#1</td>\n",
       "      <td>Lammps</td>\n",
       "      <td>0.1</td>\n",
       "      <td>None</td>\n",
       "      <td>64.0</td>\n",
       "    </tr>\n",
       "    <tr>\n",
       "      <th>5</th>\n",
       "      <td>69</td>\n",
       "      <td>finished</td>\n",
       "      <td>Cu4</td>\n",
       "      <td>s_01_e_0_00500</td>\n",
       "      <td>/s_01_e_0_00500</td>\n",
       "      <td>/home/yury/pyiron/projects/</td>\n",
       "      <td>pyiron-2021/test_ace_potential/elmat_hdf5/</td>\n",
       "      <td>2021-02-26 12:50:27.896122</td>\n",
       "      <td>2021-02-26 12:50:28.480391</td>\n",
       "      <td>0.0</td>\n",
       "      <td>pyiron@dell-inspiron#1</td>\n",
       "      <td>Lammps</td>\n",
       "      <td>0.1</td>\n",
       "      <td>None</td>\n",
       "      <td>64.0</td>\n",
       "    </tr>\n",
       "    <tr>\n",
       "      <th>6</th>\n",
       "      <td>70</td>\n",
       "      <td>finished</td>\n",
       "      <td>Cu4</td>\n",
       "      <td>s_08_e_m0_00500</td>\n",
       "      <td>/s_08_e_m0_00500</td>\n",
       "      <td>/home/yury/pyiron/projects/</td>\n",
       "      <td>pyiron-2021/test_ace_potential/elmat_hdf5/</td>\n",
       "      <td>2021-02-26 12:50:33.162833</td>\n",
       "      <td>2021-02-26 12:50:33.698030</td>\n",
       "      <td>0.0</td>\n",
       "      <td>pyiron@dell-inspiron#1</td>\n",
       "      <td>Lammps</td>\n",
       "      <td>0.1</td>\n",
       "      <td>None</td>\n",
       "      <td>64.0</td>\n",
       "    </tr>\n",
       "    <tr>\n",
       "      <th>7</th>\n",
       "      <td>71</td>\n",
       "      <td>finished</td>\n",
       "      <td>Cu4</td>\n",
       "      <td>s_08_e_m0_00250</td>\n",
       "      <td>/s_08_e_m0_00250</td>\n",
       "      <td>/home/yury/pyiron/projects/</td>\n",
       "      <td>pyiron-2021/test_ace_potential/elmat_hdf5/</td>\n",
       "      <td>2021-02-26 12:50:39.052056</td>\n",
       "      <td>2021-02-26 12:50:39.605935</td>\n",
       "      <td>0.0</td>\n",
       "      <td>pyiron@dell-inspiron#1</td>\n",
       "      <td>Lammps</td>\n",
       "      <td>0.1</td>\n",
       "      <td>None</td>\n",
       "      <td>64.0</td>\n",
       "    </tr>\n",
       "    <tr>\n",
       "      <th>8</th>\n",
       "      <td>72</td>\n",
       "      <td>finished</td>\n",
       "      <td>Cu4</td>\n",
       "      <td>s_08_e_0_00250</td>\n",
       "      <td>/s_08_e_0_00250</td>\n",
       "      <td>/home/yury/pyiron/projects/</td>\n",
       "      <td>pyiron-2021/test_ace_potential/elmat_hdf5/</td>\n",
       "      <td>2021-02-26 12:50:45.441164</td>\n",
       "      <td>2021-02-26 12:50:46.030061</td>\n",
       "      <td>0.0</td>\n",
       "      <td>pyiron@dell-inspiron#1</td>\n",
       "      <td>Lammps</td>\n",
       "      <td>0.1</td>\n",
       "      <td>None</td>\n",
       "      <td>64.0</td>\n",
       "    </tr>\n",
       "    <tr>\n",
       "      <th>9</th>\n",
       "      <td>73</td>\n",
       "      <td>finished</td>\n",
       "      <td>Cu4</td>\n",
       "      <td>s_08_e_0_00500</td>\n",
       "      <td>/s_08_e_0_00500</td>\n",
       "      <td>/home/yury/pyiron/projects/</td>\n",
       "      <td>pyiron-2021/test_ace_potential/elmat_hdf5/</td>\n",
       "      <td>2021-02-26 12:50:52.363621</td>\n",
       "      <td>2021-02-26 12:50:53.040951</td>\n",
       "      <td>0.0</td>\n",
       "      <td>pyiron@dell-inspiron#1</td>\n",
       "      <td>Lammps</td>\n",
       "      <td>0.1</td>\n",
       "      <td>None</td>\n",
       "      <td>64.0</td>\n",
       "    </tr>\n",
       "    <tr>\n",
       "      <th>10</th>\n",
       "      <td>74</td>\n",
       "      <td>finished</td>\n",
       "      <td>Cu4</td>\n",
       "      <td>s_23_e_m0_00500</td>\n",
       "      <td>/s_23_e_m0_00500</td>\n",
       "      <td>/home/yury/pyiron/projects/</td>\n",
       "      <td>pyiron-2021/test_ace_potential/elmat_hdf5/</td>\n",
       "      <td>2021-02-26 12:50:59.197030</td>\n",
       "      <td>2021-02-26 12:50:59.752488</td>\n",
       "      <td>0.0</td>\n",
       "      <td>pyiron@dell-inspiron#1</td>\n",
       "      <td>Lammps</td>\n",
       "      <td>0.1</td>\n",
       "      <td>None</td>\n",
       "      <td>64.0</td>\n",
       "    </tr>\n",
       "    <tr>\n",
       "      <th>11</th>\n",
       "      <td>75</td>\n",
       "      <td>finished</td>\n",
       "      <td>Cu4</td>\n",
       "      <td>s_23_e_m0_00250</td>\n",
       "      <td>/s_23_e_m0_00250</td>\n",
       "      <td>/home/yury/pyiron/projects/</td>\n",
       "      <td>pyiron-2021/test_ace_potential/elmat_hdf5/</td>\n",
       "      <td>2021-02-26 12:51:06.936599</td>\n",
       "      <td>2021-02-26 12:51:07.532550</td>\n",
       "      <td>0.0</td>\n",
       "      <td>pyiron@dell-inspiron#1</td>\n",
       "      <td>Lammps</td>\n",
       "      <td>0.1</td>\n",
       "      <td>None</td>\n",
       "      <td>64.0</td>\n",
       "    </tr>\n",
       "    <tr>\n",
       "      <th>12</th>\n",
       "      <td>76</td>\n",
       "      <td>finished</td>\n",
       "      <td>Cu4</td>\n",
       "      <td>s_23_e_0_00250</td>\n",
       "      <td>/s_23_e_0_00250</td>\n",
       "      <td>/home/yury/pyiron/projects/</td>\n",
       "      <td>pyiron-2021/test_ace_potential/elmat_hdf5/</td>\n",
       "      <td>2021-02-26 12:51:14.653314</td>\n",
       "      <td>2021-02-26 12:51:15.237690</td>\n",
       "      <td>0.0</td>\n",
       "      <td>pyiron@dell-inspiron#1</td>\n",
       "      <td>Lammps</td>\n",
       "      <td>0.1</td>\n",
       "      <td>None</td>\n",
       "      <td>64.0</td>\n",
       "    </tr>\n",
       "    <tr>\n",
       "      <th>13</th>\n",
       "      <td>77</td>\n",
       "      <td>finished</td>\n",
       "      <td>Cu4</td>\n",
       "      <td>s_23_e_0_00500</td>\n",
       "      <td>/s_23_e_0_00500</td>\n",
       "      <td>/home/yury/pyiron/projects/</td>\n",
       "      <td>pyiron-2021/test_ace_potential/elmat_hdf5/</td>\n",
       "      <td>2021-02-26 12:51:22.553693</td>\n",
       "      <td>2021-02-26 12:51:23.112042</td>\n",
       "      <td>0.0</td>\n",
       "      <td>pyiron@dell-inspiron#1</td>\n",
       "      <td>Lammps</td>\n",
       "      <td>0.1</td>\n",
       "      <td>None</td>\n",
       "      <td>64.0</td>\n",
       "    </tr>\n",
       "    <tr>\n",
       "      <th>14</th>\n",
       "      <td>81</td>\n",
       "      <td>finished</td>\n",
       "      <td>Cu4</td>\n",
       "      <td>opt_lammps</td>\n",
       "      <td>/opt_lammps</td>\n",
       "      <td>/home/yury/pyiron/projects/</td>\n",
       "      <td>pyiron-2021/test_ace_potential/</td>\n",
       "      <td>2021-02-26 12:54:46.117385</td>\n",
       "      <td>2021-02-26 12:54:46.617448</td>\n",
       "      <td>0.0</td>\n",
       "      <td>pyiron@dell-inspiron#1</td>\n",
       "      <td>Lammps</td>\n",
       "      <td>0.1</td>\n",
       "      <td>None</td>\n",
       "      <td>NaN</td>\n",
       "    </tr>\n",
       "    <tr>\n",
       "      <th>15</th>\n",
       "      <td>82</td>\n",
       "      <td>finished</td>\n",
       "      <td>Cu4</td>\n",
       "      <td>phon_job</td>\n",
       "      <td>/phon_job</td>\n",
       "      <td>/home/yury/pyiron/projects/</td>\n",
       "      <td>pyiron-2021/test_ace_potential/</td>\n",
       "      <td>2021-02-26 12:54:58.745687</td>\n",
       "      <td>2021-02-26 12:55:13.747981</td>\n",
       "      <td>15.0</td>\n",
       "      <td>pyiron@dell-inspiron#1#1/1</td>\n",
       "      <td>PhonopyJob</td>\n",
       "      <td>0.0.1</td>\n",
       "      <td>None</td>\n",
       "      <td>NaN</td>\n",
       "    </tr>\n",
       "    <tr>\n",
       "      <th>16</th>\n",
       "      <td>83</td>\n",
       "      <td>finished</td>\n",
       "      <td>Cu108</td>\n",
       "      <td>ref_job_0</td>\n",
       "      <td>/ref_job_0</td>\n",
       "      <td>/home/yury/pyiron/projects/</td>\n",
       "      <td>pyiron-2021/test_ace_potential/phon_job_hdf5/</td>\n",
       "      <td>2021-02-26 12:55:11.351661</td>\n",
       "      <td>2021-02-26 12:55:11.862122</td>\n",
       "      <td>0.0</td>\n",
       "      <td>pyiron@dell-inspiron#1</td>\n",
       "      <td>Lammps</td>\n",
       "      <td>0.1</td>\n",
       "      <td>None</td>\n",
       "      <td>82.0</td>\n",
       "    </tr>\n",
       "  </tbody>\n",
       "</table>\n",
       "</div>"
      ],
      "text/plain": [
       "    id    status chemicalformula              job            subjob  \\\n",
       "0   64  finished             Cu4            elmat            /elmat   \n",
       "1   65  finished             Cu4            s_e_0            /s_e_0   \n",
       "2   66  finished             Cu4  s_01_e_m0_00500  /s_01_e_m0_00500   \n",
       "3   67  finished             Cu4  s_01_e_m0_00250  /s_01_e_m0_00250   \n",
       "4   68  finished             Cu4   s_01_e_0_00250   /s_01_e_0_00250   \n",
       "5   69  finished             Cu4   s_01_e_0_00500   /s_01_e_0_00500   \n",
       "6   70  finished             Cu4  s_08_e_m0_00500  /s_08_e_m0_00500   \n",
       "7   71  finished             Cu4  s_08_e_m0_00250  /s_08_e_m0_00250   \n",
       "8   72  finished             Cu4   s_08_e_0_00250   /s_08_e_0_00250   \n",
       "9   73  finished             Cu4   s_08_e_0_00500   /s_08_e_0_00500   \n",
       "10  74  finished             Cu4  s_23_e_m0_00500  /s_23_e_m0_00500   \n",
       "11  75  finished             Cu4  s_23_e_m0_00250  /s_23_e_m0_00250   \n",
       "12  76  finished             Cu4   s_23_e_0_00250   /s_23_e_0_00250   \n",
       "13  77  finished             Cu4   s_23_e_0_00500   /s_23_e_0_00500   \n",
       "14  81  finished             Cu4       opt_lammps       /opt_lammps   \n",
       "15  82  finished             Cu4         phon_job         /phon_job   \n",
       "16  83  finished           Cu108        ref_job_0        /ref_job_0   \n",
       "\n",
       "                    projectpath  \\\n",
       "0   /home/yury/pyiron/projects/   \n",
       "1   /home/yury/pyiron/projects/   \n",
       "2   /home/yury/pyiron/projects/   \n",
       "3   /home/yury/pyiron/projects/   \n",
       "4   /home/yury/pyiron/projects/   \n",
       "5   /home/yury/pyiron/projects/   \n",
       "6   /home/yury/pyiron/projects/   \n",
       "7   /home/yury/pyiron/projects/   \n",
       "8   /home/yury/pyiron/projects/   \n",
       "9   /home/yury/pyiron/projects/   \n",
       "10  /home/yury/pyiron/projects/   \n",
       "11  /home/yury/pyiron/projects/   \n",
       "12  /home/yury/pyiron/projects/   \n",
       "13  /home/yury/pyiron/projects/   \n",
       "14  /home/yury/pyiron/projects/   \n",
       "15  /home/yury/pyiron/projects/   \n",
       "16  /home/yury/pyiron/projects/   \n",
       "\n",
       "                                          project                  timestart  \\\n",
       "0                 pyiron-2021/test_ace_potential/ 2021-02-26 12:50:04.490993   \n",
       "1      pyiron-2021/test_ace_potential/elmat_hdf5/ 2021-02-26 12:50:08.150673   \n",
       "2      pyiron-2021/test_ace_potential/elmat_hdf5/ 2021-02-26 12:50:13.073071   \n",
       "3      pyiron-2021/test_ace_potential/elmat_hdf5/ 2021-02-26 12:50:17.795531   \n",
       "4      pyiron-2021/test_ace_potential/elmat_hdf5/ 2021-02-26 12:50:22.684634   \n",
       "5      pyiron-2021/test_ace_potential/elmat_hdf5/ 2021-02-26 12:50:27.896122   \n",
       "6      pyiron-2021/test_ace_potential/elmat_hdf5/ 2021-02-26 12:50:33.162833   \n",
       "7      pyiron-2021/test_ace_potential/elmat_hdf5/ 2021-02-26 12:50:39.052056   \n",
       "8      pyiron-2021/test_ace_potential/elmat_hdf5/ 2021-02-26 12:50:45.441164   \n",
       "9      pyiron-2021/test_ace_potential/elmat_hdf5/ 2021-02-26 12:50:52.363621   \n",
       "10     pyiron-2021/test_ace_potential/elmat_hdf5/ 2021-02-26 12:50:59.197030   \n",
       "11     pyiron-2021/test_ace_potential/elmat_hdf5/ 2021-02-26 12:51:06.936599   \n",
       "12     pyiron-2021/test_ace_potential/elmat_hdf5/ 2021-02-26 12:51:14.653314   \n",
       "13     pyiron-2021/test_ace_potential/elmat_hdf5/ 2021-02-26 12:51:22.553693   \n",
       "14                pyiron-2021/test_ace_potential/ 2021-02-26 12:54:46.117385   \n",
       "15                pyiron-2021/test_ace_potential/ 2021-02-26 12:54:58.745687   \n",
       "16  pyiron-2021/test_ace_potential/phon_job_hdf5/ 2021-02-26 12:55:11.351661   \n",
       "\n",
       "                     timestop  totalcputime                     computer  \\\n",
       "0  2021-02-26 12:51:24.937689          80.0  pyiron@dell-inspiron#1#1/13   \n",
       "1  2021-02-26 12:50:08.670702           0.0       pyiron@dell-inspiron#1   \n",
       "2  2021-02-26 12:50:13.600686           0.0       pyiron@dell-inspiron#1   \n",
       "3  2021-02-26 12:50:18.350906           0.0       pyiron@dell-inspiron#1   \n",
       "4  2021-02-26 12:50:23.240086           0.0       pyiron@dell-inspiron#1   \n",
       "5  2021-02-26 12:50:28.480391           0.0       pyiron@dell-inspiron#1   \n",
       "6  2021-02-26 12:50:33.698030           0.0       pyiron@dell-inspiron#1   \n",
       "7  2021-02-26 12:50:39.605935           0.0       pyiron@dell-inspiron#1   \n",
       "8  2021-02-26 12:50:46.030061           0.0       pyiron@dell-inspiron#1   \n",
       "9  2021-02-26 12:50:53.040951           0.0       pyiron@dell-inspiron#1   \n",
       "10 2021-02-26 12:50:59.752488           0.0       pyiron@dell-inspiron#1   \n",
       "11 2021-02-26 12:51:07.532550           0.0       pyiron@dell-inspiron#1   \n",
       "12 2021-02-26 12:51:15.237690           0.0       pyiron@dell-inspiron#1   \n",
       "13 2021-02-26 12:51:23.112042           0.0       pyiron@dell-inspiron#1   \n",
       "14 2021-02-26 12:54:46.617448           0.0       pyiron@dell-inspiron#1   \n",
       "15 2021-02-26 12:55:13.747981          15.0   pyiron@dell-inspiron#1#1/1   \n",
       "16 2021-02-26 12:55:11.862122           0.0       pyiron@dell-inspiron#1   \n",
       "\n",
       "            hamilton hamversion parentid  masterid  \n",
       "0   ElasticMatrixJob      0.0.1     None       NaN  \n",
       "1             Lammps        0.1     None      64.0  \n",
       "2             Lammps        0.1     None      64.0  \n",
       "3             Lammps        0.1     None      64.0  \n",
       "4             Lammps        0.1     None      64.0  \n",
       "5             Lammps        0.1     None      64.0  \n",
       "6             Lammps        0.1     None      64.0  \n",
       "7             Lammps        0.1     None      64.0  \n",
       "8             Lammps        0.1     None      64.0  \n",
       "9             Lammps        0.1     None      64.0  \n",
       "10            Lammps        0.1     None      64.0  \n",
       "11            Lammps        0.1     None      64.0  \n",
       "12            Lammps        0.1     None      64.0  \n",
       "13            Lammps        0.1     None      64.0  \n",
       "14            Lammps        0.1     None       NaN  \n",
       "15        PhonopyJob      0.0.1     None       NaN  \n",
       "16            Lammps        0.1     None      82.0  "
      ]
     },
     "execution_count": 122,
     "metadata": {},
     "output_type": "execute_result"
    }
   ],
   "source": [
    "test_pr.job_table(full_table=True)"
   ]
  },
  {
   "cell_type": "code",
   "execution_count": 110,
   "metadata": {},
   "outputs": [
    {
     "data": {
      "text/plain": [
       "<AxesSubplot:title={'center':'Phonon DOS vs Energy'}, xlabel='Frequency [THz]', ylabel='DOS'>"
      ]
     },
     "execution_count": 110,
     "metadata": {},
     "output_type": "execute_result"
    },
    {
     "data": {
      "image/png": "[encoded data removed]",
      "text/plain": [
       "<Figure size 432x288 with 1 Axes>"
      ]
     },
     "metadata": {
      "needs_background": "light"
     },
     "output_type": "display_data"
    }
   ],
   "source": [
    "phon_job.plot_dos()"
   ]
  },
  {
   "cell_type": "code",
   "execution_count": null,
   "metadata": {},
   "outputs": [],
   "source": []
  }
 ],
 "metadata": {
  "kernelspec": {
   "display_name": "Python (pyiron2021)",
   "language": "python",
   "name": "pyiron2021"
  },
  "language_info": {
   "codemirror_mode": {
    "name": "ipython",
    "version": 3
   },
   "file_extension": ".py",
   "mimetype": "text/x-python",
   "name": "python",
   "nbconvert_exporter": "python",
   "pygments_lexer": "ipython3",
   "version": "3.8.5"
  }
 },
 "nbformat": 4,
 "nbformat_minor": 4
}
