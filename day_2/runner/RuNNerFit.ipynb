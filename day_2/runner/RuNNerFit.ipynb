{
 "cells": [
  {
   "cell_type": "code",
   "execution_count": 1,
   "id": "according-dictionary",
   "metadata": {},
   "outputs": [],
   "source": [
    "from pyiron import Project"
   ]
  },
  {
   "cell_type": "code",
   "execution_count": 2,
   "id": "prompt-headline",
   "metadata": {},
   "outputs": [],
   "source": [
    "pr = Project(\"runner_fit\")"
   ]
  },
  {
   "cell_type": "code",
   "execution_count": 3,
   "id": "connected-midwest",
   "metadata": {},
   "outputs": [],
   "source": [
    "pr_fit = Project(\"imported_datasets\")"
   ]
  },
  {
   "cell_type": "code",
   "execution_count": 4,
   "id": "lesser-insurance",
   "metadata": {},
   "outputs": [
    {
     "data": {
      "text/html": [
       "<div>\n",
       "<style scoped>\n",
       "    .dataframe tbody tr th:only-of-type {\n",
       "        vertical-align: middle;\n",
       "    }\n",
       "\n",
       "    .dataframe tbody tr th {\n",
       "        vertical-align: top;\n",
       "    }\n",
       "\n",
       "    .dataframe thead th {\n",
       "        text-align: right;\n",
       "    }\n",
       "</style>\n",
       "<table border=\"1\" class=\"dataframe\">\n",
       "  <thead>\n",
       "    <tr style=\"text-align: right;\">\n",
       "      <th></th>\n",
       "      <th>id</th>\n",
       "      <th>status</th>\n",
       "      <th>chemicalformula</th>\n",
       "      <th>job</th>\n",
       "      <th>subjob</th>\n",
       "      <th>projectpath</th>\n",
       "      <th>project</th>\n",
       "      <th>timestart</th>\n",
       "      <th>timestop</th>\n",
       "      <th>totalcputime</th>\n",
       "      <th>computer</th>\n",
       "      <th>hamilton</th>\n",
       "      <th>hamversion</th>\n",
       "      <th>parentid</th>\n",
       "      <th>masterid</th>\n",
       "    </tr>\n",
       "  </thead>\n",
       "  <tbody>\n",
       "    <tr>\n",
       "      <th>0</th>\n",
       "      <td>12469639</td>\n",
       "      <td>finished</td>\n",
       "      <td>None</td>\n",
       "      <td>df1_A1_A2_A3_EV_elast_phon</td>\n",
       "      <td>/df1_A1_A2_A3_EV_elast_phon</td>\n",
       "      <td>/cmmc/u/</td>\n",
       "      <td>zora/pyiron/projects/PotentialWorkshop/import_database/Cu_database/</td>\n",
       "      <td>2021-02-18 19:49:53.061360</td>\n",
       "      <td>None</td>\n",
       "      <td>None</td>\n",
       "      <td>zora@cmti001#1</td>\n",
       "      <td>TrainingContainer</td>\n",
       "      <td>0.4</td>\n",
       "      <td>None</td>\n",
       "      <td>None</td>\n",
       "    </tr>\n",
       "    <tr>\n",
       "      <th>1</th>\n",
       "      <td>12469640</td>\n",
       "      <td>finished</td>\n",
       "      <td>None</td>\n",
       "      <td>df3_10k</td>\n",
       "      <td>/df3_10k</td>\n",
       "      <td>/cmmc/u/</td>\n",
       "      <td>zora/pyiron/projects/PotentialWorkshop/import_database/Cu_database/</td>\n",
       "      <td>2021-02-18 19:49:55.496691</td>\n",
       "      <td>None</td>\n",
       "      <td>None</td>\n",
       "      <td>zora@cmti001#1</td>\n",
       "      <td>TrainingContainer</td>\n",
       "      <td>0.4</td>\n",
       "      <td>None</td>\n",
       "      <td>None</td>\n",
       "    </tr>\n",
       "    <tr>\n",
       "      <th>2</th>\n",
       "      <td>12469641</td>\n",
       "      <td>finished</td>\n",
       "      <td>None</td>\n",
       "      <td>df2_1k</td>\n",
       "      <td>/df2_1k</td>\n",
       "      <td>/cmmc/u/</td>\n",
       "      <td>zora/pyiron/projects/PotentialWorkshop/import_database/Cu_database/</td>\n",
       "      <td>2021-02-18 19:49:56.101883</td>\n",
       "      <td>None</td>\n",
       "      <td>None</td>\n",
       "      <td>zora@cmti001#1</td>\n",
       "      <td>TrainingContainer</td>\n",
       "      <td>0.4</td>\n",
       "      <td>None</td>\n",
       "      <td>None</td>\n",
       "    </tr>\n",
       "    <tr>\n",
       "      <th>3</th>\n",
       "      <td>12469642</td>\n",
       "      <td>finished</td>\n",
       "      <td>None</td>\n",
       "      <td>df4_2_5eV_25A3_8K</td>\n",
       "      <td>/df4_2_5eV_25A3_8K</td>\n",
       "      <td>/cmmc/u/</td>\n",
       "      <td>zora/pyiron/projects/PotentialWorkshop/import_database/Cu_database/</td>\n",
       "      <td>2021-02-18 19:49:57.547918</td>\n",
       "      <td>None</td>\n",
       "      <td>None</td>\n",
       "      <td>zora@cmti001#1</td>\n",
       "      <td>TrainingContainer</td>\n",
       "      <td>0.4</td>\n",
       "      <td>None</td>\n",
       "      <td>None</td>\n",
       "    </tr>\n",
       "  </tbody>\n",
       "</table>\n",
       "</div>"
      ],
      "text/plain": [
       "         id    status chemicalformula                         job  \\\n",
       "0  12469639  finished            None  df1_A1_A2_A3_EV_elast_phon   \n",
       "1  12469640  finished            None                     df3_10k   \n",
       "2  12469641  finished            None                      df2_1k   \n",
       "3  12469642  finished            None           df4_2_5eV_25A3_8K   \n",
       "\n",
       "                        subjob projectpath  \\\n",
       "0  /df1_A1_A2_A3_EV_elast_phon    /cmmc/u/   \n",
       "1                     /df3_10k    /cmmc/u/   \n",
       "2                      /df2_1k    /cmmc/u/   \n",
       "3           /df4_2_5eV_25A3_8K    /cmmc/u/   \n",
       "\n",
       "                                                               project  \\\n",
       "0  zora/pyiron/projects/PotentialWorkshop/import_database/Cu_database/   \n",
       "1  zora/pyiron/projects/PotentialWorkshop/import_database/Cu_database/   \n",
       "2  zora/pyiron/projects/PotentialWorkshop/import_database/Cu_database/   \n",
       "3  zora/pyiron/projects/PotentialWorkshop/import_database/Cu_database/   \n",
       "\n",
       "                   timestart timestop totalcputime        computer  \\\n",
       "0 2021-02-18 19:49:53.061360     None         None  zora@cmti001#1   \n",
       "1 2021-02-18 19:49:55.496691     None         None  zora@cmti001#1   \n",
       "2 2021-02-18 19:49:56.101883     None         None  zora@cmti001#1   \n",
       "3 2021-02-18 19:49:57.547918     None         None  zora@cmti001#1   \n",
       "\n",
       "            hamilton hamversion parentid masterid  \n",
       "0  TrainingContainer        0.4     None     None  \n",
       "1  TrainingContainer        0.4     None     None  \n",
       "2  TrainingContainer        0.4     None     None  \n",
       "3  TrainingContainer        0.4     None     None  "
      ]
     },
     "execution_count": 4,
     "metadata": {},
     "output_type": "execute_result"
    }
   ],
   "source": [
    "pr_fit.job_table()"
   ]
  },
  {
   "cell_type": "code",
   "execution_count": 5,
   "id": "elementary-circle",
   "metadata": {},
   "outputs": [],
   "source": [
    "import pyiron_contrib"
   ]
  },
  {
   "cell_type": "code",
   "execution_count": 6,
   "id": "recent-parliament",
   "metadata": {},
   "outputs": [],
   "source": [
    "j = pr.create.job.RunnerFit('fit', delete_existing_job=True)"
   ]
  },
  {
   "cell_type": "code",
   "execution_count": 7,
   "id": "leading-indonesian",
   "metadata": {},
   "outputs": [],
   "source": [
    "j.add_job_to_fitting(pr_fit.load('df1_A1_A2_A3_EV_elast_phon'))"
   ]
  },
  {
   "cell_type": "code",
   "execution_count": 10,
   "id": "announced-shakespeare",
   "metadata": {},
   "outputs": [
    {
     "name": "stdout",
     "output_type": "stream",
     "text": [
      "The job fit was saved and received the ID: 13694249\n"
     ]
    }
   ],
   "source": [
    "j.run()"
   ]
  },
  {
   "cell_type": "code",
   "execution_count": 11,
   "id": "adjustable-sellers",
   "metadata": {},
   "outputs": [
    {
     "data": {
      "text/html": [
       "<div>\n",
       "<style scoped>\n",
       "    .dataframe tbody tr th:only-of-type {\n",
       "        vertical-align: middle;\n",
       "    }\n",
       "\n",
       "    .dataframe tbody tr th {\n",
       "        vertical-align: top;\n",
       "    }\n",
       "\n",
       "    .dataframe thead th {\n",
       "        text-align: right;\n",
       "    }\n",
       "</style>\n",
       "<table border=\"1\" class=\"dataframe\">\n",
       "  <thead>\n",
       "    <tr style=\"text-align: right;\">\n",
       "      <th></th>\n",
       "      <th>Name</th>\n",
       "      <th>Filename</th>\n",
       "      <th>Model</th>\n",
       "      <th>Species</th>\n",
       "      <th>Config</th>\n",
       "    </tr>\n",
       "  </thead>\n",
       "  <tbody>\n",
       "    <tr>\n",
       "      <th>0</th>\n",
       "      <td>RuNNer-Cu</td>\n",
       "      <td>[/cmmc/u/zora/pyiron/projects/PotentialWorkshop/runner-example/runner_fit/fit_hdf5/fit/input.nn, /cmmc/u/zora/pyiron/projects/PotentialWorkshop/runner-example/runner_fit/fit_hdf5/fit/weights.029.d...</td>\n",
       "      <td>RuNNer</td>\n",
       "      <td>[Cu]</td>\n",
       "      <td>[pair_style nnp dir \"./\" showew no showewsum 0 resetew no maxew 100 cflength 1.8897261328 cfenergy 0.0367493254 emap \"1:Cu\"\\n, pair_coeff * * 12\\n]</td>\n",
       "    </tr>\n",
       "  </tbody>\n",
       "</table>\n",
       "</div>"
      ],
      "text/plain": [
       "        Name  \\\n",
       "0  RuNNer-Cu   \n",
       "\n",
       "                                                                                                                                                                                                  Filename  \\\n",
       "0  [/cmmc/u/zora/pyiron/projects/PotentialWorkshop/runner-example/runner_fit/fit_hdf5/fit/input.nn, /cmmc/u/zora/pyiron/projects/PotentialWorkshop/runner-example/runner_fit/fit_hdf5/fit/weights.029.d...   \n",
       "\n",
       "    Model Species  \\\n",
       "0  RuNNer    [Cu]   \n",
       "\n",
       "                                                                                                                                                Config  \n",
       "0  [pair_style nnp dir \"./\" showew no showewsum 0 resetew no maxew 100 cflength 1.8897261328 cfenergy 0.0367493254 emap \"1:Cu\"\\n, pair_coeff * * 12\\n]  "
      ]
     },
     "execution_count": 11,
     "metadata": {},
     "output_type": "execute_result"
    }
   ],
   "source": [
    "j.potential_dataframe"
   ]
  }
 ],
 "metadata": {
  "kernelspec": {
   "display_name": "Python [conda env:root] *",
   "language": "python",
   "name": "conda-root-py"
  },
  "language_info": {
   "codemirror_mode": {
    "name": "ipython",
    "version": 3
   },
   "file_extension": ".py",
   "mimetype": "text/x-python",
   "name": "python",
   "nbconvert_exporter": "python",
   "pygments_lexer": "ipython3",
   "version": "3.7.9"
  }
 },
 "nbformat": 4,
 "nbformat_minor": 5
}
