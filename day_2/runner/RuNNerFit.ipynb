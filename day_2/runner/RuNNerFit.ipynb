{
 "cells": [
  {
   "cell_type": "code",
   "execution_count": 1,
   "metadata": {},
   "outputs": [],
   "source": [
    "from pyiron import Project"
   ]
  },
  {
   "cell_type": "code",
   "execution_count": 2,
   "metadata": {},
   "outputs": [],
   "source": [
    "pr = Project(\"runner_fit\")"
   ]
  },
  {
   "cell_type": "code",
   "execution_count": 11,
   "metadata": {},
   "outputs": [],
   "source": [
    "!cp ../../datasets/Cu_training_archive.tar.gz .\n",
    "!cp ../../datasets/export.csv ."
   ]
  },
  {
   "cell_type": "code",
   "execution_count": 13,
   "metadata": {},
   "outputs": [],
   "source": [
    "pr_fit = Project(\"import_database\")\n",
    "if len(pr_fit.job_table()) == 0:\n",
    "    pr_fit.unpack(\"Cu_training_archive\")"
   ]
  },
  {
   "cell_type": "code",
   "execution_count": 14,
   "metadata": {},
   "outputs": [
    {
     "data": {
      "text/html": [
       "<div>\n",
       "<style scoped>\n",
       "    .dataframe tbody tr th:only-of-type {\n",
       "        vertical-align: middle;\n",
       "    }\n",
       "\n",
       "    .dataframe tbody tr th {\n",
       "        vertical-align: top;\n",
       "    }\n",
       "\n",
       "    .dataframe thead th {\n",
       "        text-align: right;\n",
       "    }\n",
       "</style>\n",
       "<table border=\"1\" class=\"dataframe\">\n",
       "  <thead>\n",
       "    <tr style=\"text-align: right;\">\n",
       "      <th></th>\n",
       "      <th>id</th>\n",
       "      <th>status</th>\n",
       "      <th>chemicalformula</th>\n",
       "      <th>job</th>\n",
       "      <th>subjob</th>\n",
       "      <th>projectpath</th>\n",
       "      <th>project</th>\n",
       "      <th>timestart</th>\n",
       "      <th>timestop</th>\n",
       "      <th>totalcputime</th>\n",
       "      <th>computer</th>\n",
       "      <th>hamilton</th>\n",
       "      <th>hamversion</th>\n",
       "      <th>parentid</th>\n",
       "      <th>masterid</th>\n",
       "    </tr>\n",
       "  </thead>\n",
       "  <tbody>\n",
       "    <tr>\n",
       "      <th>1</th>\n",
       "      <td>13791972</td>\n",
       "      <td>finished</td>\n",
       "      <td>None</td>\n",
       "      <td>df1_A1_A2_A3_EV_elast_phon</td>\n",
       "      <td>/df1_A1_A2_A3_EV_elast_phon</td>\n",
       "      <td>/cmmc/u/</td>\n",
       "      <td>zora/pyiron/projects/PotentialWorkshop/pyiron_potentialfit/day_2/runner/import_database/Cu_database/</td>\n",
       "      <td>2021-02-08 10:33:52.341472</td>\n",
       "      <td>None</td>\n",
       "      <td>None</td>\n",
       "      <td>zora@cmti001#1</td>\n",
       "      <td>TrainingContainer</td>\n",
       "      <td>0.4</td>\n",
       "      <td>None</td>\n",
       "      <td>None</td>\n",
       "    </tr>\n",
       "    <tr>\n",
       "      <th>0</th>\n",
       "      <td>13791973</td>\n",
       "      <td>finished</td>\n",
       "      <td>None</td>\n",
       "      <td>df3_10k</td>\n",
       "      <td>/df3_10k</td>\n",
       "      <td>/cmmc/u/</td>\n",
       "      <td>zora/pyiron/projects/PotentialWorkshop/pyiron_potentialfit/day_2/runner/import_database/Cu_database/</td>\n",
       "      <td>2021-02-08 10:33:53.993230</td>\n",
       "      <td>None</td>\n",
       "      <td>None</td>\n",
       "      <td>zora@cmti001#1</td>\n",
       "      <td>TrainingContainer</td>\n",
       "      <td>0.4</td>\n",
       "      <td>None</td>\n",
       "      <td>None</td>\n",
       "    </tr>\n",
       "    <tr>\n",
       "      <th>2</th>\n",
       "      <td>13791974</td>\n",
       "      <td>finished</td>\n",
       "      <td>None</td>\n",
       "      <td>df2_1k</td>\n",
       "      <td>/df2_1k</td>\n",
       "      <td>/cmmc/u/</td>\n",
       "      <td>zora/pyiron/projects/PotentialWorkshop/pyiron_potentialfit/day_2/runner/import_database/Cu_database/</td>\n",
       "      <td>2021-02-08 10:33:54.435308</td>\n",
       "      <td>None</td>\n",
       "      <td>None</td>\n",
       "      <td>zora@cmti001#1</td>\n",
       "      <td>TrainingContainer</td>\n",
       "      <td>0.4</td>\n",
       "      <td>None</td>\n",
       "      <td>None</td>\n",
       "    </tr>\n",
       "  </tbody>\n",
       "</table>\n",
       "</div>"
      ],
      "text/plain": [
       "         id    status chemicalformula                         job  \\\n",
       "1  13791972  finished            None  df1_A1_A2_A3_EV_elast_phon   \n",
       "0  13791973  finished            None                     df3_10k   \n",
       "2  13791974  finished            None                      df2_1k   \n",
       "\n",
       "                        subjob projectpath  \\\n",
       "1  /df1_A1_A2_A3_EV_elast_phon    /cmmc/u/   \n",
       "0                     /df3_10k    /cmmc/u/   \n",
       "2                      /df2_1k    /cmmc/u/   \n",
       "\n",
       "                                                                                                project  \\\n",
       "1  zora/pyiron/projects/PotentialWorkshop/pyiron_potentialfit/day_2/runner/import_database/Cu_database/   \n",
       "0  zora/pyiron/projects/PotentialWorkshop/pyiron_potentialfit/day_2/runner/import_database/Cu_database/   \n",
       "2  zora/pyiron/projects/PotentialWorkshop/pyiron_potentialfit/day_2/runner/import_database/Cu_database/   \n",
       "\n",
       "                   timestart timestop totalcputime        computer  \\\n",
       "1 2021-02-08 10:33:52.341472     None         None  zora@cmti001#1   \n",
       "0 2021-02-08 10:33:53.993230     None         None  zora@cmti001#1   \n",
       "2 2021-02-08 10:33:54.435308     None         None  zora@cmti001#1   \n",
       "\n",
       "            hamilton hamversion parentid masterid  \n",
       "1  TrainingContainer        0.4     None     None  \n",
       "0  TrainingContainer        0.4     None     None  \n",
       "2  TrainingContainer        0.4     None     None  "
      ]
     },
     "execution_count": 14,
     "metadata": {},
     "output_type": "execute_result"
    }
   ],
   "source": [
    "pr_fit.job_table()"
   ]
  },
  {
   "cell_type": "code",
   "execution_count": 15,
   "metadata": {},
   "outputs": [],
   "source": [
    "import pyiron_contrib"
   ]
  },
  {
   "cell_type": "code",
   "execution_count": 16,
   "metadata": {},
   "outputs": [],
   "source": [
    "j = pr.create.job.RunnerFit('fit', delete_existing_job=True)"
   ]
  },
  {
   "cell_type": "code",
   "execution_count": 17,
   "metadata": {},
   "outputs": [],
   "source": [
    "j.add_job_to_fitting(pr_fit.load('df1_A1_A2_A3_EV_elast_phon'))"
   ]
  },
  {
   "cell_type": "code",
   "execution_count": 19,
   "metadata": {},
   "outputs": [
    {
     "name": "stdout",
     "output_type": "stream",
     "text": [
      "The job fit was saved and received the ID: 13791989\n"
     ]
    }
   ],
   "source": [
    "j.run()"
   ]
  },
  {
   "cell_type": "code",
   "execution_count": 20,
   "metadata": {},
   "outputs": [
    {
     "data": {
      "text/html": [
       "<div>\n",
       "<style scoped>\n",
       "    .dataframe tbody tr th:only-of-type {\n",
       "        vertical-align: middle;\n",
       "    }\n",
       "\n",
       "    .dataframe tbody tr th {\n",
       "        vertical-align: top;\n",
       "    }\n",
       "\n",
       "    .dataframe thead th {\n",
       "        text-align: right;\n",
       "    }\n",
       "</style>\n",
       "<table border=\"1\" class=\"dataframe\">\n",
       "  <thead>\n",
       "    <tr style=\"text-align: right;\">\n",
       "      <th></th>\n",
       "      <th>Name</th>\n",
       "      <th>Filename</th>\n",
       "      <th>Model</th>\n",
       "      <th>Species</th>\n",
       "      <th>Config</th>\n",
       "    </tr>\n",
       "  </thead>\n",
       "  <tbody>\n",
       "    <tr>\n",
       "      <th>0</th>\n",
       "      <td>RuNNer-Cu</td>\n",
       "      <td>[/cmmc/u/zora/pyiron/projects/PotentialWorkshop/pyiron_potentialfit/day_2/runner/runner_fit/fit_hdf5/fit/input.nn, /cmmc/u/zora/pyiron/projects/PotentialWorkshop/pyiron_potentialfit/day_2/runner/r...</td>\n",
       "      <td>RuNNer</td>\n",
       "      <td>[Cu]</td>\n",
       "      <td>[pair_style nnp dir \"./\" showew no showewsum 0 resetew no maxew 100 cflength 1.8897261328 cfenergy 0.0367493254 emap \"1:Cu\"\\n, pair_coeff * * 12\\n]</td>\n",
       "    </tr>\n",
       "  </tbody>\n",
       "</table>\n",
       "</div>"
      ],
      "text/plain": [
       "        Name  \\\n",
       "0  RuNNer-Cu   \n",
       "\n",
       "                                                                                                                                                                                                  Filename  \\\n",
       "0  [/cmmc/u/zora/pyiron/projects/PotentialWorkshop/pyiron_potentialfit/day_2/runner/runner_fit/fit_hdf5/fit/input.nn, /cmmc/u/zora/pyiron/projects/PotentialWorkshop/pyiron_potentialfit/day_2/runner/r...   \n",
       "\n",
       "    Model Species  \\\n",
       "0  RuNNer    [Cu]   \n",
       "\n",
       "                                                                                                                                                Config  \n",
       "0  [pair_style nnp dir \"./\" showew no showewsum 0 resetew no maxew 100 cflength 1.8897261328 cfenergy 0.0367493254 emap \"1:Cu\"\\n, pair_coeff * * 12\\n]  "
      ]
     },
     "execution_count": 20,
     "metadata": {},
     "output_type": "execute_result"
    }
   ],
   "source": [
    "j.lammps_potential"
   ]
  },
  {
   "cell_type": "code",
   "execution_count": 21,
   "metadata": {},
   "outputs": [
    {
     "data": {
      "text/html": [
       "<div>\n",
       "<style scoped>\n",
       "    .dataframe tbody tr th:only-of-type {\n",
       "        vertical-align: middle;\n",
       "    }\n",
       "\n",
       "    .dataframe tbody tr th {\n",
       "        vertical-align: top;\n",
       "    }\n",
       "\n",
       "    .dataframe thead th {\n",
       "        text-align: right;\n",
       "    }\n",
       "</style>\n",
       "<table border=\"1\" class=\"dataframe\">\n",
       "  <thead>\n",
       "    <tr style=\"text-align: right;\">\n",
       "      <th></th>\n",
       "      <th>id</th>\n",
       "      <th>status</th>\n",
       "      <th>chemicalformula</th>\n",
       "      <th>job</th>\n",
       "      <th>subjob</th>\n",
       "      <th>projectpath</th>\n",
       "      <th>project</th>\n",
       "      <th>timestart</th>\n",
       "      <th>timestop</th>\n",
       "      <th>totalcputime</th>\n",
       "      <th>computer</th>\n",
       "      <th>hamilton</th>\n",
       "      <th>hamversion</th>\n",
       "      <th>parentid</th>\n",
       "      <th>masterid</th>\n",
       "    </tr>\n",
       "  </thead>\n",
       "  <tbody>\n",
       "    <tr>\n",
       "      <th>0</th>\n",
       "      <td>13791989</td>\n",
       "      <td>finished</td>\n",
       "      <td>None</td>\n",
       "      <td>fit</td>\n",
       "      <td>/fit</td>\n",
       "      <td>/cmmc/u/</td>\n",
       "      <td>zora/pyiron/projects/PotentialWorkshop/pyiron_potentialfit/day_2/runner/runner_fit/</td>\n",
       "      <td>2021-03-04 19:20:48.233697</td>\n",
       "      <td>2021-03-04 19:21:07.665989</td>\n",
       "      <td>19.0</td>\n",
       "      <td>zora@cmti001#1</td>\n",
       "      <td>RunnerFit</td>\n",
       "      <td>0.4</td>\n",
       "      <td>None</td>\n",
       "      <td>None</td>\n",
       "    </tr>\n",
       "  </tbody>\n",
       "</table>\n",
       "</div>"
      ],
      "text/plain": [
       "         id    status chemicalformula  job subjob projectpath  \\\n",
       "0  13791989  finished            None  fit   /fit    /cmmc/u/   \n",
       "\n",
       "                                                                               project  \\\n",
       "0  zora/pyiron/projects/PotentialWorkshop/pyiron_potentialfit/day_2/runner/runner_fit/   \n",
       "\n",
       "                   timestart                   timestop  totalcputime  \\\n",
       "0 2021-03-04 19:20:48.233697 2021-03-04 19:21:07.665989          19.0   \n",
       "\n",
       "         computer   hamilton hamversion parentid masterid  \n",
       "0  zora@cmti001#1  RunnerFit        0.4     None     None  "
      ]
     },
     "execution_count": 21,
     "metadata": {},
     "output_type": "execute_result"
    }
   ],
   "source": [
    "pr.job_table()"
   ]
  }
 ],
 "metadata": {
  "kernelspec": {
   "display_name": "Python 3",
   "language": "python",
   "name": "python3"
  },
  "language_info": {
   "codemirror_mode": {
    "name": "ipython",
    "version": 3
   },
   "file_extension": ".py",
   "mimetype": "text/x-python",
   "name": "python",
   "nbconvert_exporter": "python",
   "pygments_lexer": "ipython3",
   "version": "3.9.1"
  },
  "widgets": {
   "application/vnd.jupyter.widget-state+json": {
    "state": {},
    "version_major": 2,
    "version_minor": 0
   }
  }
 },
 "nbformat": 4,
 "nbformat_minor": 5
}
