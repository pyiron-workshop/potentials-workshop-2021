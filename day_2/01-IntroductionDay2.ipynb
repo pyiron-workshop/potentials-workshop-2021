{
 "cells": [
  {
   "cell_type": "markdown",
   "metadata": {},
   "source": [
    "# Day 2 - Parameterization of interatomic potentials"
   ]
  },
  {
   "cell_type": "markdown",
   "metadata": {},
   "source": [
    "In this tutorial we will do simple fits for three different interatomic potentials.\n",
    "* Embedded Atom Method Potential\n",
    "* Neural Network Potential\n",
    "* Atomic Cluster Expansion\n",
    "\n",
    "Some details of these potentials will be summarized in the following."
   ]
  },
  {
   "cell_type": "markdown",
   "metadata": {},
   "source": [
    "## Embedded Atom Method Potential"
   ]
  },
  {
   "cell_type": "markdown",
   "metadata": {},
   "source": [
    "* Atomic descriptors: pair functions\n",
    "\n",
    "$\\rho_i = \\sum_j \\phi(r_{ij})$ (density)\n",
    "\n",
    "$V_i = \\sum_j V(r_{ij})$ (pair repulsion)\n",
    "    \n",
    "* Atomic energy\n",
    "\n",
    "$E_i = F( \\rho_i ) + V_i$     \n",
    "\n",
    "with non-linear embedding function $F$"
   ]
  },
  {
   "cell_type": "markdown",
   "metadata": {},
   "source": [
    "## Neural Network Potential"
   ]
  },
  {
   "cell_type": "markdown",
   "metadata": {},
   "source": [
    "* Atomic descriptors: pair and three-body symmetry functions\n",
    "\n",
    "$G_i = \\sum_j \\phi(r_{ij})$\n",
    "\n",
    "$G_i = \\sum_{jk} \\phi(r_{ij},r_{ik}, \\cos_{jik})$\n",
    "    \n",
    "* Atomic energy\n",
    "\n",
    "$E_i = NN(G_i)$      \n",
    "\n",
    "with neural network $NN$. Various different $G_i$ are the inputs to the $NN$."
   ]
  },
  {
   "cell_type": "markdown",
   "metadata": {},
   "source": [
    "## Atomic Cluster Expansion"
   ]
  },
  {
   "cell_type": "markdown",
   "metadata": {},
   "source": [
    "* Atomic descriptors: pair, three-body, ... many-body basis functions\n",
    "\n",
    "$A_i = \\sum_j \\phi(\\pmb{r}_{ij})$       (many different basis functions that depend on direction and length of $r_{ij}$)\n",
    "\n",
    "$\\varphi_i = c_1 A_i + c_2 A_i A_i + c_3 A_i A_i A_i + ...$\n",
    "  \n",
    "* Atomic energy\n",
    "\n",
    "$E_i = F(\\varphi_i)$  \n",
    "\n",
    "with general non-linear function $F$ and several $\\varphi_i$. In the tutorial we will use $E_i =  \\sqrt{\\varphi^{(1)}_i} +  \\varphi^{(2)}_i$ to make contact to the Embedded Atom Method.\n"
   ]
  },
  {
   "cell_type": "markdown",
   "metadata": {},
   "source": [
    "# Reference data"
   ]
  },
  {
   "cell_type": "markdown",
   "metadata": {},
   "source": [
    "The potentials are parameterized by fitting to reference data. Here we use DFT data for Cu that we generated with the FHI-aims code. In the following we summarize key properties of the dataset."
   ]
  },
  {
   "cell_type": "code",
   "execution_count": null,
   "metadata": {},
   "outputs": [],
   "source": []
  }
 ],
 "metadata": {
  "kernelspec": {
   "display_name": "Python 3",
   "language": "python",
   "name": "python3"
  },
  "language_info": {
   "codemirror_mode": {
    "name": "ipython",
    "version": 3
   },
   "file_extension": ".py",
   "mimetype": "text/x-python",
   "name": "python",
   "nbconvert_exporter": "python",
   "pygments_lexer": "ipython3",
   "version": "3.7.6"
  }
 },
 "nbformat": 4,
 "nbformat_minor": 5
}
