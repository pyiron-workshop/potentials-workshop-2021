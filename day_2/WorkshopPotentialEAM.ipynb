{
 "cells": [
  {
   "cell_type": "code",
   "execution_count": 1,
   "id": "welcome-official",
   "metadata": {},
   "outputs": [],
   "source": [
    "import pandas as pd\n",
    "import numpy as np\n",
    "\n",
    "\n",
    "from pyiron import Project, ase_to_pyiron\n",
    "from pyiron_contrib.atomistic.atomicrex.atomicrex_job import Atomicrex"
   ]
  },
  {
   "cell_type": "code",
   "execution_count": 2,
   "id": "digital-education",
   "metadata": {},
   "outputs": [],
   "source": [
    "df = pd.read_pickle(\"Cu_df1_A1_A2_A3_EV_elast_phon.pckl.gzip\", compression=\"gzip\")"
   ]
  },
  {
   "cell_type": "code",
   "execution_count": 3,
   "id": "engaging-aquarium",
   "metadata": {},
   "outputs": [
    {
     "name": "stdin",
     "output_type": "stream",
     "text": [
      "Are you sure you want to delete all jobs from 'WorkshopPotential'? y/(n) y\n"
     ]
    }
   ],
   "source": [
    "pr = Project(\"WorkshopPotential\")\n",
    "pr.remove_jobs()"
   ]
  },
  {
   "cell_type": "code",
   "execution_count": 4,
   "id": "signed-underwear",
   "metadata": {},
   "outputs": [],
   "source": [
    "job = pr.create_job(Atomicrex, \"PotentialDF1\", delete_existing_job=True)"
   ]
  },
  {
   "cell_type": "markdown",
   "id": "proprietary-pencil",
   "metadata": {},
   "source": [
    "### Add the structures that should be fitted.\n",
    "It is possible to assign different weights to certain structures or properties, depending on what should be investigated using the potential. Here every structure has the same weight, but the force vector with N*3 values is normalized to have the same total weight as the single value energy. Therefore it is divided by the number of atoms. "
   ]
  },
  {
   "cell_type": "code",
   "execution_count": 5,
   "id": "concrete-panic",
   "metadata": {},
   "outputs": [],
   "source": [
    "for id, row in df.iterrows():\n",
    "    struct = ase_to_pyiron(row.ase_atoms)\n",
    "    s = job.structures.add_structure(struct, f\"id{id}\", relative_weight=1)\n",
    "    s.fit_properties.add_FitProperty(\"atomic-energy\", target_value=row.energy_corrected_per_atom , relative_weight=1)\n",
    "    s.fit_properties.add_FitProperty(\"atomic-forces\", target_value=row.forces, relative_weight=1/row.NUMBER_OF_ATOMS)"
   ]
  },
  {
   "cell_type": "markdown",
   "id": "floral-graham",
   "metadata": {},
   "source": [
    "### Define the type of potential and necessary functions.\n",
    "In this case an eam potential is fitted."
   ]
  },
  {
   "cell_type": "code",
   "execution_count": 6,
   "id": "prescription-letter",
   "metadata": {},
   "outputs": [],
   "source": [
    "job.potential = job.factories.potentials.eam_potential()"
   ]
  },
  {
   "cell_type": "markdown",
   "id": "technical-village",
   "metadata": {},
   "source": [
    "It is necessary to define a pair potential, an electronic density function and an embedding function.\n",
    "For all of those it is possible to choose between different functional forms.\n",
    "Classic pair potentials are physically motivated and  have a very limited number of paramaters that are derived from a experimentally measured quantity.\n",
    "Splines or polynomials offer more flexibility, but are not directly physically motivated and can lead to unphysical oscillations or overfitting.\n",
    "\n",
    "In this case a generalized morse function is used for the pair interaction, while the electronic density and embedding function will be splines. Depending on the properties that are calculated other functional forms could give better results.\n",
    "\n",
    "The parameters in D0=3.5 and r0=1.8 are the approximate cohesive energy and the equilibrium lattice constant. Beta and S can also be derived from physical quantities but are chosen randomly in a typical range in this case. Delta is a parameter that shifts the whole function up or down. The initial parameter choices should not matter too much as long as they are somewhat reasonable since they will be optimized in the fitting process anyway."
   ]
  },
  {
   "cell_type": "code",
   "execution_count": 7,
   "id": "informational-material",
   "metadata": {},
   "outputs": [],
   "source": [
    "V = job.factories.functions.morse_B(identifier=\"V_CuCu\", D0=3.5, r0=1.8, beta=2, S=2, delta=0)"
   ]
  },
  {
   "cell_type": "markdown",
   "id": "infectious-humor",
   "metadata": {},
   "source": [
    "Additionally a screening function needs to be defined for the morse potential"
   ]
  },
  {
   "cell_type": "code",
   "execution_count": 8,
   "id": "entertaining-substitute",
   "metadata": {},
   "outputs": [],
   "source": [
    "V.screening  = job.factories.functions.exp_A_screening(identifier=\"V_cutoff\", cutoff=7)"
   ]
  },
  {
   "cell_type": "markdown",
   "id": "continental-morgan",
   "metadata": {},
   "source": [
    "The electron density is chosen to be a spline function. The cutoff has to be defined. Derivatives left and right are optional, they default to 0. For the right cutoff this is fine, since the forces should smoothly go to 0. For the left this is not necessarily the best choice, since the function value should increase at very close distances."
   ]
  },
  {
   "cell_type": "code",
   "execution_count": 9,
   "id": "threatened-rapid",
   "metadata": {},
   "outputs": [],
   "source": [
    "rho = job.factories.functions.spline(identifier=\"rho_CuCu\", cutoff=7, derivative_left=-1)"
   ]
  },
  {
   "cell_type": "markdown",
   "id": "moved-gamma",
   "metadata": {},
   "source": [
    "For a spline function it is necessary to define node points. They can be equally spaced or sampled with higher density around turning points, f.e. the first neighbor distance.\n",
    "Too few nodepoints mean low flexibilty, too many lead to overfitting. This requires some testing to find an optimal choice."
   ]
  },
  {
   "cell_type": "code",
   "execution_count": 10,
   "id": "still-middle",
   "metadata": {},
   "outputs": [],
   "source": [
    "rho_nodes = np.array([0.5, 1, 2, 3, 4, 5.5, 7])"
   ]
  },
  {
   "cell_type": "markdown",
   "id": "fabulous-brighton",
   "metadata": {},
   "source": [
    "The nodes need initial values. The electron density should be proportional to $e^{-r}$, so this function is chosen to calculate them."
   ]
  },
  {
   "cell_type": "code",
   "execution_count": 11,
   "id": "expensive-brazil",
   "metadata": {},
   "outputs": [],
   "source": [
    "decaying_exp = lambda r: np.exp(-r)\n",
    "rho_initial = decaying_exp(rho_nodes)"
   ]
  },
  {
   "cell_type": "markdown",
   "id": "arranged-civilian",
   "metadata": {},
   "source": [
    "Additionally it is a good idea to define limits for the node points. This is optional for local minimizers, but the fit can quickly run away without limits. Global optimizers typically require them to constrain the sampled space.\n",
    "\n",
    "A density can't be negative so the lower limit is set to 0. The upper limit is chosen to be 3 times the initial values. These choices aswell as the choice for $e^{-r}$ as initial values are somewhat arbitrary, but don't matter much. The electron density from single atoms does not directly influence the calculated energies and forces, instead the summed up density at some place is used in the embedding function, so the final numerical values are an interplay between electron density and embedding function. Since the latter will also be a spline function it can only be defined for a certain range of rho values as node points. Therefore it is better to limit the range of electron density values and define larger limits for the embedding function instead. "
   ]
  },
  {
   "cell_type": "code",
   "execution_count": 12,
   "id": "alpine-aircraft",
   "metadata": {},
   "outputs": [],
   "source": [
    "rho_mins = np.zeros((len(rho_nodes)))\n",
    "rho_maxs = 3*rho_initial\n",
    "rho.parameters.create_from_arrays(rho_nodes, rho_initial, min_vals=rho_mins, max_vals=rho_maxs)"
   ]
  },
  {
   "cell_type": "raw",
   "id": "third-recommendation",
   "metadata": {},
   "source": [
    "Finally the last node point at the cutoff range is set to 0 and fitting is disabled to prevent a discontinuous change of energy at the cutoff."
   ]
  },
  {
   "cell_type": "code",
   "execution_count": 13,
   "id": "outdoor-porcelain",
   "metadata": {},
   "outputs": [],
   "source": [
    "rho.parameters[\"node_7.0\"].start_val = 0\n",
    "rho.parameters[\"node_7.0\"].enabled = False"
   ]
  },
  {
   "cell_type": "markdown",
   "id": "prepared-matter",
   "metadata": {},
   "source": [
    "$-\\sqrt(\\rho)$ can be used as initial guess for the embedding energy, which is taken from second moment approximation tight binding. \n",
    "The node points have to be chosen in a range compatible to the electron density. This can be estimated by calculating it for a densely packed structure.\n",
    "Alternatively atomicrex writes the maximum electron density of all structures to the output. This can be used as a hint for the node points for consequent fits.\n",
    "Everything else is similar to the electron density."
   ]
  },
  {
   "cell_type": "code",
   "execution_count": 14,
   "id": "physical-dominican",
   "metadata": {},
   "outputs": [],
   "source": [
    "F = job.factories.functions.spline(identifier=\"F_CuCu\", cutoff=5)\n",
    "F_nodes = np.array([0.0, 1, 1.5, 2, 2.5, 3, 3.5, 4, 5])\n",
    "F_init = -np.sqrt(F_nodes)\n",
    "F_maxs = np.zeros(len(F_nodes))\n",
    "F_mins = -np.ones(len(F_nodes))*5\n",
    "F.parameters.create_from_arrays(F_nodes, F_init, F_mins, F_maxs)\n",
    "F.parameters[\"node_0.0\"].enabled=False\n",
    "F.parameters[\"node_0.0\"].start_val = 0\n",
    "F.parameters[\"node_5.0\"].enabled=False\n",
    "F.parameters[\"node_5.0\"].start_val = 0"
   ]
  },
  {
   "cell_type": "markdown",
   "id": "independent-skill",
   "metadata": {},
   "source": [
    "The functions have to be assigned to the potential"
   ]
  },
  {
   "cell_type": "code",
   "execution_count": 15,
   "id": "altered-thriller",
   "metadata": {},
   "outputs": [],
   "source": [
    "job.potential.pair_interactions[V.identifier] = V\n",
    "job.potential.electron_densities[rho.identifier] = rho\n",
    "job.potential.embedding_energies[F.identifier] = F"
   ]
  },
  {
   "cell_type": "markdown",
   "id": "mighty-profession",
   "metadata": {},
   "source": [
    "### Define fitting procedure\n",
    "Finally a few parameters need to be set that influence the fitting process.\n",
    "The minimization can be done with different algorithms. Atomicrex itself implements the BFGS algorithm. Additionally the algorithms from the nlopt library can be used."
   ]
  },
  {
   "cell_type": "code",
   "execution_count": 16,
   "id": "extraordinary-croatia",
   "metadata": {},
   "outputs": [
    {
     "name": "stdout",
     "output_type": "stream",
     "text": [
      "The job PotentialDF1 was saved and received the ID: 616\n"
     ]
    },
    {
     "data": {
      "application/json": {
       "error": "None",
       "iterations": "8326",
       "residual": "0.827093"
      },
      "text/plain": [
       "Output({'error': None, 'residual': 0.827093, 'iterations': 8326})"
      ]
     },
     "execution_count": 16,
     "metadata": {},
     "output_type": "execute_result"
    }
   ],
   "source": [
    "## Define the atom types of the potential\n",
    "job.input.atom_types.Cu = None\n",
    "##\n",
    "job.input.fit_algorithm = job.factories.algorithms.ar_lbfgs(max_iter=500000)\n",
    "job.server.cores = 8\n",
    "job.run()\n",
    "job.output"
   ]
  },
  {
   "cell_type": "markdown",
   "id": "finnish-romania",
   "metadata": {},
   "source": [
    "### Same for the 1000 structures dataset\n",
    "### This can take long and writes 1000 seperate POSCAR files, TAKE CARE"
   ]
  },
  {
   "cell_type": "code",
   "execution_count": 17,
   "id": "interesting-transcription",
   "metadata": {},
   "outputs": [],
   "source": [
    "j = pr.create_job(Atomicrex, \"PotentialDF2\", delete_existing_job=True)\n",
    "j.potential = job.potential.copy()\n",
    "j.input = job.input.copy()"
   ]
  },
  {
   "cell_type": "code",
   "execution_count": 18,
   "id": "recovered-theta",
   "metadata": {},
   "outputs": [],
   "source": [
    "df = pd.read_pickle(\"Cu_df2_1k.pckl.gzip\", compression=\"gzip\")\n",
    "for id, row in df.iterrows():\n",
    "    struct = ase_to_pyiron(row.ase_atoms)\n",
    "    s = j.structures.add_structure(struct, f\"id{id}\", relative_weight=1)\n",
    "    s.fit_properties.add_FitProperty(\"atomic-energy\", target_value=row.energy_corrected_per_atom , relative_weight=1)\n",
    "    s.fit_properties.add_FitProperty(\"atomic-forces\", target_value=row.forces, relative_weight=1/row.NUMBER_OF_ATOMS)"
   ]
  },
  {
   "cell_type": "code",
   "execution_count": 19,
   "id": "contained-helmet",
   "metadata": {},
   "outputs": [],
   "source": [
    "import time"
   ]
  },
  {
   "cell_type": "code",
   "execution_count": 20,
   "id": "mental-difference",
   "metadata": {},
   "outputs": [
    {
     "name": "stdout",
     "output_type": "stream",
     "text": [
      "The job PotentialDF2 was saved and received the ID: 617\n"
     ]
    }
   ],
   "source": [
    "j.server.cores = 16\n",
    "t1 = time.time()\n",
    "j.run()\n",
    "t2 = time.time()"
   ]
  },
  {
   "cell_type": "code",
   "execution_count": 21,
   "id": "universal-alexandria",
   "metadata": {},
   "outputs": [
    {
     "data": {
      "text/plain": [
       "176.67261242866516"
      ]
     },
     "execution_count": 21,
     "metadata": {},
     "output_type": "execute_result"
    }
   ],
   "source": [
    "t2-t1"
   ]
  },
  {
   "cell_type": "code",
   "execution_count": 22,
   "id": "initial-winter",
   "metadata": {},
   "outputs": [
    {
     "data": {
      "application/json": {
       "error": "None",
       "iterations": "825",
       "residual": "7948.44"
      },
      "text/plain": [
       "Output({'error': None, 'residual': 7948.44, 'iterations': 825})"
      ]
     },
     "execution_count": 22,
     "metadata": {},
     "output_type": "execute_result"
    }
   ],
   "source": [
    "j.output"
   ]
  },
  {
   "cell_type": "code",
   "execution_count": null,
   "id": "coral-tender",
   "metadata": {},
   "outputs": [],
   "source": []
  }
 ],
 "metadata": {
  "kernelspec": {
   "display_name": "Python 3",
   "language": "python",
   "name": "python3"
  },
  "language_info": {
   "codemirror_mode": {
    "name": "ipython",
    "version": 3
   },
   "file_extension": ".py",
   "mimetype": "text/x-python",
   "name": "python",
   "nbconvert_exporter": "python",
   "pygments_lexer": "ipython3",
   "version": "3.8.8"
  }
 },
 "nbformat": 4,
 "nbformat_minor": 5
}
