{
 "cells": [
  {
   "cell_type": "markdown",
   "id": "compound-aquatic",
   "metadata": {},
   "source": [
    "# Fitting an EAM potential\n",
    "EAM potentials are pair functionals. \n",
    "In a generalised form they are equal to Finnis-Sinclair, effective medium theory or glue potentials. Their total energy can be written as\n",
    "\n",
    "$E = \\sum_{ij}V(r_{ij}) + \\sum_i F(\\rho_i)$\n",
    "\n",
    "with\n",
    "\n",
    "$\\rho_i = \\sum_j \\rho(r_{ij})$\n",
    "\n",
    "The original functions for V, $\\rho$ and F were derived from different theories, but they can be chosen freely.\n",
    "\n",
    "Fitting is done using atomicrex https://atomicrex.org. In the fit process an objective or cost function is minimized. The objective function is defined as\n",
    "\n",
    "$\\chi^2 = \\sum_i w_i r_i$\n",
    "\n",
    "where $w_i$ is a weight and $r_i$ is a residual that describes the difference to target values. This residual can be defined in different ways, so it is not possible to simply compare the residual for different fitting processes or codes. A more in depth explanation and some examples can be found on https://atomicrex.org/overview.html#objective-function."
   ]
  },
  {
   "cell_type": "code",
   "execution_count": 1,
   "id": "convenient-feeding",
   "metadata": {},
   "outputs": [],
   "source": [
    "import pandas as pd\n",
    "import numpy as np\n",
    "import matplotlib.pyplot as plt\n",
    "\n",
    "from pyiron import Project, ase_to_pyiron"
   ]
  },
  {
   "cell_type": "markdown",
   "id": "hollywood-indication",
   "metadata": {},
   "source": [
    "### Import the training data"
   ]
  },
  {
   "cell_type": "code",
   "execution_count": 2,
   "id": "united-preview",
   "metadata": {},
   "outputs": [
    {
     "data": {
      "text/html": [
       "<div>\n",
       "<style scoped>\n",
       "    .dataframe tbody tr th:only-of-type {\n",
       "        vertical-align: middle;\n",
       "    }\n",
       "\n",
       "    .dataframe tbody tr th {\n",
       "        vertical-align: top;\n",
       "    }\n",
       "\n",
       "    .dataframe thead th {\n",
       "        text-align: right;\n",
       "    }\n",
       "</style>\n",
       "<table border=\"1\" class=\"dataframe\">\n",
       "  <thead>\n",
       "    <tr style=\"text-align: right;\">\n",
       "      <th></th>\n",
       "      <th>id</th>\n",
       "      <th>status</th>\n",
       "      <th>chemicalformula</th>\n",
       "      <th>job</th>\n",
       "      <th>subjob</th>\n",
       "      <th>projectpath</th>\n",
       "      <th>project</th>\n",
       "      <th>timestart</th>\n",
       "      <th>timestop</th>\n",
       "      <th>totalcputime</th>\n",
       "      <th>computer</th>\n",
       "      <th>hamilton</th>\n",
       "      <th>hamversion</th>\n",
       "      <th>parentid</th>\n",
       "      <th>masterid</th>\n",
       "    </tr>\n",
       "  </thead>\n",
       "  <tbody>\n",
       "    <tr>\n",
       "      <th>0</th>\n",
       "      <td>759</td>\n",
       "      <td>finished</td>\n",
       "      <td>None</td>\n",
       "      <td>df1_A1_A2_A3_EV_elast_phon</td>\n",
       "      <td>/df1_A1_A2_A3_EV_elast_phon</td>\n",
       "      <td>/home/niklas/pyiron/projects/</td>\n",
       "      <td>pyiron_potentialfit/datasets/imported_datasets/Cu_database/</td>\n",
       "      <td>2021-02-08 10:33:52.341472</td>\n",
       "      <td>None</td>\n",
       "      <td>None</td>\n",
       "      <td>zora@cmti001#1</td>\n",
       "      <td>TrainingContainer</td>\n",
       "      <td>0.4</td>\n",
       "      <td>None</td>\n",
       "      <td>None</td>\n",
       "    </tr>\n",
       "    <tr>\n",
       "      <th>1</th>\n",
       "      <td>760</td>\n",
       "      <td>finished</td>\n",
       "      <td>None</td>\n",
       "      <td>df3_10k</td>\n",
       "      <td>/df3_10k</td>\n",
       "      <td>/home/niklas/pyiron/projects/</td>\n",
       "      <td>pyiron_potentialfit/datasets/imported_datasets/Cu_database/</td>\n",
       "      <td>2021-02-08 10:33:53.993230</td>\n",
       "      <td>None</td>\n",
       "      <td>None</td>\n",
       "      <td>zora@cmti001#1</td>\n",
       "      <td>TrainingContainer</td>\n",
       "      <td>0.4</td>\n",
       "      <td>None</td>\n",
       "      <td>None</td>\n",
       "    </tr>\n",
       "    <tr>\n",
       "      <th>2</th>\n",
       "      <td>761</td>\n",
       "      <td>finished</td>\n",
       "      <td>None</td>\n",
       "      <td>df2_1k</td>\n",
       "      <td>/df2_1k</td>\n",
       "      <td>/home/niklas/pyiron/projects/</td>\n",
       "      <td>pyiron_potentialfit/datasets/imported_datasets/Cu_database/</td>\n",
       "      <td>2021-02-08 10:33:54.435308</td>\n",
       "      <td>None</td>\n",
       "      <td>None</td>\n",
       "      <td>zora@cmti001#1</td>\n",
       "      <td>TrainingContainer</td>\n",
       "      <td>0.4</td>\n",
       "      <td>None</td>\n",
       "      <td>None</td>\n",
       "    </tr>\n",
       "  </tbody>\n",
       "</table>\n",
       "</div>"
      ],
      "text/plain": [
       "    id    status chemicalformula                         job  \\\n",
       "0  759  finished            None  df1_A1_A2_A3_EV_elast_phon   \n",
       "1  760  finished            None                     df3_10k   \n",
       "2  761  finished            None                      df2_1k   \n",
       "\n",
       "                        subjob                    projectpath  \\\n",
       "0  /df1_A1_A2_A3_EV_elast_phon  /home/niklas/pyiron/projects/   \n",
       "1                     /df3_10k  /home/niklas/pyiron/projects/   \n",
       "2                      /df2_1k  /home/niklas/pyiron/projects/   \n",
       "\n",
       "                                                       project  \\\n",
       "0  pyiron_potentialfit/datasets/imported_datasets/Cu_database/   \n",
       "1  pyiron_potentialfit/datasets/imported_datasets/Cu_database/   \n",
       "2  pyiron_potentialfit/datasets/imported_datasets/Cu_database/   \n",
       "\n",
       "                   timestart timestop totalcputime        computer  \\\n",
       "0 2021-02-08 10:33:52.341472     None         None  zora@cmti001#1   \n",
       "1 2021-02-08 10:33:53.993230     None         None  zora@cmti001#1   \n",
       "2 2021-02-08 10:33:54.435308     None         None  zora@cmti001#1   \n",
       "\n",
       "            hamilton hamversion parentid masterid  \n",
       "0  TrainingContainer        0.4     None     None  \n",
       "1  TrainingContainer        0.4     None     None  \n",
       "2  TrainingContainer        0.4     None     None  "
      ]
     },
     "execution_count": 2,
     "metadata": {},
     "output_type": "execute_result"
    }
   ],
   "source": [
    "data_pr = Project(\"../../datasets\")\n",
    "if len(data_pr.job_table()) == 0:\n",
    "    data_pr.unpack(\"Cu_training_archive\")\n",
    "data_pr.job_table()"
   ]
  },
  {
   "cell_type": "code",
   "execution_count": 3,
   "id": "rotary-voice",
   "metadata": {},
   "outputs": [],
   "source": [
    "data_job = data_pr.load(\"df1_A1_A2_A3_EV_elast_phon\")\n",
    "df = data_job.to_pandas()"
   ]
  },
  {
   "cell_type": "code",
   "execution_count": 4,
   "id": "reliable-chain",
   "metadata": {},
   "outputs": [
    {
     "name": "stdin",
     "output_type": "stream",
     "text": [
      "Are you sure you want to delete all jobs from 'WorkshopPotential'? y/(n) y\n"
     ]
    }
   ],
   "source": [
    "pr = Project(\"WorkshopPotential\")\n",
    "#pr.remove_jobs()"
   ]
  },
  {
   "cell_type": "markdown",
   "id": "early-accounting",
   "metadata": {},
   "source": [
    "### Create an atomicrex job"
   ]
  },
  {
   "cell_type": "code",
   "execution_count": 5,
   "id": "photographic-source",
   "metadata": {},
   "outputs": [],
   "source": [
    "job = pr.create_job(pr.job_type.Atomicrex, \"PotentialDF1\")"
   ]
  },
  {
   "cell_type": "markdown",
   "id": "southern-portuguese",
   "metadata": {},
   "source": [
    "### Add the structures that should be fitted.\n",
    "It is possible to assign different weights to certain structures or properties, depending on what should be investigated using the potential. Here every structure has the same weight, but the force vector with N*3 values is normalized to have the same total weight as the single value energy. Therefore it is divided by the number of atoms. "
   ]
  },
  {
   "cell_type": "code",
   "execution_count": 6,
   "id": "practical-nickname",
   "metadata": {},
   "outputs": [],
   "source": [
    "for id, row in df.iterrows():\n",
    "    struct = ase_to_pyiron(row.atoms)\n",
    "    s = job.structures.add_structure(struct, f\"id{id}\", relative_weight=1)\n",
    "    s.fit_properties.add_FitProperty(\"atomic-energy\", target_value=row.energy/row.number_of_atoms, relative_weight=1)\n",
    "    s.fit_properties.add_FitProperty(\"atomic-forces\", target_value=row.forces, relative_weight=1/row.number_of_atoms)"
   ]
  },
  {
   "cell_type": "markdown",
   "id": "discrete-forth",
   "metadata": {},
   "source": [
    "### Define the type of potential and necessary functions.\n",
    "In this case an eam potential is fitted."
   ]
  },
  {
   "cell_type": "code",
   "execution_count": 7,
   "id": "capable-associate",
   "metadata": {},
   "outputs": [],
   "source": [
    "job.potential = job.factories.potentials.eam_potential()"
   ]
  },
  {
   "cell_type": "markdown",
   "id": "superior-bench",
   "metadata": {},
   "source": [
    "It is necessary to define a pair potential, an electronic density function and an embedding function.\n",
    "For all of those it is possible to choose between different functional forms.\n",
    "Classic pair potentials are physically motivated and  have a very limited number of paramaters that are derived from a experimentally measured quantity.\n",
    "Splines or polynomials offer more flexibility, but can lead to unphysical oscillations or overfitting. Compared with the machine learning potentials shown later the number of parameters is very low no matter which functions you choose and the problem is highly non linear.\n",
    "\n",
    "In this case a generalized morse function is used for the pair interaction. It has the form\n",
    "\n",
    "$(\\frac{D_0}{S-1}exp(-\\beta \\sqrt{2S}(r-r_0))-\\frac{D_0S}{S-1}exp(-\\beta\\sqrt{2/S}(r-r_0)))+\\delta $\n",
    "\n",
    "The parameters in the morse potential can be derived from phyiscal quantities, but in this case they are just educated guesses. For example $r_0$ is the equilibrium distance of a dimer. The nearest neighbor distance in fcc Cu is about 2.5 $\\mathring A$ so it is taken as initial value.\n",
    "In the case of analytic functions the initial parameter choices should not matter too much, since the functional form is constrained.\n",
    "\n",
    "The electronic density and embedding function will be splines. Depending on the properties that are calculated other functional forms could give better results. The inital parameters require more testing and hand tuning than the parameters of analytic functions."
   ]
  },
  {
   "cell_type": "code",
   "execution_count": 8,
   "id": "fantastic-input",
   "metadata": {},
   "outputs": [],
   "source": [
    "V = job.factories.functions.morse_B(identifier=\"V_CuCu\", D0=0.35, r0=2.5, beta=2, S=2, delta=0)"
   ]
  },
  {
   "cell_type": "markdown",
   "id": "moderate-italic",
   "metadata": {},
   "source": [
    "Pre defined functions like the morse function can be plotted to see the influence of the initial parameter values"
   ]
  },
  {
   "cell_type": "code",
   "execution_count": 32,
   "id": "rising-posting",
   "metadata": {},
   "outputs": [
    {
     "data": {
      "text/plain": [
       "(<Figure size 720x504 with 1 Axes>,\n",
       " <AxesSubplot:xlabel='r [$\\\\AA$]', ylabel='func(r)'>)"
      ]
     },
     "execution_count": 32,
     "metadata": {},
     "output_type": "execute_result"
    },
    {
     "data": {
      "image/png": "[encoded data removed]",
      "text/plain": [
       "<Figure size 720x504 with 1 Axes>"
      ]
     },
     "metadata": {
      "needs_background": "light"
     },
     "output_type": "display_data"
    }
   ],
   "source": [
    "V.plot()"
   ]
  },
  {
   "cell_type": "markdown",
   "id": "southeast-brazil",
   "metadata": {},
   "source": [
    "Additionally it is a good idea to define limits for the parameters. This is optional for local minimizers, but the fit can quickly run away without limits. Global optimizers typically require them to constrain the sampled space."
   ]
  },
  {
   "cell_type": "code",
   "execution_count": 9,
   "id": "beginning-monthly",
   "metadata": {},
   "outputs": [],
   "source": [
    "V.parameters.D0.min_val = 0\n",
    "V.parameters.D0.max_val = 2\n",
    "V.parameters.r0.min_val = 1.5\n",
    "V.parameters.r0.max_val = 3.0\n",
    "V.parameters.S.min_val = 1.1\n",
    "V.parameters.S.max_val = 10.0\n",
    "V.parameters.delta.min_val = -1\n",
    "V.parameters.delta.max_val = 1\n",
    "V.parameters.beta.min_val = 0.1\n",
    "V.parameters.beta.max_val = 10"
   ]
  },
  {
   "cell_type": "markdown",
   "id": "meaning-badge",
   "metadata": {},
   "source": [
    "Additionally a screening function needs to be defined for the morse potential"
   ]
  },
  {
   "cell_type": "code",
   "execution_count": 10,
   "id": "agricultural-girlfriend",
   "metadata": {},
   "outputs": [],
   "source": [
    "V.screening  = job.factories.functions.exp_A_screening(identifier=\"V_cutoff\", cutoff=7)"
   ]
  },
  {
   "cell_type": "markdown",
   "id": "talented-ukraine",
   "metadata": {},
   "source": [
    "The electron density is chosen to be a spline function. The cutoff has to be defined. Derivatives left and right are optional, they default to 0. For the right cutoff this is fine, since the forces should smoothly go to 0. For the left this is not necessarily the best choice, since the function value should increase at very close distances. Very large absolute values will lead to osciallations and should be avoided."
   ]
  },
  {
   "cell_type": "code",
   "execution_count": 11,
   "id": "surprised-completion",
   "metadata": {},
   "outputs": [],
   "source": [
    "rho = job.factories.functions.spline(identifier=\"rho_CuCu\", cutoff=7, derivative_left=-1)"
   ]
  },
  {
   "cell_type": "markdown",
   "id": "incorporate-pepper",
   "metadata": {},
   "source": [
    "For a spline function it is necessary to define node points. They can be equally spaced or sampled with higher density around turning points, f.e. the first neighbor distance.\n",
    "Too few nodepoints mean low flexibilty, too many lead to overfitting. This requires some testing to find an optimal choice."
   ]
  },
  {
   "cell_type": "code",
   "execution_count": 12,
   "id": "quantitative-demonstration",
   "metadata": {},
   "outputs": [
    {
     "data": {
      "text/plain": [
       "array([0.5 , 1.58, 2.67, 3.75, 4.83, 5.92, 7.  ])"
      ]
     },
     "execution_count": 12,
     "metadata": {},
     "output_type": "execute_result"
    }
   ],
   "source": [
    "rho_nodes = np.linspace(0.5, 7.0, 7).round(2)\n",
    "rho_nodes"
   ]
  },
  {
   "cell_type": "markdown",
   "id": "prime-commonwealth",
   "metadata": {},
   "source": [
    "The nodes need initial values. The electron density should be proportional to $e^{-r}$, so this function is chosen to calculate them."
   ]
  },
  {
   "cell_type": "code",
   "execution_count": 13,
   "id": "loaded-claim",
   "metadata": {},
   "outputs": [],
   "source": [
    "decaying_exp = lambda r: np.exp(-r)\n",
    "rho_initial = decaying_exp(rho_nodes)"
   ]
  },
  {
   "cell_type": "markdown",
   "id": "fatty-recorder",
   "metadata": {},
   "source": [
    "A density can't be negative so the lower limit is set to 0. The upper limit is chosen to be 3 times the initial values. These choices aswell as the choice for $e^{-r}$ as initial values are somewhat arbitrary. The electron density from single atoms does not directly influence the calculated energies and forces, instead the summed up density at some place is used in the embedding function, so the final numerical values are an interplay between electron density and embedding function. Since the latter will also be a spline function it can only be defined for a certain range of rho values as node points. Therefore it is better to limit the range of electron density values and define larger limits for the embedding function instead. "
   ]
  },
  {
   "cell_type": "code",
   "execution_count": 14,
   "id": "suited-middle",
   "metadata": {},
   "outputs": [],
   "source": [
    "rho_mins = np.zeros((len(rho_nodes)))\n",
    "rho_maxs = 3*rho_initial.round(6)\n",
    "rho.parameters.create_from_arrays(rho_nodes, rho_initial, min_vals=rho_mins, max_vals=rho_maxs)"
   ]
  },
  {
   "cell_type": "raw",
   "id": "executed-coast",
   "metadata": {},
   "source": [
    "Finally the last node point at the cutoff range is set to 0 and fitting is disabled to prevent a discontinuous change of energy at the cutoff."
   ]
  },
  {
   "cell_type": "code",
   "execution_count": 15,
   "id": "rational-execution",
   "metadata": {},
   "outputs": [],
   "source": [
    "rho.parameters[\"node_7.0\"].start_val = 0\n",
    "rho.parameters[\"node_7.0\"].enabled = False"
   ]
  },
  {
   "cell_type": "markdown",
   "id": "continuing-elements",
   "metadata": {},
   "source": [
    "$-\\sqrt(\\rho)$ can be used as initial guess for the embedding energy, which is taken from second moment approximation tight binding. \n",
    "The node points have to be chosen in a range compatible to the electron density. This can be estimated by calculating it for a densely packed structure.\n",
    "Alternatively atomicrex writes the maximum electron density of all structures to the output. This can be used as a hint for the node points for consequent fits.\n",
    "Everything else is similar to the electron density."
   ]
  },
  {
   "cell_type": "code",
   "execution_count": 16,
   "id": "thrown-statement",
   "metadata": {},
   "outputs": [],
   "source": [
    "F = job.factories.functions.spline(identifier=\"F_CuCu\", cutoff=5)\n",
    "F_nodes = np.linspace(0.0, 5.0, 7).round(2) #9 is worse 11 is worse 7 is best\n",
    "F_init = -np.sqrt(F_nodes)\n",
    "F_maxs = np.zeros(len(F_nodes))\n",
    "F_mins = -np.ones(len(F_nodes))*5\n",
    "F.parameters.create_from_arrays(F_nodes, F_init, F_mins, F_maxs)\n",
    "F.parameters[\"node_0.0\"].enabled=False\n",
    "F.parameters[\"node_0.0\"].start_val = 0\n",
    "F.parameters[\"node_5.0\"].enabled=False\n",
    "F.parameters[\"node_5.0\"].start_val = 0"
   ]
  },
  {
   "cell_type": "markdown",
   "id": "aware-input",
   "metadata": {},
   "source": [
    "The functions have to be assigned to the potential"
   ]
  },
  {
   "cell_type": "code",
   "execution_count": 17,
   "id": "qualified-alias",
   "metadata": {},
   "outputs": [],
   "source": [
    "job.potential.pair_interactions[V.identifier] = V\n",
    "job.potential.electron_densities[rho.identifier] = rho\n",
    "job.potential.embedding_energies[F.identifier] = F"
   ]
  },
  {
   "cell_type": "markdown",
   "id": "bronze-bonus",
   "metadata": {},
   "source": [
    "### Define fitting procedure\n",
    "Finally a few parameters need to be set that influence the fitting process.\n",
    "The minimization can be done with different algorithms. Atomicrex itself implements the BFGS algorithm. Additionally the algorithms from the nlopt library can be used."
   ]
  },
  {
   "cell_type": "code",
   "execution_count": 18,
   "id": "cutting-harmony",
   "metadata": {},
   "outputs": [
    {
     "name": "stdout",
     "output_type": "stream",
     "text": [
      "The job PotentialDF1 was saved and received the ID: 833\n"
     ]
    },
    {
     "data": {
      "application/json": {
       "error": "None",
       "iterations": "array([   1,    2,    3, ..., 1998, 1999, 2000], dtype=uint32)",
       "residual": "array([1.39371e+03, 1.39371e+03, 1.39371e+03, ..., 1.52231e-01,\n       1.52231e-01, 1.52231e-01])"
      },
      "text/plain": [
       "Output({'error': None, 'residual': array([1.39371e+03, 1.39371e+03, 1.39371e+03, ..., 1.52231e-01,\n",
       "       1.52231e-01, 1.52231e-01]), 'iterations': array([   1,    2,    3, ..., 1998, 1999, 2000], dtype=uint32)})"
      ]
     },
     "execution_count": 18,
     "metadata": {},
     "output_type": "execute_result"
    }
   ],
   "source": [
    "## Define the atom types of the potential\n",
    "job.input.atom_types.Cu = None\n",
    "## Limited number of steps for the workshop\n",
    "job.input.fit_algorithm = job.factories.algorithms.ar_lbfgs(max_iter=2000)\n",
    "job.run()\n",
    "job.output"
   ]
  },
  {
   "cell_type": "markdown",
   "id": "incomplete-panama",
   "metadata": {},
   "source": [
    "Plot the resiudal over steps to see how the calculation converges"
   ]
  },
  {
   "cell_type": "code",
   "execution_count": 19,
   "id": "existing-beaver",
   "metadata": {},
   "outputs": [
    {
     "data": {
      "image/png": "[encoded data removed]",
      "text/plain": [
       "<Figure size 432x288 with 1 Axes>"
      ]
     },
     "metadata": {
      "needs_background": "light"
     },
     "output_type": "display_data"
    }
   ],
   "source": [
    "plt.plot(job.output.iterations, job.output.residual)\n",
    "plt.yscale(\"log\")"
   ]
  },
  {
   "cell_type": "markdown",
   "id": "complicated-scottish",
   "metadata": {},
   "source": [
    "Finally it is a good idea to have a look at the final potential. This can reveal unphysical behavior"
   ]
  },
  {
   "cell_type": "code",
   "execution_count": 20,
   "id": "headed-bahrain",
   "metadata": {},
   "outputs": [
    {
     "data": {
      "text/plain": [
       "(<Figure size 576x1296 with 3 Axes>,\n",
       " array([[<AxesSubplot:title={'center':'Cu F'}, xlabel='$\\\\rho $ [a.u.]'>],\n",
       "        [<AxesSubplot:title={'center':'Cu rho_CuCu'}, xlabel='r [$\\\\AA$]'>],\n",
       "        [<AxesSubplot:title={'center':'Cu V_CuCu'}, xlabel='r [$\\\\AA$]'>]],\n",
       "       dtype=object))"
      ]
     },
     "execution_count": 20,
     "metadata": {},
     "output_type": "execute_result"
    },
    {
     "data": {
      "image/png": "[encoded data removed]",
      "text/plain": [
       "<Figure size 576x1296 with 3 Axes>"
      ]
     },
     "metadata": {
      "needs_background": "light"
     },
     "output_type": "display_data"
    }
   ],
   "source": [
    "job.plot_final_potential()"
   ]
  },
  {
   "cell_type": "code",
   "execution_count": 21,
   "id": "green-direction",
   "metadata": {},
   "outputs": [
    {
     "name": "stdout",
     "output_type": "stream",
     "text": [
      "The job PotentialTest was saved and received the ID: 834\n",
      "The job strain_0_9 was saved and received the ID: 835\n",
      "The job strain_0_92 was saved and received the ID: 836\n",
      "The job strain_0_94 was saved and received the ID: 837\n",
      "The job strain_0_96 was saved and received the ID: 838\n",
      "The job strain_0_98 was saved and received the ID: 839\n",
      "The job strain_1_0 was saved and received the ID: 840\n",
      "The job strain_1_02 was saved and received the ID: 841\n",
      "The job strain_1_04 was saved and received the ID: 842\n",
      "The job strain_1_06 was saved and received the ID: 843\n",
      "The job strain_1_08 was saved and received the ID: 844\n",
      "The job strain_1_1 was saved and received the ID: 845\n",
      "job_id:  835 finished\n",
      "job_id:  836 finished\n",
      "job_id:  837 finished\n",
      "job_id:  838 finished\n",
      "job_id:  839 finished\n",
      "job_id:  840 finished\n",
      "job_id:  841 finished\n",
      "job_id:  842 finished\n",
      "job_id:  843 finished\n",
      "job_id:  844 finished\n",
      "job_id:  845 finished\n"
     ]
    }
   ],
   "source": [
    "lmp = pr.create_job(\"Lammps\", \"template\")\n",
    "lmp.structure = pr.create_ase_bulk(\"Cu\", cubic=True)\n",
    "lmp.potential = job.lammps_potential\n",
    "murn = lmp.create_job(\"Murnaghan\", \"PotentialTest\")\n",
    "murn.run()"
   ]
  },
  {
   "cell_type": "code",
   "execution_count": 22,
   "id": "bridal-pittsburgh",
   "metadata": {},
   "outputs": [
    {
     "data": {
      "image/png": "[encoded data removed]",
      "text/plain": [
       "<Figure size 432x288 with 1 Axes>"
      ]
     },
     "metadata": {
      "needs_background": "light"
     },
     "output_type": "display_data"
    }
   ],
   "source": [
    "murn.plot()"
   ]
  },
  {
   "cell_type": "code",
   "execution_count": 23,
   "id": "tamil-notice",
   "metadata": {},
   "outputs": [
    {
     "data": {
      "text/plain": [
       "3.632164318463751"
      ]
     },
     "execution_count": 23,
     "metadata": {},
     "output_type": "execute_result"
    }
   ],
   "source": [
    "murn[\"output/equilibrium_volume\"]**(1/3)"
   ]
  },
  {
   "cell_type": "markdown",
   "id": "polished-settlement",
   "metadata": {},
   "source": [
    "### Same cane be done for the 1000 structures dataset\n",
    "The final parameters of the 100 structure fit can be used for the 1000 Structure fit. This can speed up the fitting process and often leads to better results, especially if the initially guessed values are far from the optimum. \n",
    "\n",
    "In general it is a good idea to start with few structures and try around with different functions and initial parameters. This is much faster than using all structures from the beginning and gives good guesses for the initial values of the parameters. It also allows to use global optimization with millions of steps in short time spans.\n",
    "\n",
    "### This can take long and writes 1000 seperate POSCAR files, TAKE CARE\n",
    "Run these jobs with more cores or more time after the workshop. Also increase the number of iterations for better results"
   ]
  },
  {
   "cell_type": "code",
   "execution_count": 24,
   "id": "passing-webmaster",
   "metadata": {},
   "outputs": [
    {
     "name": "stdin",
     "output_type": "stream",
     "text": [
      "Are you sure you want to delete all jobs from 'PotentialDF2'? y/(n) y\n"
     ]
    }
   ],
   "source": [
    "pr = Project(\"PotentialDF2\")\n",
    "#pr.remove_jobs()\n",
    "j = pr.create_job(pr.job_type.Atomicrex, \"PotentialDF2\")\n",
    "j.potential = job.potential.copy()\n",
    "## Use the final parameters as starting values for the new fit\n",
    "j.potential.copy_final_to_initial_params()"
   ]
  },
  {
   "cell_type": "code",
   "execution_count": 25,
   "id": "aging-thailand",
   "metadata": {},
   "outputs": [],
   "source": [
    "df = data_pr.load(\"df2_1k\").to_pandas()\n",
    "for id, row in df.iterrows():\n",
    "    struct = ase_to_pyiron(row.atoms)\n",
    "    s = j.structures.add_structure(struct, f\"id{id}\", relative_weight=1)\n",
    "    s.fit_properties.add_FitProperty(\"atomic-energy\", target_value=row.energy/row.number_of_atoms, relative_weight=1)\n",
    "    s.fit_properties.add_FitProperty(\"atomic-forces\", target_value=row.forces, relative_weight=1/row.number_of_atoms)"
   ]
  },
  {
   "cell_type": "code",
   "execution_count": 26,
   "id": "arctic-underground",
   "metadata": {},
   "outputs": [],
   "source": [
    "import time"
   ]
  },
  {
   "cell_type": "code",
   "execution_count": 27,
   "id": "abroad-leadership",
   "metadata": {},
   "outputs": [
    {
     "name": "stdout",
     "output_type": "stream",
     "text": [
      "The job PotentialDF2 was saved and received the ID: 846\n"
     ]
    }
   ],
   "source": [
    "j.input.atom_types.Cu = None\n",
    "j.input.fit_algorithm = j.factories.algorithms.ar_lbfgs(max_iter=100000)\n",
    "\n",
    "## if possible increase number of cores\n",
    "j.server.cores = 16\n",
    "t1 = time.time()\n",
    "## Uncomment if you want to run the job\n",
    "j.run()\n",
    "t2 = time.time()"
   ]
  },
  {
   "cell_type": "code",
   "execution_count": 28,
   "id": "immune-secretary",
   "metadata": {},
   "outputs": [
    {
     "data": {
      "text/plain": [
       "861.4345953464508"
      ]
     },
     "execution_count": 28,
     "metadata": {},
     "output_type": "execute_result"
    }
   ],
   "source": [
    "t2-t1"
   ]
  },
  {
   "cell_type": "code",
   "execution_count": 29,
   "id": "stuck-dakota",
   "metadata": {},
   "outputs": [
    {
     "data": {
      "application/json": {
       "error": "None",
       "iterations": "array([   1,    2,    3, ..., 5594, 5595, 5596], dtype=uint32)",
       "residual": "array([758.612 , 758.612 , 758.612 , ...,  58.7461,  58.7461,  58.7461])"
      },
      "text/plain": [
       "Output({'error': None, 'residual': array([758.612 , 758.612 , 758.612 , ...,  58.7461,  58.7461,  58.7461]), 'iterations': array([   1,    2,    3, ..., 5594, 5595, 5596], dtype=uint32)})"
      ]
     },
     "execution_count": 29,
     "metadata": {},
     "output_type": "execute_result"
    }
   ],
   "source": [
    "j.output"
   ]
  },
  {
   "cell_type": "markdown",
   "id": "sensitive-draft",
   "metadata": {},
   "source": [
    "This is the result if the initilly guessed values are taken instead of the fitted ones."
   ]
  },
  {
   "cell_type": "code",
   "execution_count": 30,
   "id": "coastal-booth",
   "metadata": {},
   "outputs": [
    {
     "name": "stdout",
     "output_type": "stream",
     "text": [
      "The job PotentialDF2_BadStartParams was saved and received the ID: 847\n"
     ]
    }
   ],
   "source": [
    "j2 = pr.create_job(pr.job_type.Atomicrex, \"PotentialDF2_BadStartParams\")\n",
    "j2.potential = job.potential.copy()\n",
    "j2.input.atom_types.Cu = None\n",
    "j2.input.fit_algorithm = j.factories.algorithms.ar_lbfgs(max_iter=100000)\n",
    "j2.structures = j.structures\n",
    "## if possible increase number of cores\n",
    "j2.server.cores = 16\n",
    "## Uncomment if you want to run the job\n",
    "j2.run()"
   ]
  },
  {
   "cell_type": "code",
   "execution_count": 31,
   "id": "southwest-scholar",
   "metadata": {},
   "outputs": [
    {
     "data": {
      "application/json": {
       "error": "None",
       "iterations": "array([   1,    2,    3, ..., 5357, 5358, 5359], dtype=uint32)",
       "residual": "array([5717.28 , 5717.28 , 5717.28 , ...,   58.746,   58.746,   58.746])"
      },
      "text/plain": [
       "Output({'error': None, 'residual': array([5717.28 , 5717.28 , 5717.28 , ...,   58.746,   58.746,   58.746]), 'iterations': array([   1,    2,    3, ..., 5357, 5358, 5359], dtype=uint32)})"
      ]
     },
     "execution_count": 31,
     "metadata": {},
     "output_type": "execute_result"
    }
   ],
   "source": [
    "j2.output"
   ]
  },
  {
   "cell_type": "markdown",
   "id": "brown-commissioner",
   "metadata": {},
   "source": [
    "With this choice of functions and initial parameters starting directly from all structures gives the same residual. In a previous iteration of the potential it was about 7 times worse, so it is a good idea to test this."
   ]
  }
 ],
 "metadata": {
  "kernelspec": {
   "display_name": "Python 3",
   "language": "python",
   "name": "python3"
  },
  "language_info": {
   "codemirror_mode": {
    "name": "ipython",
    "version": 3
   },
   "file_extension": ".py",
   "mimetype": "text/x-python",
   "name": "python",
   "nbconvert_exporter": "python",
   "pygments_lexer": "ipython3",
   "version": "3.8.8"
  }
 },
 "nbformat": 4,
 "nbformat_minor": 5
}
