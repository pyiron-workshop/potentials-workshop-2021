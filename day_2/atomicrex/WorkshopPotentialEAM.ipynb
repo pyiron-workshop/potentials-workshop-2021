{
 "cells": [
  {
   "cell_type": "code",
   "execution_count": 1,
   "id": "political-robinson",
   "metadata": {},
   "outputs": [],
   "source": [
    "import pandas as pd\n",
    "import numpy as np\n",
    "\n",
    "from pyiron import Project, ase_to_pyiron\n",
    "from pyiron_contrib.atomistic.atomicrex.atomicrex_job import Atomicrex"
   ]
  },
  {
   "cell_type": "code",
   "execution_count": 2,
   "id": "tracked-postcard",
   "metadata": {},
   "outputs": [
    {
     "data": {
      "text/html": [
       "<div>\n",
       "<style scoped>\n",
       "    .dataframe tbody tr th:only-of-type {\n",
       "        vertical-align: middle;\n",
       "    }\n",
       "\n",
       "    .dataframe tbody tr th {\n",
       "        vertical-align: top;\n",
       "    }\n",
       "\n",
       "    .dataframe thead th {\n",
       "        text-align: right;\n",
       "    }\n",
       "</style>\n",
       "<table border=\"1\" class=\"dataframe\">\n",
       "  <thead>\n",
       "    <tr style=\"text-align: right;\">\n",
       "      <th></th>\n",
       "      <th>id</th>\n",
       "      <th>status</th>\n",
       "      <th>chemicalformula</th>\n",
       "      <th>job</th>\n",
       "      <th>subjob</th>\n",
       "      <th>projectpath</th>\n",
       "      <th>project</th>\n",
       "      <th>timestart</th>\n",
       "      <th>timestop</th>\n",
       "      <th>totalcputime</th>\n",
       "      <th>computer</th>\n",
       "      <th>hamilton</th>\n",
       "      <th>hamversion</th>\n",
       "      <th>parentid</th>\n",
       "      <th>masterid</th>\n",
       "    </tr>\n",
       "  </thead>\n",
       "  <tbody>\n",
       "    <tr>\n",
       "      <th>0</th>\n",
       "      <td>619</td>\n",
       "      <td>finished</td>\n",
       "      <td>None</td>\n",
       "      <td>df1_A1_A2_A3_EV_elast_phon</td>\n",
       "      <td>/df1_A1_A2_A3_EV_elast_phon</td>\n",
       "      <td>/home/niklas/pyiron/projects/</td>\n",
       "      <td>import_database/Cu_database/</td>\n",
       "      <td>2021-02-08 10:33:52.341472</td>\n",
       "      <td>None</td>\n",
       "      <td>None</td>\n",
       "      <td>zora@cmti001#1</td>\n",
       "      <td>GenericJob</td>\n",
       "      <td>0.4</td>\n",
       "      <td>None</td>\n",
       "      <td>None</td>\n",
       "    </tr>\n",
       "    <tr>\n",
       "      <th>1</th>\n",
       "      <td>620</td>\n",
       "      <td>finished</td>\n",
       "      <td>None</td>\n",
       "      <td>df3_10k</td>\n",
       "      <td>/df3_10k</td>\n",
       "      <td>/home/niklas/pyiron/projects/</td>\n",
       "      <td>import_database/Cu_database/</td>\n",
       "      <td>2021-02-08 10:33:53.993230</td>\n",
       "      <td>None</td>\n",
       "      <td>None</td>\n",
       "      <td>zora@cmti001#1</td>\n",
       "      <td>GenericJob</td>\n",
       "      <td>0.4</td>\n",
       "      <td>None</td>\n",
       "      <td>None</td>\n",
       "    </tr>\n",
       "    <tr>\n",
       "      <th>2</th>\n",
       "      <td>621</td>\n",
       "      <td>finished</td>\n",
       "      <td>None</td>\n",
       "      <td>df2_1k</td>\n",
       "      <td>/df2_1k</td>\n",
       "      <td>/home/niklas/pyiron/projects/</td>\n",
       "      <td>import_database/Cu_database/</td>\n",
       "      <td>2021-02-08 10:33:54.435308</td>\n",
       "      <td>None</td>\n",
       "      <td>None</td>\n",
       "      <td>zora@cmti001#1</td>\n",
       "      <td>GenericJob</td>\n",
       "      <td>0.4</td>\n",
       "      <td>None</td>\n",
       "      <td>None</td>\n",
       "    </tr>\n",
       "  </tbody>\n",
       "</table>\n",
       "</div>"
      ],
      "text/plain": [
       "    id    status chemicalformula                         job  \\\n",
       "0  619  finished            None  df1_A1_A2_A3_EV_elast_phon   \n",
       "1  620  finished            None                     df3_10k   \n",
       "2  621  finished            None                      df2_1k   \n",
       "\n",
       "                        subjob                    projectpath  \\\n",
       "0  /df1_A1_A2_A3_EV_elast_phon  /home/niklas/pyiron/projects/   \n",
       "1                     /df3_10k  /home/niklas/pyiron/projects/   \n",
       "2                      /df2_1k  /home/niklas/pyiron/projects/   \n",
       "\n",
       "                        project                  timestart timestop  \\\n",
       "0  import_database/Cu_database/ 2021-02-08 10:33:52.341472     None   \n",
       "1  import_database/Cu_database/ 2021-02-08 10:33:53.993230     None   \n",
       "2  import_database/Cu_database/ 2021-02-08 10:33:54.435308     None   \n",
       "\n",
       "  totalcputime        computer    hamilton hamversion parentid masterid  \n",
       "0         None  zora@cmti001#1  GenericJob        0.4     None     None  \n",
       "1         None  zora@cmti001#1  GenericJob        0.4     None     None  \n",
       "2         None  zora@cmti001#1  GenericJob        0.4     None     None  "
      ]
     },
     "execution_count": 2,
     "metadata": {},
     "output_type": "execute_result"
    }
   ],
   "source": [
    "data_pr = Project(\"../../datasets\")\n",
    "if len(data_pr.job_table()) == 0:\n",
    "    data_pr.unpack(\"Cu_training_archive\")\n",
    "data_pr.job_table()"
   ]
  },
  {
   "cell_type": "code",
   "execution_count": 3,
   "id": "authentic-substance",
   "metadata": {},
   "outputs": [],
   "source": [
    "data_job = data_pr.load(\"df1_A1_A2_A3_EV_elast_phon\")\n",
    "df = data_job.to_pandas()"
   ]
  },
  {
   "cell_type": "code",
   "execution_count": 4,
   "id": "vertical-simon",
   "metadata": {},
   "outputs": [
    {
     "name": "stdin",
     "output_type": "stream",
     "text": [
      "Are you sure you want to delete all jobs from 'WorkshopPotential'? y/(n) y\n"
     ]
    }
   ],
   "source": [
    "pr = Project(\"WorkshopPotential\")"
   ]
  },
  {
   "cell_type": "code",
   "execution_count": 5,
   "id": "finite-planner",
   "metadata": {},
   "outputs": [],
   "source": [
    "job = pr.create_job(Atomicrex, \"PotentialDF1\")"
   ]
  },
  {
   "cell_type": "markdown",
   "id": "fiscal-advocate",
   "metadata": {},
   "source": [
    "### Add the structures that should be fitted.\n",
    "It is possible to assign different weights to certain structures or properties, depending on what should be investigated using the potential. Here every structure has the same weight, but the force vector with N*3 values is normalized to have the same total weight as the single value energy. Therefore it is divided by the number of atoms. "
   ]
  },
  {
   "cell_type": "code",
   "execution_count": 6,
   "id": "funded-offense",
   "metadata": {},
   "outputs": [],
   "source": [
    "for id, row in df.iterrows():\n",
    "    struct = ase_to_pyiron(row.atoms)\n",
    "    s = job.structures.add_structure(struct, f\"id{id}\", relative_weight=1)\n",
    "    s.fit_properties.add_FitProperty(\"atomic-energy\", target_value=row.energy/row.number_of_atoms, relative_weight=1)\n",
    "    s.fit_properties.add_FitProperty(\"atomic-forces\", target_value=row.forces, relative_weight=1/row.number_of_atoms)"
   ]
  },
  {
   "cell_type": "markdown",
   "id": "simplified-withdrawal",
   "metadata": {},
   "source": [
    "### Define the type of potential and necessary functions.\n",
    "In this case an eam potential is fitted."
   ]
  },
  {
   "cell_type": "code",
   "execution_count": 7,
   "id": "worth-electricity",
   "metadata": {},
   "outputs": [],
   "source": [
    "job.potential = job.factories.potentials.eam_potential()"
   ]
  },
  {
   "cell_type": "markdown",
   "id": "earlier-arrow",
   "metadata": {},
   "source": [
    "It is necessary to define a pair potential, an electronic density function and an embedding function.\n",
    "For all of those it is possible to choose between different functional forms.\n",
    "Classic pair potentials are physically motivated and  have a very limited number of paramaters that are derived from a experimentally measured quantity.\n",
    "Splines or polynomials offer more flexibility, but are not directly physically motivated and can lead to unphysical oscillations or overfitting.\n",
    "\n",
    "In this case a generalized morse function is used for the pair interaction, while the electronic density and embedding function will be splines. Depending on the properties that are calculated other functional forms could give better results.\n",
    "\n",
    "The parameters in D0=3.5 and r0=1.8 are the approximate cohesive energy and the equilibrium lattice constant. Beta and S can also be derived from physical quantities but are chosen randomly in a typical range in this case. Delta is a parameter that shifts the whole function up or down. The initial parameter choices should not matter too much as long as they are somewhat reasonable since they will be optimized in the fitting process anyway."
   ]
  },
  {
   "cell_type": "code",
   "execution_count": 8,
   "id": "grave-settlement",
   "metadata": {},
   "outputs": [],
   "source": [
    "V = job.factories.functions.morse_B(identifier=\"V_CuCu\", D0=3.5, r0=1.8, beta=2, S=2, delta=0)"
   ]
  },
  {
   "cell_type": "code",
   "execution_count": 9,
   "id": "sharp-photographer",
   "metadata": {},
   "outputs": [],
   "source": [
    "V.parameters.D0.min_val = 0\n",
    "V.parameters.D0.max_val = 5\n",
    "V.parameters.r0.min_val = 1\n",
    "V.parameters.r0.max_val = 2.5\n",
    "V.parameters.delta.min_val = -1\n",
    "V.parameters.delta.max_val = 1\n",
    "V.parameters.beta.min_val = 0.1\n",
    "V.parameters.beta.max_val = 10"
   ]
  },
  {
   "cell_type": "markdown",
   "id": "rough-purchase",
   "metadata": {},
   "source": [
    "Additionally a screening function needs to be defined for the morse potential"
   ]
  },
  {
   "cell_type": "code",
   "execution_count": 10,
   "id": "practical-details",
   "metadata": {},
   "outputs": [],
   "source": [
    "V.screening  = job.factories.functions.exp_A_screening(identifier=\"V_cutoff\", cutoff=7)"
   ]
  },
  {
   "cell_type": "markdown",
   "id": "external-ready",
   "metadata": {},
   "source": [
    "The electron density is chosen to be a spline function. The cutoff has to be defined. Derivatives left and right are optional, they default to 0. For the right cutoff this is fine, since the forces should smoothly go to 0. For the left this is not necessarily the best choice, since the function value should increase at very close distances."
   ]
  },
  {
   "cell_type": "code",
   "execution_count": 11,
   "id": "departmental-dynamics",
   "metadata": {},
   "outputs": [],
   "source": [
    "rho = job.factories.functions.spline(identifier=\"rho_CuCu\", cutoff=7, derivative_left=-1)"
   ]
  },
  {
   "cell_type": "markdown",
   "id": "latter-wright",
   "metadata": {},
   "source": [
    "For a spline function it is necessary to define node points. They can be equally spaced or sampled with higher density around turning points, f.e. the first neighbor distance.\n",
    "Too few nodepoints mean low flexibilty, too many lead to overfitting. This requires some testing to find an optimal choice."
   ]
  },
  {
   "cell_type": "code",
   "execution_count": 12,
   "id": "double-engineering",
   "metadata": {},
   "outputs": [
    {
     "data": {
      "text/plain": [
       "array([0.5 , 1.58, 2.67, 3.75, 4.83, 5.92, 7.  ])"
      ]
     },
     "execution_count": 12,
     "metadata": {},
     "output_type": "execute_result"
    }
   ],
   "source": [
    "rho_nodes = np.linspace(0.5, 7.0, 7).round(2)\n",
    "rho_nodes"
   ]
  },
  {
   "cell_type": "markdown",
   "id": "handled-housing",
   "metadata": {},
   "source": [
    "The nodes need initial values. The electron density should be proportional to $e^{-r}$, so this function is chosen to calculate them."
   ]
  },
  {
   "cell_type": "code",
   "execution_count": 13,
   "id": "developing-apache",
   "metadata": {},
   "outputs": [],
   "source": [
    "decaying_exp = lambda r: np.exp(-r)\n",
    "rho_initial = decaying_exp(rho_nodes)"
   ]
  },
  {
   "cell_type": "markdown",
   "id": "separated-journal",
   "metadata": {},
   "source": [
    "Additionally it is a good idea to define limits for the node points. This is optional for local minimizers, but the fit can quickly run away without limits. Global optimizers typically require them to constrain the sampled space.\n",
    "\n",
    "A density can't be negative so the lower limit is set to 0. The upper limit is chosen to be 3 times the initial values. These choices aswell as the choice for $e^{-r}$ as initial values are somewhat arbitrary, but don't matter much. The electron density from single atoms does not directly influence the calculated energies and forces, instead the summed up density at some place is used in the embedding function, so the final numerical values are an interplay between electron density and embedding function. Since the latter will also be a spline function it can only be defined for a certain range of rho values as node points. Therefore it is better to limit the range of electron density values and define larger limits for the embedding function instead. "
   ]
  },
  {
   "cell_type": "code",
   "execution_count": 14,
   "id": "colored-discount",
   "metadata": {},
   "outputs": [],
   "source": [
    "rho_mins = np.zeros((len(rho_nodes)))\n",
    "rho_maxs = 3*rho_initial.round(6)\n",
    "rho.parameters.create_from_arrays(rho_nodes, rho_initial, min_vals=rho_mins, max_vals=rho_maxs)"
   ]
  },
  {
   "cell_type": "raw",
   "id": "preliminary-peace",
   "metadata": {},
   "source": [
    "Finally the last node point at the cutoff range is set to 0 and fitting is disabled to prevent a discontinuous change of energy at the cutoff."
   ]
  },
  {
   "cell_type": "code",
   "execution_count": 15,
   "id": "lasting-reply",
   "metadata": {},
   "outputs": [],
   "source": [
    "rho.parameters[\"node_7.0\"].start_val = 0\n",
    "rho.parameters[\"node_7.0\"].enabled = False"
   ]
  },
  {
   "cell_type": "markdown",
   "id": "saving-vegetable",
   "metadata": {},
   "source": [
    "$-\\sqrt(\\rho)$ can be used as initial guess for the embedding energy, which is taken from second moment approximation tight binding. \n",
    "The node points have to be chosen in a range compatible to the electron density. This can be estimated by calculating it for a densely packed structure.\n",
    "Alternatively atomicrex writes the maximum electron density of all structures to the output. This can be used as a hint for the node points for consequent fits.\n",
    "Everything else is similar to the electron density."
   ]
  },
  {
   "cell_type": "code",
   "execution_count": 16,
   "id": "overall-flower",
   "metadata": {},
   "outputs": [],
   "source": [
    "F = job.factories.functions.spline(identifier=\"F_CuCu\", cutoff=5)\n",
    "F_nodes = np.linspace(0.0, 5.0, 7).round(2) #9 is worse 11 is worse 7 is best\n",
    "F_init = -np.sqrt(F_nodes)\n",
    "F_maxs = np.zeros(len(F_nodes))\n",
    "F_mins = -np.ones(len(F_nodes))*5\n",
    "F.parameters.create_from_arrays(F_nodes, F_init, F_mins, F_maxs)\n",
    "F.parameters[\"node_0.0\"].enabled=False\n",
    "F.parameters[\"node_0.0\"].start_val = 0\n",
    "F.parameters[\"node_5.0\"].enabled=False\n",
    "F.parameters[\"node_5.0\"].start_val = 0"
   ]
  },
  {
   "cell_type": "markdown",
   "id": "neutral-gateway",
   "metadata": {},
   "source": [
    "The functions have to be assigned to the potential"
   ]
  },
  {
   "cell_type": "code",
   "execution_count": 17,
   "id": "major-capacity",
   "metadata": {},
   "outputs": [],
   "source": [
    "job.potential.pair_interactions[V.identifier] = V\n",
    "job.potential.electron_densities[rho.identifier] = rho\n",
    "job.potential.embedding_energies[F.identifier] = F"
   ]
  },
  {
   "cell_type": "markdown",
   "id": "unusual-retirement",
   "metadata": {},
   "source": [
    "### Define fitting procedure\n",
    "Finally a few parameters need to be set that influence the fitting process.\n",
    "The minimization can be done with different algorithms. Atomicrex itself implements the BFGS algorithm. Additionally the algorithms from the nlopt library can be used."
   ]
  },
  {
   "cell_type": "code",
   "execution_count": 18,
   "id": "productive-spare",
   "metadata": {},
   "outputs": [
    {
     "name": "stdout",
     "output_type": "stream",
     "text": [
      "The job PotentialDF1 was saved and received the ID: 622\n"
     ]
    },
    {
     "data": {
      "application/json": {
       "error": "None",
       "iterations": "19588",
       "residual": "0.162222"
      },
      "text/plain": [
       "Output({'error': None, 'residual': 0.162222, 'iterations': 19588})"
      ]
     },
     "execution_count": 18,
     "metadata": {},
     "output_type": "execute_result"
    }
   ],
   "source": [
    "## Define the atom types of the potential\n",
    "job.input.atom_types.Cu = None\n",
    "##\n",
    "job.input.fit_algorithm = job.factories.algorithms.ar_lbfgs(max_iter=500)\n",
    "job.run()\n",
    "job.output"
   ]
  },
  {
   "cell_type": "markdown",
   "id": "abandoned-reform",
   "metadata": {},
   "source": [
    "### Same for the 1000 structures dataset\n",
    "The final parameters of the 100 structure fit can be used for the 1000 Structure fit. This speeds up the fitting process and often leads to better results.\n",
    "\n",
    "In general it is a good idea to start with few structures and try around with different functions and initial parameters. This is much faster than using all structures from the beginning and gives good guesses for the initial values of the parameters. It also allows to use global optimization with millions of steps in short time spans.\n",
    "\n",
    "### This can take long and writes 1000 seperate POSCAR files, TAKE CARE"
   ]
  },
  {
   "cell_type": "code",
   "execution_count": 19,
   "id": "preceding-march",
   "metadata": {},
   "outputs": [],
   "source": [
    "j = pr.create_job(Atomicrex, \"PotentialDF2\")\n",
    "j.potential = job.potential.copy()\n",
    "## Use the final parameters as starting values for the new fit\n",
    "j.potential.copy_final_to_initial_params()\n",
    "j.input = job.input.copy()"
   ]
  },
  {
   "cell_type": "code",
   "execution_count": 20,
   "id": "ancient-september",
   "metadata": {},
   "outputs": [],
   "source": [
    "df = data_pr.load(\"df2_1k\").to_pandas()\n",
    "for id, row in df.iterrows():\n",
    "    struct = ase_to_pyiron(row.atoms)\n",
    "    s = j.structures.add_structure(struct, f\"id{id}\", relative_weight=1)\n",
    "    s.fit_properties.add_FitProperty(\"atomic-energy\", target_value=row.energy/row.number_of_atoms, relative_weight=1)\n",
    "    s.fit_properties.add_FitProperty(\"atomic-forces\", target_value=row.forces, relative_weight=1/row.number_of_atoms)"
   ]
  },
  {
   "cell_type": "code",
   "execution_count": 21,
   "id": "correct-israeli",
   "metadata": {},
   "outputs": [],
   "source": [
    "import time"
   ]
  },
  {
   "cell_type": "code",
   "execution_count": 22,
   "id": "multiple-harbor",
   "metadata": {},
   "outputs": [
    {
     "name": "stdout",
     "output_type": "stream",
     "text": [
      "The job PotentialDF2 was saved and received the ID: 623\n"
     ]
    }
   ],
   "source": [
    "t1 = time.time()\n",
    "j.run()\n",
    "t2 = time.time()"
   ]
  },
  {
   "cell_type": "code",
   "execution_count": 23,
   "id": "eligible-soviet",
   "metadata": {},
   "outputs": [
    {
     "data": {
      "text/plain": [
       "538.0122790336609"
      ]
     },
     "execution_count": 23,
     "metadata": {},
     "output_type": "execute_result"
    }
   ],
   "source": [
    "t2-t1"
   ]
  },
  {
   "cell_type": "code",
   "execution_count": 24,
   "id": "subsequent-diploma",
   "metadata": {},
   "outputs": [
    {
     "data": {
      "application/json": {
       "error": "None",
       "iterations": "3619",
       "residual": "117.878"
      },
      "text/plain": [
       "Output({'error': None, 'residual': 117.878, 'iterations': 3619})"
      ]
     },
     "execution_count": 24,
     "metadata": {},
     "output_type": "execute_result"
    }
   ],
   "source": [
    "j.output"
   ]
  },
  {
   "cell_type": "markdown",
   "id": "collaborative-charleston",
   "metadata": {},
   "source": [
    "This is the result if the initilly guessed values are taken instead of the fitted ones."
   ]
  },
  {
   "cell_type": "code",
   "execution_count": 25,
   "id": "dutch-module",
   "metadata": {},
   "outputs": [
    {
     "name": "stdout",
     "output_type": "stream",
     "text": [
      "The job PotentialDF2_BadStartParams was saved and received the ID: 624\n"
     ]
    }
   ],
   "source": [
    "j2 = pr.create_job(Atomicrex, \"PotentialDF2_BadStartParams\", delete_existing_job=True)\n",
    "j2.potential = job.potential.copy()\n",
    "j2.input = j.input.copy()\n",
    "j2.structures = j.structures\n",
    "j2.run()"
   ]
  },
  {
   "cell_type": "code",
   "execution_count": 26,
   "id": "innocent-pasta",
   "metadata": {},
   "outputs": [
    {
     "data": {
      "application/json": {
       "error": "None",
       "iterations": "607",
       "residual": "8269.14"
      },
      "text/plain": [
       "Output({'error': None, 'residual': 8269.14, 'iterations': 607})"
      ]
     },
     "execution_count": 26,
     "metadata": {},
     "output_type": "execute_result"
    }
   ],
   "source": [
    "j2.output"
   ]
  },
  {
   "cell_type": "code",
   "execution_count": null,
   "id": "handed-tribute",
   "metadata": {},
   "outputs": [],
   "source": []
  }
 ],
 "metadata": {
  "kernelspec": {
   "display_name": "Python 3",
   "language": "python",
   "name": "python3"
  },
  "language_info": {
   "codemirror_mode": {
    "name": "ipython",
    "version": 3
   },
   "file_extension": ".py",
   "mimetype": "text/x-python",
   "name": "python",
   "nbconvert_exporter": "python",
   "pygments_lexer": "ipython3",
   "version": "3.8.8"
  }
 },
 "nbformat": 4,
 "nbformat_minor": 5
}
