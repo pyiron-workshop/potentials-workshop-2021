{
 "cells": [
  {
   "cell_type": "markdown",
   "metadata": {},
   "source": [
    "# [Workshop: Software Tools from Atomistics to Phase Diagrams](https://workshop.materialsgenomefoundation.org) "
   ]
  },
  {
   "cell_type": "markdown",
   "metadata": {},
   "source": [
    "## Day 1 - Atomistic simulations ([pyiron](https://pyiron.org))\n",
    "**Authors:  <u>Jan Janssen</u>, Tilmann Hickel, Jörg Neugebauer ([Max-Planck-Institut für Eisenforschung](https://www.mpie.de))**\n",
    "\n",
    "Interactive: **Density functional theory with pyiron**\n",
    "\n",
    "The scope of this first exercise is to become familar with:\n",
    "* Density functional theory calculation, \n",
    "* Calculate the equilibrium lattice constant \n",
    "* Compare the results to interatomic potentials."
   ]
  },
  {
   "cell_type": "markdown",
   "metadata": {},
   "source": [
    "## Reminder\n",
    "In the first session we learned how to create a pyiron project object and then use this pyiron project object to create atomistic structure objects. "
   ]
  },
  {
   "cell_type": "raw",
   "metadata": {},
   "source": [
    "# Import the Project object\n",
    "from pyiron import ____"
   ]
  },
  {
   "cell_type": "code",
   "execution_count": 1,
   "metadata": {},
   "outputs": [],
   "source": [
    "# Import the Project object\n",
    "from pyiron import Project"
   ]
  },
  {
   "cell_type": "raw",
   "metadata": {},
   "source": [
    "# Create a Project object instance for a project named dft\n",
    "pr = ____(\"dft\")"
   ]
  },
  {
   "cell_type": "code",
   "execution_count": 2,
   "metadata": {},
   "outputs": [],
   "source": [
    "# Create a Project object instance for a project named dft\n",
    "pr = Project(\"dft\")"
   ]
  },
  {
   "cell_type": "raw",
   "metadata": {},
   "source": [
    "# Create a cubic aluminum fcc structure\n",
    "al_fcc = pr.create_ase_bulk(____, _____=True)"
   ]
  },
  {
   "cell_type": "code",
   "execution_count": 3,
   "metadata": {},
   "outputs": [],
   "source": [
    "# Create a cubic aluminum fcc structure\n",
    "al_fcc = pr.create_ase_bulk(\"Al\", cubic=True)"
   ]
  },
  {
   "cell_type": "raw",
   "metadata": {},
   "source": [
    "# Confirm the final structure has 4 atoms by calculating \n",
    "# the length of the structure object\n",
    "____(al_fcc) == 4"
   ]
  },
  {
   "cell_type": "code",
   "execution_count": 4,
   "metadata": {},
   "outputs": [
    {
     "data": {
      "text/plain": [
       "True"
      ]
     },
     "execution_count": 4,
     "metadata": {},
     "output_type": "execute_result"
    }
   ],
   "source": [
    "# Confirm the final structure has 4 atoms by calculating \n",
    "# the length of the structure object\n",
    "len(al_fcc) == 4"
   ]
  },
  {
   "cell_type": "markdown",
   "metadata": {},
   "source": [
    "# Density Functional Theory \n",
    "To provide a brief introduction to density functional theory (DFT) we calculate the equilibrium lattice constant for a cubic fcc aluminium structure. Besides the pseudo potential which defines the electron electron interaction, the DFT precision is dominated by the convergence parameters, namely the plane wave energy cutoff and the kpoint mesh. Both can be set in pyiron using the corresponding properties `encut` and `kpoint_mesh`.  "
   ]
  },
  {
   "cell_type": "raw",
   "metadata": {},
   "source": [
    "# Create a DFT job with the S/PHI/nX quantum engine named spx\n",
    "job_dft_template = pr.create_job(\n",
    "    job_type=pr.job_type.Sphinx,\n",
    "    job_name=________\n",
    ")"
   ]
  },
  {
   "cell_type": "code",
   "execution_count": 5,
   "metadata": {},
   "outputs": [],
   "source": [
    "# Create a DFT job with the S/PHI/nX quantum engine named spx\n",
    "job_dft_template = pr.create_job(\n",
    "    job_type=pr.job_type.Sphinx,\n",
    "    job_name=\"spx\"\n",
    ")"
   ]
  },
  {
   "cell_type": "raw",
   "metadata": {},
   "source": [
    "# Print the default DFT convergence parameters energy cutoff\n",
    "print(\n",
    "    job_dft_template.encut, \n",
    "    job_dft_template.kpoint_mesh\n",
    ")"
   ]
  },
  {
   "cell_type": "code",
   "execution_count": 6,
   "metadata": {},
   "outputs": [
    {
     "name": "stdout",
     "output_type": "stream",
     "text": [
      "340 [4, 4, 4]\n"
     ]
    }
   ],
   "source": [
    "# Print the default DFT convergence parameters energy cutoff\n",
    "print(\n",
    "    job_dft_template.encut, \n",
    "    job_dft_template.kpoint_mesh\n",
    ")"
   ]
  },
  {
   "cell_type": "raw",
   "metadata": {},
   "source": [
    "# Increase the energy cutoff to 400eV and increase the kpoint mesh to 5x5x5\n",
    "job_dft_template.set_encut(_______)\n",
    "job_dft_template.set_kpoints([__, __, __])"
   ]
  },
  {
   "cell_type": "code",
   "execution_count": 7,
   "metadata": {},
   "outputs": [],
   "source": [
    "# Increase the energy cutoff to 400eV and increase the kpoint mesh to 5x5x5\n",
    "job_dft_template.set_encut(400)\n",
    "job_dft_template.set_kpoints([5, 5, 5])"
   ]
  },
  {
   "cell_type": "markdown",
   "metadata": {},
   "source": [
    "## Energy Volume Curve \n",
    "The discretisation of the plane waves on the fourier mesh and the kpoint mesh in the brillouin zone cause fluctuations in the energy surface. Therefore a minimization like we used it for the interatomic potentials in the previous section is insufficient. Instead we calculate the energy for various volumes around the equlibrium volume and then determine the equilibrium volume by interpolating the minimum between these volumes."
   ]
  },
  {
   "cell_type": "raw",
   "metadata": {},
   "source": [
    "# Import the numerical library numpy\n",
    "import numpy as np"
   ]
  },
  {
   "cell_type": "code",
   "execution_count": 8,
   "metadata": {},
   "outputs": [],
   "source": [
    "# Import the numerical library numpy\n",
    "import numpy as np"
   ]
  },
  {
   "cell_type": "raw",
   "metadata": {},
   "source": [
    "# Create 7 strains ranging from -5% (-0.05) to +5% (0.05)\n",
    "strain_lst = np.linspace(_____, ______, _____)\n",
    "strain_lst"
   ]
  },
  {
   "cell_type": "code",
   "execution_count": 9,
   "metadata": {},
   "outputs": [
    {
     "data": {
      "text/plain": [
       "array([-0.05      , -0.03333333, -0.01666667,  0.        ,  0.01666667,\n",
       "        0.03333333,  0.05      ])"
      ]
     },
     "execution_count": 9,
     "metadata": {},
     "output_type": "execute_result"
    }
   ],
   "source": [
    "# Create 7 strains ranging from -5% (-0.05) to +5% (0.05) \n",
    "strain_lst = np.linspace(-0.05, 0.05, 7)\n",
    "strain_lst"
   ]
  },
  {
   "cell_type": "raw",
   "metadata": {},
   "source": [
    "# Copy the cubic fcc aluminium supercell\n",
    "al_fcc_copy = _________.copy()"
   ]
  },
  {
   "cell_type": "code",
   "execution_count": 10,
   "metadata": {},
   "outputs": [],
   "source": [
    "# Copy the cubic fcc aluminium supercell\n",
    "al_fcc_copy = al_fcc.copy()"
   ]
  },
  {
   "cell_type": "raw",
   "metadata": {},
   "source": [
    "# Apply of -5% to the copy of the aluminium\n",
    "# supercell and compare the volume \n",
    "al_fcc_copy.apply_strain(_____)\n",
    "al_fcc.get_volume(), al_fcc_copy.get_volume()"
   ]
  },
  {
   "cell_type": "code",
   "execution_count": 11,
   "metadata": {},
   "outputs": [
    {
     "data": {
      "text/plain": [
       "(66.43012500000002, 56.95552842187497)"
      ]
     },
     "execution_count": 11,
     "metadata": {},
     "output_type": "execute_result"
    }
   ],
   "source": [
    "# Apply of -5% to the copy of the aluminium\n",
    "# supercell and compare the volume \n",
    "al_fcc_copy.apply_strain(-0.05)\n",
    "al_fcc.get_volume(), al_fcc_copy.get_volume()"
   ]
  },
  {
   "cell_type": "raw",
   "metadata": {},
   "source": [
    "# Iterate over the list of strains \n",
    "for _______ in strain_lst: \n",
    "    job_strain = job_dft_template.copy_to(\n",
    "        # Define the job name based on the current strain \n",
    "        new_job_name=\"spx_\" + str(1 + _____).replace(\".\", \"_\"), \n",
    "        new_database_entry=False\n",
    "    )\n",
    "    \n",
    "    # Copy the cubic fcc aluminium supercell\n",
    "    al_fcc_copy = ________.copy()\n",
    "    \n",
    "    # Apply the strain of using the for loop\n",
    "    al_fcc_copy.apply_strain(_____)\n",
    "    \n",
    "    # Set the strained structure to the job\n",
    "    job_strain.structure = al_fcc_copy \n",
    "    \n",
    "    # Execute the job\n",
    "    job_strain.run()"
   ]
  },
  {
   "cell_type": "code",
   "execution_count": 12,
   "metadata": {},
   "outputs": [
    {
     "name": "stdout",
     "output_type": "stream",
     "text": [
      "The job spx_0_95 was saved and received the ID: 80\n",
      "The job spx_0_9666666666666667 was saved and received the ID: 81\n",
      "The job spx_0_9833333333333333 was saved and received the ID: 83\n",
      "The job spx_1_0 was saved and received the ID: 86\n",
      "The job spx_1_0166666666666666 was saved and received the ID: 88\n",
      "The job spx_1_0333333333333332 was saved and received the ID: 90\n",
      "The job spx_1_05 was saved and received the ID: 93\n"
     ]
    }
   ],
   "source": [
    "# Iterate over the list of strains \n",
    "for strain in strain_lst: \n",
    "    job_strain = job_dft_template.copy_to(\n",
    "        # Define the job name based on the current strain \n",
    "        new_job_name=\"spx_\" + str(1 + strain).replace(\".\", \"_\"), \n",
    "        new_database_entry=False\n",
    "    )\n",
    "    \n",
    "    # Copy the cubic fcc aluminium supercell\n",
    "    al_fcc_copy = al_fcc.copy()\n",
    "    \n",
    "    # Apply the strain of using the for loop\n",
    "    al_fcc_copy.apply_strain(strain)\n",
    "    \n",
    "    # Set the strained structure to the job\n",
    "    job_strain.structure = al_fcc_copy \n",
    "    \n",
    "    # Execute the job\n",
    "    job_strain.run()"
   ]
  },
  {
   "cell_type": "raw",
   "metadata": {},
   "source": [
    "# Check the status of the calculation in the job_table\n",
    "pr.job_table()"
   ]
  },
  {
   "cell_type": "code",
   "execution_count": 13,
   "metadata": {},
   "outputs": [
    {
     "data": {
      "text/html": [
       "<div>\n",
       "<style scoped>\n",
       "    .dataframe tbody tr th:only-of-type {\n",
       "        vertical-align: middle;\n",
       "    }\n",
       "\n",
       "    .dataframe tbody tr th {\n",
       "        vertical-align: top;\n",
       "    }\n",
       "\n",
       "    .dataframe thead th {\n",
       "        text-align: right;\n",
       "    }\n",
       "</style>\n",
       "<table border=\"1\" class=\"dataframe\">\n",
       "  <thead>\n",
       "    <tr style=\"text-align: right;\">\n",
       "      <th></th>\n",
       "      <th>id</th>\n",
       "      <th>status</th>\n",
       "      <th>chemicalformula</th>\n",
       "      <th>job</th>\n",
       "      <th>subjob</th>\n",
       "      <th>projectpath</th>\n",
       "      <th>project</th>\n",
       "      <th>timestart</th>\n",
       "      <th>timestop</th>\n",
       "      <th>totalcputime</th>\n",
       "      <th>computer</th>\n",
       "      <th>hamilton</th>\n",
       "      <th>hamversion</th>\n",
       "      <th>parentid</th>\n",
       "      <th>masterid</th>\n",
       "    </tr>\n",
       "  </thead>\n",
       "  <tbody>\n",
       "    <tr>\n",
       "      <th>0</th>\n",
       "      <td>80</td>\n",
       "      <td>finished</td>\n",
       "      <td>Al4</td>\n",
       "      <td>spx_0_95</td>\n",
       "      <td>/spx_0_95</td>\n",
       "      <td>/home/jovyan/</td>\n",
       "      <td>again/dft/</td>\n",
       "      <td>2020-11-09 23:41:13.256220</td>\n",
       "      <td>2020-11-09 23:41:21.308760</td>\n",
       "      <td>8.0</td>\n",
       "      <td>pyiron@jupyter-jan#1</td>\n",
       "      <td>Sphinx</td>\n",
       "      <td>2.6.1</td>\n",
       "      <td>None</td>\n",
       "      <td>None</td>\n",
       "    </tr>\n",
       "    <tr>\n",
       "      <th>1</th>\n",
       "      <td>81</td>\n",
       "      <td>finished</td>\n",
       "      <td>Al4</td>\n",
       "      <td>spx_0_9666666666666667</td>\n",
       "      <td>/spx_0_9666666666666667</td>\n",
       "      <td>/home/jovyan/</td>\n",
       "      <td>again/dft/</td>\n",
       "      <td>2020-11-09 23:41:24.714680</td>\n",
       "      <td>2020-11-09 23:41:34.059832</td>\n",
       "      <td>9.0</td>\n",
       "      <td>pyiron@jupyter-jan#1</td>\n",
       "      <td>Sphinx</td>\n",
       "      <td>2.6.1</td>\n",
       "      <td>None</td>\n",
       "      <td>None</td>\n",
       "    </tr>\n",
       "    <tr>\n",
       "      <th>2</th>\n",
       "      <td>83</td>\n",
       "      <td>finished</td>\n",
       "      <td>Al4</td>\n",
       "      <td>spx_0_9833333333333333</td>\n",
       "      <td>/spx_0_9833333333333333</td>\n",
       "      <td>/home/jovyan/</td>\n",
       "      <td>again/dft/</td>\n",
       "      <td>2020-11-09 23:41:37.460798</td>\n",
       "      <td>2020-11-09 23:41:46.446782</td>\n",
       "      <td>8.0</td>\n",
       "      <td>pyiron@jupyter-jan#1</td>\n",
       "      <td>Sphinx</td>\n",
       "      <td>2.6.1</td>\n",
       "      <td>None</td>\n",
       "      <td>None</td>\n",
       "    </tr>\n",
       "    <tr>\n",
       "      <th>3</th>\n",
       "      <td>86</td>\n",
       "      <td>finished</td>\n",
       "      <td>Al4</td>\n",
       "      <td>spx_1_0</td>\n",
       "      <td>/spx_1_0</td>\n",
       "      <td>/home/jovyan/</td>\n",
       "      <td>again/dft/</td>\n",
       "      <td>2020-11-09 23:41:50.041966</td>\n",
       "      <td>2020-11-09 23:41:58.775547</td>\n",
       "      <td>8.0</td>\n",
       "      <td>pyiron@jupyter-jan#1</td>\n",
       "      <td>Sphinx</td>\n",
       "      <td>2.6.1</td>\n",
       "      <td>None</td>\n",
       "      <td>None</td>\n",
       "    </tr>\n",
       "    <tr>\n",
       "      <th>4</th>\n",
       "      <td>88</td>\n",
       "      <td>finished</td>\n",
       "      <td>Al4</td>\n",
       "      <td>spx_1_0166666666666666</td>\n",
       "      <td>/spx_1_0166666666666666</td>\n",
       "      <td>/home/jovyan/</td>\n",
       "      <td>again/dft/</td>\n",
       "      <td>2020-11-09 23:42:03.158963</td>\n",
       "      <td>2020-11-09 23:42:13.544707</td>\n",
       "      <td>10.0</td>\n",
       "      <td>pyiron@jupyter-jan#1</td>\n",
       "      <td>Sphinx</td>\n",
       "      <td>2.6.1</td>\n",
       "      <td>None</td>\n",
       "      <td>None</td>\n",
       "    </tr>\n",
       "    <tr>\n",
       "      <th>5</th>\n",
       "      <td>90</td>\n",
       "      <td>finished</td>\n",
       "      <td>Al4</td>\n",
       "      <td>spx_1_0333333333333332</td>\n",
       "      <td>/spx_1_0333333333333332</td>\n",
       "      <td>/home/jovyan/</td>\n",
       "      <td>again/dft/</td>\n",
       "      <td>2020-11-09 23:42:17.235563</td>\n",
       "      <td>2020-11-09 23:42:27.693160</td>\n",
       "      <td>10.0</td>\n",
       "      <td>pyiron@jupyter-jan#1</td>\n",
       "      <td>Sphinx</td>\n",
       "      <td>2.6.1</td>\n",
       "      <td>None</td>\n",
       "      <td>None</td>\n",
       "    </tr>\n",
       "    <tr>\n",
       "      <th>6</th>\n",
       "      <td>93</td>\n",
       "      <td>finished</td>\n",
       "      <td>Al4</td>\n",
       "      <td>spx_1_05</td>\n",
       "      <td>/spx_1_05</td>\n",
       "      <td>/home/jovyan/</td>\n",
       "      <td>again/dft/</td>\n",
       "      <td>2020-11-09 23:42:30.796080</td>\n",
       "      <td>2020-11-09 23:42:41.676387</td>\n",
       "      <td>10.0</td>\n",
       "      <td>pyiron@jupyter-jan#1</td>\n",
       "      <td>Sphinx</td>\n",
       "      <td>2.6.1</td>\n",
       "      <td>None</td>\n",
       "      <td>None</td>\n",
       "    </tr>\n",
       "  </tbody>\n",
       "</table>\n",
       "</div>"
      ],
      "text/plain": [
       "   id    status chemicalformula                     job  \\\n",
       "0  80  finished             Al4                spx_0_95   \n",
       "1  81  finished             Al4  spx_0_9666666666666667   \n",
       "2  83  finished             Al4  spx_0_9833333333333333   \n",
       "3  86  finished             Al4                 spx_1_0   \n",
       "4  88  finished             Al4  spx_1_0166666666666666   \n",
       "5  90  finished             Al4  spx_1_0333333333333332   \n",
       "6  93  finished             Al4                spx_1_05   \n",
       "\n",
       "                    subjob    projectpath     project  \\\n",
       "0                /spx_0_95  /home/jovyan/  again/dft/   \n",
       "1  /spx_0_9666666666666667  /home/jovyan/  again/dft/   \n",
       "2  /spx_0_9833333333333333  /home/jovyan/  again/dft/   \n",
       "3                 /spx_1_0  /home/jovyan/  again/dft/   \n",
       "4  /spx_1_0166666666666666  /home/jovyan/  again/dft/   \n",
       "5  /spx_1_0333333333333332  /home/jovyan/  again/dft/   \n",
       "6                /spx_1_05  /home/jovyan/  again/dft/   \n",
       "\n",
       "                   timestart                   timestop  totalcputime  \\\n",
       "0 2020-11-09 23:41:13.256220 2020-11-09 23:41:21.308760           8.0   \n",
       "1 2020-11-09 23:41:24.714680 2020-11-09 23:41:34.059832           9.0   \n",
       "2 2020-11-09 23:41:37.460798 2020-11-09 23:41:46.446782           8.0   \n",
       "3 2020-11-09 23:41:50.041966 2020-11-09 23:41:58.775547           8.0   \n",
       "4 2020-11-09 23:42:03.158963 2020-11-09 23:42:13.544707          10.0   \n",
       "5 2020-11-09 23:42:17.235563 2020-11-09 23:42:27.693160          10.0   \n",
       "6 2020-11-09 23:42:30.796080 2020-11-09 23:42:41.676387          10.0   \n",
       "\n",
       "               computer hamilton hamversion parentid masterid  \n",
       "0  pyiron@jupyter-jan#1   Sphinx      2.6.1     None     None  \n",
       "1  pyiron@jupyter-jan#1   Sphinx      2.6.1     None     None  \n",
       "2  pyiron@jupyter-jan#1   Sphinx      2.6.1     None     None  \n",
       "3  pyiron@jupyter-jan#1   Sphinx      2.6.1     None     None  \n",
       "4  pyiron@jupyter-jan#1   Sphinx      2.6.1     None     None  \n",
       "5  pyiron@jupyter-jan#1   Sphinx      2.6.1     None     None  \n",
       "6  pyiron@jupyter-jan#1   Sphinx      2.6.1     None     None  "
      ]
     },
     "execution_count": 13,
     "metadata": {},
     "output_type": "execute_result"
    }
   ],
   "source": [
    "# Check the status of the calculation in the job_table\n",
    "pr.job_table()"
   ]
  },
  {
   "cell_type": "markdown",
   "metadata": {},
   "source": [
    "## Reminder\n",
    "We again use the pyiron table object to collect the simulation results and aggregate them in a pandas DataFrame. "
   ]
  },
  {
   "cell_type": "raw",
   "metadata": {},
   "source": [
    "# Create a pyiron table object\n",
    "table = pr.create_table()"
   ]
  },
  {
   "cell_type": "code",
   "execution_count": 14,
   "metadata": {},
   "outputs": [],
   "source": [
    "# Create a pyiron table object\n",
    "table = pr.create_table()"
   ]
  },
  {
   "cell_type": "raw",
   "metadata": {},
   "source": [
    "# Implement a filter function, which returns true \n",
    "# for finished jobs and jobs with \"spx_\" in the job_name\n",
    "def filter_jobs(job):\n",
    "    return job.status == _______ and _____ in job.job_name"
   ]
  },
  {
   "cell_type": "code",
   "execution_count": 15,
   "metadata": {},
   "outputs": [],
   "source": [
    "# Implement a filter function, which returns true \n",
    "# for finished jobs and jobs with \"spx_\" in the job_name\n",
    "def filter_jobs(job):\n",
    "    return job.status == \"finished\" and \"spx_\" in job.job_name"
   ]
  },
  {
   "cell_type": "raw",
   "metadata": {},
   "source": [
    "# Many commonly used functions are already available using tab completion\n",
    "# We select the get_volume function and the get_energy_tot function\n",
    "table.add.________\n",
    "table.add._________"
   ]
  },
  {
   "cell_type": "code",
   "execution_count": 16,
   "metadata": {},
   "outputs": [
    {
     "data": {
      "text/plain": [
       "True"
      ]
     },
     "execution_count": 16,
     "metadata": {},
     "output_type": "execute_result"
    }
   ],
   "source": [
    "# Many commonly used functions are already available using tab completion\n",
    "# We select the get_volume function and the get_energy_tot function\n",
    "table.add.get_volume\n",
    "table.add.get_energy_tot"
   ]
  },
  {
   "cell_type": "raw",
   "metadata": {},
   "source": [
    "# Assign the filter function defined above\n",
    "table.filter_function = _____"
   ]
  },
  {
   "cell_type": "code",
   "execution_count": 17,
   "metadata": {},
   "outputs": [],
   "source": [
    "# Assigne the filter function defined above\n",
    "table.filter_function = filter_jobs"
   ]
  },
  {
   "cell_type": "raw",
   "metadata": {},
   "source": [
    "# Execute the pyiron table just like a pyiron job object\n",
    "table._____"
   ]
  },
  {
   "cell_type": "code",
   "execution_count": 18,
   "metadata": {},
   "outputs": [
    {
     "name": "stderr",
     "output_type": "stream",
     "text": [
      "100%|██████████| 8/8 [00:00<00:00, 390.18it/s]\n",
      "  0%|          | 0/7 [00:00<?, ?it/s]"
     ]
    },
    {
     "name": "stdout",
     "output_type": "stream",
     "text": [
      "The job table was saved and received the ID: 96\n"
     ]
    },
    {
     "name": "stderr",
     "output_type": "stream",
     "text": [
      "100%|██████████| 7/7 [00:00<00:00, 20.82it/s]\n"
     ]
    }
   ],
   "source": [
    "# Execute the pyiron table just like a pyiron job object\n",
    "table.run()"
   ]
  },
  {
   "cell_type": "raw",
   "metadata": {},
   "source": [
    "# Return a pandas DataFrame with the collected results \n",
    "df_res = table.get_dataframe()\n",
    "df_res"
   ]
  },
  {
   "cell_type": "code",
   "execution_count": 19,
   "metadata": {},
   "outputs": [
    {
     "data": {
      "text/html": [
       "<div>\n",
       "<style scoped>\n",
       "    .dataframe tbody tr th:only-of-type {\n",
       "        vertical-align: middle;\n",
       "    }\n",
       "\n",
       "    .dataframe tbody tr th {\n",
       "        vertical-align: top;\n",
       "    }\n",
       "\n",
       "    .dataframe thead th {\n",
       "        text-align: right;\n",
       "    }\n",
       "</style>\n",
       "<table border=\"1\" class=\"dataframe\">\n",
       "  <thead>\n",
       "    <tr style=\"text-align: right;\">\n",
       "      <th></th>\n",
       "      <th>job_id</th>\n",
       "      <th>energy_tot</th>\n",
       "      <th>volume</th>\n",
       "    </tr>\n",
       "  </thead>\n",
       "  <tbody>\n",
       "    <tr>\n",
       "      <th>0</th>\n",
       "      <td>80</td>\n",
       "      <td>-228.372001</td>\n",
       "      <td>56.955535</td>\n",
       "    </tr>\n",
       "    <tr>\n",
       "      <th>1</th>\n",
       "      <td>81</td>\n",
       "      <td>-228.628643</td>\n",
       "      <td>60.006065</td>\n",
       "    </tr>\n",
       "    <tr>\n",
       "      <th>2</th>\n",
       "      <td>83</td>\n",
       "      <td>-228.767808</td>\n",
       "      <td>63.163733</td>\n",
       "    </tr>\n",
       "    <tr>\n",
       "      <th>3</th>\n",
       "      <td>86</td>\n",
       "      <td>-228.808252</td>\n",
       "      <td>66.430169</td>\n",
       "    </tr>\n",
       "    <tr>\n",
       "      <th>4</th>\n",
       "      <td>88</td>\n",
       "      <td>-228.766751</td>\n",
       "      <td>69.807298</td>\n",
       "    </tr>\n",
       "    <tr>\n",
       "      <th>5</th>\n",
       "      <td>90</td>\n",
       "      <td>-228.660757</td>\n",
       "      <td>73.297048</td>\n",
       "    </tr>\n",
       "    <tr>\n",
       "      <th>6</th>\n",
       "      <td>93</td>\n",
       "      <td>-228.510517</td>\n",
       "      <td>76.901197</td>\n",
       "    </tr>\n",
       "  </tbody>\n",
       "</table>\n",
       "</div>"
      ],
      "text/plain": [
       "   job_id  energy_tot     volume\n",
       "0      80 -228.372001  56.955535\n",
       "1      81 -228.628643  60.006065\n",
       "2      83 -228.767808  63.163733\n",
       "3      86 -228.808252  66.430169\n",
       "4      88 -228.766751  69.807298\n",
       "5      90 -228.660757  73.297048\n",
       "6      93 -228.510517  76.901197"
      ]
     },
     "execution_count": 19,
     "metadata": {},
     "output_type": "execute_result"
    }
   ],
   "source": [
    "# Return a pandas DataFrame with the collected results \n",
    "df_res = table.get_dataframe()\n",
    "df_res"
   ]
  },
  {
   "cell_type": "markdown",
   "metadata": {},
   "source": [
    "## Visualise the energy volume curve \n",
    "We again use the matplotlib library to visualise the calculated energy volume curve and calculate the equilibrium volume by fitting a second order polynomial and calculate the roots of the derivative. "
   ]
  },
  {
   "cell_type": "raw",
   "metadata": {},
   "source": [
    "# Fit a second order polynomial to the energy volume curve \n",
    "fit = np.polyfit(_____.volume, _____.energy_tot, ___)"
   ]
  },
  {
   "cell_type": "code",
   "execution_count": 20,
   "metadata": {},
   "outputs": [],
   "source": [
    "# Fit a second order polynomial to the energy volume curve \n",
    "fit = np.polyfit(df_res.volume, df_res.energy_tot, 2)"
   ]
  },
  {
   "cell_type": "raw",
   "metadata": {},
   "source": [
    "# Get the polynomial of the fit \n",
    "fit_poly = np.poly1d(fit)\n",
    "\n",
    "# Calculate the roots of the derivate of the polynomial\n",
    "vol_roots = np.polyder(fit_poly).roots\n",
    "\n",
    "# Select the root within the volume range which is\n",
    "# smaller (<) than maximum volume and larger (>) than \n",
    "# the minimum volume. \n",
    "vol_eq = vol_roots[\n",
    "    (vol_roots ____ df_res[\"volume\"].max()) & \n",
    "    (vol_roots ____ df_res[\"volume\"].min())\n",
    "][0]"
   ]
  },
  {
   "cell_type": "code",
   "execution_count": 21,
   "metadata": {},
   "outputs": [],
   "source": [
    "# Get the polynomial of the fit \n",
    "fit_poly = np.poly1d(fit)\n",
    "\n",
    "# Calculate the roots of the derivate of the polynomial\n",
    "vol_roots = np.polyder(fit_poly).roots\n",
    "\n",
    "# Select the root within the volume range which is\n",
    "# smaller (<) than maximum volume and larger (>) than \n",
    "# the minimum volume. \n",
    "vol_eq = vol_roots[\n",
    "    (vol_roots < df_res[\"volume\"].max()) & \n",
    "    (vol_roots > df_res[\"volume\"].min())\n",
    "][0]"
   ]
  },
  {
   "cell_type": "raw",
   "metadata": {},
   "source": [
    "# Import the matplotlib library for plotting. \n",
    "import matplotlib.pyplot as plt\n",
    "\n",
    "# Plot the volume and the total energy from the DataFrame \n",
    "# with the collected results\n",
    "plt.plot(_____.volume, _____.energy_tot)\n",
    "\n",
    "# Plot the fitted equilibrium volume\n",
    "plt.axvline(______, linestyle=\"--\", color=\"red\")\n",
    "plt.xlabel(\"Volume\")\n",
    "plt.ylabel(\"total Energy\");"
   ]
  },
  {
   "cell_type": "code",
   "execution_count": 22,
   "metadata": {},
   "outputs": [
    {
     "data": {
      "image/png": "[encoded data removed]",
      "text/plain": [
       "<Figure size 432x288 with 1 Axes>"
      ]
     },
     "metadata": {
      "needs_background": "light"
     },
     "output_type": "display_data"
    }
   ],
   "source": [
    "# Import the matplotlib library for plotting. \n",
    "import matplotlib.pyplot as plt\n",
    "\n",
    "# Plot the volume and the total energy from the DataFrame \n",
    "# with the collected results\n",
    "plt.plot(df_res.volume, df_res.energy_tot)\n",
    "\n",
    "# Plot the fitted equilibrium volume\n",
    "plt.axvline(vol_eq, linestyle=\"--\", color=\"red\")\n",
    "plt.xlabel(\"Volume\")\n",
    "plt.ylabel(\"total Energy\");"
   ]
  },
  {
   "cell_type": "markdown",
   "metadata": {},
   "source": [
    "## pyiron Master Jobs \n",
    "While managing calculations with with for loops and aggregating calculation results in pandas DataFrame is already a very scaleable concept, we have implemented master jobs which can execute multiple calculations in series or in parallel to automate common simulation tasks. The calculation of the energy volume curve is one of those examples. "
   ]
  },
  {
   "cell_type": "raw",
   "metadata": {},
   "source": [
    "# Create a DFT job with the S/PHI/nX quantum engine named \"spxjob\"\n",
    "job_master_template = pr.create_job(\n",
    "    job_type=pr.job_type.Sphinx,\n",
    "    job_name=______\n",
    ")"
   ]
  },
  {
   "cell_type": "code",
   "execution_count": 23,
   "metadata": {},
   "outputs": [],
   "source": [
    "# Create a DFT job with the S/PHI/nX quantum engine named \"spxjob\"\n",
    "job_master_template = pr.create_job(\n",
    "    job_type=pr.job_type.Sphinx,\n",
    "    job_name=\"spxjob\"\n",
    ")"
   ]
  },
  {
   "cell_type": "raw",
   "metadata": {},
   "source": [
    "# Assign the cubic fcc aluminium structure to the template job \n",
    "job_master_template.structure = _____"
   ]
  },
  {
   "cell_type": "code",
   "execution_count": 24,
   "metadata": {},
   "outputs": [],
   "source": [
    "# Assign the cubic fcc aluminium structure to the template job \n",
    "job_master_template.structure = al_fcc"
   ]
  },
  {
   "cell_type": "raw",
   "metadata": {},
   "source": [
    "# Use the job object to create the Murnaghan object, named \"murn\" \n",
    "murn = job_master_template.create_job(\n",
    "    job_type=pr.job_type.Murnaghan, \n",
    "    job_name=_______\n",
    ")"
   ]
  },
  {
   "cell_type": "code",
   "execution_count": 25,
   "metadata": {},
   "outputs": [],
   "source": [
    "# Use the job object to create the Murnaghan object, named \"murn\" \n",
    "murn = job_master_template.create_job(\n",
    "    job_type=pr.job_type.Murnaghan, \n",
    "    job_name=\"murn\"\n",
    ")"
   ]
  },
  {
   "cell_type": "raw",
   "metadata": {},
   "source": [
    "# Execute the Murnaghan object \n",
    "murn.run()"
   ]
  },
  {
   "cell_type": "code",
   "execution_count": 26,
   "metadata": {},
   "outputs": [
    {
     "name": "stdout",
     "output_type": "stream",
     "text": [
      "The job murn was saved and received the ID: 97\n",
      "The job strain_0_9 was saved and received the ID: 99\n",
      "The job strain_0_92 was saved and received the ID: 101\n",
      "The job strain_0_94 was saved and received the ID: 104\n",
      "The job strain_0_96 was saved and received the ID: 107\n",
      "The job strain_0_98 was saved and received the ID: 109\n",
      "The job strain_1_0 was saved and received the ID: 112\n",
      "The job strain_1_02 was saved and received the ID: 114\n",
      "The job strain_1_04 was saved and received the ID: 117\n",
      "The job strain_1_06 was saved and received the ID: 119\n",
      "The job strain_1_08 was saved and received the ID: 121\n",
      "The job strain_1_1 was saved and received the ID: 123\n",
      "job_id:  99 finished\n",
      "job_id:  101 finished\n",
      "job_id:  104 finished\n",
      "job_id:  107 finished\n",
      "job_id:  109 finished\n",
      "job_id:  112 finished\n",
      "job_id:  114 finished\n",
      "job_id:  117 finished\n",
      "job_id:  119 finished\n",
      "job_id:  121 finished\n",
      "job_id:  123 finished\n"
     ]
    }
   ],
   "source": [
    "# Execute the Murnaghan object \n",
    "murn.run()"
   ]
  },
  {
   "cell_type": "raw",
   "metadata": {},
   "source": [
    "# Check the status of the calculation in the job_table\n",
    "pr.job_table()"
   ]
  },
  {
   "cell_type": "code",
   "execution_count": 27,
   "metadata": {},
   "outputs": [
    {
     "data": {
      "text/html": [
       "<div>\n",
       "<style scoped>\n",
       "    .dataframe tbody tr th:only-of-type {\n",
       "        vertical-align: middle;\n",
       "    }\n",
       "\n",
       "    .dataframe tbody tr th {\n",
       "        vertical-align: top;\n",
       "    }\n",
       "\n",
       "    .dataframe thead th {\n",
       "        text-align: right;\n",
       "    }\n",
       "</style>\n",
       "<table border=\"1\" class=\"dataframe\">\n",
       "  <thead>\n",
       "    <tr style=\"text-align: right;\">\n",
       "      <th></th>\n",
       "      <th>id</th>\n",
       "      <th>status</th>\n",
       "      <th>chemicalformula</th>\n",
       "      <th>job</th>\n",
       "      <th>subjob</th>\n",
       "      <th>projectpath</th>\n",
       "      <th>project</th>\n",
       "      <th>timestart</th>\n",
       "      <th>timestop</th>\n",
       "      <th>totalcputime</th>\n",
       "      <th>computer</th>\n",
       "      <th>hamilton</th>\n",
       "      <th>hamversion</th>\n",
       "      <th>parentid</th>\n",
       "      <th>masterid</th>\n",
       "    </tr>\n",
       "  </thead>\n",
       "  <tbody>\n",
       "    <tr>\n",
       "      <th>0</th>\n",
       "      <td>80</td>\n",
       "      <td>finished</td>\n",
       "      <td>Al4</td>\n",
       "      <td>spx_0_95</td>\n",
       "      <td>/spx_0_95</td>\n",
       "      <td>/home/jovyan/</td>\n",
       "      <td>again/dft/</td>\n",
       "      <td>2020-11-09 23:41:13.256220</td>\n",
       "      <td>2020-11-09 23:41:21.308760</td>\n",
       "      <td>8.0</td>\n",
       "      <td>pyiron@jupyter-jan#1</td>\n",
       "      <td>Sphinx</td>\n",
       "      <td>2.6.1</td>\n",
       "      <td>None</td>\n",
       "      <td>NaN</td>\n",
       "    </tr>\n",
       "    <tr>\n",
       "      <th>1</th>\n",
       "      <td>81</td>\n",
       "      <td>finished</td>\n",
       "      <td>Al4</td>\n",
       "      <td>spx_0_9666666666666667</td>\n",
       "      <td>/spx_0_9666666666666667</td>\n",
       "      <td>/home/jovyan/</td>\n",
       "      <td>again/dft/</td>\n",
       "      <td>2020-11-09 23:41:24.714680</td>\n",
       "      <td>2020-11-09 23:41:34.059832</td>\n",
       "      <td>9.0</td>\n",
       "      <td>pyiron@jupyter-jan#1</td>\n",
       "      <td>Sphinx</td>\n",
       "      <td>2.6.1</td>\n",
       "      <td>None</td>\n",
       "      <td>NaN</td>\n",
       "    </tr>\n",
       "    <tr>\n",
       "      <th>2</th>\n",
       "      <td>83</td>\n",
       "      <td>finished</td>\n",
       "      <td>Al4</td>\n",
       "      <td>spx_0_9833333333333333</td>\n",
       "      <td>/spx_0_9833333333333333</td>\n",
       "      <td>/home/jovyan/</td>\n",
       "      <td>again/dft/</td>\n",
       "      <td>2020-11-09 23:41:37.460798</td>\n",
       "      <td>2020-11-09 23:41:46.446782</td>\n",
       "      <td>8.0</td>\n",
       "      <td>pyiron@jupyter-jan#1</td>\n",
       "      <td>Sphinx</td>\n",
       "      <td>2.6.1</td>\n",
       "      <td>None</td>\n",
       "      <td>NaN</td>\n",
       "    </tr>\n",
       "    <tr>\n",
       "      <th>3</th>\n",
       "      <td>86</td>\n",
       "      <td>finished</td>\n",
       "      <td>Al4</td>\n",
       "      <td>spx_1_0</td>\n",
       "      <td>/spx_1_0</td>\n",
       "      <td>/home/jovyan/</td>\n",
       "      <td>again/dft/</td>\n",
       "      <td>2020-11-09 23:41:50.041966</td>\n",
       "      <td>2020-11-09 23:41:58.775547</td>\n",
       "      <td>8.0</td>\n",
       "      <td>pyiron@jupyter-jan#1</td>\n",
       "      <td>Sphinx</td>\n",
       "      <td>2.6.1</td>\n",
       "      <td>None</td>\n",
       "      <td>NaN</td>\n",
       "    </tr>\n",
       "    <tr>\n",
       "      <th>4</th>\n",
       "      <td>88</td>\n",
       "      <td>finished</td>\n",
       "      <td>Al4</td>\n",
       "      <td>spx_1_0166666666666666</td>\n",
       "      <td>/spx_1_0166666666666666</td>\n",
       "      <td>/home/jovyan/</td>\n",
       "      <td>again/dft/</td>\n",
       "      <td>2020-11-09 23:42:03.158963</td>\n",
       "      <td>2020-11-09 23:42:13.544707</td>\n",
       "      <td>10.0</td>\n",
       "      <td>pyiron@jupyter-jan#1</td>\n",
       "      <td>Sphinx</td>\n",
       "      <td>2.6.1</td>\n",
       "      <td>None</td>\n",
       "      <td>NaN</td>\n",
       "    </tr>\n",
       "    <tr>\n",
       "      <th>5</th>\n",
       "      <td>90</td>\n",
       "      <td>finished</td>\n",
       "      <td>Al4</td>\n",
       "      <td>spx_1_0333333333333332</td>\n",
       "      <td>/spx_1_0333333333333332</td>\n",
       "      <td>/home/jovyan/</td>\n",
       "      <td>again/dft/</td>\n",
       "      <td>2020-11-09 23:42:17.235563</td>\n",
       "      <td>2020-11-09 23:42:27.693160</td>\n",
       "      <td>10.0</td>\n",
       "      <td>pyiron@jupyter-jan#1</td>\n",
       "      <td>Sphinx</td>\n",
       "      <td>2.6.1</td>\n",
       "      <td>None</td>\n",
       "      <td>NaN</td>\n",
       "    </tr>\n",
       "    <tr>\n",
       "      <th>6</th>\n",
       "      <td>93</td>\n",
       "      <td>finished</td>\n",
       "      <td>Al4</td>\n",
       "      <td>spx_1_05</td>\n",
       "      <td>/spx_1_05</td>\n",
       "      <td>/home/jovyan/</td>\n",
       "      <td>again/dft/</td>\n",
       "      <td>2020-11-09 23:42:30.796080</td>\n",
       "      <td>2020-11-09 23:42:41.676387</td>\n",
       "      <td>10.0</td>\n",
       "      <td>pyiron@jupyter-jan#1</td>\n",
       "      <td>Sphinx</td>\n",
       "      <td>2.6.1</td>\n",
       "      <td>None</td>\n",
       "      <td>NaN</td>\n",
       "    </tr>\n",
       "    <tr>\n",
       "      <th>7</th>\n",
       "      <td>96</td>\n",
       "      <td>finished</td>\n",
       "      <td>None</td>\n",
       "      <td>table</td>\n",
       "      <td>/table</td>\n",
       "      <td>/home/jovyan/</td>\n",
       "      <td>again/dft/</td>\n",
       "      <td>2020-11-09 23:42:42.765351</td>\n",
       "      <td>2020-11-09 23:42:43.353128</td>\n",
       "      <td>0.0</td>\n",
       "      <td>pyiron@jupyter-jan#1</td>\n",
       "      <td>TableJob</td>\n",
       "      <td>0.1</td>\n",
       "      <td>None</td>\n",
       "      <td>NaN</td>\n",
       "    </tr>\n",
       "    <tr>\n",
       "      <th>8</th>\n",
       "      <td>97</td>\n",
       "      <td>finished</td>\n",
       "      <td>Al4</td>\n",
       "      <td>murn</td>\n",
       "      <td>/murn</td>\n",
       "      <td>/home/jovyan/</td>\n",
       "      <td>again/dft/</td>\n",
       "      <td>2020-11-09 23:42:45.402252</td>\n",
       "      <td>2020-11-09 23:45:04.799115</td>\n",
       "      <td>139.0</td>\n",
       "      <td>pyiron@jupyter-jan#1#11/11</td>\n",
       "      <td>Murnaghan</td>\n",
       "      <td>0.3.0</td>\n",
       "      <td>None</td>\n",
       "      <td>NaN</td>\n",
       "    </tr>\n",
       "    <tr>\n",
       "      <th>9</th>\n",
       "      <td>99</td>\n",
       "      <td>finished</td>\n",
       "      <td>Al4</td>\n",
       "      <td>strain_0_9</td>\n",
       "      <td>/strain_0_9</td>\n",
       "      <td>/home/jovyan/</td>\n",
       "      <td>again/dft/murn_hdf5/</td>\n",
       "      <td>2020-11-09 23:42:50.848222</td>\n",
       "      <td>2020-11-09 23:42:59.241386</td>\n",
       "      <td>8.0</td>\n",
       "      <td>pyiron@jupyter-jan#1</td>\n",
       "      <td>Sphinx</td>\n",
       "      <td>2.6.1</td>\n",
       "      <td>None</td>\n",
       "      <td>97.0</td>\n",
       "    </tr>\n",
       "    <tr>\n",
       "      <th>10</th>\n",
       "      <td>101</td>\n",
       "      <td>finished</td>\n",
       "      <td>Al4</td>\n",
       "      <td>strain_0_92</td>\n",
       "      <td>/strain_0_92</td>\n",
       "      <td>/home/jovyan/</td>\n",
       "      <td>again/dft/murn_hdf5/</td>\n",
       "      <td>2020-11-09 23:43:02.563010</td>\n",
       "      <td>2020-11-09 23:43:10.970482</td>\n",
       "      <td>8.0</td>\n",
       "      <td>pyiron@jupyter-jan#1</td>\n",
       "      <td>Sphinx</td>\n",
       "      <td>2.6.1</td>\n",
       "      <td>None</td>\n",
       "      <td>97.0</td>\n",
       "    </tr>\n",
       "    <tr>\n",
       "      <th>11</th>\n",
       "      <td>104</td>\n",
       "      <td>finished</td>\n",
       "      <td>Al4</td>\n",
       "      <td>strain_0_94</td>\n",
       "      <td>/strain_0_94</td>\n",
       "      <td>/home/jovyan/</td>\n",
       "      <td>again/dft/murn_hdf5/</td>\n",
       "      <td>2020-11-09 23:43:14.624777</td>\n",
       "      <td>2020-11-09 23:43:22.888222</td>\n",
       "      <td>8.0</td>\n",
       "      <td>pyiron@jupyter-jan#1</td>\n",
       "      <td>Sphinx</td>\n",
       "      <td>2.6.1</td>\n",
       "      <td>None</td>\n",
       "      <td>97.0</td>\n",
       "    </tr>\n",
       "    <tr>\n",
       "      <th>12</th>\n",
       "      <td>107</td>\n",
       "      <td>finished</td>\n",
       "      <td>Al4</td>\n",
       "      <td>strain_0_96</td>\n",
       "      <td>/strain_0_96</td>\n",
       "      <td>/home/jovyan/</td>\n",
       "      <td>again/dft/murn_hdf5/</td>\n",
       "      <td>2020-11-09 23:43:26.638293</td>\n",
       "      <td>2020-11-09 23:43:35.658555</td>\n",
       "      <td>9.0</td>\n",
       "      <td>pyiron@jupyter-jan#1</td>\n",
       "      <td>Sphinx</td>\n",
       "      <td>2.6.1</td>\n",
       "      <td>None</td>\n",
       "      <td>97.0</td>\n",
       "    </tr>\n",
       "    <tr>\n",
       "      <th>13</th>\n",
       "      <td>109</td>\n",
       "      <td>finished</td>\n",
       "      <td>Al4</td>\n",
       "      <td>strain_0_98</td>\n",
       "      <td>/strain_0_98</td>\n",
       "      <td>/home/jovyan/</td>\n",
       "      <td>again/dft/murn_hdf5/</td>\n",
       "      <td>2020-11-09 23:43:39.102226</td>\n",
       "      <td>2020-11-09 23:43:47.981088</td>\n",
       "      <td>8.0</td>\n",
       "      <td>pyiron@jupyter-jan#1</td>\n",
       "      <td>Sphinx</td>\n",
       "      <td>2.6.1</td>\n",
       "      <td>None</td>\n",
       "      <td>97.0</td>\n",
       "    </tr>\n",
       "    <tr>\n",
       "      <th>14</th>\n",
       "      <td>112</td>\n",
       "      <td>finished</td>\n",
       "      <td>Al4</td>\n",
       "      <td>strain_1_0</td>\n",
       "      <td>/strain_1_0</td>\n",
       "      <td>/home/jovyan/</td>\n",
       "      <td>again/dft/murn_hdf5/</td>\n",
       "      <td>2020-11-09 23:43:52.057860</td>\n",
       "      <td>2020-11-09 23:44:01.517838</td>\n",
       "      <td>9.0</td>\n",
       "      <td>pyiron@jupyter-jan#1</td>\n",
       "      <td>Sphinx</td>\n",
       "      <td>2.6.1</td>\n",
       "      <td>None</td>\n",
       "      <td>97.0</td>\n",
       "    </tr>\n",
       "    <tr>\n",
       "      <th>15</th>\n",
       "      <td>114</td>\n",
       "      <td>finished</td>\n",
       "      <td>Al4</td>\n",
       "      <td>strain_1_02</td>\n",
       "      <td>/strain_1_02</td>\n",
       "      <td>/home/jovyan/</td>\n",
       "      <td>again/dft/murn_hdf5/</td>\n",
       "      <td>2020-11-09 23:44:04.759804</td>\n",
       "      <td>2020-11-09 23:44:13.115390</td>\n",
       "      <td>8.0</td>\n",
       "      <td>pyiron@jupyter-jan#1</td>\n",
       "      <td>Sphinx</td>\n",
       "      <td>2.6.1</td>\n",
       "      <td>None</td>\n",
       "      <td>97.0</td>\n",
       "    </tr>\n",
       "    <tr>\n",
       "      <th>16</th>\n",
       "      <td>117</td>\n",
       "      <td>finished</td>\n",
       "      <td>Al4</td>\n",
       "      <td>strain_1_04</td>\n",
       "      <td>/strain_1_04</td>\n",
       "      <td>/home/jovyan/</td>\n",
       "      <td>again/dft/murn_hdf5/</td>\n",
       "      <td>2020-11-09 23:44:16.455209</td>\n",
       "      <td>2020-11-09 23:44:25.499722</td>\n",
       "      <td>9.0</td>\n",
       "      <td>pyiron@jupyter-jan#1</td>\n",
       "      <td>Sphinx</td>\n",
       "      <td>2.6.1</td>\n",
       "      <td>None</td>\n",
       "      <td>97.0</td>\n",
       "    </tr>\n",
       "    <tr>\n",
       "      <th>17</th>\n",
       "      <td>119</td>\n",
       "      <td>finished</td>\n",
       "      <td>Al4</td>\n",
       "      <td>strain_1_06</td>\n",
       "      <td>/strain_1_06</td>\n",
       "      <td>/home/jovyan/</td>\n",
       "      <td>again/dft/murn_hdf5/</td>\n",
       "      <td>2020-11-09 23:44:29.403309</td>\n",
       "      <td>2020-11-09 23:44:37.058670</td>\n",
       "      <td>7.0</td>\n",
       "      <td>pyiron@jupyter-jan#1</td>\n",
       "      <td>Sphinx</td>\n",
       "      <td>2.6.1</td>\n",
       "      <td>None</td>\n",
       "      <td>97.0</td>\n",
       "    </tr>\n",
       "    <tr>\n",
       "      <th>18</th>\n",
       "      <td>121</td>\n",
       "      <td>finished</td>\n",
       "      <td>Al4</td>\n",
       "      <td>strain_1_08</td>\n",
       "      <td>/strain_1_08</td>\n",
       "      <td>/home/jovyan/</td>\n",
       "      <td>again/dft/murn_hdf5/</td>\n",
       "      <td>2020-11-09 23:44:42.250258</td>\n",
       "      <td>2020-11-09 23:44:50.421155</td>\n",
       "      <td>8.0</td>\n",
       "      <td>pyiron@jupyter-jan#1</td>\n",
       "      <td>Sphinx</td>\n",
       "      <td>2.6.1</td>\n",
       "      <td>None</td>\n",
       "      <td>97.0</td>\n",
       "    </tr>\n",
       "    <tr>\n",
       "      <th>19</th>\n",
       "      <td>123</td>\n",
       "      <td>finished</td>\n",
       "      <td>Al4</td>\n",
       "      <td>strain_1_1</td>\n",
       "      <td>/strain_1_1</td>\n",
       "      <td>/home/jovyan/</td>\n",
       "      <td>again/dft/murn_hdf5/</td>\n",
       "      <td>2020-11-09 23:44:53.860141</td>\n",
       "      <td>2020-11-09 23:45:01.567027</td>\n",
       "      <td>7.0</td>\n",
       "      <td>pyiron@jupyter-jan#1</td>\n",
       "      <td>Sphinx</td>\n",
       "      <td>2.6.1</td>\n",
       "      <td>None</td>\n",
       "      <td>97.0</td>\n",
       "    </tr>\n",
       "  </tbody>\n",
       "</table>\n",
       "</div>"
      ],
      "text/plain": [
       "     id    status chemicalformula                     job  \\\n",
       "0    80  finished             Al4                spx_0_95   \n",
       "1    81  finished             Al4  spx_0_9666666666666667   \n",
       "2    83  finished             Al4  spx_0_9833333333333333   \n",
       "3    86  finished             Al4                 spx_1_0   \n",
       "4    88  finished             Al4  spx_1_0166666666666666   \n",
       "5    90  finished             Al4  spx_1_0333333333333332   \n",
       "6    93  finished             Al4                spx_1_05   \n",
       "7    96  finished            None                   table   \n",
       "8    97  finished             Al4                    murn   \n",
       "9    99  finished             Al4              strain_0_9   \n",
       "10  101  finished             Al4             strain_0_92   \n",
       "11  104  finished             Al4             strain_0_94   \n",
       "12  107  finished             Al4             strain_0_96   \n",
       "13  109  finished             Al4             strain_0_98   \n",
       "14  112  finished             Al4              strain_1_0   \n",
       "15  114  finished             Al4             strain_1_02   \n",
       "16  117  finished             Al4             strain_1_04   \n",
       "17  119  finished             Al4             strain_1_06   \n",
       "18  121  finished             Al4             strain_1_08   \n",
       "19  123  finished             Al4              strain_1_1   \n",
       "\n",
       "                     subjob    projectpath               project  \\\n",
       "0                 /spx_0_95  /home/jovyan/            again/dft/   \n",
       "1   /spx_0_9666666666666667  /home/jovyan/            again/dft/   \n",
       "2   /spx_0_9833333333333333  /home/jovyan/            again/dft/   \n",
       "3                  /spx_1_0  /home/jovyan/            again/dft/   \n",
       "4   /spx_1_0166666666666666  /home/jovyan/            again/dft/   \n",
       "5   /spx_1_0333333333333332  /home/jovyan/            again/dft/   \n",
       "6                 /spx_1_05  /home/jovyan/            again/dft/   \n",
       "7                    /table  /home/jovyan/            again/dft/   \n",
       "8                     /murn  /home/jovyan/            again/dft/   \n",
       "9               /strain_0_9  /home/jovyan/  again/dft/murn_hdf5/   \n",
       "10             /strain_0_92  /home/jovyan/  again/dft/murn_hdf5/   \n",
       "11             /strain_0_94  /home/jovyan/  again/dft/murn_hdf5/   \n",
       "12             /strain_0_96  /home/jovyan/  again/dft/murn_hdf5/   \n",
       "13             /strain_0_98  /home/jovyan/  again/dft/murn_hdf5/   \n",
       "14              /strain_1_0  /home/jovyan/  again/dft/murn_hdf5/   \n",
       "15             /strain_1_02  /home/jovyan/  again/dft/murn_hdf5/   \n",
       "16             /strain_1_04  /home/jovyan/  again/dft/murn_hdf5/   \n",
       "17             /strain_1_06  /home/jovyan/  again/dft/murn_hdf5/   \n",
       "18             /strain_1_08  /home/jovyan/  again/dft/murn_hdf5/   \n",
       "19              /strain_1_1  /home/jovyan/  again/dft/murn_hdf5/   \n",
       "\n",
       "                    timestart                   timestop  totalcputime  \\\n",
       "0  2020-11-09 23:41:13.256220 2020-11-09 23:41:21.308760           8.0   \n",
       "1  2020-11-09 23:41:24.714680 2020-11-09 23:41:34.059832           9.0   \n",
       "2  2020-11-09 23:41:37.460798 2020-11-09 23:41:46.446782           8.0   \n",
       "3  2020-11-09 23:41:50.041966 2020-11-09 23:41:58.775547           8.0   \n",
       "4  2020-11-09 23:42:03.158963 2020-11-09 23:42:13.544707          10.0   \n",
       "5  2020-11-09 23:42:17.235563 2020-11-09 23:42:27.693160          10.0   \n",
       "6  2020-11-09 23:42:30.796080 2020-11-09 23:42:41.676387          10.0   \n",
       "7  2020-11-09 23:42:42.765351 2020-11-09 23:42:43.353128           0.0   \n",
       "8  2020-11-09 23:42:45.402252 2020-11-09 23:45:04.799115         139.0   \n",
       "9  2020-11-09 23:42:50.848222 2020-11-09 23:42:59.241386           8.0   \n",
       "10 2020-11-09 23:43:02.563010 2020-11-09 23:43:10.970482           8.0   \n",
       "11 2020-11-09 23:43:14.624777 2020-11-09 23:43:22.888222           8.0   \n",
       "12 2020-11-09 23:43:26.638293 2020-11-09 23:43:35.658555           9.0   \n",
       "13 2020-11-09 23:43:39.102226 2020-11-09 23:43:47.981088           8.0   \n",
       "14 2020-11-09 23:43:52.057860 2020-11-09 23:44:01.517838           9.0   \n",
       "15 2020-11-09 23:44:04.759804 2020-11-09 23:44:13.115390           8.0   \n",
       "16 2020-11-09 23:44:16.455209 2020-11-09 23:44:25.499722           9.0   \n",
       "17 2020-11-09 23:44:29.403309 2020-11-09 23:44:37.058670           7.0   \n",
       "18 2020-11-09 23:44:42.250258 2020-11-09 23:44:50.421155           8.0   \n",
       "19 2020-11-09 23:44:53.860141 2020-11-09 23:45:01.567027           7.0   \n",
       "\n",
       "                      computer   hamilton hamversion parentid  masterid  \n",
       "0         pyiron@jupyter-jan#1     Sphinx      2.6.1     None       NaN  \n",
       "1         pyiron@jupyter-jan#1     Sphinx      2.6.1     None       NaN  \n",
       "2         pyiron@jupyter-jan#1     Sphinx      2.6.1     None       NaN  \n",
       "3         pyiron@jupyter-jan#1     Sphinx      2.6.1     None       NaN  \n",
       "4         pyiron@jupyter-jan#1     Sphinx      2.6.1     None       NaN  \n",
       "5         pyiron@jupyter-jan#1     Sphinx      2.6.1     None       NaN  \n",
       "6         pyiron@jupyter-jan#1     Sphinx      2.6.1     None       NaN  \n",
       "7         pyiron@jupyter-jan#1   TableJob        0.1     None       NaN  \n",
       "8   pyiron@jupyter-jan#1#11/11  Murnaghan      0.3.0     None       NaN  \n",
       "9         pyiron@jupyter-jan#1     Sphinx      2.6.1     None      97.0  \n",
       "10        pyiron@jupyter-jan#1     Sphinx      2.6.1     None      97.0  \n",
       "11        pyiron@jupyter-jan#1     Sphinx      2.6.1     None      97.0  \n",
       "12        pyiron@jupyter-jan#1     Sphinx      2.6.1     None      97.0  \n",
       "13        pyiron@jupyter-jan#1     Sphinx      2.6.1     None      97.0  \n",
       "14        pyiron@jupyter-jan#1     Sphinx      2.6.1     None      97.0  \n",
       "15        pyiron@jupyter-jan#1     Sphinx      2.6.1     None      97.0  \n",
       "16        pyiron@jupyter-jan#1     Sphinx      2.6.1     None      97.0  \n",
       "17        pyiron@jupyter-jan#1     Sphinx      2.6.1     None      97.0  \n",
       "18        pyiron@jupyter-jan#1     Sphinx      2.6.1     None      97.0  \n",
       "19        pyiron@jupyter-jan#1     Sphinx      2.6.1     None      97.0  "
      ]
     },
     "execution_count": 27,
     "metadata": {},
     "output_type": "execute_result"
    }
   ],
   "source": [
    "# Check the status of the calculation in the job_table\n",
    "pr.job_table()"
   ]
  },
  {
   "cell_type": "raw",
   "metadata": {},
   "source": [
    "# Finally we can use the internal functionality of the master job \n",
    "# to visualise the energy volume curve\n",
    "murn.plot()"
   ]
  },
  {
   "cell_type": "code",
   "execution_count": 28,
   "metadata": {},
   "outputs": [
    {
     "data": {
      "image/png": "[encoded data removed]",
      "text/plain": [
       "<Figure size 432x288 with 1 Axes>"
      ]
     },
     "metadata": {
      "needs_background": "light"
     },
     "output_type": "display_data"
    }
   ],
   "source": [
    "# Finally we can use the internal functionality of the master job \n",
    "# to visualise the energy volume curve\n",
    "murn.plot()"
   ]
  },
  {
   "cell_type": "markdown",
   "metadata": {},
   "source": [
    "## Summary \n",
    "In this section you learned: \n",
    "* how to calculate equilibrium bulk material properties using density functional theory.\n",
    "* how the finite plane wave energy cutoff and the finite kpoint mesh limit the precision of DFT calculation. \n",
    "* and how to use master jobs in pyiron to automate common tasks like calculating energy volume curves. \n",
    "\n",
    "Suggestions: \n",
    "* To learn more about convergence you can plot the convergence of an individual energy over the change in plane wave energy cutoff or kpoint mesh. \n",
    "* To visualise the discretisation of the energy volume curve you can calculate the energy volume curve at a small volume range of +/- 1% for a low kpoint mesh of 3x3x3 and an energy cutoff of 300eV with 21 points.\n",
    "* To validate the interatomic potentials from the previous section we can calculate energy volume curves for those and compare the energy differences to the DFT results. "
   ]
  },
  {
   "cell_type": "code",
   "execution_count": null,
   "metadata": {},
   "outputs": [],
   "source": []
  }
 ],
 "metadata": {
  "kernelspec": {
   "display_name": "Python 3",
   "language": "python",
   "name": "python3"
  },
  "language_info": {
   "codemirror_mode": {
    "name": "ipython",
    "version": 3
   },
   "file_extension": ".py",
   "mimetype": "text/x-python",
   "name": "python",
   "nbconvert_exporter": "python",
   "pygments_lexer": "ipython3",
   "version": "3.8.6"
  }
 },
 "nbformat": 4,
 "nbformat_minor": 4
}
