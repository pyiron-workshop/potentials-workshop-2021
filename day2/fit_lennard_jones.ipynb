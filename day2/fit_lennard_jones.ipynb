{
 "cells": [
  {
   "cell_type": "markdown",
   "metadata": {
    "heading_collapsed": true
   },
   "source": [
    "# Create project"
   ]
  },
  {
   "cell_type": "markdown",
   "metadata": {
    "heading_collapsed": true,
    "hidden": true
   },
   "source": [
    "## Import"
   ]
  },
  {
   "cell_type": "code",
   "execution_count": 1,
   "metadata": {
    "ExecuteTime": {
     "end_time": "2019-03-19T11:34:18.574732Z",
     "start_time": "2019-03-19T11:34:18.083044Z"
    },
    "hidden": true
   },
   "outputs": [],
   "source": [
    "%matplotlib inline"
   ]
  },
  {
   "cell_type": "code",
   "execution_count": 2,
   "metadata": {
    "ExecuteTime": {
     "end_time": "2019-03-19T11:34:19.659951Z",
     "start_time": "2019-03-19T11:34:18.579186Z"
    },
    "hidden": true
   },
   "outputs": [],
   "source": [
    "import json\n",
    "import matplotlib.pyplot as plt\n",
    "import numpy as np\n",
    "import pandas as pd\n",
    "from pyiron import Project, Atoms\n",
    "from scipy.optimize import minimize"
   ]
  },
  {
   "cell_type": "code",
   "execution_count": 3,
   "metadata": {
    "ExecuteTime": {
     "end_time": "2019-03-19T11:34:19.664970Z",
     "start_time": "2019-03-19T11:34:19.662277Z"
    },
    "hidden": true
   },
   "outputs": [],
   "source": [
    "import warnings  # ignore Lammps warnings \n",
    "warnings.filterwarnings(\"ignore\")"
   ]
  },
  {
   "cell_type": "markdown",
   "metadata": {
    "heading_collapsed": true,
    "hidden": true
   },
   "source": [
    "## Clean up"
   ]
  },
  {
   "cell_type": "code",
   "execution_count": 4,
   "metadata": {
    "ExecuteTime": {
     "end_time": "2019-03-19T11:34:20.108152Z",
     "start_time": "2019-03-19T11:34:19.669795Z"
    },
    "hidden": true
   },
   "outputs": [],
   "source": [
    "pr = Project('fitting')\n",
    "pr.remove_jobs_silently(recursive=True)"
   ]
  },
  {
   "cell_type": "code",
   "execution_count": 5,
   "metadata": {
    "ExecuteTime": {
     "end_time": "2019-03-19T11:34:20.879099Z",
     "start_time": "2019-03-19T11:34:20.483197Z"
    },
    "hidden": true
   },
   "outputs": [],
   "source": [
    "pr = Project('dft')\n",
    "pr.remove_jobs_silently(recursive=True)"
   ]
  },
  {
   "cell_type": "markdown",
   "metadata": {},
   "source": [
    "# Get fitting data "
   ]
  },
  {
   "cell_type": "markdown",
   "metadata": {},
   "source": [
    "## Create S/PHI/nX DFT calculation "
   ]
  },
  {
   "cell_type": "markdown",
   "metadata": {
    "heading_collapsed": true
   },
   "source": [
    "### Setup S/PHI/nX"
   ]
  },
  {
   "cell_type": "code",
   "execution_count": 6,
   "metadata": {
    "ExecuteTime": {
     "end_time": "2019-03-19T11:34:20.893658Z",
     "start_time": "2019-03-19T11:34:20.880782Z"
    },
    "hidden": true
   },
   "outputs": [],
   "source": [
    "job_vasp = pr.create_job(job_type=pr.job_type.Sphinx, job_name='sphinx')"
   ]
  },
  {
   "cell_type": "code",
   "execution_count": 7,
   "metadata": {
    "ExecuteTime": {
     "end_time": "2019-03-19T11:34:20.990052Z",
     "start_time": "2019-03-19T11:34:20.896916Z"
    },
    "hidden": true
   },
   "outputs": [],
   "source": [
    "job_vasp.structure = pr.create_ase_bulk('Al')"
   ]
  },
  {
   "cell_type": "markdown",
   "metadata": {},
   "source": [
    "### Calculate Murnaghan "
   ]
  },
  {
   "cell_type": "code",
   "execution_count": 8,
   "metadata": {
    "ExecuteTime": {
     "end_time": "2019-03-19T11:34:21.078450Z",
     "start_time": "2019-03-19T11:34:21.038736Z"
    }
   },
   "outputs": [],
   "source": [
    "murn = job_vasp.create_job(job_type=pr.job_type.Murnaghan, job_name='murn')"
   ]
  },
  {
   "cell_type": "code",
   "execution_count": 9,
   "metadata": {
    "ExecuteTime": {
     "end_time": "2019-03-19T11:34:39.564598Z",
     "start_time": "2019-03-19T11:34:21.081597Z"
    }
   },
   "outputs": [
    {
     "name": "stdout",
     "output_type": "stream",
     "text": [
      "The job murn was saved and received the ID: 1\n",
      "The job strain_0_9 was saved and received the ID: 2\n",
      "The job strain_0_92 was saved and received the ID: 3\n",
      "The job strain_0_94 was saved and received the ID: 4\n",
      "The job strain_0_96 was saved and received the ID: 5\n",
      "The job strain_0_98 was saved and received the ID: 6\n",
      "The job strain_1_0 was saved and received the ID: 7\n",
      "The job strain_1_02 was saved and received the ID: 8\n",
      "The job strain_1_04 was saved and received the ID: 9\n",
      "The job strain_1_06 was saved and received the ID: 10\n",
      "The job strain_1_08 was saved and received the ID: 11\n",
      "The job strain_1_1 was saved and received the ID: 12\n",
      "job_id:  2 finished\n",
      "job_id:  3 finished\n",
      "job_id:  4 finished\n",
      "job_id:  5 finished\n",
      "job_id:  6 finished\n",
      "job_id:  7 finished\n",
      "job_id:  8 finished\n",
      "job_id:  9 finished\n",
      "job_id:  10 finished\n",
      "job_id:  11 finished\n",
      "job_id:  12 finished\n"
     ]
    }
   ],
   "source": [
    "murn.run()"
   ]
  },
  {
   "cell_type": "code",
   "execution_count": 10,
   "metadata": {
    "ExecuteTime": {
     "end_time": "2019-03-19T11:34:39.879193Z",
     "start_time": "2019-03-19T11:34:39.574699Z"
    }
   },
   "outputs": [
    {
     "data": {
      "image/png": "[encoded data removed]",
      "text/plain": [
       "<Figure size 432x288 with 1 Axes>"
      ]
     },
     "metadata": {
      "needs_background": "light"
     },
     "output_type": "display_data"
    }
   ],
   "source": [
    "murn.plot()"
   ]
  },
  {
   "cell_type": "markdown",
   "metadata": {
    "heading_collapsed": true
   },
   "source": [
    "### Overview "
   ]
  },
  {
   "cell_type": "code",
   "execution_count": 11,
   "metadata": {
    "ExecuteTime": {
     "end_time": "2019-03-19T11:34:39.914591Z",
     "start_time": "2019-03-19T11:34:39.882720Z"
    },
    "hidden": true
   },
   "outputs": [
    {
     "data": {
      "text/html": [
       "<div>\n",
       "<style scoped>\n",
       "    .dataframe tbody tr th:only-of-type {\n",
       "        vertical-align: middle;\n",
       "    }\n",
       "\n",
       "    .dataframe tbody tr th {\n",
       "        vertical-align: top;\n",
       "    }\n",
       "\n",
       "    .dataframe thead th {\n",
       "        text-align: right;\n",
       "    }\n",
       "</style>\n",
       "<table border=\"1\" class=\"dataframe\">\n",
       "  <thead>\n",
       "    <tr style=\"text-align: right;\">\n",
       "      <th></th>\n",
       "      <th>id</th>\n",
       "      <th>status</th>\n",
       "      <th>chemicalformula</th>\n",
       "      <th>job</th>\n",
       "      <th>subjob</th>\n",
       "      <th>projectpath</th>\n",
       "      <th>project</th>\n",
       "      <th>timestart</th>\n",
       "      <th>timestop</th>\n",
       "      <th>totalcputime</th>\n",
       "      <th>computer</th>\n",
       "      <th>hamilton</th>\n",
       "      <th>hamversion</th>\n",
       "      <th>parentid</th>\n",
       "      <th>masterid</th>\n",
       "    </tr>\n",
       "  </thead>\n",
       "  <tbody>\n",
       "    <tr>\n",
       "      <th>0</th>\n",
       "      <td>1</td>\n",
       "      <td>finished</td>\n",
       "      <td>Al</td>\n",
       "      <td>murn</td>\n",
       "      <td>/murn</td>\n",
       "      <td>/home/jovyan/</td>\n",
       "      <td>dft/</td>\n",
       "      <td>2020-11-26 16:12:41.099156</td>\n",
       "      <td>2020-11-26 16:13:17.615643</td>\n",
       "      <td>36.0</td>\n",
       "      <td>pyiron@jupyter-jan-2djanssen-2dpyi-2dfitting-2dexample-2dxeerobsg#1#11/11</td>\n",
       "      <td>Murnaghan</td>\n",
       "      <td>0.3.0</td>\n",
       "      <td>None</td>\n",
       "      <td>NaN</td>\n",
       "    </tr>\n",
       "    <tr>\n",
       "      <th>1</th>\n",
       "      <td>2</td>\n",
       "      <td>finished</td>\n",
       "      <td>Al</td>\n",
       "      <td>strain_0_9</td>\n",
       "      <td>/strain_0_9</td>\n",
       "      <td>/home/jovyan/</td>\n",
       "      <td>dft/murn_hdf5/</td>\n",
       "      <td>2020-11-26 16:12:42.135711</td>\n",
       "      <td>2020-11-26 16:12:44.514669</td>\n",
       "      <td>2.0</td>\n",
       "      <td>pyiron@jupyter-jan-2djanssen-2dpyi-2dfitting-2dexample-2dxeerobsg#1</td>\n",
       "      <td>Sphinx</td>\n",
       "      <td>2.6.1</td>\n",
       "      <td>None</td>\n",
       "      <td>1.0</td>\n",
       "    </tr>\n",
       "    <tr>\n",
       "      <th>2</th>\n",
       "      <td>3</td>\n",
       "      <td>finished</td>\n",
       "      <td>Al</td>\n",
       "      <td>strain_0_92</td>\n",
       "      <td>/strain_0_92</td>\n",
       "      <td>/home/jovyan/</td>\n",
       "      <td>dft/murn_hdf5/</td>\n",
       "      <td>2020-11-26 16:12:45.236697</td>\n",
       "      <td>2020-11-26 16:12:47.574704</td>\n",
       "      <td>2.0</td>\n",
       "      <td>pyiron@jupyter-jan-2djanssen-2dpyi-2dfitting-2dexample-2dxeerobsg#1</td>\n",
       "      <td>Sphinx</td>\n",
       "      <td>2.6.1</td>\n",
       "      <td>None</td>\n",
       "      <td>1.0</td>\n",
       "    </tr>\n",
       "    <tr>\n",
       "      <th>3</th>\n",
       "      <td>4</td>\n",
       "      <td>finished</td>\n",
       "      <td>Al</td>\n",
       "      <td>strain_0_94</td>\n",
       "      <td>/strain_0_94</td>\n",
       "      <td>/home/jovyan/</td>\n",
       "      <td>dft/murn_hdf5/</td>\n",
       "      <td>2020-11-26 16:12:48.184230</td>\n",
       "      <td>2020-11-26 16:12:50.719329</td>\n",
       "      <td>2.0</td>\n",
       "      <td>pyiron@jupyter-jan-2djanssen-2dpyi-2dfitting-2dexample-2dxeerobsg#1</td>\n",
       "      <td>Sphinx</td>\n",
       "      <td>2.6.1</td>\n",
       "      <td>None</td>\n",
       "      <td>1.0</td>\n",
       "    </tr>\n",
       "    <tr>\n",
       "      <th>4</th>\n",
       "      <td>5</td>\n",
       "      <td>finished</td>\n",
       "      <td>Al</td>\n",
       "      <td>strain_0_96</td>\n",
       "      <td>/strain_0_96</td>\n",
       "      <td>/home/jovyan/</td>\n",
       "      <td>dft/murn_hdf5/</td>\n",
       "      <td>2020-11-26 16:12:51.392316</td>\n",
       "      <td>2020-11-26 16:12:54.031975</td>\n",
       "      <td>2.0</td>\n",
       "      <td>pyiron@jupyter-jan-2djanssen-2dpyi-2dfitting-2dexample-2dxeerobsg#1</td>\n",
       "      <td>Sphinx</td>\n",
       "      <td>2.6.1</td>\n",
       "      <td>None</td>\n",
       "      <td>1.0</td>\n",
       "    </tr>\n",
       "    <tr>\n",
       "      <th>5</th>\n",
       "      <td>6</td>\n",
       "      <td>finished</td>\n",
       "      <td>Al</td>\n",
       "      <td>strain_0_98</td>\n",
       "      <td>/strain_0_98</td>\n",
       "      <td>/home/jovyan/</td>\n",
       "      <td>dft/murn_hdf5/</td>\n",
       "      <td>2020-11-26 16:12:54.622481</td>\n",
       "      <td>2020-11-26 16:12:57.226812</td>\n",
       "      <td>2.0</td>\n",
       "      <td>pyiron@jupyter-jan-2djanssen-2dpyi-2dfitting-2dexample-2dxeerobsg#1</td>\n",
       "      <td>Sphinx</td>\n",
       "      <td>2.6.1</td>\n",
       "      <td>None</td>\n",
       "      <td>1.0</td>\n",
       "    </tr>\n",
       "    <tr>\n",
       "      <th>6</th>\n",
       "      <td>7</td>\n",
       "      <td>finished</td>\n",
       "      <td>Al</td>\n",
       "      <td>strain_1_0</td>\n",
       "      <td>/strain_1_0</td>\n",
       "      <td>/home/jovyan/</td>\n",
       "      <td>dft/murn_hdf5/</td>\n",
       "      <td>2020-11-26 16:12:57.823109</td>\n",
       "      <td>2020-11-26 16:13:00.523427</td>\n",
       "      <td>2.0</td>\n",
       "      <td>pyiron@jupyter-jan-2djanssen-2dpyi-2dfitting-2dexample-2dxeerobsg#1</td>\n",
       "      <td>Sphinx</td>\n",
       "      <td>2.6.1</td>\n",
       "      <td>None</td>\n",
       "      <td>1.0</td>\n",
       "    </tr>\n",
       "    <tr>\n",
       "      <th>7</th>\n",
       "      <td>8</td>\n",
       "      <td>finished</td>\n",
       "      <td>Al</td>\n",
       "      <td>strain_1_02</td>\n",
       "      <td>/strain_1_02</td>\n",
       "      <td>/home/jovyan/</td>\n",
       "      <td>dft/murn_hdf5/</td>\n",
       "      <td>2020-11-26 16:13:01.112104</td>\n",
       "      <td>2020-11-26 16:13:03.739036</td>\n",
       "      <td>2.0</td>\n",
       "      <td>pyiron@jupyter-jan-2djanssen-2dpyi-2dfitting-2dexample-2dxeerobsg#1</td>\n",
       "      <td>Sphinx</td>\n",
       "      <td>2.6.1</td>\n",
       "      <td>None</td>\n",
       "      <td>1.0</td>\n",
       "    </tr>\n",
       "    <tr>\n",
       "      <th>8</th>\n",
       "      <td>9</td>\n",
       "      <td>finished</td>\n",
       "      <td>Al</td>\n",
       "      <td>strain_1_04</td>\n",
       "      <td>/strain_1_04</td>\n",
       "      <td>/home/jovyan/</td>\n",
       "      <td>dft/murn_hdf5/</td>\n",
       "      <td>2020-11-26 16:13:04.356649</td>\n",
       "      <td>2020-11-26 16:13:07.025186</td>\n",
       "      <td>2.0</td>\n",
       "      <td>pyiron@jupyter-jan-2djanssen-2dpyi-2dfitting-2dexample-2dxeerobsg#1</td>\n",
       "      <td>Sphinx</td>\n",
       "      <td>2.6.1</td>\n",
       "      <td>None</td>\n",
       "      <td>1.0</td>\n",
       "    </tr>\n",
       "    <tr>\n",
       "      <th>9</th>\n",
       "      <td>10</td>\n",
       "      <td>finished</td>\n",
       "      <td>Al</td>\n",
       "      <td>strain_1_06</td>\n",
       "      <td>/strain_1_06</td>\n",
       "      <td>/home/jovyan/</td>\n",
       "      <td>dft/murn_hdf5/</td>\n",
       "      <td>2020-11-26 16:13:07.624709</td>\n",
       "      <td>2020-11-26 16:13:10.457258</td>\n",
       "      <td>2.0</td>\n",
       "      <td>pyiron@jupyter-jan-2djanssen-2dpyi-2dfitting-2dexample-2dxeerobsg#1</td>\n",
       "      <td>Sphinx</td>\n",
       "      <td>2.6.1</td>\n",
       "      <td>None</td>\n",
       "      <td>1.0</td>\n",
       "    </tr>\n",
       "    <tr>\n",
       "      <th>10</th>\n",
       "      <td>11</td>\n",
       "      <td>finished</td>\n",
       "      <td>Al</td>\n",
       "      <td>strain_1_08</td>\n",
       "      <td>/strain_1_08</td>\n",
       "      <td>/home/jovyan/</td>\n",
       "      <td>dft/murn_hdf5/</td>\n",
       "      <td>2020-11-26 16:13:11.033423</td>\n",
       "      <td>2020-11-26 16:13:13.817041</td>\n",
       "      <td>2.0</td>\n",
       "      <td>pyiron@jupyter-jan-2djanssen-2dpyi-2dfitting-2dexample-2dxeerobsg#1</td>\n",
       "      <td>Sphinx</td>\n",
       "      <td>2.6.1</td>\n",
       "      <td>None</td>\n",
       "      <td>1.0</td>\n",
       "    </tr>\n",
       "    <tr>\n",
       "      <th>11</th>\n",
       "      <td>12</td>\n",
       "      <td>finished</td>\n",
       "      <td>Al</td>\n",
       "      <td>strain_1_1</td>\n",
       "      <td>/strain_1_1</td>\n",
       "      <td>/home/jovyan/</td>\n",
       "      <td>dft/murn_hdf5/</td>\n",
       "      <td>2020-11-26 16:13:14.411491</td>\n",
       "      <td>2020-11-26 16:13:17.122089</td>\n",
       "      <td>2.0</td>\n",
       "      <td>pyiron@jupyter-jan-2djanssen-2dpyi-2dfitting-2dexample-2dxeerobsg#1</td>\n",
       "      <td>Sphinx</td>\n",
       "      <td>2.6.1</td>\n",
       "      <td>None</td>\n",
       "      <td>1.0</td>\n",
       "    </tr>\n",
       "  </tbody>\n",
       "</table>\n",
       "</div>"
      ],
      "text/plain": [
       "    id    status chemicalformula          job        subjob    projectpath  \\\n",
       "0    1  finished              Al         murn         /murn  /home/jovyan/   \n",
       "1    2  finished              Al   strain_0_9   /strain_0_9  /home/jovyan/   \n",
       "2    3  finished              Al  strain_0_92  /strain_0_92  /home/jovyan/   \n",
       "3    4  finished              Al  strain_0_94  /strain_0_94  /home/jovyan/   \n",
       "4    5  finished              Al  strain_0_96  /strain_0_96  /home/jovyan/   \n",
       "5    6  finished              Al  strain_0_98  /strain_0_98  /home/jovyan/   \n",
       "6    7  finished              Al   strain_1_0   /strain_1_0  /home/jovyan/   \n",
       "7    8  finished              Al  strain_1_02  /strain_1_02  /home/jovyan/   \n",
       "8    9  finished              Al  strain_1_04  /strain_1_04  /home/jovyan/   \n",
       "9   10  finished              Al  strain_1_06  /strain_1_06  /home/jovyan/   \n",
       "10  11  finished              Al  strain_1_08  /strain_1_08  /home/jovyan/   \n",
       "11  12  finished              Al   strain_1_1   /strain_1_1  /home/jovyan/   \n",
       "\n",
       "           project                  timestart                   timestop  \\\n",
       "0             dft/ 2020-11-26 16:12:41.099156 2020-11-26 16:13:17.615643   \n",
       "1   dft/murn_hdf5/ 2020-11-26 16:12:42.135711 2020-11-26 16:12:44.514669   \n",
       "2   dft/murn_hdf5/ 2020-11-26 16:12:45.236697 2020-11-26 16:12:47.574704   \n",
       "3   dft/murn_hdf5/ 2020-11-26 16:12:48.184230 2020-11-26 16:12:50.719329   \n",
       "4   dft/murn_hdf5/ 2020-11-26 16:12:51.392316 2020-11-26 16:12:54.031975   \n",
       "5   dft/murn_hdf5/ 2020-11-26 16:12:54.622481 2020-11-26 16:12:57.226812   \n",
       "6   dft/murn_hdf5/ 2020-11-26 16:12:57.823109 2020-11-26 16:13:00.523427   \n",
       "7   dft/murn_hdf5/ 2020-11-26 16:13:01.112104 2020-11-26 16:13:03.739036   \n",
       "8   dft/murn_hdf5/ 2020-11-26 16:13:04.356649 2020-11-26 16:13:07.025186   \n",
       "9   dft/murn_hdf5/ 2020-11-26 16:13:07.624709 2020-11-26 16:13:10.457258   \n",
       "10  dft/murn_hdf5/ 2020-11-26 16:13:11.033423 2020-11-26 16:13:13.817041   \n",
       "11  dft/murn_hdf5/ 2020-11-26 16:13:14.411491 2020-11-26 16:13:17.122089   \n",
       "\n",
       "    totalcputime  \\\n",
       "0           36.0   \n",
       "1            2.0   \n",
       "2            2.0   \n",
       "3            2.0   \n",
       "4            2.0   \n",
       "5            2.0   \n",
       "6            2.0   \n",
       "7            2.0   \n",
       "8            2.0   \n",
       "9            2.0   \n",
       "10           2.0   \n",
       "11           2.0   \n",
       "\n",
       "                                                                     computer  \\\n",
       "0   pyiron@jupyter-jan-2djanssen-2dpyi-2dfitting-2dexample-2dxeerobsg#1#11/11   \n",
       "1         pyiron@jupyter-jan-2djanssen-2dpyi-2dfitting-2dexample-2dxeerobsg#1   \n",
       "2         pyiron@jupyter-jan-2djanssen-2dpyi-2dfitting-2dexample-2dxeerobsg#1   \n",
       "3         pyiron@jupyter-jan-2djanssen-2dpyi-2dfitting-2dexample-2dxeerobsg#1   \n",
       "4         pyiron@jupyter-jan-2djanssen-2dpyi-2dfitting-2dexample-2dxeerobsg#1   \n",
       "5         pyiron@jupyter-jan-2djanssen-2dpyi-2dfitting-2dexample-2dxeerobsg#1   \n",
       "6         pyiron@jupyter-jan-2djanssen-2dpyi-2dfitting-2dexample-2dxeerobsg#1   \n",
       "7         pyiron@jupyter-jan-2djanssen-2dpyi-2dfitting-2dexample-2dxeerobsg#1   \n",
       "8         pyiron@jupyter-jan-2djanssen-2dpyi-2dfitting-2dexample-2dxeerobsg#1   \n",
       "9         pyiron@jupyter-jan-2djanssen-2dpyi-2dfitting-2dexample-2dxeerobsg#1   \n",
       "10        pyiron@jupyter-jan-2djanssen-2dpyi-2dfitting-2dexample-2dxeerobsg#1   \n",
       "11        pyiron@jupyter-jan-2djanssen-2dpyi-2dfitting-2dexample-2dxeerobsg#1   \n",
       "\n",
       "     hamilton hamversion parentid  masterid  \n",
       "0   Murnaghan      0.3.0     None       NaN  \n",
       "1      Sphinx      2.6.1     None       1.0  \n",
       "2      Sphinx      2.6.1     None       1.0  \n",
       "3      Sphinx      2.6.1     None       1.0  \n",
       "4      Sphinx      2.6.1     None       1.0  \n",
       "5      Sphinx      2.6.1     None       1.0  \n",
       "6      Sphinx      2.6.1     None       1.0  \n",
       "7      Sphinx      2.6.1     None       1.0  \n",
       "8      Sphinx      2.6.1     None       1.0  \n",
       "9      Sphinx      2.6.1     None       1.0  \n",
       "10     Sphinx      2.6.1     None       1.0  \n",
       "11     Sphinx      2.6.1     None       1.0  "
      ]
     },
     "execution_count": 11,
     "metadata": {},
     "output_type": "execute_result"
    }
   ],
   "source": [
    "pr.job_table()"
   ]
  },
  {
   "cell_type": "markdown",
   "metadata": {},
   "source": [
    "# Fit potential "
   ]
  },
  {
   "cell_type": "markdown",
   "metadata": {},
   "source": [
    "## Collect S/PHI/nX calculation "
   ]
  },
  {
   "cell_type": "markdown",
   "metadata": {},
   "source": [
    "### Setup pyiron table"
   ]
  },
  {
   "cell_type": "code",
   "execution_count": 12,
   "metadata": {
    "ExecuteTime": {
     "end_time": "2019-03-19T11:34:54.782186Z",
     "start_time": "2019-03-19T11:34:54.774917Z"
    }
   },
   "outputs": [],
   "source": [
    "pr_fit = Project('fitting')"
   ]
  },
  {
   "cell_type": "code",
   "execution_count": 13,
   "metadata": {
    "ExecuteTime": {
     "end_time": "2019-03-19T11:34:54.839449Z",
     "start_time": "2019-03-19T11:34:54.788547Z"
    }
   },
   "outputs": [],
   "source": [
    "pyiron_table = pr_fit.create_job(job_type=pr_fit.job_type.TableJob, job_name='analysis')"
   ]
  },
  {
   "cell_type": "code",
   "execution_count": 14,
   "metadata": {
    "ExecuteTime": {
     "end_time": "2019-03-19T11:34:54.849246Z",
     "start_time": "2019-03-19T11:34:54.845112Z"
    }
   },
   "outputs": [],
   "source": [
    "pyiron_table.analysis_project = pr"
   ]
  },
  {
   "cell_type": "code",
   "execution_count": 15,
   "metadata": {
    "ExecuteTime": {
     "end_time": "2019-03-19T11:34:54.866738Z",
     "start_time": "2019-03-19T11:34:54.855129Z"
    }
   },
   "outputs": [
    {
     "data": {
      "text/plain": [
       "True"
      ]
     },
     "execution_count": 15,
     "metadata": {},
     "output_type": "execute_result"
    }
   ],
   "source": [
    "pyiron_table.add.get_structure\n",
    "pyiron_table.add.get_energy_tot\n",
    "pyiron_table.add.get_forces\n",
    "pyiron_table.add.get_job_name"
   ]
  },
  {
   "cell_type": "code",
   "execution_count": 16,
   "metadata": {
    "ExecuteTime": {
     "end_time": "2019-03-19T11:34:54.878560Z",
     "start_time": "2019-03-19T11:34:54.870954Z"
    }
   },
   "outputs": [],
   "source": [
    "pyiron_table.filter_function = pyiron_table.filter.job_type(pr.job_type.Sphinx)"
   ]
  },
  {
   "cell_type": "code",
   "execution_count": 17,
   "metadata": {
    "ExecuteTime": {
     "end_time": "2019-03-19T11:35:05.076169Z",
     "start_time": "2019-03-19T11:34:54.883575Z"
    }
   },
   "outputs": [
    {
     "name": "stderr",
     "output_type": "stream",
     "text": [
      "100%|██████████| 12/12 [00:00<00:00, 906.04it/s]\n",
      "  0%|          | 0/11 [00:00<?, ?it/s]"
     ]
    },
    {
     "name": "stdout",
     "output_type": "stream",
     "text": [
      "The job analysis was saved and received the ID: 13\n"
     ]
    },
    {
     "name": "stderr",
     "output_type": "stream",
     "text": [
      "100%|██████████| 11/11 [00:06<00:00,  1.66it/s]\n"
     ]
    }
   ],
   "source": [
    "pyiron_table.run()"
   ]
  },
  {
   "cell_type": "markdown",
   "metadata": {},
   "source": [
    "### Summary"
   ]
  },
  {
   "cell_type": "code",
   "execution_count": 18,
   "metadata": {
    "ExecuteTime": {
     "end_time": "2019-03-19T11:35:05.099186Z",
     "start_time": "2019-03-19T11:35:05.086224Z"
    }
   },
   "outputs": [
    {
     "data": {
      "text/html": [
       "<div>\n",
       "<style scoped>\n",
       "    .dataframe tbody tr th:only-of-type {\n",
       "        vertical-align: middle;\n",
       "    }\n",
       "\n",
       "    .dataframe tbody tr th {\n",
       "        vertical-align: top;\n",
       "    }\n",
       "\n",
       "    .dataframe thead th {\n",
       "        text-align: right;\n",
       "    }\n",
       "</style>\n",
       "<table border=\"1\" class=\"dataframe\">\n",
       "  <thead>\n",
       "    <tr style=\"text-align: right;\">\n",
       "      <th></th>\n",
       "      <th>job_name</th>\n",
       "      <th>job_id</th>\n",
       "      <th>energy_tot</th>\n",
       "      <th>structure</th>\n",
       "      <th>forces</th>\n",
       "    </tr>\n",
       "  </thead>\n",
       "  <tbody>\n",
       "    <tr>\n",
       "      <th>0</th>\n",
       "      <td>strain_0_9</td>\n",
       "      <td>2</td>\n",
       "      <td>-57.130910</td>\n",
       "      <td>{\"symbols\": [\"Al\"], \"positions\": [[0.0, 0.0, 0.0]], \"cell\": [[0.0, 1.95511600430018, 1.95511600430018], [1.95511600430018, 0.0, 1.95511600430018], [1.95511600430018, 1.95511600430018, 0.0]], \"pbc\"...</td>\n",
       "      <td>[[0.0, 0.0, -0.0]]</td>\n",
       "    </tr>\n",
       "    <tr>\n",
       "      <th>1</th>\n",
       "      <td>strain_0_92</td>\n",
       "      <td>3</td>\n",
       "      <td>-57.151827</td>\n",
       "      <td>{\"symbols\": [\"Al\"], \"positions\": [[0.0, 0.0, 0.0]], \"cell\": [[0.0, 1.969492373259666, 1.969492373259666], [1.969492373259666, 0.0, 1.969492373259666], [1.969492373259666, 1.969492373259666, 0.0]],...</td>\n",
       "      <td>[[-0.0, -0.0, 0.0]]</td>\n",
       "    </tr>\n",
       "    <tr>\n",
       "      <th>2</th>\n",
       "      <td>strain_0_94</td>\n",
       "      <td>4</td>\n",
       "      <td>-57.167532</td>\n",
       "      <td>{\"symbols\": [\"Al\"], \"positions\": [[0.0, 0.0, 0.0]], \"cell\": [[0.0, 1.9836618709720941, 1.9836618709720941], [1.9836618709720941, 0.0, 1.9836618709720941], [1.9836618709720941, 1.9836618709720941, ...</td>\n",
       "      <td>[[0.0, 0.0, -0.0]]</td>\n",
       "    </tr>\n",
       "    <tr>\n",
       "      <th>3</th>\n",
       "      <td>strain_0_96</td>\n",
       "      <td>5</td>\n",
       "      <td>-57.178357</td>\n",
       "      <td>{\"symbols\": [\"Al\"], \"positions\": [[0.0, 0.0, 0.0]], \"cell\": [[0.0, 1.9976317789158857, 1.9976317789158857], [1.9976317789158857, 0.0, 1.9976317789158857], [1.9976317789158857, 1.9976317789158857, ...</td>\n",
       "      <td>[[0.0, 0.0, -0.0]]</td>\n",
       "    </tr>\n",
       "    <tr>\n",
       "      <th>4</th>\n",
       "      <td>strain_0_98</td>\n",
       "      <td>6</td>\n",
       "      <td>-57.185143</td>\n",
       "      <td>{\"symbols\": [\"Al\"], \"positions\": [[0.0, 0.0, 0.0]], \"cell\": [[0.0, 2.011408986978327, 2.011408986978327], [2.011408986978327, 0.0, 2.011408986978327], [2.011408986978327, 2.011408986978327, 0.0]],...</td>\n",
       "      <td>[[0.0, 0.0, 0.0]]</td>\n",
       "    </tr>\n",
       "    <tr>\n",
       "      <th>5</th>\n",
       "      <td>strain_1_0</td>\n",
       "      <td>7</td>\n",
       "      <td>-57.187896</td>\n",
       "      <td>{\"symbols\": [\"Al\"], \"positions\": [[0.0, 0.0, 0.0]], \"cell\": [[0.0, 2.0249999987473397, 2.0249999987473397], [2.0249999987473397, 0.0, 2.0249999987473397], [2.0249999987473397, 2.0249999987473397, ...</td>\n",
       "      <td>[[-0.0, -0.0, 0.0]]</td>\n",
       "    </tr>\n",
       "    <tr>\n",
       "      <th>6</th>\n",
       "      <td>strain_1_02</td>\n",
       "      <td>8</td>\n",
       "      <td>-57.187192</td>\n",
       "      <td>{\"symbols\": [\"Al\"], \"positions\": [[0.0, 0.0, 0.0]], \"cell\": [[0.0, 2.0384109844292033, 2.0384109844292033], [2.0384109844292033, 0.0, 2.0384109844292033], [2.0384109844292033, 2.0384109844292033, ...</td>\n",
       "      <td>[[0.0, 0.0, -0.0]]</td>\n",
       "    </tr>\n",
       "    <tr>\n",
       "      <th>7</th>\n",
       "      <td>strain_1_04</td>\n",
       "      <td>9</td>\n",
       "      <td>-57.183672</td>\n",
       "      <td>{\"symbols\": [\"Al\"], \"positions\": [[0.0, 0.0, 0.0]], \"cell\": [[0.0, 2.0516477914320985, 2.0516477914320985], [2.0516477914320985, 0.0, 2.0516477914320985], [2.0516477914320985, 2.0516477914320985, ...</td>\n",
       "      <td>[[0.0, 0.0, -0.0]]</td>\n",
       "    </tr>\n",
       "    <tr>\n",
       "      <th>8</th>\n",
       "      <td>strain_1_06</td>\n",
       "      <td>10</td>\n",
       "      <td>-57.177226</td>\n",
       "      <td>{\"symbols\": [\"Al\"], \"positions\": [[0.0, 0.0, 0.0]], \"cell\": [[0.0, 2.0647159655331953, 2.0647159655331953], [2.0647159655331953, 0.0, 2.0647159655331953], [2.0647159655331953, 2.0647159655331953, ...</td>\n",
       "      <td>[[-0.0, -0.0, 0.0]]</td>\n",
       "    </tr>\n",
       "    <tr>\n",
       "      <th>9</th>\n",
       "      <td>strain_1_08</td>\n",
       "      <td>11</td>\n",
       "      <td>-57.168323</td>\n",
       "      <td>{\"symbols\": [\"Al\"], \"positions\": [[0.0, 0.0, 0.0]], \"cell\": [[0.0, 2.0776207773375135, 2.0776207773375135], [2.0776207773375135, 0.0, 2.0776207773375135], [2.0776207773375135, 2.0776207773375135, ...</td>\n",
       "      <td>[[0.0, 0.0, 0.0]]</td>\n",
       "    </tr>\n",
       "    <tr>\n",
       "      <th>10</th>\n",
       "      <td>strain_1_1</td>\n",
       "      <td>12</td>\n",
       "      <td>-57.157250</td>\n",
       "      <td>{\"symbols\": [\"Al\"], \"positions\": [[0.0, 0.0, 0.0]], \"cell\": [[0.0, 2.0903672328614697, 2.0903672328614697], [2.0903672328614697, 0.0, 2.0903672328614697], [2.0903672328614697, 2.0903672328614697, ...</td>\n",
       "      <td>[[0.0, -0.0, 0.0]]</td>\n",
       "    </tr>\n",
       "  </tbody>\n",
       "</table>\n",
       "</div>"
      ],
      "text/plain": [
       "       job_name  job_id  energy_tot  \\\n",
       "0    strain_0_9       2  -57.130910   \n",
       "1   strain_0_92       3  -57.151827   \n",
       "2   strain_0_94       4  -57.167532   \n",
       "3   strain_0_96       5  -57.178357   \n",
       "4   strain_0_98       6  -57.185143   \n",
       "5    strain_1_0       7  -57.187896   \n",
       "6   strain_1_02       8  -57.187192   \n",
       "7   strain_1_04       9  -57.183672   \n",
       "8   strain_1_06      10  -57.177226   \n",
       "9   strain_1_08      11  -57.168323   \n",
       "10   strain_1_1      12  -57.157250   \n",
       "\n",
       "                                                                                                                                                                                                  structure  \\\n",
       "0   {\"symbols\": [\"Al\"], \"positions\": [[0.0, 0.0, 0.0]], \"cell\": [[0.0, 1.95511600430018, 1.95511600430018], [1.95511600430018, 0.0, 1.95511600430018], [1.95511600430018, 1.95511600430018, 0.0]], \"pbc\"...   \n",
       "1   {\"symbols\": [\"Al\"], \"positions\": [[0.0, 0.0, 0.0]], \"cell\": [[0.0, 1.969492373259666, 1.969492373259666], [1.969492373259666, 0.0, 1.969492373259666], [1.969492373259666, 1.969492373259666, 0.0]],...   \n",
       "2   {\"symbols\": [\"Al\"], \"positions\": [[0.0, 0.0, 0.0]], \"cell\": [[0.0, 1.9836618709720941, 1.9836618709720941], [1.9836618709720941, 0.0, 1.9836618709720941], [1.9836618709720941, 1.9836618709720941, ...   \n",
       "3   {\"symbols\": [\"Al\"], \"positions\": [[0.0, 0.0, 0.0]], \"cell\": [[0.0, 1.9976317789158857, 1.9976317789158857], [1.9976317789158857, 0.0, 1.9976317789158857], [1.9976317789158857, 1.9976317789158857, ...   \n",
       "4   {\"symbols\": [\"Al\"], \"positions\": [[0.0, 0.0, 0.0]], \"cell\": [[0.0, 2.011408986978327, 2.011408986978327], [2.011408986978327, 0.0, 2.011408986978327], [2.011408986978327, 2.011408986978327, 0.0]],...   \n",
       "5   {\"symbols\": [\"Al\"], \"positions\": [[0.0, 0.0, 0.0]], \"cell\": [[0.0, 2.0249999987473397, 2.0249999987473397], [2.0249999987473397, 0.0, 2.0249999987473397], [2.0249999987473397, 2.0249999987473397, ...   \n",
       "6   {\"symbols\": [\"Al\"], \"positions\": [[0.0, 0.0, 0.0]], \"cell\": [[0.0, 2.0384109844292033, 2.0384109844292033], [2.0384109844292033, 0.0, 2.0384109844292033], [2.0384109844292033, 2.0384109844292033, ...   \n",
       "7   {\"symbols\": [\"Al\"], \"positions\": [[0.0, 0.0, 0.0]], \"cell\": [[0.0, 2.0516477914320985, 2.0516477914320985], [2.0516477914320985, 0.0, 2.0516477914320985], [2.0516477914320985, 2.0516477914320985, ...   \n",
       "8   {\"symbols\": [\"Al\"], \"positions\": [[0.0, 0.0, 0.0]], \"cell\": [[0.0, 2.0647159655331953, 2.0647159655331953], [2.0647159655331953, 0.0, 2.0647159655331953], [2.0647159655331953, 2.0647159655331953, ...   \n",
       "9   {\"symbols\": [\"Al\"], \"positions\": [[0.0, 0.0, 0.0]], \"cell\": [[0.0, 2.0776207773375135, 2.0776207773375135], [2.0776207773375135, 0.0, 2.0776207773375135], [2.0776207773375135, 2.0776207773375135, ...   \n",
       "10  {\"symbols\": [\"Al\"], \"positions\": [[0.0, 0.0, 0.0]], \"cell\": [[0.0, 2.0903672328614697, 2.0903672328614697], [2.0903672328614697, 0.0, 2.0903672328614697], [2.0903672328614697, 2.0903672328614697, ...   \n",
       "\n",
       "                 forces  \n",
       "0    [[0.0, 0.0, -0.0]]  \n",
       "1   [[-0.0, -0.0, 0.0]]  \n",
       "2    [[0.0, 0.0, -0.0]]  \n",
       "3    [[0.0, 0.0, -0.0]]  \n",
       "4     [[0.0, 0.0, 0.0]]  \n",
       "5   [[-0.0, -0.0, 0.0]]  \n",
       "6    [[0.0, 0.0, -0.0]]  \n",
       "7    [[0.0, 0.0, -0.0]]  \n",
       "8   [[-0.0, -0.0, 0.0]]  \n",
       "9     [[0.0, 0.0, 0.0]]  \n",
       "10   [[0.0, -0.0, 0.0]]  "
      ]
     },
     "execution_count": 18,
     "metadata": {},
     "output_type": "execute_result"
    }
   ],
   "source": [
    "df_fit = pyiron_table.get_dataframe().sort_values(by='job_name')\n",
    "df_fit"
   ]
  },
  {
   "cell_type": "markdown",
   "metadata": {},
   "source": [
    "## Fit lennard jones potential "
   ]
  },
  {
   "cell_type": "markdown",
   "metadata": {},
   "source": [
    "### Define Fit functions "
   ]
  },
  {
   "cell_type": "code",
   "execution_count": 19,
   "metadata": {
    "ExecuteTime": {
     "end_time": "2019-03-19T11:35:05.108827Z",
     "start_time": "2019-03-19T11:35:05.102303Z"
    }
   },
   "outputs": [],
   "source": [
    "def set_structure_run_and_get_energy_and_forces(job, structure): \n",
    "    job.structure = structure \n",
    "    job.run()\n",
    "    return job.output.energy_tot[-1], job.output.forces[-1] "
   ]
  },
  {
   "cell_type": "code",
   "execution_count": 20,
   "metadata": {
    "ExecuteTime": {
     "end_time": "2019-03-19T11:35:05.117430Z",
     "start_time": "2019-03-19T11:35:05.111729Z"
    }
   },
   "outputs": [],
   "source": [
    "def get_potential(eps, sigma, cutoff=10.0):\n",
    "    return pd.DataFrame({'Name': ['Al3ScLennardJones'],\n",
    "                         'Filename': [[]],                             \n",
    "                         'Model'   : ['LJ'], \n",
    "                         'Species' : [['Al']], \n",
    "                         'Config'  : [['pair_style lj/cut %f \\n'%cutoff, \n",
    "                                       'pair_coeff 1 1 %.16f %.16f \\n'%(eps, sigma)]]})"
   ]
  },
  {
   "cell_type": "code",
   "execution_count": 21,
   "metadata": {
    "ExecuteTime": {
     "end_time": "2019-03-19T11:35:05.127839Z",
     "start_time": "2019-03-19T11:35:05.121235Z"
    }
   },
   "outputs": [],
   "source": [
    "def compute_lj(job_lj, structure_lst, energy_lst, forces_lst, eps, sigma, cutoff=10.0, force_weight=0.1):\n",
    "    method_dict['eps'].append(eps)\n",
    "    method_dict['sigma'].append(sigma)\n",
    "    job_lj.potential = get_potential(eps, sigma, cutoff)\n",
    "    lj_energy_lst, lj_force_lst = zip(*[set_structure_run_and_get_energy_and_forces(job_lj, structure) for structure in structure_lst])\n",
    "    total_loss = (np.linalg.norm(np.array(energy_lst) - np.array(lj_energy_lst))) + force_weight*np.linalg.norm(np.array(forces_lst) - np.array(lj_force_lst))\n",
    "    method_dict['loss'].append(total_loss)\n",
    "    return total_loss"
   ]
  },
  {
   "cell_type": "code",
   "execution_count": 22,
   "metadata": {
    "ExecuteTime": {
     "end_time": "2019-03-19T11:35:05.135858Z",
     "start_time": "2019-03-19T11:35:05.131312Z"
    }
   },
   "outputs": [],
   "source": [
    "def loss(initial_params): \n",
    "    eps, sigma = initial_params\n",
    "    return compute_lj(job_lj=job_lj, \n",
    "                      structure_lst=structure_lst, \n",
    "                      energy_lst=energy_tot,\n",
    "                      eps=eps, \n",
    "                      sigma=sigma, \n",
    "                      forces_lst=forces) "
   ]
  },
  {
   "cell_type": "markdown",
   "metadata": {},
   "source": [
    "### Datastructure "
   ]
  },
  {
   "cell_type": "code",
   "execution_count": 23,
   "metadata": {
    "ExecuteTime": {
     "end_time": "2019-03-19T11:35:05.143603Z",
     "start_time": "2019-03-19T11:35:05.139868Z"
    }
   },
   "outputs": [],
   "source": [
    "method_dict = {'eps': [], 'sigma': [], 'loss': []}"
   ]
  },
  {
   "cell_type": "code",
   "execution_count": 24,
   "metadata": {
    "ExecuteTime": {
     "end_time": "2019-03-19T11:35:05.265333Z",
     "start_time": "2019-03-19T11:35:05.146745Z"
    }
   },
   "outputs": [],
   "source": [
    "energy_tot = df_fit.energy_tot.values\n",
    "# energy_tot -= np.min(energy_tot)  # normalise to the equlibrium energy \n",
    "structure_lst = [Atoms(**json.loads(s)) for s in df_fit.structure.values]\n",
    "forces = np.array([f for f in df_fit.forces.values])"
   ]
  },
  {
   "cell_type": "markdown",
   "metadata": {},
   "source": [
    "### Run fitting "
   ]
  },
  {
   "cell_type": "code",
   "execution_count": 25,
   "metadata": {
    "ExecuteTime": {
     "end_time": "2019-03-19T11:35:05.292382Z",
     "start_time": "2019-03-19T11:35:05.266999Z"
    }
   },
   "outputs": [],
   "source": [
    "job_lj = pr_fit.create_job(job_name='lj_fitting', job_type=pr_fit.job_type.Lammps)\n",
    "job_lj.server.run_mode.interactive = True\n",
    "job_lj.interactive_enforce_structure_reset = True"
   ]
  },
  {
   "cell_type": "code",
   "execution_count": 26,
   "metadata": {
    "ExecuteTime": {
     "end_time": "2019-03-19T11:37:47.894115Z",
     "start_time": "2019-03-19T11:35:05.295568Z"
    }
   },
   "outputs": [
    {
     "name": "stdout",
     "output_type": "stream",
     "text": [
      "The job lj_fitting was saved and received the ID: 14\n"
     ]
    },
    {
     "data": {
      "text/plain": [
       " final_simplex: (array([[6.8808789 , 2.61153806],\n",
       "       [6.88094969, 2.61152692],\n",
       "       [6.88088342, 2.61154787]]), array([2.5504823 , 2.55048259, 2.55048266]))\n",
       "           fun: 2.55048230195503\n",
       "       message: 'Optimization terminated successfully.'\n",
       "          nfev: 93\n",
       "           nit: 49\n",
       "        status: 0\n",
       "       success: True\n",
       "             x: array([6.8808789 , 2.61153806])"
      ]
     },
     "execution_count": 26,
     "metadata": {},
     "output_type": "execute_result"
    }
   ],
   "source": [
    "res = minimize(loss, [0.5, 2.5], method='Nelder-Mead')\n",
    "res"
   ]
  },
  {
   "cell_type": "code",
   "execution_count": 27,
   "metadata": {
    "ExecuteTime": {
     "end_time": "2019-03-19T11:37:47.901364Z",
     "start_time": "2019-03-19T11:37:47.896817Z"
    }
   },
   "outputs": [
    {
     "data": {
      "text/plain": [
       "True"
      ]
     },
     "execution_count": 27,
     "metadata": {},
     "output_type": "execute_result"
    }
   ],
   "source": [
    "res.success"
   ]
  },
  {
   "cell_type": "code",
   "execution_count": 28,
   "metadata": {
    "ExecuteTime": {
     "end_time": "2019-03-19T11:37:47.910190Z",
     "start_time": "2019-03-19T11:37:47.905746Z"
    }
   },
   "outputs": [],
   "source": [
    "eps_final, sigma_final = res.x "
   ]
  },
  {
   "cell_type": "code",
   "execution_count": 29,
   "metadata": {
    "ExecuteTime": {
     "end_time": "2019-03-19T11:37:49.080651Z",
     "start_time": "2019-03-19T11:37:47.914561Z"
    }
   },
   "outputs": [],
   "source": [
    "job_lj.interactive_close()"
   ]
  },
  {
   "cell_type": "markdown",
   "metadata": {},
   "source": [
    "### Plots "
   ]
  },
  {
   "cell_type": "code",
   "execution_count": 30,
   "metadata": {
    "ExecuteTime": {
     "end_time": "2019-03-19T11:37:49.418060Z",
     "start_time": "2019-03-19T11:37:49.082166Z"
    }
   },
   "outputs": [
    {
     "data": {
      "text/plain": [
       "Text(0.5, 0, 'iteration')"
      ]
     },
     "execution_count": 30,
     "metadata": {},
     "output_type": "execute_result"
    },
    {
     "data": {
      "image/png": "[encoded data removed]",
      "text/plain": [
       "<Figure size 432x288 with 1 Axes>"
      ]
     },
     "metadata": {
      "needs_background": "light"
     },
     "output_type": "display_data"
    }
   ],
   "source": [
    "plt.plot(method_dict['eps'])\n",
    "plt.plot([len(method_dict['eps'])], [eps_final], 'x')\n",
    "plt.title('eps')\n",
    "plt.xlabel('iteration')"
   ]
  },
  {
   "cell_type": "code",
   "execution_count": 31,
   "metadata": {
    "ExecuteTime": {
     "end_time": "2019-03-19T11:37:49.617349Z",
     "start_time": "2019-03-19T11:37:49.422020Z"
    }
   },
   "outputs": [
    {
     "data": {
      "text/plain": [
       "Text(0.5, 0, 'iteration')"
      ]
     },
     "execution_count": 31,
     "metadata": {},
     "output_type": "execute_result"
    },
    {
     "data": {
      "image/png": "[encoded data removed]",
      "text/plain": [
       "<Figure size 432x288 with 1 Axes>"
      ]
     },
     "metadata": {
      "needs_background": "light"
     },
     "output_type": "display_data"
    }
   ],
   "source": [
    "plt.plot(method_dict['sigma'])\n",
    "plt.plot([len(method_dict['sigma'])], [sigma_final], 'x')\n",
    "plt.title('sigma')\n",
    "plt.xlabel('iteration')"
   ]
  },
  {
   "cell_type": "code",
   "execution_count": 32,
   "metadata": {
    "ExecuteTime": {
     "end_time": "2019-03-19T11:37:50.039839Z",
     "start_time": "2019-03-19T11:37:49.621437Z"
    }
   },
   "outputs": [
    {
     "data": {
      "text/plain": [
       "Text(0.5, 0, 'iteration')"
      ]
     },
     "execution_count": 32,
     "metadata": {},
     "output_type": "execute_result"
    },
    {
     "data": {
      "image/png": "[encoded data removed]",
      "text/plain": [
       "<Figure size 432x288 with 1 Axes>"
      ]
     },
     "metadata": {
      "needs_background": "light"
     },
     "output_type": "display_data"
    }
   ],
   "source": [
    "plt.plot(method_dict['loss'])\n",
    "plt.title('loss')\n",
    "plt.yscale('log')\n",
    "plt.xlabel('iteration')"
   ]
  },
  {
   "cell_type": "markdown",
   "metadata": {},
   "source": [
    "### Validation "
   ]
  },
  {
   "cell_type": "code",
   "execution_count": 33,
   "metadata": {
    "ExecuteTime": {
     "end_time": "2019-03-19T11:37:50.070003Z",
     "start_time": "2019-03-19T11:37:50.042958Z"
    }
   },
   "outputs": [],
   "source": [
    "job_lj = pr_fit.create_job(job_name='lj_validation', job_type=pr_fit.job_type.Lammps)\n",
    "job_lj.server.run_mode.interactive = True\n",
    "job_lj.interactive_enforce_structure_reset = True"
   ]
  },
  {
   "cell_type": "code",
   "execution_count": 34,
   "metadata": {
    "ExecuteTime": {
     "end_time": "2019-03-19T11:37:50.076642Z",
     "start_time": "2019-03-19T11:37:50.072730Z"
    }
   },
   "outputs": [],
   "source": [
    "job_lj.potential = get_potential(eps=eps_final, sigma=sigma_final, cutoff=10.0)"
   ]
  },
  {
   "cell_type": "code",
   "execution_count": 35,
   "metadata": {
    "ExecuteTime": {
     "end_time": "2019-03-19T11:37:50.092691Z",
     "start_time": "2019-03-19T11:37:50.079866Z"
    }
   },
   "outputs": [],
   "source": [
    "job_lj.structure = structure_lst[len(structure_lst)//2]"
   ]
  },
  {
   "cell_type": "code",
   "execution_count": 36,
   "metadata": {
    "ExecuteTime": {
     "end_time": "2019-03-19T11:37:50.108435Z",
     "start_time": "2019-03-19T11:37:50.094252Z"
    }
   },
   "outputs": [],
   "source": [
    "murn = job_lj.create_job(job_type=pr_fit.job_type.Murnaghan, job_name='murn')"
   ]
  },
  {
   "cell_type": "code",
   "execution_count": 37,
   "metadata": {
    "ExecuteTime": {
     "end_time": "2019-03-19T11:37:53.933825Z",
     "start_time": "2019-03-19T11:37:50.111140Z"
    }
   },
   "outputs": [
    {
     "name": "stdout",
     "output_type": "stream",
     "text": [
      "The job murn was saved and received the ID: 15\n",
      "The job murn_lj_validation was saved and received the ID: 16\n"
     ]
    }
   ],
   "source": [
    "murn.run()"
   ]
  },
  {
   "cell_type": "code",
   "execution_count": 38,
   "metadata": {
    "ExecuteTime": {
     "end_time": "2019-03-19T11:37:54.233972Z",
     "start_time": "2019-03-19T11:37:53.936841Z"
    }
   },
   "outputs": [
    {
     "data": {
      "image/png": "[encoded data removed]",
      "text/plain": [
       "<Figure size 432x288 with 1 Axes>"
      ]
     },
     "metadata": {
      "needs_background": "light"
     },
     "output_type": "display_data"
    }
   ],
   "source": [
    "murn.plot()"
   ]
  },
  {
   "cell_type": "markdown",
   "metadata": {},
   "source": [
    "# Debugging "
   ]
  },
  {
   "cell_type": "code",
   "execution_count": 39,
   "metadata": {
    "ExecuteTime": {
     "end_time": "2019-03-19T11:37:54.282713Z",
     "start_time": "2019-03-19T11:37:54.237842Z"
    }
   },
   "outputs": [
    {
     "data": {
      "text/plain": [
       "array([-56.0023068 , -56.75126852, -57.47038345, -57.89661747,\n",
       "       -58.0779605 , -58.05484816, -57.86141154, -57.4249091 ,\n",
       "       -56.97675871, -56.43206305, -55.80840269])"
      ]
     },
     "execution_count": 39,
     "metadata": {},
     "output_type": "execute_result"
    }
   ],
   "source": [
    "murn['output/energy']"
   ]
  },
  {
   "cell_type": "code",
   "execution_count": 40,
   "metadata": {
    "ExecuteTime": {
     "end_time": "2019-03-19T11:37:54.303921Z",
     "start_time": "2019-03-19T11:37:54.286711Z"
    }
   },
   "outputs": [
    {
     "data": {
      "text/plain": [
       "array([-57.1309099 , -57.151827  , -57.16753246, -57.17835707,\n",
       "       -57.18514332, -57.18789576, -57.18719156, -57.18367186,\n",
       "       -57.17722623, -57.16832252, -57.15724997])"
      ]
     },
     "execution_count": 40,
     "metadata": {},
     "output_type": "execute_result"
    }
   ],
   "source": [
    "energy_tot"
   ]
  },
  {
   "cell_type": "code",
   "execution_count": 41,
   "metadata": {
    "ExecuteTime": {
     "end_time": "2019-03-19T11:37:54.353706Z",
     "start_time": "2019-03-19T11:37:54.316100Z"
    }
   },
   "outputs": [
    {
     "data": {
      "text/plain": [
       "array([ True,  True,  True,  True,  True,  True,  True,  True,  True,\n",
       "        True,  True])"
      ]
     },
     "execution_count": 41,
     "metadata": {},
     "output_type": "execute_result"
    }
   ],
   "source": [
    "np.isclose(np.array([s.get_volume() for s in structure_lst]), murn['output/volume'])"
   ]
  },
  {
   "cell_type": "code",
   "execution_count": null,
   "metadata": {},
   "outputs": [],
   "source": []
  }
 ],
 "metadata": {
  "kernelspec": {
   "display_name": "Python 3",
   "language": "python",
   "name": "python3"
  },
  "language_info": {
   "codemirror_mode": {
    "name": "ipython",
    "version": 3
   },
   "file_extension": ".py",
   "mimetype": "text/x-python",
   "name": "python",
   "nbconvert_exporter": "python",
   "pygments_lexer": "ipython3",
   "version": "3.7.8"
  },
  "toc": {
   "base_numbering": 1,
   "nav_menu": {},
   "number_sections": true,
   "sideBar": true,
   "skip_h1_title": false,
   "title_cell": "Table of Contents",
   "title_sidebar": "Contents",
   "toc_cell": false,
   "toc_position": {},
   "toc_section_display": true,
   "toc_window_display": true
  }
 },
 "nbformat": 4,
 "nbformat_minor": 2
}
