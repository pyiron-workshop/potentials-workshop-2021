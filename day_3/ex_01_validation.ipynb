{
 "cells": [
  {
   "cell_type": "markdown",
   "id": "labeled-subscription",
   "metadata": {},
   "source": [
    "# [**Workflows for atomistic simulations**](http://potentials.rub.de/) "
   ]
  },
  {
   "cell_type": "markdown",
   "id": "certified-usage",
   "metadata": {},
   "source": [
    "## **Day 3 - Validation of various potentials**\n",
    "\n",
    "\n",
    "### **Exercise 1: Validation of generated potentials using pyiron based workflows**\n",
    "\n",
    "Before the excercise, you should:\n",
    "\n",
    "* Have run the notebooks from day 1 and day2\n",
    "* Be familiar with working with pyiron and the basics of potential fitting\n",
    "\n",
    "The aim of this exercise is to make you familiar with:\n",
    "\n",
    "* Potential validation techniques"
   ]
  },
  {
   "cell_type": "code",
   "execution_count": 1,
   "id": "duplicate-morning",
   "metadata": {},
   "outputs": [],
   "source": [
    "import numpy as np\n",
    "%matplotlib inline\n",
    "import matplotlib.pylab as plt\n",
    "import pandas as pd"
   ]
  },
  {
   "cell_type": "code",
   "execution_count": 2,
   "id": "aggregate-green",
   "metadata": {},
   "outputs": [],
   "source": [
    "from pyiron import Project"
   ]
  },
  {
   "cell_type": "code",
   "execution_count": 3,
   "id": "rubber-friend",
   "metadata": {},
   "outputs": [],
   "source": [
    "pr = Project(\"validation\")"
   ]
  },
  {
   "cell_type": "code",
   "execution_count": 4,
   "id": "japanese-welding",
   "metadata": {},
   "outputs": [
    {
     "data": {
      "text/html": [
       "<div>\n",
       "<style scoped>\n",
       "    .dataframe tbody tr th:only-of-type {\n",
       "        vertical-align: middle;\n",
       "    }\n",
       "\n",
       "    .dataframe tbody tr th {\n",
       "        vertical-align: top;\n",
       "    }\n",
       "\n",
       "    .dataframe thead th {\n",
       "        text-align: right;\n",
       "    }\n",
       "</style>\n",
       "<table border=\"1\" class=\"dataframe\">\n",
       "  <thead>\n",
       "    <tr style=\"text-align: right;\">\n",
       "      <th></th>\n",
       "      <th>Config</th>\n",
       "      <th>Filename</th>\n",
       "      <th>Model</th>\n",
       "      <th>Name</th>\n",
       "      <th>Species</th>\n",
       "      <th>Citations</th>\n",
       "    </tr>\n",
       "  </thead>\n",
       "  <tbody>\n",
       "    <tr>\n",
       "      <th>0</th>\n",
       "      <td>[pair_style pace\\n, pair_coeff * * df3_cut75_l...</td>\n",
       "      <td>[ace/df3_cut75_large_body_order.ace]</td>\n",
       "      <td>ACE</td>\n",
       "      <td>Cu-ace</td>\n",
       "      <td>[Cu]</td>\n",
       "      <td>{}</td>\n",
       "    </tr>\n",
       "    <tr>\n",
       "      <th>0</th>\n",
       "      <td>[pair_style nnp dir \".\" showew no showewsum 0 ...</td>\n",
       "      <td>[runner/input.nn, runner/weights.029.data, run...</td>\n",
       "      <td>RuNNer</td>\n",
       "      <td>Cu-runner</td>\n",
       "      <td>[Cu]</td>\n",
       "      <td>{}</td>\n",
       "    </tr>\n",
       "  </tbody>\n",
       "</table>\n",
       "</div>"
      ],
      "text/plain": [
       "                                              Config  \\\n",
       "0  [pair_style pace\\n, pair_coeff * * df3_cut75_l...   \n",
       "0  [pair_style nnp dir \".\" showew no showewsum 0 ...   \n",
       "\n",
       "                                            Filename   Model       Name  \\\n",
       "0               [ace/df3_cut75_large_body_order.ace]     ACE     Cu-ace   \n",
       "0  [runner/input.nn, runner/weights.029.data, run...  RuNNer  Cu-runner   \n",
       "\n",
       "  Species Citations  \n",
       "0    [Cu]        {}  \n",
       "0    [Cu]        {}  "
      ]
     },
     "execution_count": 4,
     "metadata": {},
     "output_type": "execute_result"
    }
   ],
   "source": [
    "pot_finder = pr.inspect_emperical_potentials()\n",
    "pot_list = pot_finder.find(\"Cu\")\n",
    "pot_list"
   ]
  },
  {
   "cell_type": "code",
   "execution_count": 5,
   "id": "collected-giving",
   "metadata": {},
   "outputs": [],
   "source": [
    "# The list of potentials to iterate over\n",
    "\n",
    "# The good potentials\n",
    "potential_list = ['Cu-ace', 'Cu-runner']"
   ]
  },
  {
   "cell_type": "code",
   "execution_count": 6,
   "id": "afraid-vatican",
   "metadata": {},
   "outputs": [],
   "source": [
    "# Do Murnaghan, ElasticMatrix job, vac formation energy, binding energy, surface energies, comparison with dataset forces, energies"
   ]
  },
  {
   "cell_type": "code",
   "execution_count": 7,
   "id": "operational-distribution",
   "metadata": {},
   "outputs": [],
   "source": [
    "def clean_project_name(name):\n",
    "    return name.replace(\"-\", \"_\")"
   ]
  },
  {
   "cell_type": "code",
   "execution_count": 8,
   "id": "funky-pharmacology",
   "metadata": {},
   "outputs": [
    {
     "name": "stderr",
     "output_type": "stream",
     "text": [
      "2021-03-08 09:55:42,874 - pyiron_log - WARNING - The job murn_job is being loaded instead of running. To re-run use the argument 'delete_existing_job=True in create_job'\n"
     ]
    },
    {
     "data": {
      "image/png": "[encoded data removed]",
      "text/plain": [
       "<Figure size 432x288 with 1 Axes>"
      ]
     },
     "metadata": {
      "needs_background": "light"
     },
     "output_type": "display_data"
    },
    {
     "name": "stderr",
     "output_type": "stream",
     "text": [
      "2021-03-08 09:55:45,597 - pyiron_log - WARNING - The job murn_job is being loaded instead of running. To re-run use the argument 'delete_existing_job=True in create_job'\n"
     ]
    },
    {
     "data": {
      "image/png": "[encoded data removed]",
      "text/plain": [
       "<Figure size 432x288 with 1 Axes>"
      ]
     },
     "metadata": {
      "needs_background": "light"
     },
     "output_type": "display_data"
    },
    {
     "name": "stdout",
     "output_type": "stream",
     "text": [
      "CPU times: user 4.19 s, sys: 1.69 s, total: 5.88 s\n",
      "Wall time: 5.25 s\n"
     ]
    }
   ],
   "source": [
    "%%time\n",
    "for pot in potential_list:\n",
    "    group_name = clean_project_name(pot)\n",
    "    pr_pot = pr.create_group(pot)\n",
    "    job_ref = pr_pot.create_job(pr_pot.job_type.Lammps, \"ref_job\")\n",
    "    job_ref.structure = pr_pot.create_ase_bulk(\"Cu\")\n",
    "    job_ref.potential = pot\n",
    "    job_ref.calc_minimize()\n",
    "    murn_job = job_ref.create_job(pr_pot.job_type.Murnaghan, \"murn_job\")\n",
    "    murn_job.run()\n",
    "    murn_job.plot()"
   ]
  },
  {
   "cell_type": "code",
   "execution_count": 9,
   "id": "divine-formula",
   "metadata": {},
   "outputs": [
    {
     "data": {
      "text/plain": [
       "-3.6930468810926627"
      ]
     },
     "execution_count": 9,
     "metadata": {},
     "output_type": "execute_result"
    }
   ],
   "source": [
    "murn_job[\"output/equilibrium_energy\"]"
   ]
  },
  {
   "cell_type": "code",
   "execution_count": 10,
   "id": "happy-lucas",
   "metadata": {},
   "outputs": [],
   "source": [
    "def get_only_murn(job_table):\n",
    "    return job_table.hamilton == \"Murnaghan\"\n",
    "\n",
    "def get_eq_vol(job_path):\n",
    "    return job_path[\"output/equilibrium_volume\"]\n",
    "\n",
    "def get_eq_lp(job_path):\n",
    "    return np.linalg.norm(job_path[\"output/structure/cell/cell\"][0]) * np.sqrt(2)\n",
    "\n",
    "def get_eq_bm(job_path):\n",
    "    return job_path[\"output/equilibrium_bulk_modulus\"]\n",
    "\n",
    "def get_potential(job_path):\n",
    "    return job_path[\"ref_job/input/potential/Name\"]\n",
    "\n",
    "def get_eq_energy(job_path):\n",
    "    return job_path[\"output/equilibrium_energy\"]\n",
    "\n",
    "def get_n_atoms(job_path):\n",
    "    return len(job_path[\"output/structure/positions\"])"
   ]
  },
  {
   "cell_type": "code",
   "execution_count": 11,
   "id": "prescribed-chapel",
   "metadata": {},
   "outputs": [
    {
     "name": "stderr",
     "output_type": "stream",
     "text": [
      "100%|██████████| 2/2 [00:00<00:00, 372.23it/s]\n",
      "100%|██████████| 2/2 [00:00<00:00, 16.70it/s]"
     ]
    },
    {
     "name": "stdout",
     "output_type": "stream",
     "text": [
      "The job table_murn was saved and received the ID: 25\n"
     ]
    },
    {
     "name": "stderr",
     "output_type": "stream",
     "text": [
      "\n"
     ]
    },
    {
     "name": "stdout",
     "output_type": "stream",
     "text": [
      "CPU times: user 297 ms, sys: 125 ms, total: 422 ms\n",
      "Wall time: 432 ms\n"
     ]
    },
    {
     "data": {
      "text/html": [
       "<div>\n",
       "<style scoped>\n",
       "    .dataframe tbody tr th:only-of-type {\n",
       "        vertical-align: middle;\n",
       "    }\n",
       "\n",
       "    .dataframe tbody tr th {\n",
       "        vertical-align: top;\n",
       "    }\n",
       "\n",
       "    .dataframe thead th {\n",
       "        text-align: right;\n",
       "    }\n",
       "</style>\n",
       "<table border=\"1\" class=\"dataframe\">\n",
       "  <thead>\n",
       "    <tr style=\"text-align: right;\">\n",
       "      <th></th>\n",
       "      <th>job_id</th>\n",
       "      <th>potential</th>\n",
       "      <th>a</th>\n",
       "      <th>eq_vol</th>\n",
       "      <th>eq_bm</th>\n",
       "      <th>eq_energy</th>\n",
       "      <th>n_atoms</th>\n",
       "    </tr>\n",
       "  </thead>\n",
       "  <tbody>\n",
       "    <tr>\n",
       "      <th>0</th>\n",
       "      <td>1</td>\n",
       "      <td>Cu-ace</td>\n",
       "      <td>3.629863</td>\n",
       "      <td>11.956678</td>\n",
       "      <td>146.220099</td>\n",
       "      <td>-3.698781</td>\n",
       "      <td>1</td>\n",
       "    </tr>\n",
       "    <tr>\n",
       "      <th>1</th>\n",
       "      <td>13</td>\n",
       "      <td>Cu-runner</td>\n",
       "      <td>3.609436</td>\n",
       "      <td>11.755954</td>\n",
       "      <td>181.669418</td>\n",
       "      <td>-3.693047</td>\n",
       "      <td>1</td>\n",
       "    </tr>\n",
       "  </tbody>\n",
       "</table>\n",
       "</div>"
      ],
      "text/plain": [
       "   job_id  potential         a     eq_vol       eq_bm  eq_energy  n_atoms\n",
       "0       1     Cu-ace  3.629863  11.956678  146.220099  -3.698781        1\n",
       "1      13  Cu-runner  3.609436  11.755954  181.669418  -3.693047        1"
      ]
     },
     "execution_count": 11,
     "metadata": {},
     "output_type": "execute_result"
    }
   ],
   "source": [
    "%%time\n",
    "table = pr.create_table(\"table_murn\", delete_existing_job=True)\n",
    "table.db_filter_function = get_only_murn\n",
    "table.add[\"potential\"] = get_potential\n",
    "table.add[\"a\"] = get_eq_lp\n",
    "table.add[\"eq_vol\"] = get_eq_vol\n",
    "table.add[\"eq_bm\"] = get_eq_bm\n",
    "table.add[\"eq_energy\"] = get_eq_energy\n",
    "table.add[\"n_atoms\"] = get_n_atoms\n",
    "table.run()\n",
    "data_murn = table.get_dataframe()\n",
    "data_murn"
   ]
  },
  {
   "cell_type": "code",
   "execution_count": 12,
   "id": "painful-conversation",
   "metadata": {},
   "outputs": [],
   "source": [
    "import pyiron_gpl"
   ]
  },
  {
   "cell_type": "code",
   "execution_count": 20,
   "id": "corrected-advance",
   "metadata": {},
   "outputs": [
    {
     "name": "stdout",
     "output_type": "stream",
     "text": [
      "The job elastic_job was saved and received the ID: 55\n",
      "The job s_e_0 was saved and received the ID: 56\n",
      "The job s_01_e_m0_05000 was saved and received the ID: 57\n",
      "The job s_01_e_m0_02500 was saved and received the ID: 58\n",
      "The job s_01_e_0_02500 was saved and received the ID: 59\n",
      "The job s_01_e_0_05000 was saved and received the ID: 60\n",
      "The job s_08_e_m0_05000 was saved and received the ID: 61\n",
      "The job s_08_e_m0_02500 was saved and received the ID: 62\n",
      "The job s_08_e_0_02500 was saved and received the ID: 63\n",
      "The job s_08_e_0_05000 was saved and received the ID: 64\n",
      "The job s_23_e_m0_05000 was saved and received the ID: 65\n",
      "The job s_23_e_m0_02500 was saved and received the ID: 66\n",
      "The job s_23_e_0_02500 was saved and received the ID: 67\n",
      "The job s_23_e_0_05000 was saved and received the ID: 68\n",
      "The job elastic_job was saved and received the ID: 69\n",
      "The job s_e_0 was saved and received the ID: 70\n",
      "The job s_01_e_m0_05000 was saved and received the ID: 71\n",
      "The job s_01_e_m0_02500 was saved and received the ID: 72\n",
      "The job s_01_e_0_02500 was saved and received the ID: 73\n",
      "The job s_01_e_0_05000 was saved and received the ID: 74\n",
      "The job s_08_e_m0_05000 was saved and received the ID: 75\n",
      "The job s_08_e_m0_02500 was saved and received the ID: 76\n",
      "The job s_08_e_0_02500 was saved and received the ID: 77\n",
      "The job s_08_e_0_05000 was saved and received the ID: 78\n",
      "The job s_23_e_m0_05000 was saved and received the ID: 79\n",
      "The job s_23_e_m0_02500 was saved and received the ID: 80\n",
      "The job s_23_e_0_02500 was saved and received the ID: 81\n",
      "The job s_23_e_0_05000 was saved and received the ID: 82\n",
      "CPU times: user 49.3 s, sys: 36.1 s, total: 1min 25s\n",
      "Wall time: 1min 21s\n"
     ]
    }
   ],
   "source": [
    "%%time\n",
    "for pot in data_murn.potential.to_list():\n",
    "    group_name = clean_project_name(pot)\n",
    "    pr_pot = pr.create_group(pot)\n",
    "    job_id = int(data_murn[data_murn.potential==pot].job_id)\n",
    "    job_ref = pr_pot.create_job(pr_pot.job_type.Lammps, \"ref_job\")\n",
    "    job_ref.structure = pr_pot.inspect(job_id)[\"output/structure\"].to_object()\n",
    "    job_ref.potential = pot\n",
    "    job_ref.calc_minimize()\n",
    "    elastic_job = job_ref.create_job(pr_pot.job_type.ElasticMatrixJob, \"elastic_job\")\n",
    "    elastic_job.input[\"eps_range\"] = 0.05\n",
    "    elastic_job.run()"
   ]
  },
  {
   "cell_type": "code",
   "execution_count": 21,
   "id": "organic-citizen",
   "metadata": {},
   "outputs": [
    {
     "data": {
      "image/png": "[encoded data removed]",
      "text/plain": [
       "<Figure size 288x288 with 1 Axes>"
      ]
     },
     "metadata": {
      "needs_background": "light"
     },
     "output_type": "display_data"
    }
   ],
   "source": [
    "plt.matshow(elastic_job[\"output/elasticmatrix\"][\"C\"]);"
   ]
  },
  {
   "cell_type": "code",
   "execution_count": 15,
   "id": "distant-sailing",
   "metadata": {},
   "outputs": [
    {
     "data": {
      "text/plain": [
       "array([-33.986037  , -23.19032409, -23.19032409,   0.        ,\n",
       "         0.        ,   0.        , -23.19032409, -33.986037  ,\n",
       "       -23.19032409,   0.        ,   0.        ,   0.        ,\n",
       "       -23.19032409, -23.19032409, -33.986037  ,   0.        ,\n",
       "         0.        ,   0.        ,   0.        ,   0.        ,\n",
       "         0.        ,  82.38732055,   0.        ,   0.        ,\n",
       "         0.        ,   0.        ,   0.        ,   0.        ,\n",
       "        82.38732055,   0.        ,   0.        ,   0.        ,\n",
       "         0.        ,   0.        ,   0.        ,  82.38732055])"
      ]
     },
     "execution_count": 15,
     "metadata": {},
     "output_type": "execute_result"
    }
   ],
   "source": [
    "elastic_job[\"output/elasticmatrix\"][\"C\"].flatten()"
   ]
  },
  {
   "cell_type": "code",
   "execution_count": 24,
   "id": "ultimate-brand",
   "metadata": {},
   "outputs": [],
   "source": [
    "def filter_elastic(job_table):\n",
    "    return (job_table.hamilton == \"ElasticMatrixJob\") & (job_table.status == \"finished\")\n",
    "\n",
    "def get_c11(job_path):\n",
    "    return elastic_job[\"output/elasticmatrix\"][\"C\"][0, 0]\n",
    "\n",
    "def get_c12(job_path):\n",
    "    return elastic_job[\"output/elasticmatrix\"][\"C\"][0, 1]\n",
    "\n",
    "def get_c44(job_path):\n",
    "    return elastic_job[\"output/elasticmatrix\"][\"C\"][3, 3]"
   ]
  },
  {
   "cell_type": "code",
   "execution_count": 26,
   "id": "sized-mortality",
   "metadata": {},
   "outputs": [
    {
     "name": "stderr",
     "output_type": "stream",
     "text": [
      "100%|██████████| 2/2 [00:00<00:00, 560.81it/s]\n",
      "  0%|          | 0/2 [00:00<?, ?it/s]"
     ]
    },
    {
     "name": "stdout",
     "output_type": "stream",
     "text": [
      "The job table_elastic was saved and received the ID: 83\n"
     ]
    },
    {
     "name": "stderr",
     "output_type": "stream",
     "text": [
      "100%|██████████| 2/2 [00:00<00:00,  3.08it/s]"
     ]
    },
    {
     "name": "stdout",
     "output_type": "stream",
     "text": [
      "CPU times: user 781 ms, sys: 62.5 ms, total: 844 ms\n",
      "Wall time: 887 ms\n"
     ]
    },
    {
     "name": "stderr",
     "output_type": "stream",
     "text": [
      "\n"
     ]
    },
    {
     "data": {
      "text/html": [
       "<div>\n",
       "<style scoped>\n",
       "    .dataframe tbody tr th:only-of-type {\n",
       "        vertical-align: middle;\n",
       "    }\n",
       "\n",
       "    .dataframe tbody tr th {\n",
       "        vertical-align: top;\n",
       "    }\n",
       "\n",
       "    .dataframe thead th {\n",
       "        text-align: right;\n",
       "    }\n",
       "</style>\n",
       "<table border=\"1\" class=\"dataframe\">\n",
       "  <thead>\n",
       "    <tr style=\"text-align: right;\">\n",
       "      <th></th>\n",
       "      <th>job_id</th>\n",
       "      <th>potential</th>\n",
       "      <th>C11</th>\n",
       "      <th>C12</th>\n",
       "      <th>C44</th>\n",
       "    </tr>\n",
       "  </thead>\n",
       "  <tbody>\n",
       "    <tr>\n",
       "      <th>0</th>\n",
       "      <td>55</td>\n",
       "      <td>Cu-ace</td>\n",
       "      <td>285.914754</td>\n",
       "      <td>100.579961</td>\n",
       "      <td>94.75674</td>\n",
       "    </tr>\n",
       "    <tr>\n",
       "      <th>1</th>\n",
       "      <td>69</td>\n",
       "      <td>Cu-runner</td>\n",
       "      <td>285.914754</td>\n",
       "      <td>100.579961</td>\n",
       "      <td>94.75674</td>\n",
       "    </tr>\n",
       "  </tbody>\n",
       "</table>\n",
       "</div>"
      ],
      "text/plain": [
       "   job_id  potential         C11         C12       C44\n",
       "0      55     Cu-ace  285.914754  100.579961  94.75674\n",
       "1      69  Cu-runner  285.914754  100.579961  94.75674"
      ]
     },
     "execution_count": 26,
     "metadata": {},
     "output_type": "execute_result"
    }
   ],
   "source": [
    "%%time\n",
    "table = pr.create_table(\"table_elastic\", delete_existing_job=True)\n",
    "table.db_filter_function = filter_elastic\n",
    "table.add[\"potential\"] = get_potential\n",
    "table.add[\"C11\"] = get_c11\n",
    "table.add[\"C12\"] = get_c12\n",
    "table.add[\"C44\"] = get_c44\n",
    "\n",
    "table.run()\n",
    "data_elastic = table.get_dataframe()\n",
    "data_elastic"
   ]
  },
  {
   "cell_type": "code",
   "execution_count": 27,
   "id": "norwegian-scotland",
   "metadata": {},
   "outputs": [
    {
     "name": "stdout",
     "output_type": "stream",
     "text": [
      "The job surf_fcc111 was saved and received the ID: 84\n",
      "The job surf_fcc110 was saved and received the ID: 85\n",
      "The job surf_fcc100 was saved and received the ID: 86\n",
      "The job surf_fcc111 was saved and received the ID: 87\n"
     ]
    },
    {
     "name": "stderr",
     "output_type": "stream",
     "text": [
      "2021-03-08 10:06:22,758 - pyiron_log - WARNING - Job aborted\n",
      "2021-03-08 10:06:22,762 - pyiron_log - WARNING - LAMMPS (10 Feb 2021)\n",
      "Reading data file ...\n",
      "  orthogonal box = (0.0000000 0.0000000 0.0000000) to (20.418051 17.682551 26.587360)\n",
      "  1 by 1 by 1 MPI processor grid\n",
      "  reading atoms ...\n",
      "  512 atoms\n",
      "  read_data CPU = 0.004 seconds\n",
      "WARNING: Using 'neigh_modify every 1 delay 0 check yes' setting during minimization (src/min.cpp:188)\n",
      "\n",
      "*******************************************************************************\n",
      "\n",
      "WELCOME TO n²p², A SOFTWARE PACKAGE FOR NEURAL NETWORK POTENTIALS!\n",
      "------------------------------------------------------------------\n",
      "\n",
      "n²p² version      : 553e609\n",
      "------------------------------------------------------------\n",
      "Git branch        : HEAD\n",
      "Git revision      : 553e6097553afe442843cc45bce5c974b1ec2f92\n",
      "Compile date/time : Feb 15 2021 12:43:18\n",
      "------------------------------------------------------------\n",
      "\n",
      "Please cite the following papers when publishing results obtained with n²p²:\n",
      "-------------------------------------------------------------------------------\n",
      " * General citation for n²p² and the LAMMPS interface:\n",
      "\n",
      " Singraber, A.; Behler, J.; Dellago, C.\n",
      " Library-Based LAMMPS Implementation of High-Dimensional\n",
      " Neural Network Potentials.\n",
      " J. Chem. Theory Comput. 2019 15 (3), 1827–1840.\n",
      " https://doi.org/10.1021/acs.jctc.8b00770\n",
      "-------------------------------------------------------------------------------\n",
      " * Additionally, if you use the NNP training features of n²p²:\n",
      "\n",
      " Singraber, A.; Morawietz, T.; Behler, J.; Dellago, C.\n",
      " Parallel Multistream Training of High-Dimensional Neural\n",
      " Network Potentials.\n",
      " J. Chem. Theory Comput. 2019, 15 (5), 3075–3092.\n",
      " https://doi.org/10.1021/acs.jctc.8b01092\n",
      "-------------------------------------------------------------------------------\n",
      " * Additionally, if polynomial symmetry functions are used:\n",
      "\n",
      " Bircher, M. P.; Singraber, A.; Dellago, C.\n",
      " Improved Description of Atomic Environments Using Low-Cost\n",
      " Polynomial Functions with Compact Support.\n",
      " arXiv:2010.14414 [cond-mat, physics:physics] 2020.\n",
      " https://arxiv.org/abs/2010.14414\n",
      "*******************************************************************************\n",
      "\n",
      "*** SETUP: SETTINGS FILE ******************************************************\n",
      "\n",
      "Settings file name: ./input.nn\n",
      "Read 95 lines.\n",
      "WARNING: Unknown keyword \"calculate_forces\" at line 94.\n",
      "WARNING: Unknown keyword \"calculate_stress\" at line 95.\n",
      "WARNING: Unknown keyword \"fitting_unit\" at line 67.\n",
      "WARNING: Unknown keyword \"force_update_scaling\" at line 83.\n",
      "WARNING: Unknown keyword \"mix_all_points\" at line 79.\n",
      "WARNING: Unknown keyword \"nn_type_short\" at line 24.\n",
      "WARNING: Unknown keyword \"random_number_type\" at line 29.\n",
      "WARNING: Unknown keyword \"runner_mode\" at line 25.\n",
      "WARNING: Unknown keyword \"use_short_nn\" at line 34.\n",
      "WARNING: 9 problems detected (0 critical).\n",
      "Found 43 lines with keywords.\n",
      "This settings file defines a short-range only NNP.\n",
      "*******************************************************************************\n",
      "\n",
      "*** SETUP: NORMALIZATION ******************************************************\n",
      "\n",
      "Data set normalization is not used.\n",
      "*******************************************************************************\n",
      "\n",
      "*** SETUP: ELEMENT MAP ********************************************************\n",
      "\n",
      "Number of element strings found: 1\n",
      "Element  0: Cu ( 29)\n",
      "*******************************************************************************\n",
      "\n",
      "*** SETUP: ELEMENTS ***********************************************************\n",
      "\n",
      "Number of elements is consistent: 1\n",
      "Atomic energy offsets per element:\n",
      "Element  0:   0.00000000E+00\n",
      "Energy offsets are automatically subtracted from reference energies.\n",
      "*******************************************************************************\n",
      "\n",
      "*** SETUP: CUTOFF FUNCTIONS ***************************************************\n",
      "\n",
      "Parameter alpha for inner cutoff: 0.000000\n",
      "Inner cutoff = Symmetry function cutoff * alpha\n",
      "Equal cutoff function type for all symmetry functions:\n",
      "CutoffFunction::CT_COS (1)\n",
      "x := (r - rc * alpha) / (rc - rc * alpha)\n",
      "f(x) = 1/2 * (cos(pi*x) + 1)\n",
      "*******************************************************************************\n",
      "\n",
      "*** SETUP: SYMMETRY FUNCTIONS *************************************************\n",
      "\n",
      "Abbreviations:\n",
      "--------------\n",
      "ind .... Symmetry function index.\n",
      "ec ..... Central atom element.\n",
      "tp ..... Symmetry function type.\n",
      "sbtp ... Symmetry function subtype (e.g. cutoff type).\n",
      "e1 ..... Neighbor 1 element.\n",
      "e2 ..... Neighbor 2 element.\n",
      "eta .... Gaussian width eta.\n",
      "rs/rl... Shift distance of Gaussian or left cutoff radius for polynomial.\n",
      "angl.... Left cutoff angle for polynomial.\n",
      "angr.... Right cutoff angle for polynomial.\n",
      "la ..... Angle prefactor lambda.\n",
      "zeta ... Angle term exponent zeta.\n",
      "rc ..... Cutoff radius / right cutoff radius for polynomial.\n",
      "a ...... Free parameter alpha (e.g. cutoff alpha).\n",
      "ln ..... Line number in settings file.\n",
      "\n",
      "Short range atomic symmetry functions element Cu :\n",
      "-------------------------------------------------------------------------------------------------\n",
      " ind ec tp sbtp e1 e2       eta      rs/rl         rc   angl   angr la zeta    a    ln\n",
      "-------------------------------------------------------------------------------------------------\n",
      "   1 Cu  2  ct1 Cu    0.000E+00  0.000E+00  1.200E+01                       0.00    48\n",
      "   2 Cu  2  ct1 Cu    6.000E-03  0.000E+00  1.200E+01                       0.00    49\n",
      "   3 Cu  2  ct1 Cu    1.600E-02  0.000E+00  1.200E+01                       0.00    50\n",
      "   4 Cu  2  ct1 Cu    4.000E-02  0.000E+00  1.200E+01                       0.00    51\n",
      "   5 Cu  2  ct1 Cu    1.090E-01  0.000E+00  1.200E+01                       0.00    52\n",
      "   6 Cu  3  ct1 Cu Cu 0.000E+00  0.000E+00  1.200E+01               -1  1.0 0.00    58\n",
      "   7 Cu  3  ct1 Cu Cu 0.000E+00  0.000E+00  1.200E+01                1  1.0 0.00    54\n",
      "   8 Cu  3  ct1 Cu Cu 0.000E+00  0.000E+00  1.200E+01               -1  2.0 0.00    59\n",
      "   9 Cu  3  ct1 Cu Cu 0.000E+00  0.000E+00  1.200E+01                1  2.0 0.00    55\n",
      "  10 Cu  3  ct1 Cu Cu 0.000E+00  0.000E+00  1.200E+01               -1  4.0 0.00    60\n",
      "  11 Cu  3  ct1 Cu Cu 0.000E+00  0.000E+00  1.200E+01                1  4.0 0.00    56\n",
      "  12 Cu  3  ct1 Cu Cu 0.000E+00  0.000E+00  1.200E+01               -1 16.0 0.00    61\n",
      "  13 Cu  3  ct1 Cu Cu 0.000E+00  0.000E+00  1.200E+01                1 16.0 0.00    57\n",
      "-------------------------------------------------------------------------------------------------\n",
      "Minimum cutoff radius for element Cu: 12.000000\n",
      "Maximum cutoff radius (global)      : 12.000000\n",
      "*******************************************************************************\n",
      "\n",
      "*** SETUP: SYMMETRY FUNCTION MEMORY *******************************************\n",
      "\n",
      "Symmetry function derivatives memory table for element Cu :\n",
      "-------------------------------------------------------------------------------\n",
      "Relevant symmetry functions for neighbors with element:\n",
      "- Cu:   13 of   13 (100.0 %)\n",
      "-------------------------------------------------------------------------------\n",
      "*******************************************************************************\n",
      "\n",
      "*** SETUP: SYMMETRY FUNCTION CACHE ********************************************\n",
      "\n",
      "Element Cu: in total 2 caches, used 13.00 times on average.\n",
      "*******************************************************************************\n",
      "\n",
      "*** SETUP: SYMMETRY FUNCTION GROUPS *******************************************\n",
      "\n",
      "Abbreviations:\n",
      "--------------\n",
      "ind .... Symmetry function index.\n",
      "ec ..... Central atom element.\n",
      "tp ..... Symmetry function type.\n",
      "sbtp ... Symmetry function subtype (e.g. cutoff type).\n",
      "e1 ..... Neighbor 1 element.\n",
      "e2 ..... Neighbor 2 element.\n",
      "eta .... Gaussian width eta.\n",
      "rs/rl... Shift distance of Gaussian or left cutoff radius for polynomial.\n",
      "angl.... Left cutoff angle for polynomial.\n",
      "angr.... Right cutoff angle for polynomial.\n",
      "la ..... Angle prefactor lambda.\n",
      "zeta ... Angle term exponent zeta.\n",
      "rc ..... Cutoff radius / right cutoff radius for polynomial.\n",
      "a ...... Free parameter alpha (e.g. cutoff alpha).\n",
      "ln ..... Line number in settings file.\n",
      "mi ..... Member index.\n",
      "sfi .... Symmetry function index.\n",
      "e ...... Recalculate exponential term.\n",
      "\n",
      "Short range atomic symmetry function groups element Cu :\n",
      "----------------------------------------------------------------------------------------------------------\n",
      " ind ec tp sbtp e1 e2       eta      rs/rl         rc   angl   angr la zeta    a    ln   mi  sfi e\n",
      "----------------------------------------------------------------------------------------------------------\n",
      "   1 Cu  2  ct1 Cu            *          *  1.200E+01                       0.00     *    *    *  \n",
      "   -  -  -    -  -    0.000E+00  0.000E+00          -                          -    48    1    1  \n",
      "   -  -  -    -  -    6.000E-03  0.000E+00          -                          -    49    2    2  \n",
      "   -  -  -    -  -    1.600E-02  0.000E+00          -                          -    50    3    3  \n",
      "   -  -  -    -  -    4.000E-02  0.000E+00          -                          -    51    4    4  \n",
      "   -  -  -    -  -    1.090E-01  0.000E+00          -                          -    52    5    5  \n",
      "   2 Cu  3  ct1 Cu Cu         *          *  1.200E+01                *    * 0.00     *    *    * *\n",
      "   -  -  -    -  -  - 0.000E+00  0.000E+00          -               -1  1.0    -    58    1    6 1\n",
      "   -  -  -    -  -  - 0.000E+00  0.000E+00          -                1  1.0    -    54    2    7 0\n",
      "   -  -  -    -  -  - 0.000E+00  0.000E+00          -               -1  2.0    -    59    3    8 0\n",
      "   -  -  -    -  -  - 0.000E+00  0.000E+00          -                1  2.0    -    55    4    9 0\n",
      "   -  -  -    -  -  - 0.000E+00  0.000E+00          -               -1  4.0    -    60    5   10 0\n",
      "   -  -  -    -  -  - 0.000E+00  0.000E+00          -                1  4.0    -    56    6   11 0\n",
      "   -  -  -    -  -  - 0.000E+00  0.000E+00          -               -1 16.0    -    61    7   12 0\n",
      "   -  -  -    -  -  - 0.000E+00  0.000E+00          -                1 16.0    -    57    8   13 0\n",
      "----------------------------------------------------------------------------------------------------------\n",
      "*******************************************************************************\n",
      "\n",
      "*** SETUP: NEURAL NETWORKS ****************************************************\n",
      "\n",
      "Normalize neurons (all elements): 0\n",
      "-------------------------------------------------------------------------------\n",
      "Atomic short range NN for element Cu :\n",
      "Number of weights    :    435\n",
      "Number of biases     :     31\n",
      "Number of connections:    466\n",
      "Architecture       13   15   15    1\n",
      "-------------------------------------------------------------------------------\n",
      "   1   G   t   t   l\n",
      "   2   G   t   t    \n",
      "   3   G   t   t    \n",
      "   4   G   t   t    \n",
      "   5   G   t   t    \n",
      "   6   G   t   t    \n",
      "   7   G   t   t    \n",
      "   8   G   t   t    \n",
      "   9   G   t   t    \n",
      "  10   G   t   t    \n",
      "  11   G   t   t    \n",
      "  12   G   t   t    \n",
      "  13   G   t   t    \n",
      "  14       t   t    \n",
      "  15       t   t    \n",
      "-------------------------------------------------------------------------------\n",
      "*******************************************************************************\n",
      "\n",
      "*** SETUP: SYMMETRY FUNCTION SCALING ******************************************\n",
      "\n",
      "Equal scaling type for all symmetry functions:\n",
      "Scaling type::ST_SCALECENTER (3)\n",
      "Gs = Smin + (Smax - Smin) * (G - Gmean) / (Gmax - Gmin)\n",
      "WARNING: Keyword \"scale_min_short\" not found.\n",
      "         Default value for Smin = 0.0.\n",
      "WARNING: Keyword \"scale_max_short\" not found.\n",
      "         Default value for Smax = 1.0.\n",
      "Smin = 0.000000\n",
      "Smax = 1.000000\n",
      "Symmetry function scaling statistics from file: ./scaling.data\n",
      "-------------------------------------------------------------------------------\n",
      "\n",
      "Abbreviations:\n",
      "--------------\n",
      "ind ..... Symmetry function index.\n",
      "min ..... Minimum symmetry function value.\n",
      "max ..... Maximum symmetry function value.\n",
      "mean .... Mean symmetry function value.\n",
      "sigma ... Standard deviation of symmetry function values.\n",
      "sf ...... Scaling factor for derivatives.\n",
      "Smin .... Desired minimum scaled symmetry function value.\n",
      "Smax .... Desired maximum scaled symmetry function value.\n",
      "t ....... Scaling type.\n",
      "\n",
      "Scaling data for symmetry functions element Cu :\n",
      "-------------------------------------------------------------------------------\n",
      " ind       min       max      mean     sigma        sf  Smin  Smax t\n",
      "-------------------------------------------------------------------------------\n",
      "   1  1.43E+01  1.96E+01  1.66E+01  0.00E+00  1.87E-01  0.00  1.00 3\n",
      "   2  1.08E+01  1.49E+01  1.26E+01  0.00E+00  2.41E-01  0.00  1.00 3\n",
      "   3  7.07E+00  9.94E+00  8.33E+00  0.00E+00  3.48E-01  0.00  1.00 3\n",
      "   4  3.06E+00  4.51E+00  3.70E+00  0.00E+00  6.89E-01  0.00  1.00 3\n",
      "   5  4.43E-01  8.41E-01  6.11E-01  0.00E+00  2.52E+00  0.00  1.00 3\n",
      "   6  1.14E+01  2.33E+01  1.61E+01  0.00E+00  8.36E-02  0.00  1.00 3\n",
      "   7  3.09E+01  6.26E+01  4.35E+01  0.00E+00  3.15E-02  0.00  1.00 3\n",
      "   8  4.75E+00  1.02E+01  6.89E+00  0.00E+00  1.83E-01  0.00  1.00 3\n",
      "   9  2.43E+01  4.95E+01  3.43E+01  0.00E+00  3.97E-02  0.00  1.00 3\n",
      "  10  1.69E+00  3.91E+00  2.56E+00  0.00E+00  4.50E-01  0.00  1.00 3\n",
      "  11  1.65E+01  3.43E+01  2.36E+01  0.00E+00  5.63E-02  0.00  1.00 3\n",
      "  12  2.53E-01  8.21E-01  4.60E-01  0.00E+00  1.76E+00  0.00  1.00 3\n",
      "  13  4.07E+00  9.69E+00  6.25E+00  0.00E+00  1.78E-01  0.00  1.00 3\n",
      "-------------------------------------------------------------------------------\n",
      "*******************************************************************************\n",
      "\n",
      "*** SETUP: SYMMETRY FUNCTION STATISTICS ***************************************\n",
      "\n",
      "Equal symmetry function statistics for all elements.\n",
      "Collect min/max/mean/sigma                        : 0\n",
      "Collect extrapolation warnings                    : 1\n",
      "Write extrapolation warnings immediately to stderr: 0\n",
      "Halt on any extrapolation warning                 : 0\n",
      "*******************************************************************************\n",
      "\n",
      "*** SETUP: NEURAL NETWORK WEIGHTS *********************************************\n",
      "\n",
      "Short  NN weight file name format: ./weights.%03d.data\n",
      "Setting short  NN weights for element Cu from file: ./weights.029.data\n",
      "*******************************************************************************\n",
      "\n",
      "*** SETUP: LAMMPS INTERFACE ***************************************************\n",
      "\n",
      "Individual extrapolation warnings will not be shown.\n",
      "Extrapolation warning summary will not be shown.\n",
      "The simulation will be stopped when 100 extrapolation warnings are exceeded.\n",
      "Extrapolation warnings are accumulated over all time steps.\n",
      "-------------------------------------------------------------------------------\n",
      "CAUTION: If the LAMMPS unit system differs from the one used\n",
      "         during NN training, appropriate conversion factors\n",
      "         must be provided (see keywords cflength and cfenergy).\n",
      "\n",
      "Length unit conversion factor:   1.8897261327999999E+00\n",
      "Energy unit conversion factor:   3.6749325399999998E-02\n",
      "\n",
      "Checking consistency of cutoff radii (in LAMMPS units):\n",
      "LAMMPS Cutoff (via pair_coeff)  :   1.200E+01\n",
      "Maximum symmetry function cutoff:   6.350E+00\n",
      "!!!!!!!!!!!!!!!!!!!!!!!!!!!!!!!!!!!!!!!!!\n",
      "WARNING: Potential length units mismatch!\n",
      "!!!!!!!!!!!!!!!!!!!!!!!!!!!!!!!!!!!!!!!!!\n",
      "-------------------------------------------------------------------------------\n",
      "Element mapping string from LAMMPS to n2p2: \"1:Cu\"\n",
      "\n",
      "CAUTION: Please ensure that this mapping between LAMMPS\n",
      "         atom types and NNP elements is consistent:\n",
      "\n",
      "---------------------------\n",
      "LAMMPS type  |  NNP element\n",
      "---------------------------\n",
      "          1 <-> Cu ( 29)\n",
      "---------------------------\n",
      "\n",
      "NNP setup for LAMMPS completed.\n",
      "*******************************************************************************\n",
      "Neighbor list info ...\n",
      "  update every 1 steps, delay 0 steps, check yes\n",
      "  max neighbors/atom: 2000, page size: 100000\n",
      "  master list distance cutoff = 14\n",
      "  ghost atom cutoff = 14\n",
      "  binsize = 7, bins = 3 3 4\n",
      "  1 neighbor lists, perpetual/occasional/extra = 1 0 0\n",
      "  (1) pair nnp, perpetual\n",
      "      attributes: full, newton on\n",
      "      pair build: full/bin/atomonly\n",
      "      stencil: full/bin/3d\n",
      "      bin: standard\n",
      "Setting up cg style minimization ...\n",
      "  Unit style    : metal\n",
      "  Current step  : 0\n",
      "ERROR on proc 0: Too many extrapolation warnings (src/USER-NNP/pair_nnp.cpp:404)\n",
      "\n"
     ]
    },
    {
     "ename": "RuntimeError",
     "evalue": "Job aborted",
     "output_type": "error",
     "traceback": [
      "\u001b[0;31m---------------------------------------------------------------------------\u001b[0m",
      "\u001b[0;31mCalledProcessError\u001b[0m                        Traceback (most recent call last)",
      "\u001b[0;32m~/programs/pyiron_base/pyiron_base/job/generic.py\u001b[0m in \u001b[0;36mrun_static\u001b[0;34m(self)\u001b[0m\n\u001b[1;32m    725\u001b[0m             \u001b[0;32mif\u001b[0m \u001b[0mself\u001b[0m\u001b[0;34m.\u001b[0m\u001b[0mserver\u001b[0m\u001b[0;34m.\u001b[0m\u001b[0mcores\u001b[0m \u001b[0;34m==\u001b[0m \u001b[0;36m1\u001b[0m \u001b[0;32mor\u001b[0m \u001b[0;32mnot\u001b[0m \u001b[0mself\u001b[0m\u001b[0;34m.\u001b[0m\u001b[0mexecutable\u001b[0m\u001b[0;34m.\u001b[0m\u001b[0mmpi\u001b[0m\u001b[0;34m:\u001b[0m\u001b[0;34m\u001b[0m\u001b[0;34m\u001b[0m\u001b[0m\n\u001b[0;32m--> 726\u001b[0;31m                 out = subprocess.check_output(\n\u001b[0m\u001b[1;32m    727\u001b[0m                     \u001b[0mstr\u001b[0m\u001b[0;34m(\u001b[0m\u001b[0mself\u001b[0m\u001b[0;34m.\u001b[0m\u001b[0mexecutable\u001b[0m\u001b[0;34m)\u001b[0m\u001b[0;34m,\u001b[0m\u001b[0;34m\u001b[0m\u001b[0;34m\u001b[0m\u001b[0m\n",
      "\u001b[0;32m~/miniconda3/envs/potfit/lib/python3.8/subprocess.py\u001b[0m in \u001b[0;36mcheck_output\u001b[0;34m(timeout, *popenargs, **kwargs)\u001b[0m\n\u001b[1;32m    414\u001b[0m \u001b[0;34m\u001b[0m\u001b[0m\n\u001b[0;32m--> 415\u001b[0;31m     return run(*popenargs, stdout=PIPE, timeout=timeout, check=True,\n\u001b[0m\u001b[1;32m    416\u001b[0m                **kwargs).stdout\n",
      "\u001b[0;32m~/miniconda3/envs/potfit/lib/python3.8/subprocess.py\u001b[0m in \u001b[0;36mrun\u001b[0;34m(input, capture_output, timeout, check, *popenargs, **kwargs)\u001b[0m\n\u001b[1;32m    515\u001b[0m         \u001b[0;32mif\u001b[0m \u001b[0mcheck\u001b[0m \u001b[0;32mand\u001b[0m \u001b[0mretcode\u001b[0m\u001b[0;34m:\u001b[0m\u001b[0;34m\u001b[0m\u001b[0;34m\u001b[0m\u001b[0m\n\u001b[0;32m--> 516\u001b[0;31m             raise CalledProcessError(retcode, process.args,\n\u001b[0m\u001b[1;32m    517\u001b[0m                                      output=stdout, stderr=stderr)\n",
      "\u001b[0;31mCalledProcessError\u001b[0m: Command '/home/surendralal/miniconda3/envs/potfit/share/pyiron/lammps/bin/run_lammps_2020.03.03.sh' returned non-zero exit status 1.",
      "\nDuring handling of the above exception, another exception occurred:\n",
      "\u001b[0;31mRuntimeError\u001b[0m                              Traceback (most recent call last)",
      "\u001b[0;32m<timed exec>\u001b[0m in \u001b[0;36m<module>\u001b[0;34m\u001b[0m\n",
      "\u001b[0;32m~/programs/pyiron_base/pyiron_base/generic/util.py\u001b[0m in \u001b[0;36mdecorated\u001b[0;34m(*args, **kwargs)\u001b[0m\n\u001b[1;32m    211\u001b[0m                         \u001b[0mstacklevel\u001b[0m\u001b[0;34m=\u001b[0m\u001b[0;36m2\u001b[0m\u001b[0;34m\u001b[0m\u001b[0;34m\u001b[0m\u001b[0m\n\u001b[1;32m    212\u001b[0m                     )\n\u001b[0;32m--> 213\u001b[0;31m             \u001b[0;32mreturn\u001b[0m \u001b[0mfunction\u001b[0m\u001b[0;34m(\u001b[0m\u001b[0;34m*\u001b[0m\u001b[0margs\u001b[0m\u001b[0;34m,\u001b[0m \u001b[0;34m**\u001b[0m\u001b[0mkwargs\u001b[0m\u001b[0;34m)\u001b[0m\u001b[0;34m\u001b[0m\u001b[0;34m\u001b[0m\u001b[0m\n\u001b[0m\u001b[1;32m    214\u001b[0m         \u001b[0;32mreturn\u001b[0m \u001b[0mdecorated\u001b[0m\u001b[0;34m\u001b[0m\u001b[0;34m\u001b[0m\u001b[0m\n\u001b[1;32m    215\u001b[0m \u001b[0;34m\u001b[0m\u001b[0m\n",
      "\u001b[0;32m~/programs/pyiron_base/pyiron_base/job/generic.py\u001b[0m in \u001b[0;36mrun\u001b[0;34m(self, delete_existing_job, repair, debug, run_mode, run_again)\u001b[0m\n\u001b[1;32m    667\u001b[0m                 \u001b[0mstatus\u001b[0m \u001b[0;34m=\u001b[0m \u001b[0;34m\"created\"\u001b[0m\u001b[0;34m\u001b[0m\u001b[0;34m\u001b[0m\u001b[0m\n\u001b[1;32m    668\u001b[0m             \u001b[0;32mif\u001b[0m \u001b[0mstatus\u001b[0m \u001b[0;34m==\u001b[0m \u001b[0;34m\"initialized\"\u001b[0m\u001b[0;34m:\u001b[0m\u001b[0;34m\u001b[0m\u001b[0;34m\u001b[0m\u001b[0m\n\u001b[0;32m--> 669\u001b[0;31m                 \u001b[0mself\u001b[0m\u001b[0;34m.\u001b[0m\u001b[0m_run_if_new\u001b[0m\u001b[0;34m(\u001b[0m\u001b[0mdebug\u001b[0m\u001b[0;34m=\u001b[0m\u001b[0mdebug\u001b[0m\u001b[0;34m)\u001b[0m\u001b[0;34m\u001b[0m\u001b[0;34m\u001b[0m\u001b[0m\n\u001b[0m\u001b[1;32m    670\u001b[0m             \u001b[0;32melif\u001b[0m \u001b[0mstatus\u001b[0m \u001b[0;34m==\u001b[0m \u001b[0;34m\"created\"\u001b[0m\u001b[0;34m:\u001b[0m\u001b[0;34m\u001b[0m\u001b[0;34m\u001b[0m\u001b[0m\n\u001b[1;32m    671\u001b[0m                 \u001b[0mque_id\u001b[0m \u001b[0;34m=\u001b[0m \u001b[0mself\u001b[0m\u001b[0;34m.\u001b[0m\u001b[0m_run_if_created\u001b[0m\u001b[0;34m(\u001b[0m\u001b[0;34m)\u001b[0m\u001b[0;34m\u001b[0m\u001b[0;34m\u001b[0m\u001b[0m\n",
      "\u001b[0;32m~/programs/pyiron_base/pyiron_base/job/generic.py\u001b[0m in \u001b[0;36m_run_if_new\u001b[0;34m(self, debug)\u001b[0m\n\u001b[1;32m   1331\u001b[0m         \u001b[0;32melse\u001b[0m\u001b[0;34m:\u001b[0m\u001b[0;34m\u001b[0m\u001b[0;34m\u001b[0m\u001b[0m\n\u001b[1;32m   1332\u001b[0m             \u001b[0mself\u001b[0m\u001b[0;34m.\u001b[0m\u001b[0msave\u001b[0m\u001b[0;34m(\u001b[0m\u001b[0;34m)\u001b[0m\u001b[0;34m\u001b[0m\u001b[0;34m\u001b[0m\u001b[0m\n\u001b[0;32m-> 1333\u001b[0;31m             \u001b[0mself\u001b[0m\u001b[0;34m.\u001b[0m\u001b[0mrun\u001b[0m\u001b[0;34m(\u001b[0m\u001b[0;34m)\u001b[0m\u001b[0;34m\u001b[0m\u001b[0;34m\u001b[0m\u001b[0m\n\u001b[0m\u001b[1;32m   1334\u001b[0m \u001b[0;34m\u001b[0m\u001b[0m\n\u001b[1;32m   1335\u001b[0m     \u001b[0;32mdef\u001b[0m \u001b[0m_run_if_created\u001b[0m\u001b[0;34m(\u001b[0m\u001b[0mself\u001b[0m\u001b[0;34m)\u001b[0m\u001b[0;34m:\u001b[0m\u001b[0;34m\u001b[0m\u001b[0;34m\u001b[0m\u001b[0m\n",
      "\u001b[0;32m~/programs/pyiron_base/pyiron_base/generic/util.py\u001b[0m in \u001b[0;36mdecorated\u001b[0;34m(*args, **kwargs)\u001b[0m\n\u001b[1;32m    211\u001b[0m                         \u001b[0mstacklevel\u001b[0m\u001b[0;34m=\u001b[0m\u001b[0;36m2\u001b[0m\u001b[0;34m\u001b[0m\u001b[0;34m\u001b[0m\u001b[0m\n\u001b[1;32m    212\u001b[0m                     )\n\u001b[0;32m--> 213\u001b[0;31m             \u001b[0;32mreturn\u001b[0m \u001b[0mfunction\u001b[0m\u001b[0;34m(\u001b[0m\u001b[0;34m*\u001b[0m\u001b[0margs\u001b[0m\u001b[0;34m,\u001b[0m \u001b[0;34m**\u001b[0m\u001b[0mkwargs\u001b[0m\u001b[0;34m)\u001b[0m\u001b[0;34m\u001b[0m\u001b[0;34m\u001b[0m\u001b[0m\n\u001b[0m\u001b[1;32m    214\u001b[0m         \u001b[0;32mreturn\u001b[0m \u001b[0mdecorated\u001b[0m\u001b[0;34m\u001b[0m\u001b[0;34m\u001b[0m\u001b[0m\n\u001b[1;32m    215\u001b[0m \u001b[0;34m\u001b[0m\u001b[0m\n",
      "\u001b[0;32m~/programs/pyiron_base/pyiron_base/job/generic.py\u001b[0m in \u001b[0;36mrun\u001b[0;34m(self, delete_existing_job, repair, debug, run_mode, run_again)\u001b[0m\n\u001b[1;32m    669\u001b[0m                 \u001b[0mself\u001b[0m\u001b[0;34m.\u001b[0m\u001b[0m_run_if_new\u001b[0m\u001b[0;34m(\u001b[0m\u001b[0mdebug\u001b[0m\u001b[0;34m=\u001b[0m\u001b[0mdebug\u001b[0m\u001b[0;34m)\u001b[0m\u001b[0;34m\u001b[0m\u001b[0;34m\u001b[0m\u001b[0m\n\u001b[1;32m    670\u001b[0m             \u001b[0;32melif\u001b[0m \u001b[0mstatus\u001b[0m \u001b[0;34m==\u001b[0m \u001b[0;34m\"created\"\u001b[0m\u001b[0;34m:\u001b[0m\u001b[0;34m\u001b[0m\u001b[0;34m\u001b[0m\u001b[0m\n\u001b[0;32m--> 671\u001b[0;31m                 \u001b[0mque_id\u001b[0m \u001b[0;34m=\u001b[0m \u001b[0mself\u001b[0m\u001b[0;34m.\u001b[0m\u001b[0m_run_if_created\u001b[0m\u001b[0;34m(\u001b[0m\u001b[0;34m)\u001b[0m\u001b[0;34m\u001b[0m\u001b[0;34m\u001b[0m\u001b[0m\n\u001b[0m\u001b[1;32m    672\u001b[0m                 \u001b[0;32mif\u001b[0m \u001b[0mque_id\u001b[0m\u001b[0;34m:\u001b[0m\u001b[0;34m\u001b[0m\u001b[0;34m\u001b[0m\u001b[0m\n\u001b[1;32m    673\u001b[0m                     self._logger.info(\n",
      "\u001b[0;32m~/programs/pyiron_base/pyiron_base/job/generic.py\u001b[0m in \u001b[0;36m_run_if_created\u001b[0;34m(self)\u001b[0m\n\u001b[1;32m   1348\u001b[0m             \u001b[0mself\u001b[0m\u001b[0;34m.\u001b[0m\u001b[0mrun_if_manually\u001b[0m\u001b[0;34m(\u001b[0m\u001b[0;34m)\u001b[0m\u001b[0;34m\u001b[0m\u001b[0;34m\u001b[0m\u001b[0m\n\u001b[1;32m   1349\u001b[0m         \u001b[0;32melif\u001b[0m \u001b[0mself\u001b[0m\u001b[0;34m.\u001b[0m\u001b[0mserver\u001b[0m\u001b[0;34m.\u001b[0m\u001b[0mrun_mode\u001b[0m\u001b[0;34m.\u001b[0m\u001b[0mmodal\u001b[0m\u001b[0;34m:\u001b[0m\u001b[0;34m\u001b[0m\u001b[0;34m\u001b[0m\u001b[0m\n\u001b[0;32m-> 1350\u001b[0;31m             \u001b[0mself\u001b[0m\u001b[0;34m.\u001b[0m\u001b[0mrun_static\u001b[0m\u001b[0;34m(\u001b[0m\u001b[0;34m)\u001b[0m\u001b[0;34m\u001b[0m\u001b[0;34m\u001b[0m\u001b[0m\n\u001b[0m\u001b[1;32m   1351\u001b[0m         \u001b[0;32melif\u001b[0m \u001b[0mself\u001b[0m\u001b[0;34m.\u001b[0m\u001b[0mserver\u001b[0m\u001b[0;34m.\u001b[0m\u001b[0mrun_mode\u001b[0m\u001b[0;34m.\u001b[0m\u001b[0mnon_modal\u001b[0m \u001b[0;32mor\u001b[0m \u001b[0mself\u001b[0m\u001b[0;34m.\u001b[0m\u001b[0mserver\u001b[0m\u001b[0;34m.\u001b[0m\u001b[0mrun_mode\u001b[0m\u001b[0;34m.\u001b[0m\u001b[0mthread\u001b[0m\u001b[0;34m:\u001b[0m\u001b[0;34m\u001b[0m\u001b[0;34m\u001b[0m\u001b[0m\n\u001b[1;32m   1352\u001b[0m             \u001b[0mself\u001b[0m\u001b[0;34m.\u001b[0m\u001b[0mrun_if_non_modal\u001b[0m\u001b[0;34m(\u001b[0m\u001b[0;34m)\u001b[0m\u001b[0;34m\u001b[0m\u001b[0;34m\u001b[0m\u001b[0m\n",
      "\u001b[0;32m~/programs/pyiron_base/pyiron_base/job/generic.py\u001b[0m in \u001b[0;36mrun_static\u001b[0;34m(self)\u001b[0m\n\u001b[1;32m    762\u001b[0m                 \u001b[0;32mif\u001b[0m \u001b[0mself\u001b[0m\u001b[0;34m.\u001b[0m\u001b[0mserver\u001b[0m\u001b[0;34m.\u001b[0m\u001b[0mrun_mode\u001b[0m\u001b[0;34m.\u001b[0m\u001b[0mnon_modal\u001b[0m\u001b[0;34m:\u001b[0m\u001b[0;34m\u001b[0m\u001b[0;34m\u001b[0m\u001b[0m\n\u001b[1;32m    763\u001b[0m                     \u001b[0ms\u001b[0m\u001b[0;34m.\u001b[0m\u001b[0mclose_connection\u001b[0m\u001b[0;34m(\u001b[0m\u001b[0;34m)\u001b[0m\u001b[0;34m\u001b[0m\u001b[0;34m\u001b[0m\u001b[0m\n\u001b[0;32m--> 764\u001b[0;31m                 \u001b[0;32mraise\u001b[0m \u001b[0mRuntimeError\u001b[0m\u001b[0;34m(\u001b[0m\u001b[0;34m\"Job aborted\"\u001b[0m\u001b[0;34m)\u001b[0m\u001b[0;34m\u001b[0m\u001b[0;34m\u001b[0m\u001b[0m\n\u001b[0m\u001b[1;32m    765\u001b[0m             \u001b[0;32melse\u001b[0m\u001b[0;34m:\u001b[0m\u001b[0;34m\u001b[0m\u001b[0;34m\u001b[0m\u001b[0m\n\u001b[1;32m    766\u001b[0m                 \u001b[0mjob_crashed\u001b[0m \u001b[0;34m=\u001b[0m \u001b[0;32mTrue\u001b[0m\u001b[0;34m\u001b[0m\u001b[0;34m\u001b[0m\u001b[0m\n",
      "\u001b[0;31mRuntimeError\u001b[0m: Job aborted"
     ]
    }
   ],
   "source": [
    "%%time\n",
    "\n",
    "surface_type_list = [\"fcc111\", \"fcc110\", \"fcc100\"]\n",
    "\n",
    "for i, pot in enumerate(data_murn.potential.to_list()):\n",
    "    group_name = clean_project_name(pot)\n",
    "    pr_pot = pr.create_group(group_name)\n",
    "    a = data_murn.a.to_list()[i]\n",
    "    for surface_type in surface_type_list:\n",
    "        surface = pr.create_surface(\"Cu\", surface_type=surface_type, size=(8, 8, 8), a=a, orthogonal=True, vacuum=12)\n",
    "        job_lammps = pr_pot.create_job(pr_pot.job_type.Lammps, \"surf_{}\".format(surface_type))\n",
    "        job_lammps.structure = surface\n",
    "        job_lammps.potential = pot\n",
    "        job_lammps.calc_minimize()\n",
    "        job_lammps.run()"
   ]
  },
  {
   "cell_type": "code",
   "execution_count": null,
   "id": "uniform-candidate",
   "metadata": {},
   "outputs": [],
   "source": []
  },
  {
   "cell_type": "code",
   "execution_count": 31,
   "id": "abandoned-candy",
   "metadata": {},
   "outputs": [
    {
     "data": {
      "text/plain": [
       "{'groups': [], 'nodes': ['surf_fcc111']}"
      ]
     },
     "execution_count": 31,
     "metadata": {},
     "output_type": "execute_result"
    }
   ],
   "source": [
    "pr_pot"
   ]
  },
  {
   "cell_type": "code",
   "execution_count": 32,
   "id": "guilty-nitrogen",
   "metadata": {},
   "outputs": [
    {
     "data": {
      "application/vnd.jupyter.widget-view+json": {
       "model_id": "7e3f876c78e4417488386f3fa3e8a029",
       "version_major": 2,
       "version_minor": 0
      },
      "text/plain": []
     },
     "metadata": {},
     "output_type": "display_data"
    },
    {
     "data": {
      "application/vnd.jupyter.widget-view+json": {
       "model_id": "abe68edd5e6b40edb2b9fe95b2be4e7f",
       "version_major": 2,
       "version_minor": 0
      },
      "text/plain": [
       "NGLWidget()"
      ]
     },
     "metadata": {},
     "output_type": "display_data"
    }
   ],
   "source": [
    "surface.plot3d()"
   ]
  },
  {
   "cell_type": "code",
   "execution_count": 35,
   "id": "reverse-warrior",
   "metadata": {},
   "outputs": [],
   "source": [
    "def is_a_surface(job_table):\n",
    "    return (job_table.hamilton == \"Lammps\") & (job_table.job.str.contains(\"fcc\")) & (job_table.status == \"finished\")\n",
    "\n",
    "def get_potential_lammps_job(job_path):\n",
    "    return job_path[\"input/potential/Name\"]\n",
    "\n",
    "def get_surface_type(job_path):\n",
    "    surf_list =  [\"fcc111\", \"fcc110\", \"fcc100\"]\n",
    "    conditions = [val in job_path.job_name for val in surf_list]\n",
    "    return surf_list[np.where(conditions)[0].tolist()[0]]\n",
    "\n",
    "def get_area(job_path):\n",
    "    cell = job_path[\"output/structure/cell/cell\"]\n",
    "    return np.linalg.norm(np.cross(cell[0], cell[1]))"
   ]
  },
  {
   "cell_type": "code",
   "execution_count": null,
   "id": "modern-olive",
   "metadata": {},
   "outputs": [],
   "source": []
  },
  {
   "cell_type": "code",
   "execution_count": 37,
   "id": "opening-modern",
   "metadata": {},
   "outputs": [
    {
     "name": "stderr",
     "output_type": "stream",
     "text": [
      "100%|██████████| 3/3 [00:00<00:00, 388.22it/s]\n",
      "100%|██████████| 3/3 [00:00<00:00, 33.63it/s]"
     ]
    },
    {
     "name": "stdout",
     "output_type": "stream",
     "text": [
      "The job table_surface was saved and received the ID: 88\n",
      "CPU times: user 156 ms, sys: 141 ms, total: 297 ms\n",
      "Wall time: 333 ms\n"
     ]
    },
    {
     "name": "stderr",
     "output_type": "stream",
     "text": [
      "\n"
     ]
    },
    {
     "data": {
      "text/html": [
       "<div>\n",
       "<style scoped>\n",
       "    .dataframe tbody tr th:only-of-type {\n",
       "        vertical-align: middle;\n",
       "    }\n",
       "\n",
       "    .dataframe tbody tr th {\n",
       "        vertical-align: top;\n",
       "    }\n",
       "\n",
       "    .dataframe thead th {\n",
       "        text-align: right;\n",
       "    }\n",
       "</style>\n",
       "<table border=\"1\" class=\"dataframe\">\n",
       "  <thead>\n",
       "    <tr style=\"text-align: right;\">\n",
       "      <th></th>\n",
       "      <th>Number_of_atoms</th>\n",
       "      <th>job_id</th>\n",
       "      <th>energy_tot</th>\n",
       "      <th>potential</th>\n",
       "      <th>surface_type</th>\n",
       "      <th>surface_area</th>\n",
       "    </tr>\n",
       "  </thead>\n",
       "  <tbody>\n",
       "    <tr>\n",
       "      <th>0</th>\n",
       "      <td>512</td>\n",
       "      <td>84</td>\n",
       "      <td>-1834.286336</td>\n",
       "      <td>Cu-ace</td>\n",
       "      <td>fcc111</td>\n",
       "      <td>365.141308</td>\n",
       "    </tr>\n",
       "    <tr>\n",
       "      <th>1</th>\n",
       "      <td>512</td>\n",
       "      <td>85</td>\n",
       "      <td>-1775.620101</td>\n",
       "      <td>Cu-ace</td>\n",
       "      <td>fcc110</td>\n",
       "      <td>596.273259</td>\n",
       "    </tr>\n",
       "    <tr>\n",
       "      <th>2</th>\n",
       "      <td>512</td>\n",
       "      <td>86</td>\n",
       "      <td>-1814.469585</td>\n",
       "      <td>Cu-ace</td>\n",
       "      <td>fcc100</td>\n",
       "      <td>421.628865</td>\n",
       "    </tr>\n",
       "  </tbody>\n",
       "</table>\n",
       "</div>"
      ],
      "text/plain": [
       "   Number_of_atoms  job_id   energy_tot potential surface_type  surface_area\n",
       "0              512      84 -1834.286336    Cu-ace       fcc111    365.141308\n",
       "1              512      85 -1775.620101    Cu-ace       fcc110    596.273259\n",
       "2              512      86 -1814.469585    Cu-ace       fcc100    421.628865"
      ]
     },
     "execution_count": 37,
     "metadata": {},
     "output_type": "execute_result"
    }
   ],
   "source": [
    "%%time\n",
    "table = pr.create_table(\"table_surface\", delete_existing_job=True)\n",
    "table.db_filter_function = is_a_surface\n",
    "table.add[\"potential\"] = get_potential_lammps_job\n",
    "table.add[\"surface_type\"] = get_surface_type\n",
    "table.add[\"surface_area\"] = get_area\n",
    "table.add.get_total_number_of_atoms\n",
    "\n",
    "table.add.get_energy_tot\n",
    "table.run()\n",
    "data_surf = table.get_dataframe()\n",
    "data_surf"
   ]
  },
  {
   "cell_type": "code",
   "execution_count": null,
   "id": "heavy-moderator",
   "metadata": {},
   "outputs": [],
   "source": []
  },
  {
   "cell_type": "code",
   "execution_count": 38,
   "id": "central-coordination",
   "metadata": {},
   "outputs": [
    {
     "data": {
      "text/html": [
       "<div>\n",
       "<style scoped>\n",
       "    .dataframe tbody tr th:only-of-type {\n",
       "        vertical-align: middle;\n",
       "    }\n",
       "\n",
       "    .dataframe tbody tr th {\n",
       "        vertical-align: top;\n",
       "    }\n",
       "\n",
       "    .dataframe thead th {\n",
       "        text-align: right;\n",
       "    }\n",
       "</style>\n",
       "<table border=\"1\" class=\"dataframe\">\n",
       "  <thead>\n",
       "    <tr style=\"text-align: right;\">\n",
       "      <th></th>\n",
       "      <th>Number_of_atoms</th>\n",
       "      <th>job_id_x</th>\n",
       "      <th>energy_tot</th>\n",
       "      <th>potential</th>\n",
       "      <th>surface_type</th>\n",
       "      <th>surface_area</th>\n",
       "      <th>job_id_y</th>\n",
       "      <th>a</th>\n",
       "      <th>eq_vol</th>\n",
       "      <th>eq_bm</th>\n",
       "      <th>eq_energy</th>\n",
       "      <th>n_atoms</th>\n",
       "    </tr>\n",
       "  </thead>\n",
       "  <tbody>\n",
       "    <tr>\n",
       "      <th>0</th>\n",
       "      <td>512</td>\n",
       "      <td>84</td>\n",
       "      <td>-1834.286336</td>\n",
       "      <td>Cu-ace</td>\n",
       "      <td>fcc111</td>\n",
       "      <td>365.141308</td>\n",
       "      <td>1</td>\n",
       "      <td>3.629863</td>\n",
       "      <td>11.956678</td>\n",
       "      <td>146.220099</td>\n",
       "      <td>-3.698781</td>\n",
       "      <td>1</td>\n",
       "    </tr>\n",
       "    <tr>\n",
       "      <th>1</th>\n",
       "      <td>512</td>\n",
       "      <td>85</td>\n",
       "      <td>-1775.620101</td>\n",
       "      <td>Cu-ace</td>\n",
       "      <td>fcc110</td>\n",
       "      <td>596.273259</td>\n",
       "      <td>1</td>\n",
       "      <td>3.629863</td>\n",
       "      <td>11.956678</td>\n",
       "      <td>146.220099</td>\n",
       "      <td>-3.698781</td>\n",
       "      <td>1</td>\n",
       "    </tr>\n",
       "    <tr>\n",
       "      <th>2</th>\n",
       "      <td>512</td>\n",
       "      <td>86</td>\n",
       "      <td>-1814.469585</td>\n",
       "      <td>Cu-ace</td>\n",
       "      <td>fcc100</td>\n",
       "      <td>421.628865</td>\n",
       "      <td>1</td>\n",
       "      <td>3.629863</td>\n",
       "      <td>11.956678</td>\n",
       "      <td>146.220099</td>\n",
       "      <td>-3.698781</td>\n",
       "      <td>1</td>\n",
       "    </tr>\n",
       "  </tbody>\n",
       "</table>\n",
       "</div>"
      ],
      "text/plain": [
       "   Number_of_atoms  job_id_x   energy_tot potential surface_type  \\\n",
       "0              512        84 -1834.286336    Cu-ace       fcc111   \n",
       "1              512        85 -1775.620101    Cu-ace       fcc110   \n",
       "2              512        86 -1814.469585    Cu-ace       fcc100   \n",
       "\n",
       "   surface_area  job_id_y         a     eq_vol       eq_bm  eq_energy  n_atoms  \n",
       "0    365.141308         1  3.629863  11.956678  146.220099  -3.698781        1  \n",
       "1    596.273259         1  3.629863  11.956678  146.220099  -3.698781        1  \n",
       "2    421.628865         1  3.629863  11.956678  146.220099  -3.698781        1  "
      ]
     },
     "execution_count": 38,
     "metadata": {},
     "output_type": "execute_result"
    }
   ],
   "source": [
    "data_merged = pd.merge(data_surf, data_murn, on=\"potential\")\n",
    "data_merged"
   ]
  },
  {
   "cell_type": "code",
   "execution_count": 39,
   "id": "organized-perfume",
   "metadata": {},
   "outputs": [],
   "source": [
    "data_merged[\"surface_energy\"] = data_merged.energy_tot - (data_merged.eq_energy * data_merged.Number_of_atoms)"
   ]
  },
  {
   "cell_type": "code",
   "execution_count": 40,
   "id": "returning-traffic",
   "metadata": {},
   "outputs": [],
   "source": [
    "data_merged[\"surface_energy_in_mJ_per_sq_m\"] = data_merged.surface_energy / data_merged.surface_area / 2 * 16.0219 * 1e3"
   ]
  },
  {
   "cell_type": "code",
   "execution_count": 41,
   "id": "forbidden-preserve",
   "metadata": {},
   "outputs": [
    {
     "data": {
      "text/html": [
       "<div>\n",
       "<style scoped>\n",
       "    .dataframe tbody tr th:only-of-type {\n",
       "        vertical-align: middle;\n",
       "    }\n",
       "\n",
       "    .dataframe tbody tr th {\n",
       "        vertical-align: top;\n",
       "    }\n",
       "\n",
       "    .dataframe thead th {\n",
       "        text-align: right;\n",
       "    }\n",
       "</style>\n",
       "<table border=\"1\" class=\"dataframe\">\n",
       "  <thead>\n",
       "    <tr style=\"text-align: right;\">\n",
       "      <th></th>\n",
       "      <th>Number_of_atoms</th>\n",
       "      <th>job_id_x</th>\n",
       "      <th>energy_tot</th>\n",
       "      <th>potential</th>\n",
       "      <th>surface_type</th>\n",
       "      <th>surface_area</th>\n",
       "      <th>job_id_y</th>\n",
       "      <th>a</th>\n",
       "      <th>eq_vol</th>\n",
       "      <th>eq_bm</th>\n",
       "      <th>eq_energy</th>\n",
       "      <th>n_atoms</th>\n",
       "      <th>surface_energy</th>\n",
       "      <th>surface_energy_in_mJ_per_sq_m</th>\n",
       "    </tr>\n",
       "  </thead>\n",
       "  <tbody>\n",
       "    <tr>\n",
       "      <th>0</th>\n",
       "      <td>512</td>\n",
       "      <td>84</td>\n",
       "      <td>-1834.286336</td>\n",
       "      <td>Cu-ace</td>\n",
       "      <td>fcc111</td>\n",
       "      <td>365.141308</td>\n",
       "      <td>1</td>\n",
       "      <td>3.629863</td>\n",
       "      <td>11.956678</td>\n",
       "      <td>146.220099</td>\n",
       "      <td>-3.698781</td>\n",
       "      <td>1</td>\n",
       "      <td>59.489333</td>\n",
       "      <td>1305.155196</td>\n",
       "    </tr>\n",
       "    <tr>\n",
       "      <th>1</th>\n",
       "      <td>512</td>\n",
       "      <td>85</td>\n",
       "      <td>-1775.620101</td>\n",
       "      <td>Cu-ace</td>\n",
       "      <td>fcc110</td>\n",
       "      <td>596.273259</td>\n",
       "      <td>1</td>\n",
       "      <td>3.629863</td>\n",
       "      <td>11.956678</td>\n",
       "      <td>146.220099</td>\n",
       "      <td>-3.698781</td>\n",
       "      <td>1</td>\n",
       "      <td>118.155568</td>\n",
       "      <td>1587.423774</td>\n",
       "    </tr>\n",
       "    <tr>\n",
       "      <th>2</th>\n",
       "      <td>512</td>\n",
       "      <td>86</td>\n",
       "      <td>-1814.469585</td>\n",
       "      <td>Cu-ace</td>\n",
       "      <td>fcc100</td>\n",
       "      <td>421.628865</td>\n",
       "      <td>1</td>\n",
       "      <td>3.629863</td>\n",
       "      <td>11.956678</td>\n",
       "      <td>146.220099</td>\n",
       "      <td>-3.698781</td>\n",
       "      <td>1</td>\n",
       "      <td>79.306085</td>\n",
       "      <td>1506.815901</td>\n",
       "    </tr>\n",
       "  </tbody>\n",
       "</table>\n",
       "</div>"
      ],
      "text/plain": [
       "   Number_of_atoms  job_id_x   energy_tot potential surface_type  \\\n",
       "0              512        84 -1834.286336    Cu-ace       fcc111   \n",
       "1              512        85 -1775.620101    Cu-ace       fcc110   \n",
       "2              512        86 -1814.469585    Cu-ace       fcc100   \n",
       "\n",
       "   surface_area  job_id_y         a     eq_vol       eq_bm  eq_energy  \\\n",
       "0    365.141308         1  3.629863  11.956678  146.220099  -3.698781   \n",
       "1    596.273259         1  3.629863  11.956678  146.220099  -3.698781   \n",
       "2    421.628865         1  3.629863  11.956678  146.220099  -3.698781   \n",
       "\n",
       "   n_atoms  surface_energy  surface_energy_in_mJ_per_sq_m  \n",
       "0        1       59.489333                    1305.155196  \n",
       "1        1      118.155568                    1587.423774  \n",
       "2        1       79.306085                    1506.815901  "
      ]
     },
     "execution_count": 41,
     "metadata": {},
     "output_type": "execute_result"
    }
   ],
   "source": [
    "data_merged"
   ]
  },
  {
   "cell_type": "markdown",
   "id": "united-ranking",
   "metadata": {},
   "source": [
    "## Finite temperature thermodynamics (Harmonic approximation)"
   ]
  },
  {
   "cell_type": "code",
   "execution_count": 42,
   "id": "herbal-discharge",
   "metadata": {},
   "outputs": [
    {
     "name": "stdout",
     "output_type": "stream",
     "text": [
      "The job phonopy_job was saved and received the ID: 89\n",
      "The job ref_job_0 was saved and received the ID: 90\n",
      "The job phonopy_job was saved and received the ID: 91\n",
      "The job ref_job_0 was saved and received the ID: 92\n",
      "CPU times: user 13 s, sys: 6.58 s, total: 19.6 s\n",
      "Wall time: 15.7 s\n"
     ]
    }
   ],
   "source": [
    "%%time\n",
    "for pot in data_murn.potential.to_list():\n",
    "    group_name = clean_project_name(pot)\n",
    "    pr_pot = pr.create_group(group_name)\n",
    "    job_id = int(data_murn[data_murn.potential==pot].job_id)\n",
    "    job_ref = pr_pot.create_job(pr_pot.job_type.Lammps, \"ref_job\")\n",
    "    job_ref.structure = pr_pot.inspect(job_id)[\"output/structure\"].to_object()\n",
    "    job_ref.potential = pot\n",
    "    job_ref.calc_static()\n",
    "    phonopy_job = job_ref.create_job(pr_pot.job_type.PhonopyJob, \"phonopy_job\")\n",
    "    phonopy_job.run()"
   ]
  },
  {
   "cell_type": "code",
   "execution_count": null,
   "id": "needed-sigma",
   "metadata": {},
   "outputs": [],
   "source": [
    "pr"
   ]
  },
  {
   "cell_type": "code",
   "execution_count": null,
   "id": "brazilian-toner",
   "metadata": {},
   "outputs": [],
   "source": [
    "fig, ax_list = plt.subplots(ncols=len(potential_list), nrows=3, sharey=\"row\", sharex=\"row\")\n",
    "fig.set_figwidth(20)\n",
    "fig.set_figheight(12)\n",
    "\n",
    "\n",
    "for i, pot in enumerate(potential_list):\n",
    "    group_name = clean_project_name(pot)\n",
    "    ax = ax_list[0][i]\n",
    "    ax.set_title(pot)\n",
    "    phonopy_job = pr[group_name+\"/phonopy_job\"]\n",
    "    thermo = phonopy_job.get_thermal_properties(t_min=0, t_max=800)\n",
    "    \n",
    "    ax = ax_list[0][i]\n",
    "    ax.plot(thermo.temperatures, thermo.free_energies)\n",
    "    ax.set_xlabel(\"Temperatures [K]\")\n",
    "    ax.set_ylabel(\"Free energies [eV]\")\n",
    "    \n",
    "    ax = ax_list[1][i]\n",
    "    ax.plot(thermo.temperatures, thermo.entropy)\n",
    "    ax.set_xlabel(\"Temperatures [K]\")\n",
    "    ax.set_ylabel(\"Entropy [eV/K]\")\n",
    "    \n",
    "    ax = ax_list[2][i]\n",
    "    ax.plot(thermo.temperatures, thermo.cv)\n",
    "    ax.set_xlabel(\"Temperatures [K]\")\n",
    "    ax.set_ylabel(\"Heat capacity (C$_\\mathrm{V}$) [eV/K]\")\n",
    "    \n",
    "fig.subplots_adjust(wspace=0.05, hspace=0.3);    "
   ]
  },
  {
   "cell_type": "code",
   "execution_count": null,
   "id": "oriented-option",
   "metadata": {},
   "outputs": [],
   "source": []
  },
  {
   "cell_type": "markdown",
   "id": "democratic-ottawa",
   "metadata": {},
   "source": [
    "## **Validating against datasets**"
   ]
  },
  {
   "cell_type": "code",
   "execution_count": null,
   "id": "digital-airfare",
   "metadata": {},
   "outputs": [],
   "source": [
    "pr_import = Project(\"../datasets\")\n",
    "if len(pr_import.job_table()) == 0:\n",
    "    pr_import.unpack(\"Cu_training_archive\")"
   ]
  },
  {
   "cell_type": "code",
   "execution_count": null,
   "id": "killing-cosmetic",
   "metadata": {},
   "outputs": [],
   "source": [
    "container = pr_import['Cu_database/df1_A1_A2_A3_EV_elast_phon']"
   ]
  },
  {
   "cell_type": "code",
   "execution_count": null,
   "id": "medium-dining",
   "metadata": {},
   "outputs": [],
   "source": [
    "training_dataset = container.to_pandas()"
   ]
  },
  {
   "cell_type": "code",
   "execution_count": null,
   "id": "liberal-terrorism",
   "metadata": {},
   "outputs": [],
   "source": [
    "training_dataset"
   ]
  },
  {
   "cell_type": "code",
   "execution_count": null,
   "id": "dietary-drinking",
   "metadata": {},
   "outputs": [],
   "source": [
    "from pyiron import ase_to_pyiron"
   ]
  },
  {
   "cell_type": "code",
   "execution_count": null,
   "id": "frozen-reynolds",
   "metadata": {},
   "outputs": [],
   "source": [
    "structure_list =  training_dataset.atoms.apply(ase_to_pyiron).to_list()\n",
    "energy_list =  training_dataset.energy.to_list()\n",
    "force_list =  training_dataset.forces.to_list()\n",
    "num_atoms_list =  training_dataset.number_of_atoms.to_list()\n",
    "\n",
    "energy_per_atom_list = np.array(energy_list) / np.array(num_atoms_list)\n"
   ]
  },
  {
   "cell_type": "code",
   "execution_count": null,
   "id": "incorrect-coupon",
   "metadata": {},
   "outputs": [],
   "source": [
    "%%time\n",
    "energy_pred_dict = dict()\n",
    "force_pred_dict = dict()\n",
    "\n",
    "\n",
    "for pot in potential_list:\n",
    "    group_name = clean_project_name(pot)\n",
    "    pr_pot = pr.create_group(pot)\n",
    "    energy_pred_list = list()\n",
    "    force_pred_list = list()\n",
    "    \n",
    "    stride = 10\n",
    "    for i, struct in enumerate(structure_list[::stride]):\n",
    "        job = pr_pot.create_job(pr.job_type.Lammps, \"lammps_struct_{}\".format(i))\n",
    "        job.potential = pot\n",
    "        job.structure = struct\n",
    "        job.calc_static()\n",
    "        job.run()\n",
    "        energy_pred_list.append(job[\"output/generic/energy_tot\"][-1] / len(struct))\n",
    "        force_pred_list.append(job[\"output/generic/forces\"][-1])\n",
    "    job_box = pr_pot.create_job(pr.job_type.Lammps, \"lammps_box\")\n",
    "    job_box.potential = pot\n",
    "    job_box.structure = pr_pot.create_atoms(\"Cu\", scaled_positions=[[0.5, 0.5, 0.5]], cell=np.eye(3)*10, pbc=True)\n",
    "    job_box.calc_static()\n",
    "    job_box.run()\n",
    "    # correct for energy of isolated atom\n",
    "    energy_pred_list = np.array(energy_pred_list) - job_box[\"output/generic/energy_tot\"][-1]\n",
    "    energy_pred_dict[pot] = energy_pred_list\n",
    "    force_pred_dict[pot] = force_pred_list"
   ]
  },
  {
   "cell_type": "code",
   "execution_count": null,
   "id": "strong-camcorder",
   "metadata": {},
   "outputs": [],
   "source": [
    "fig, ax_list = plt.subplots(ncols=len(potential_list), nrows=4, sharey=\"row\", sharex=\"row\")\n",
    "fig.set_figwidth(20)\n",
    "fig.set_figheight(12)\n",
    "\n",
    "for i, (pot, energy_pred) in enumerate(energy_pred_dict.items()):\n",
    "    \n",
    "    ax = ax_list[0][i]\n",
    "    ax.plot(energy_per_atom_list[::stride], energy_pred, \"x\")\n",
    "    ax.plot(energy_per_atom_list[::stride], energy_per_atom_list[::stride])\n",
    "    ax.set_title(pot + \" (Energies)\")\n",
    "    ax.set_xlabel(\"Energy DFT [eV]\")\n",
    "    ax.set_ylabel(\"Energy pred [eV]\")\n",
    "    \n",
    "    ax = ax_list[1][i]\n",
    "    force_x_orig = np.hstack([f[:, 0] for f in force_list[::stride]])\n",
    "    force_x_pred = np.hstack([f[:, 0] for f in force_pred_list])\n",
    "    ax.plot(force_x_orig, force_x_pred, \"x\")\n",
    "    ax.plot(force_x_orig, force_x_orig)\n",
    "    ax.set_xlabel(\"Force DFT [eV/$\\mathrm{\\AA}$]\")\n",
    "    ax.set_ylabel(\"Force pred [eV/$\\mathrm{\\AA}$]\")\n",
    "    ax.set_title(pot + \" (Force-x)\")\n",
    "    \n",
    "    ax = ax_list[2][i]\n",
    "    force_y_orig = np.hstack([f[:, 1] for f in force_list[::stride]])\n",
    "    force_y_pred = np.hstack([f[:, 1] for f in force_pred_list])\n",
    "    ax.plot(force_y_orig, force_y_pred, \"x\")\n",
    "    ax.plot(force_y_orig, force_y_orig)\n",
    "    ax.set_xlabel(\"Force DFT [eV/$\\mathrm{\\AA}$]\")\n",
    "    ax.set_ylabel(\"Force pred [eV/$\\mathrm{\\AA}$]\")\n",
    "    ax.set_title(pot + \" (Force-y)\")\n",
    "    \n",
    "    ax = ax_list[3][i]\n",
    "    force_z_orig = np.hstack([f[:, 2] for f in force_list[::stride]])\n",
    "    force_z_pred = np.hstack([f[:, 2] for f in force_pred_list])\n",
    "    ax.plot(force_z_orig, force_z_pred, \"x\")\n",
    "    ax.plot(force_z_orig, force_z_orig)\n",
    "    ax.set_xlabel(\"Force DFT [eV/$\\mathrm{\\AA}$]\")\n",
    "    ax.set_ylabel(\"Force pred [eV/$\\mathrm{\\AA}$]\")\n",
    "    ax.set_title(pot + \" (Force-z)\")\n",
    "    \n",
    "fig.subplots_adjust(wspace=0.05, hspace=0.6)\n",
    "# ax.set_ylim(x_lim)"
   ]
  },
  {
   "cell_type": "code",
   "execution_count": null,
   "id": "hourly-conservative",
   "metadata": {},
   "outputs": [],
   "source": []
  },
  {
   "cell_type": "code",
   "execution_count": null,
   "id": "working-document",
   "metadata": {},
   "outputs": [],
   "source": []
  },
  {
   "cell_type": "code",
   "execution_count": null,
   "id": "least-antique",
   "metadata": {},
   "outputs": [],
   "source": []
  },
  {
   "cell_type": "code",
   "execution_count": null,
   "id": "adopted-mambo",
   "metadata": {},
   "outputs": [],
   "source": []
  },
  {
   "cell_type": "code",
   "execution_count": null,
   "id": "actual-listing",
   "metadata": {},
   "outputs": [],
   "source": []
  }
 ],
 "metadata": {
  "kernelspec": {
   "display_name": "Python 3",
   "language": "python",
   "name": "python3"
  },
  "language_info": {
   "codemirror_mode": {
    "name": "ipython",
    "version": 3
   },
   "file_extension": ".py",
   "mimetype": "text/x-python",
   "name": "python",
   "nbconvert_exporter": "python",
   "pygments_lexer": "ipython3",
   "version": "3.8.8"
  }
 },
 "nbformat": 4,
 "nbformat_minor": 5
}
