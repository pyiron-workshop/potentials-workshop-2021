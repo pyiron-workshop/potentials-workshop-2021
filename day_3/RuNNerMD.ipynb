{
 "cells": [
  {
   "cell_type": "code",
   "execution_count": 2,
   "id": "suffering-touch",
   "metadata": {},
   "outputs": [],
   "source": [
    "from pyiron import Project"
   ]
  },
  {
   "cell_type": "code",
   "execution_count": 3,
   "id": "geological-bankruptcy",
   "metadata": {},
   "outputs": [],
   "source": [
    "pr = Project('md_run')"
   ]
  },
  {
   "cell_type": "code",
   "execution_count": 4,
   "id": "prompt-evaluation",
   "metadata": {},
   "outputs": [],
   "source": [
    "j = pr.create.job.Lammps(\"md\", delete_existing_job=True)"
   ]
  },
  {
   "cell_type": "code",
   "execution_count": 5,
   "id": "governing-consortium",
   "metadata": {},
   "outputs": [],
   "source": [
    "j.potential = Project('../day_2/02-runner/runner_fit').load('fit').lammps_potential"
   ]
  },
  {
   "cell_type": "code",
   "execution_count": 6,
   "id": "authentic-moscow",
   "metadata": {},
   "outputs": [],
   "source": [
    "j.structure = pr.create.structure.ase_bulk('Cu', cubic=True).repeat(3)"
   ]
  },
  {
   "cell_type": "code",
   "execution_count": 7,
   "id": "tamil-witch",
   "metadata": {},
   "outputs": [
    {
     "data": {
      "application/vnd.jupyter.widget-view+json": {
       "model_id": "af0fa5be14e94b06ba4ea70a958f5368",
       "version_major": 2,
       "version_minor": 0
      },
      "text/plain": []
     },
     "metadata": {},
     "output_type": "display_data"
    },
    {
     "data": {
      "application/vnd.jupyter.widget-view+json": {
       "model_id": "543d34f0039747ddb1f27d54f817c71e",
       "version_major": 2,
       "version_minor": 0
      },
      "text/plain": [
       "NGLWidget()"
      ]
     },
     "metadata": {},
     "output_type": "display_data"
    }
   ],
   "source": [
    "j.structure.plot3d()"
   ]
  },
  {
   "cell_type": "code",
   "execution_count": 8,
   "id": "fatty-asbestos",
   "metadata": {},
   "outputs": [],
   "source": [
    "j.calc_md(n_ionic_steps=1000, temperature=500)"
   ]
  },
  {
   "cell_type": "code",
   "execution_count": 9,
   "id": "under-shirt",
   "metadata": {},
   "outputs": [
    {
     "name": "stdout",
     "output_type": "stream",
     "text": [
      "The job md was saved and received the ID: 13792062\n",
      "CPU times: user 370 ms, sys: 58 ms, total: 428 ms\n",
      "Wall time: 53 s\n"
     ]
    }
   ],
   "source": [
    "%%time \n",
    "j.run()"
   ]
  },
  {
   "cell_type": "code",
   "execution_count": 10,
   "id": "liked-thomson",
   "metadata": {},
   "outputs": [
    {
     "data": {
      "application/vnd.jupyter.widget-view+json": {
       "model_id": "50d669a6ac55448699b1518b9be8d9dd",
       "version_major": 2,
       "version_minor": 0
      },
      "text/plain": [
       "NGLWidget(max_frame=10)"
      ]
     },
     "metadata": {},
     "output_type": "display_data"
    }
   ],
   "source": [
    "j.animate_structure()"
   ]
  }
 ],
 "metadata": {
  "kernelspec": {
   "display_name": "Python 3",
   "language": "python",
   "name": "python3"
  },
  "language_info": {
   "codemirror_mode": {
    "name": "ipython",
    "version": 3
   },
   "file_extension": ".py",
   "mimetype": "text/x-python",
   "name": "python",
   "nbconvert_exporter": "python",
   "pygments_lexer": "ipython3",
   "version": "3.7.9"
  }
 },
 "nbformat": 4,
 "nbformat_minor": 5
}
