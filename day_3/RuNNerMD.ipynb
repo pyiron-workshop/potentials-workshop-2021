{
 "cells": [
  {
   "cell_type": "code",
   "execution_count": 28,
   "id": "other-clark",
   "metadata": {},
   "outputs": [],
   "source": [
    "from pyiron import Project"
   ]
  },
  {
   "cell_type": "code",
   "execution_count": 29,
   "id": "champion-south",
   "metadata": {},
   "outputs": [],
   "source": [
    "pr = Project('md_run')"
   ]
  },
  {
   "cell_type": "code",
   "execution_count": 30,
   "id": "banner-maldives",
   "metadata": {},
   "outputs": [],
   "source": [
    "j = pr.create.job.Lammps(\"md\", delete_existing_job=True)"
   ]
  },
  {
   "cell_type": "code",
   "execution_count": 31,
   "id": "taken-hardwood",
   "metadata": {},
   "outputs": [],
   "source": [
    "j.potential = pr['../runner_fit'].load('fit').potential_dataframe"
   ]
  },
  {
   "cell_type": "code",
   "execution_count": 32,
   "id": "artificial-johnson",
   "metadata": {},
   "outputs": [],
   "source": [
    "j.structure = pr.create.structure.ase_bulk('Cu', cubic=True).repeat(3)"
   ]
  },
  {
   "cell_type": "code",
   "execution_count": 37,
   "id": "likely-cement",
   "metadata": {},
   "outputs": [
    {
     "data": {
      "application/vnd.jupyter.widget-view+json": {
       "model_id": "1281285405c74a6e85d2e4d20cedaa63",
       "version_major": 2,
       "version_minor": 0
      },
      "text/plain": [
       "NGLWidget()"
      ]
     },
     "metadata": {},
     "output_type": "display_data"
    }
   ],
   "source": [
    "j.structure.plot3d()"
   ]
  },
  {
   "cell_type": "code",
   "execution_count": 34,
   "id": "olive-hungarian",
   "metadata": {},
   "outputs": [],
   "source": [
    "j.calc_md(n_ionic_steps=1000, temperature=500)"
   ]
  },
  {
   "cell_type": "code",
   "execution_count": 35,
   "id": "alleged-empty",
   "metadata": {},
   "outputs": [
    {
     "name": "stdout",
     "output_type": "stream",
     "text": [
      "The job md was saved and received the ID: 13700454\n",
      "CPU times: user 327 ms, sys: 77.3 ms, total: 405 ms\n",
      "Wall time: 54.3 s\n"
     ]
    }
   ],
   "source": [
    "%%time \n",
    "j.run()"
   ]
  },
  {
   "cell_type": "code",
   "execution_count": 36,
   "id": "catholic-defendant",
   "metadata": {},
   "outputs": [
    {
     "data": {
      "application/vnd.jupyter.widget-view+json": {
       "model_id": "c31a2082e2af46258c3708198add112c",
       "version_major": 2,
       "version_minor": 0
      },
      "text/plain": [
       "NGLWidget(max_frame=10)"
      ]
     },
     "metadata": {},
     "output_type": "display_data"
    }
   ],
   "source": [
    "j.animate_structure()"
   ]
  }
 ],
 "metadata": {
  "kernelspec": {
   "display_name": "Python 3",
   "language": "python",
   "name": "python3"
  },
  "language_info": {
   "codemirror_mode": {
    "name": "ipython",
    "version": 3
   },
   "file_extension": ".py",
   "mimetype": "text/x-python",
   "name": "python",
   "nbconvert_exporter": "python",
   "pygments_lexer": "ipython3",
   "version": "3.7.9"
  }
 },
 "nbformat": 4,
 "nbformat_minor": 5
}
