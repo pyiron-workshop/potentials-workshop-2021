{
 "cells": [
  {
   "cell_type": "code",
   "execution_count": 1,
   "id": "extended-alliance",
   "metadata": {},
   "outputs": [],
   "source": [
    "from pyiron import Project"
   ]
  },
  {
   "cell_type": "code",
   "execution_count": 2,
   "id": "heard-leone",
   "metadata": {},
   "outputs": [],
   "source": [
    "pr = Project('md_run')"
   ]
  },
  {
   "cell_type": "code",
   "execution_count": 3,
   "id": "boolean-grammar",
   "metadata": {},
   "outputs": [],
   "source": [
    "import pandas as pd"
   ]
  },
  {
   "cell_type": "code",
   "execution_count": 4,
   "id": "civilian-trigger",
   "metadata": {},
   "outputs": [],
   "source": [
    "import os"
   ]
  },
  {
   "cell_type": "code",
   "execution_count": 11,
   "id": "hungry-invite",
   "metadata": {},
   "outputs": [
    {
     "name": "stdout",
     "output_type": "stream",
     "text": [
      "input.nn  scaling.data\tweights.029.data  weights.029.out\n"
     ]
    }
   ],
   "source": [
    "!ls fit"
   ]
  },
  {
   "cell_type": "code",
   "execution_count": 46,
   "id": "animal-elite",
   "metadata": {},
   "outputs": [],
   "source": [
    "custom_potential = pd.DataFrame({\n",
    "  'Name': ['Cu'],\n",
    "  'Filename': [[f'{os.getcwd()}/fit/input.nn', f'{os.getcwd()}/fit/weights.029.data', f'{os.getcwd()}/fit/scaling.data']],\n",
    "  'Model': ['Custom'],\n",
    "  'Species': [['Cu']],\n",
    "  'Config': [['pair_style nnp dir \"./\" showew no showewsum 0 resetew no maxew 100 cflength 1.8897261328 cfenergy 0.0367493254 emap \"1:Cu\"\\n',\n",
    "             'pair_coeff * * 12\\n'\n",
    "             ]]\n",
    "})"
   ]
  },
  {
   "cell_type": "code",
   "execution_count": 55,
   "id": "chemical-jungle",
   "metadata": {},
   "outputs": [],
   "source": [
    "j = pr.create.job.Lammps(\"md\", delete_existing_job=True)"
   ]
  },
  {
   "cell_type": "code",
   "execution_count": 56,
   "id": "interior-advancement",
   "metadata": {},
   "outputs": [],
   "source": [
    "j.potential = custom_potential"
   ]
  },
  {
   "cell_type": "code",
   "execution_count": 57,
   "id": "loved-fiber",
   "metadata": {},
   "outputs": [],
   "source": [
    "j.structure = pr.create.structure.ase_bulk('Cu', cubic=True).repeat(3)"
   ]
  },
  {
   "cell_type": "code",
   "execution_count": 58,
   "id": "prerequisite-membrane",
   "metadata": {},
   "outputs": [
    {
     "data": {
      "text/plain": [
       "Cu: [0. 0. 0.]\n",
       "Cu: [0.    1.805 1.805]\n",
       "Cu: [1.805 0.    1.805]\n",
       "Cu: [1.805 1.805 0.   ]\n",
       "Cu: [0.   3.61 0.  ]\n",
       "Cu: [0.    5.415 1.805]\n",
       "Cu: [1.805 3.61  1.805]\n",
       "Cu: [1.805 5.415 0.   ]\n",
       "Cu: [0.   7.22 0.  ]\n",
       "Cu: [0.    9.025 1.805]\n",
       "Cu: [1.805 7.22  1.805]\n",
       "Cu: [1.805 9.025 0.   ]\n",
       "Cu: [3.61 0.   0.  ]\n",
       "Cu: [3.61  1.805 1.805]\n",
       "Cu: [5.415 0.    1.805]\n",
       "Cu: [5.415 1.805 0.   ]\n",
       "Cu: [3.61 3.61 0.  ]\n",
       "Cu: [3.61  5.415 1.805]\n",
       "Cu: [5.415 3.61  1.805]\n",
       "Cu: [5.415 5.415 0.   ]\n",
       "Cu: [3.61 7.22 0.  ]\n",
       "Cu: [3.61  9.025 1.805]\n",
       "Cu: [5.415 7.22  1.805]\n",
       "Cu: [5.415 9.025 0.   ]\n",
       "Cu: [7.22 0.   0.  ]\n",
       "Cu: [7.22  1.805 1.805]\n",
       "Cu: [9.025 0.    1.805]\n",
       "Cu: [9.025 1.805 0.   ]\n",
       "Cu: [7.22 3.61 0.  ]\n",
       "Cu: [7.22  5.415 1.805]\n",
       "Cu: [9.025 3.61  1.805]\n",
       "Cu: [9.025 5.415 0.   ]\n",
       "Cu: [7.22 7.22 0.  ]\n",
       "Cu: [7.22  9.025 1.805]\n",
       "Cu: [9.025 7.22  1.805]\n",
       "Cu: [9.025 9.025 0.   ]\n",
       "Cu: [0.   0.   3.61]\n",
       "Cu: [0.    1.805 5.415]\n",
       "Cu: [1.805 0.    5.415]\n",
       "Cu: [1.805 1.805 3.61 ]\n",
       "Cu: [0.   3.61 3.61]\n",
       "Cu: [0.    5.415 5.415]\n",
       "Cu: [1.805 3.61  5.415]\n",
       "Cu: [1.805 5.415 3.61 ]\n",
       "Cu: [0.   7.22 3.61]\n",
       "Cu: [0.    9.025 5.415]\n",
       "Cu: [1.805 7.22  5.415]\n",
       "Cu: [1.805 9.025 3.61 ]\n",
       "Cu: [3.61 0.   3.61]\n",
       "Cu: [3.61  1.805 5.415]\n",
       "Cu: [5.415 0.    5.415]\n",
       "Cu: [5.415 1.805 3.61 ]\n",
       "Cu: [3.61 3.61 3.61]\n",
       "Cu: [3.61  5.415 5.415]\n",
       "Cu: [5.415 3.61  5.415]\n",
       "Cu: [5.415 5.415 3.61 ]\n",
       "Cu: [3.61 7.22 3.61]\n",
       "Cu: [3.61  9.025 5.415]\n",
       "Cu: [5.415 7.22  5.415]\n",
       "Cu: [5.415 9.025 3.61 ]\n",
       "Cu: [7.22 0.   3.61]\n",
       "Cu: [7.22  1.805 5.415]\n",
       "Cu: [9.025 0.    5.415]\n",
       "Cu: [9.025 1.805 3.61 ]\n",
       "Cu: [7.22 3.61 3.61]\n",
       "Cu: [7.22  5.415 5.415]\n",
       "Cu: [9.025 3.61  5.415]\n",
       "Cu: [9.025 5.415 3.61 ]\n",
       "Cu: [7.22 7.22 3.61]\n",
       "Cu: [7.22  9.025 5.415]\n",
       "Cu: [9.025 7.22  5.415]\n",
       "Cu: [9.025 9.025 3.61 ]\n",
       "Cu: [0.   0.   7.22]\n",
       "Cu: [0.    1.805 9.025]\n",
       "Cu: [1.805 0.    9.025]\n",
       "Cu: [1.805 1.805 7.22 ]\n",
       "Cu: [0.   3.61 7.22]\n",
       "Cu: [0.    5.415 9.025]\n",
       "Cu: [1.805 3.61  9.025]\n",
       "Cu: [1.805 5.415 7.22 ]\n",
       "Cu: [0.   7.22 7.22]\n",
       "Cu: [0.    9.025 9.025]\n",
       "Cu: [1.805 7.22  9.025]\n",
       "Cu: [1.805 9.025 7.22 ]\n",
       "Cu: [3.61 0.   7.22]\n",
       "Cu: [3.61  1.805 9.025]\n",
       "Cu: [5.415 0.    9.025]\n",
       "Cu: [5.415 1.805 7.22 ]\n",
       "Cu: [3.61 3.61 7.22]\n",
       "Cu: [3.61  5.415 9.025]\n",
       "Cu: [5.415 3.61  9.025]\n",
       "Cu: [5.415 5.415 7.22 ]\n",
       "Cu: [3.61 7.22 7.22]\n",
       "Cu: [3.61  9.025 9.025]\n",
       "Cu: [5.415 7.22  9.025]\n",
       "Cu: [5.415 9.025 7.22 ]\n",
       "Cu: [7.22 0.   7.22]\n",
       "Cu: [7.22  1.805 9.025]\n",
       "Cu: [9.025 0.    9.025]\n",
       "Cu: [9.025 1.805 7.22 ]\n",
       "Cu: [7.22 3.61 7.22]\n",
       "Cu: [7.22  5.415 9.025]\n",
       "Cu: [9.025 3.61  9.025]\n",
       "Cu: [9.025 5.415 7.22 ]\n",
       "Cu: [7.22 7.22 7.22]\n",
       "Cu: [7.22  9.025 9.025]\n",
       "Cu: [9.025 7.22  9.025]\n",
       "Cu: [9.025 9.025 7.22 ]\n",
       "pbc: [ True  True  True]\n",
       "cell: \n",
       "Cell([10.83, 10.83, 10.83])"
      ]
     },
     "execution_count": 58,
     "metadata": {},
     "output_type": "execute_result"
    }
   ],
   "source": [
    "j.structure"
   ]
  },
  {
   "cell_type": "code",
   "execution_count": 59,
   "id": "removable-place",
   "metadata": {},
   "outputs": [],
   "source": [
    "j.calc_md(n_ionic_steps=1000, temperature=500)"
   ]
  },
  {
   "cell_type": "code",
   "execution_count": 60,
   "id": "patent-translation",
   "metadata": {},
   "outputs": [
    {
     "name": "stdout",
     "output_type": "stream",
     "text": [
      "The job md was saved and received the ID: 13491011\n"
     ]
    }
   ],
   "source": [
    "j.run()"
   ]
  },
  {
   "cell_type": "code",
   "execution_count": 61,
   "id": "conventional-dayton",
   "metadata": {},
   "outputs": [
    {
     "data": {
      "application/vnd.jupyter.widget-view+json": {
       "model_id": "8e5a59a520a54c0993233c27cb8156bb",
       "version_major": 2,
       "version_minor": 0
      },
      "text/plain": [
       "NGLWidget(max_frame=100)"
      ]
     },
     "metadata": {},
     "output_type": "display_data"
    }
   ],
   "source": [
    "j.animate_structure()"
   ]
  },
  {
   "cell_type": "code",
   "execution_count": 62,
   "id": "intimate-retail",
   "metadata": {},
   "outputs": [],
   "source": [
    "s = j.structure"
   ]
  },
  {
   "cell_type": "code",
   "execution_count": 66,
   "id": "hearing-negative",
   "metadata": {},
   "outputs": [],
   "source": [
    "e = s.elements[0]"
   ]
  },
  {
   "cell_type": "code",
   "execution_count": 67,
   "id": "compressed-texture",
   "metadata": {},
   "outputs": [
    {
     "data": {
      "text/plain": [
       "'Cu'"
      ]
     },
     "execution_count": 67,
     "metadata": {},
     "output_type": "execute_result"
    }
   ],
   "source": [
    "e.Abbreviation"
   ]
  },
  {
   "cell_type": "code",
   "execution_count": null,
   "id": "coral-concentrate",
   "metadata": {},
   "outputs": [],
   "source": []
  }
 ],
 "metadata": {
  "kernelspec": {
   "display_name": "Python 3",
   "language": "python",
   "name": "python3"
  },
  "language_info": {
   "codemirror_mode": {
    "name": "ipython",
    "version": 3
   },
   "file_extension": ".py",
   "mimetype": "text/x-python",
   "name": "python",
   "nbconvert_exporter": "python",
   "pygments_lexer": "ipython3",
   "version": "3.7.9"
  }
 },
 "nbformat": 4,
 "nbformat_minor": 5
}
