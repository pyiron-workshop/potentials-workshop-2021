{
 "cells": [
  {
   "cell_type": "markdown",
   "id": "neural-wisdom",
   "metadata": {},
   "source": [
    "# [**Workflows for atomistic simulations**](http://potentials.rub.de/) "
   ]
  },
  {
   "cell_type": "markdown",
   "id": "chemical-stocks",
   "metadata": {},
   "source": [
    "## **Day 3 - Validation of various potentials**\n",
    "\n",
    "\n",
    "### **Exercise 1: Validation of generated potentials using pyiron based workflows**\n",
    "\n",
    "Before the excercise, you should:\n",
    "\n",
    "* Have run the notebooks from day 1 and day2\n",
    "* Be familiar with working with pyiron and the basics of potential fitting\n",
    "\n",
    "The aim of this exercise is to make you familiar with:\n",
    "\n",
    "* Potential validation techniques"
   ]
  },
  {
   "cell_type": "code",
   "execution_count": 1,
   "id": "greek-heading",
   "metadata": {},
   "outputs": [],
   "source": [
    "import numpy as np\n",
    "%matplotlib inline\n",
    "import matplotlib.pylab as plt\n",
    "import pandas as pd"
   ]
  },
  {
   "cell_type": "code",
   "execution_count": 2,
   "id": "middle-things",
   "metadata": {},
   "outputs": [],
   "source": [
    "from pyiron import Project"
   ]
  },
  {
   "cell_type": "code",
   "execution_count": null,
   "id": "steady-genius",
   "metadata": {},
   "outputs": [],
   "source": [
    "pr = Project(\"validation\")\n",
    "#pr.remove_jobs(recursive=True)"
   ]
  },
  {
   "cell_type": "code",
   "execution_count": null,
   "id": "contained-maryland",
   "metadata": {},
   "outputs": [],
   "source": [
    "# The list of potentials to iterate over\n",
    "potential_list = ['2012--Mendelev-M-I--Cu--LAMMPS--ipr1', '2004--Zhou-X-W--Cu-Ag-Au--LAMMPS--ipr2', '1985--Foiles-S-M--Ni-Cu--LAMMPS--ipr1']"
   ]
  },
  {
   "cell_type": "code",
   "execution_count": null,
   "id": "demonstrated-checkout",
   "metadata": {},
   "outputs": [],
   "source": [
    "# Do Murnaghan, ElasticMatrix job, vac formation energy, binding energy, surface energies, comparison with dataset forces, energies"
   ]
  },
  {
   "cell_type": "code",
   "execution_count": null,
   "id": "incorporated-majority",
   "metadata": {},
   "outputs": [],
   "source": [
    "def clean_project_name(name):\n",
    "    return name.replace(\"-\", \"_\")"
   ]
  },
  {
   "cell_type": "code",
   "execution_count": null,
   "id": "ecological-narrow",
   "metadata": {},
   "outputs": [],
   "source": [
    "%%time\n",
    "for pot in potential_list:\n",
    "    group_name = clean_project_name(pot)\n",
    "    pr_pot = pr.create_group(pot)\n",
    "    job_ref = pr_pot.create_job(pr_pot.job_type.Lammps, \"ref_job\")\n",
    "    job_ref.structure = pr_pot.create_ase_bulk(\"Cu\")\n",
    "    job_ref.potential = pot\n",
    "    job_ref.calc_minimize()\n",
    "    murn_job = job_ref.create_job(pr_pot.job_type.Murnaghan, \"murn_job\")\n",
    "    murn_job.run()\n",
    "    murn_job.plot()"
   ]
  },
  {
   "cell_type": "code",
   "execution_count": null,
   "id": "right-enhancement",
   "metadata": {},
   "outputs": [],
   "source": [
    "murn_job[\"output/equilibrium_energy\"]"
   ]
  },
  {
   "cell_type": "code",
   "execution_count": null,
   "id": "matched-string",
   "metadata": {},
   "outputs": [],
   "source": [
    "def get_only_murn(job_table):\n",
    "    return job_table.hamilton == \"Murnaghan\"\n",
    "\n",
    "def get_eq_vol(job_path):\n",
    "    return job_path[\"output/equilibrium_volume\"]\n",
    "\n",
    "def get_eq_lp(job_path):\n",
    "    return np.linalg.norm(job_path[\"output/structure/cell/cell\"][0]) * np.sqrt(2)\n",
    "\n",
    "def get_eq_bm(job_path):\n",
    "    return job_path[\"output/equilibrium_bulk_modulus\"]\n",
    "\n",
    "def get_potential(job_path):\n",
    "    return job_path[\"ref_job/input/potential/Name\"]\n",
    "\n",
    "def get_eq_energy(job_path):\n",
    "    return job_path[\"output/equilibrium_energy\"]\n",
    "\n",
    "def get_n_atoms(job_path):\n",
    "    return len(job_path[\"output/structure/positions\"])"
   ]
  },
  {
   "cell_type": "code",
   "execution_count": null,
   "id": "fifteen-history",
   "metadata": {},
   "outputs": [],
   "source": [
    "%%time\n",
    "table = pr.create_table(\"table_murn\", delete_existing_job=True)\n",
    "table.db_filter_function = get_only_murn\n",
    "table.add[\"potential\"] = get_potential\n",
    "table.add[\"a\"] = get_eq_lp\n",
    "table.add[\"eq_vol\"] = get_eq_vol\n",
    "table.add[\"eq_bm\"] = get_eq_bm\n",
    "table.add[\"eq_energy\"] = get_eq_energy\n",
    "table.add[\"n_atoms\"] = get_n_atoms\n",
    "table.run()\n",
    "data_murn = table.get_dataframe()\n",
    "data_murn"
   ]
  },
  {
   "cell_type": "code",
   "execution_count": null,
   "id": "stainless-chance",
   "metadata": {},
   "outputs": [],
   "source": [
    "%%time\n",
    "for pot in data_murn.potential.to_list():\n",
    "    group_name = clean_project_name(pot)\n",
    "    pr_pot = pr.create_group(pot)\n",
    "    job_id = int(data_murn[data_murn.potential==pot].job_id)\n",
    "    job_ref = pr_pot.create_job(pr_pot.job_type.Lammps, \"ref_job\")\n",
    "    job_ref.structure = pr_pot.inspect(job_id)[\"output/structure\"].to_object()\n",
    "    job_ref.potential = pot\n",
    "    job_ref.calc_minimize()\n",
    "    elastic_job = job_ref.create_job(pr_pot.job_type.ElasticMatrixJob, \"elastic_job\")\n",
    "    elastic_job.run()"
   ]
  },
  {
   "cell_type": "code",
   "execution_count": null,
   "id": "signal-island",
   "metadata": {},
   "outputs": [],
   "source": [
    "plt.matshow(elastic_job[\"output/elasticmatrix\"][\"C\"]);"
   ]
  },
  {
   "cell_type": "code",
   "execution_count": null,
   "id": "photographic-balance",
   "metadata": {},
   "outputs": [],
   "source": [
    "elastic_job[\"output/elasticmatrix\"][\"C\"].flatten()"
   ]
  },
  {
   "cell_type": "code",
   "execution_count": null,
   "id": "vocal-topic",
   "metadata": {},
   "outputs": [],
   "source": [
    "def get_elastic_constants(job_path):\n",
    "    return job_path[\"output/elasticmatrix\"][\"C\"].flatten()\n",
    "\n",
    "def get_only_elastic(job_table):\n",
    "    return job_table.hamilton == \"ElasticMatrixJob\"\n"
   ]
  },
  {
   "cell_type": "code",
   "execution_count": null,
   "id": "patent-peripheral",
   "metadata": {},
   "outputs": [],
   "source": [
    "%%time\n",
    "table = pr.create_table(\"table_elastic\", delete_existing_job=True)\n",
    "table.db_filter_function = get_only_elastic\n",
    "table.add[\"potential\"] = get_potential\n",
    "table.add[\"C_list\"] = get_elastic_constants\n",
    "table.run()\n",
    "data_elastic = table.get_dataframe()\n",
    "data_elastic"
   ]
  },
  {
   "cell_type": "code",
   "execution_count": null,
   "id": "sunset-weather",
   "metadata": {},
   "outputs": [],
   "source": [
    "# Maybe too complex and intimidating for new python users\n",
    "\n",
    "elastic_matrix = data_elastic.C_list.apply(pd.Series, index=[\"c{}{}\".format(i, j) for i in range(1, 7) for j in range(1, 7)])\n",
    "\n",
    "data_elastic_matrix = pd.concat([elastic_matrix, data_elastic], axis=1)\n",
    "data_elastic_matrix"
   ]
  },
  {
   "cell_type": "code",
   "execution_count": null,
   "id": "subsequent-contractor",
   "metadata": {},
   "outputs": [],
   "source": [
    "data_elastic_matrix_short = data_elastic_matrix[['potential', 'c11', 'c12', 'c13', 'c33', 'c44', 'c66']]\n",
    "data_elastic_matrix_short"
   ]
  },
  {
   "cell_type": "code",
   "execution_count": null,
   "id": "written-sense",
   "metadata": {},
   "outputs": [],
   "source": [
    "%%time\n",
    "\n",
    "surface_type_list = [\"fcc111\", \"fcc110\", \"fcc100\"]\n",
    "\n",
    "for i, pot in enumerate(data_murn.potential.to_list()):\n",
    "    group_name = clean_project_name(pot)\n",
    "    pr_pot = pr.create_group(group_name)\n",
    "    a = data_murn.a.to_list()[i]\n",
    "    for surface_type in surface_type_list:\n",
    "        surface = pr.create_surface(\"Cu\", surface_type=surface_type, size=(8, 8, 8), a=a, orthogonal=True, vacuum=12)\n",
    "        job_lammps = pr_pot.create_job(pr_pot.job_type.Lammps, \"surf_{}\".format(surface_type))\n",
    "        job_lammps.structure = surface\n",
    "        job_lammps.potential = pot\n",
    "        job_lammps.calc_minimize()\n",
    "        job_lammps.run()"
   ]
  },
  {
   "cell_type": "code",
   "execution_count": null,
   "id": "hungry-bermuda",
   "metadata": {},
   "outputs": [],
   "source": [
    "pr_pot"
   ]
  },
  {
   "cell_type": "code",
   "execution_count": null,
   "id": "agricultural-resort",
   "metadata": {},
   "outputs": [],
   "source": [
    "surface.plot3d()"
   ]
  },
  {
   "cell_type": "code",
   "execution_count": null,
   "id": "standard-clinton",
   "metadata": {},
   "outputs": [],
   "source": [
    "len(surface) / 8"
   ]
  },
  {
   "cell_type": "code",
   "execution_count": null,
   "id": "polar-surgeon",
   "metadata": {},
   "outputs": [],
   "source": [
    "pr_pot.job_table().job.str.contains(\"fcc\")"
   ]
  },
  {
   "cell_type": "code",
   "execution_count": null,
   "id": "pressing-indie",
   "metadata": {},
   "outputs": [],
   "source": [
    "def is_a_surface(job_table):\n",
    "    return (job_table.hamilton == \"Lammps\") & (job_table.job.str.contains(\"fcc\"))\n",
    "\n",
    "def get_potential_lammps_job(job_path):\n",
    "    return job_path[\"input/potential/Name\"]\n",
    "\n",
    "def get_surface_type(job_path):\n",
    "    surf_list =  [\"fcc111\", \"fcc110\", \"fcc100\"]\n",
    "    conditions = [val in job_path.job_name for val in surf_list]\n",
    "    return surf_list[np.where(conditions)[0].tolist()[0]]\n",
    "\n",
    "def get_area(job_path):\n",
    "    cell = job_path[\"output/structure/cell/cell\"]\n",
    "    return np.linalg.norm(np.cross(cell[0], cell[1]))"
   ]
  },
  {
   "cell_type": "code",
   "execution_count": null,
   "id": "civilian-maryland",
   "metadata": {},
   "outputs": [],
   "source": [
    "get_surface_type(pr_pot.inspect('surf_fcc100'))"
   ]
  },
  {
   "cell_type": "code",
   "execution_count": null,
   "id": "embedded-visitor",
   "metadata": {},
   "outputs": [],
   "source": [
    "%%time\n",
    "table = pr.create_table(\"table_surface\", delete_existing_job=True)\n",
    "table.db_filter_function = is_a_surface\n",
    "table.add[\"potential\"] = get_potential_lammps_job\n",
    "table.add[\"surface_type\"] = get_surface_type\n",
    "table.add[\"surface_area\"] = get_area\n",
    "table.add.get_total_number_of_atoms\n",
    "\n",
    "table.add.get_energy_tot\n",
    "table.run()\n",
    "data_surf = table.get_dataframe()\n",
    "data_surf"
   ]
  },
  {
   "cell_type": "code",
   "execution_count": null,
   "id": "changed-smith",
   "metadata": {},
   "outputs": [],
   "source": []
  },
  {
   "cell_type": "code",
   "execution_count": null,
   "id": "surrounded-channel",
   "metadata": {},
   "outputs": [],
   "source": [
    "data_merged = pd.merge(data_surf, data_murn, on=\"potential\")\n",
    "data_merged"
   ]
  },
  {
   "cell_type": "code",
   "execution_count": null,
   "id": "under-sodium",
   "metadata": {},
   "outputs": [],
   "source": [
    "data_merged[\"surface_energy\"] = data_merged.energy_tot - (data_merged.eq_energy * data_merged.Number_of_atoms)"
   ]
  },
  {
   "cell_type": "code",
   "execution_count": null,
   "id": "increasing-newsletter",
   "metadata": {},
   "outputs": [],
   "source": [
    "data_merged[\"surface_energy_in_mJ_per_sq_m\"] = data_merged.surface_energy / data_merged.surface_area / 2 * 16.0219 * 1e3"
   ]
  },
  {
   "cell_type": "code",
   "execution_count": null,
   "id": "wooden-response",
   "metadata": {},
   "outputs": [],
   "source": [
    "data_merged"
   ]
  },
  {
   "cell_type": "markdown",
   "id": "sound-transmission",
   "metadata": {},
   "source": [
    "## Finite temperature thermodynamics (Harmonic approximation)"
   ]
  },
  {
   "cell_type": "code",
   "execution_count": null,
   "id": "disturbed-engagement",
   "metadata": {},
   "outputs": [],
   "source": [
    "%%time\n",
    "for pot in data_murn.potential.to_list():\n",
    "    group_name = clean_project_name(pot)\n",
    "    pr_pot = pr.create_group(group_name)\n",
    "    job_id = int(data_murn[data_murn.potential==pot].job_id)\n",
    "    job_ref = pr_pot.create_job(pr_pot.job_type.Lammps, \"ref_job\")\n",
    "    job_ref.structure = pr_pot.inspect(job_id)[\"output/structure\"].to_object()\n",
    "    job_ref.potential = pot\n",
    "    job_ref.calc_static()\n",
    "    phonopy_job = job_ref.create_job(pr_pot.job_type.PhonopyJob, \"phonopy_job\")\n",
    "    phonopy_job.run()"
   ]
  },
  {
   "cell_type": "code",
   "execution_count": null,
   "id": "developmental-helen",
   "metadata": {},
   "outputs": [],
   "source": [
    "pr"
   ]
  },
  {
   "cell_type": "code",
   "execution_count": null,
   "id": "abstract-combination",
   "metadata": {},
   "outputs": [],
   "source": [
    "fig, ax_list = plt.subplots(ncols=len(potential_list), nrows=3, sharey=\"row\", sharex=\"row\")\n",
    "fig.set_figwidth(20)\n",
    "fig.set_figheight(12)\n",
    "\n",
    "\n",
    "for i, pot in enumerate(potential_list):\n",
    "    group_name = clean_project_name(pot)\n",
    "    ax = ax_list[0][i]\n",
    "    ax.set_title(pot)\n",
    "    phonopy_job = pr[group_name+\"/phonopy_job\"]\n",
    "    thermo = phonopy_job.get_thermal_properties(t_min=0, t_max=800)\n",
    "    \n",
    "    ax = ax_list[0][i]\n",
    "    ax.plot(thermo.temperatures, thermo.free_energies)\n",
    "    ax.set_xlabel(\"Temperatures [K]\")\n",
    "    ax.set_ylabel(\"Free energies [eV]\")\n",
    "    \n",
    "    ax = ax_list[1][i]\n",
    "    ax.plot(thermo.temperatures, thermo.entropy)\n",
    "    ax.set_xlabel(\"Temperatures [K]\")\n",
    "    ax.set_ylabel(\"Entropy [eV/K]\")\n",
    "    \n",
    "    ax = ax_list[2][i]\n",
    "    ax.plot(thermo.temperatures, thermo.cv)\n",
    "    ax.set_xlabel(\"Temperatures [K]\")\n",
    "    ax.set_ylabel(\"Heat capacity (C$_\\mathrm{V}$) [eV/K]\")\n",
    "    \n",
    "fig.subplots_adjust(wspace=0.05, hspace=0.3);    "
   ]
  },
  {
   "cell_type": "code",
   "execution_count": null,
   "id": "friendly-physics",
   "metadata": {},
   "outputs": [],
   "source": []
  },
  {
   "cell_type": "markdown",
   "id": "trying-royal",
   "metadata": {},
   "source": [
    "## **Validating against datasets**"
   ]
  },
  {
   "cell_type": "code",
   "execution_count": null,
   "id": "consistent-leone",
   "metadata": {},
   "outputs": [],
   "source": [
    "pr_import = Project(\"../datasets\")\n",
    "if len(pr_import.job_table()) == 0:\n",
    "    pr_import.unpack(\"Cu_training_archive\")"
   ]
  },
  {
   "cell_type": "code",
   "execution_count": null,
   "id": "novel-lambda",
   "metadata": {},
   "outputs": [],
   "source": [
    "container = pr_import['Cu_database/df1_A1_A2_A3_EV_elast_phon']"
   ]
  },
  {
   "cell_type": "code",
   "execution_count": null,
   "id": "homeless-circuit",
   "metadata": {},
   "outputs": [],
   "source": [
    "training_dataset = container.to_pandas()"
   ]
  },
  {
   "cell_type": "code",
   "execution_count": null,
   "id": "smoking-controversy",
   "metadata": {},
   "outputs": [],
   "source": [
    "training_dataset"
   ]
  },
  {
   "cell_type": "code",
   "execution_count": null,
   "id": "subsequent-bacteria",
   "metadata": {},
   "outputs": [],
   "source": [
    "from pyiron import ase_to_pyiron"
   ]
  },
  {
   "cell_type": "code",
   "execution_count": null,
   "id": "perfect-raleigh",
   "metadata": {},
   "outputs": [],
   "source": [
    "structure_list =  training_dataset.atoms.apply(ase_to_pyiron).to_list()\n",
    "energy_list =  training_dataset.energy.to_list()\n",
    "force_list =  training_dataset.forces.to_list()\n",
    "num_atoms_list =  training_dataset.number_of_atoms.to_list()\n",
    "\n",
    "energy_per_atom_list = np.array(energy_list) / np.array(num_atoms_list)\n"
   ]
  },
  {
   "cell_type": "code",
   "execution_count": null,
   "id": "intermediate-novelty",
   "metadata": {},
   "outputs": [],
   "source": [
    "%%time\n",
    "energy_pred_dict = dict()\n",
    "force_pred_dict = dict()\n",
    "\n",
    "\n",
    "for pot in potential_list:\n",
    "    group_name = clean_project_name(pot)\n",
    "    pr_pot = pr.create_group(pot)\n",
    "    energy_pred_list = list()\n",
    "    force_pred_list = list()\n",
    "    \n",
    "    stride = 10\n",
    "    for i, struct in enumerate(structure_list[::stride]):\n",
    "        job = pr_pot.create_job(pr.job_type.Lammps, \"lammps_struct_{}\".format(i))\n",
    "        job.potential = pot\n",
    "        job.structure = struct\n",
    "        job.calc_static()\n",
    "        job.run()\n",
    "        energy_pred_list.append(job[\"output/generic/energy_tot\"][-1] / len(struct))\n",
    "        force_pred_list.append(job[\"output/generic/forces\"][-1])\n",
    "    job_box = pr_pot.create_job(pr.job_type.Lammps, \"lammps_box\")\n",
    "    job_box.potential = pot\n",
    "    job_box.structure = pr_pot.create_atoms(\"Cu\", scaled_positions=[[0.5, 0.5, 0.5]], cell=np.eye(3)*10, pbc=True)\n",
    "    job_box.calc_static()\n",
    "    job_box.run()\n",
    "    # correct for energy of isolated atom\n",
    "    energy_pred_list = np.array(energy_pred_list) - job_box[\"output/generic/energy_tot\"][-1]\n",
    "    energy_pred_dict[pot] = energy_pred_list\n",
    "    force_pred_dict[pot] = force_pred_list"
   ]
  },
  {
   "cell_type": "code",
   "execution_count": null,
   "id": "premier-plain",
   "metadata": {},
   "outputs": [],
   "source": [
    "fig, ax_list = plt.subplots(ncols=len(potential_list), nrows=4, sharey=\"row\", sharex=\"row\")\n",
    "fig.set_figwidth(20)\n",
    "fig.set_figheight(12)\n",
    "\n",
    "for i, (pot, energy_pred) in enumerate(energy_pred_dict.items()):\n",
    "    \n",
    "    ax = ax_list[0][i]\n",
    "    ax.plot(energy_per_atom_list[::stride], energy_pred, \"x\")\n",
    "    ax.plot(energy_per_atom_list[::stride], energy_per_atom_list[::stride])\n",
    "    ax.set_title(pot + \" (Energies)\")\n",
    "    ax.set_xlabel(\"Energy DFT [eV]\")\n",
    "    ax.set_ylabel(\"Energy pred [eV]\")\n",
    "    \n",
    "    ax = ax_list[1][i]\n",
    "    force_x_orig = np.hstack([f[:, 0] for f in force_list[::stride]])\n",
    "    force_x_pred = np.hstack([f[:, 0] for f in force_pred_list])\n",
    "    ax.plot(force_x_orig, force_x_pred, \"x\")\n",
    "    ax.plot(force_x_orig, force_x_orig)\n",
    "    ax.set_xlabel(\"Force DFT [eV/$\\mathrm{\\AA}$]\")\n",
    "    ax.set_ylabel(\"Force pred [eV/$\\mathrm{\\AA}$]\")\n",
    "    ax.set_title(pot + \" (Force-x)\")\n",
    "    \n",
    "    ax = ax_list[2][i]\n",
    "    force_y_orig = np.hstack([f[:, 1] for f in force_list[::stride]])\n",
    "    force_y_pred = np.hstack([f[:, 1] for f in force_pred_list])\n",
    "    ax.plot(force_y_orig, force_y_pred, \"x\")\n",
    "    ax.plot(force_y_orig, force_y_orig)\n",
    "    ax.set_xlabel(\"Force DFT [eV/$\\mathrm{\\AA}$]\")\n",
    "    ax.set_ylabel(\"Force pred [eV/$\\mathrm{\\AA}$]\")\n",
    "    ax.set_title(pot + \" (Force-y)\")\n",
    "    \n",
    "    ax = ax_list[3][i]\n",
    "    force_z_orig = np.hstack([f[:, 2] for f in force_list[::stride]])\n",
    "    force_z_pred = np.hstack([f[:, 2] for f in force_pred_list])\n",
    "    ax.plot(force_z_orig, force_z_pred, \"x\")\n",
    "    ax.plot(force_z_orig, force_z_orig)\n",
    "    ax.set_xlabel(\"Force DFT [eV/$\\mathrm{\\AA}$]\")\n",
    "    ax.set_ylabel(\"Force pred [eV/$\\mathrm{\\AA}$]\")\n",
    "    ax.set_title(pot + \" (Force-z)\")\n",
    "    \n",
    "fig.subplots_adjust(wspace=0.05, hspace=0.6)\n",
    "# ax.set_ylim(x_lim)"
   ]
  },
  {
   "cell_type": "code",
   "execution_count": null,
   "id": "significant-blank",
   "metadata": {},
   "outputs": [],
   "source": []
  },
  {
   "cell_type": "code",
   "execution_count": null,
   "id": "imported-digit",
   "metadata": {},
   "outputs": [],
   "source": []
  },
  {
   "cell_type": "code",
   "execution_count": null,
   "id": "given-colleague",
   "metadata": {},
   "outputs": [],
   "source": []
  },
  {
   "cell_type": "code",
   "execution_count": null,
   "id": "spread-width",
   "metadata": {},
   "outputs": [],
   "source": []
  },
  {
   "cell_type": "code",
   "execution_count": null,
   "id": "grave-kingdom",
   "metadata": {},
   "outputs": [],
   "source": []
  }
 ],
 "metadata": {
  "kernelspec": {
   "display_name": "Python 3",
   "language": "python",
   "name": "python3"
  },
  "language_info": {
   "codemirror_mode": {
    "name": "ipython",
    "version": 3
   },
   "file_extension": ".py",
   "mimetype": "text/x-python",
   "name": "python",
   "nbconvert_exporter": "python",
   "pygments_lexer": "ipython3",
   "version": "3.8.8"
  }
 },
 "nbformat": 4,
 "nbformat_minor": 5
}
